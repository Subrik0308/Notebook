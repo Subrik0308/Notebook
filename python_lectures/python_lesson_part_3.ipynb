{
 "cells": [
  {
   "cell_type": "markdown",
   "id": "bc1c968d",
   "metadata": {},
   "source": [
    "## Содержание:\n",
    "- Основные оценки сложности алгоритмов\n",
    "- "
   ]
  },
  {
   "cell_type": "markdown",
   "id": "5cbb26a9",
   "metadata": {},
   "source": [
    "# Основные оценки сложности алгоритмов"
   ]
  },
  {
   "cell_type": "markdown",
   "id": "f4eabf30",
   "metadata": {},
   "source": [
    "Основные категории алгоритмической сложности в О-нотации:\n",
    "\n",
    "* Постоянное время: 0(1) — время выполнения не зависит от количества элементов во входном наборе данных\n",
    "\n",
    "* Линейное время: О(N) — время выполнения пропорционально количеству элементов в коллекции\n",
    "\n",
    "* Логарифмическое время: О(log(N)) — время выполнения пропорционально логарифму от количества элементов в коллекции\n",
    "\n",
    "* Квазилинейное время: О(N*log(N)) — время выполнения больше чем, линейное, но меньше квадратичного\n",
    "\n",
    "* Полиномиальное время: О(N^2) — время выполнения пропорционально квадрату количества элементов в коллекции\n"
   ]
  },
  {
   "cell_type": "markdown",
   "id": "65da3f02",
   "metadata": {},
   "source": [
    "## Константа $O(1)$\n",
    "Самый простой в оценке вариант алгоритма — алгоритм, который не зависит от размера входных данных. \n",
    "Посчитаем сумму первых пяти натуральных чисел. Для этого сравним два алгоритма."
   ]
  },
  {
   "cell_type": "code",
   "execution_count": null,
   "id": "1eb763cb",
   "metadata": {},
   "outputs": [],
   "source": [
    "# Алгоритм 1\n",
    "\n",
    "a = [1, 2, 3, 4, 5, 6]\n",
    "\n",
    "summ = 0\n",
    "for element in a:\n",
    "    summ += element\n",
    "\n",
    "print(summ)"
   ]
  },
  {
   "cell_type": "markdown",
   "id": "e7a2b2b0",
   "metadata": {},
   "source": [
    "Первый алгоритм будет перебирать все элементы списка и добавлять их к общей сумме. \\\n",
    "*Количество операций*: 1 (создание переменной) + n (проходимся по всему списку) + n (операция суммы)."
   ]
  },
  {
   "cell_type": "code",
   "execution_count": null,
   "id": "7e5313b0",
   "metadata": {},
   "outputs": [],
   "source": [
    "# Алгоритм 2\n",
    "\n",
    "a = [1, 2, 3, 4, 5, 6]\n",
    "\n",
    "summ = (a[0] + a[len(a) - 1]) / 2 * len(a)\n",
    "\n",
    "print(summ)"
   ]
  },
  {
   "cell_type": "markdown",
   "id": "3ef525e6",
   "metadata": {},
   "source": [
    "Второй алгоритм не будет проходиться по всему массиву, а сразу сложит нужные элементы. \\\n",
    "*Количество операций*: 3.\n",
    "\n",
    "В этой задаче нам нужно сделать три действия, независимо от того, какое количество натуральных чисел мы передали. То есть мы говорим, что данный алгоритм имеет сложность $О(1)$."
   ]
  },
  {
   "cell_type": "markdown",
   "id": "c12a1f5f",
   "metadata": {},
   "source": [
    "# Линейная $О(n)$\n",
    "\n",
    "Линейная оценка, или сложность $О(n)$, будет у алгоритма, который проходит один или несколько раз по всем переданным объектам. Например, алгоритм поиска числа в неупорядоченном списке."
   ]
  },
  {
   "cell_type": "code",
   "execution_count": null,
   "id": "0fcaea8a",
   "metadata": {},
   "outputs": [],
   "source": [
    "lst = [1, 26, 3, 24, 16, 17, 30, 17, 27, 28]\n",
    "s = 17\n",
    "n = len(lst)\n",
    "i = 0\n",
    "while i < n and lst[i] != s:\n",
    "    i += 1\n",
    "if i == n:\n",
    "    print(\"Число не найдено\")\n",
    "else:\n",
    "    print(i)"
   ]
  },
  {
   "cell_type": "code",
   "execution_count": null,
   "id": "2e52a342",
   "metadata": {},
   "outputs": [],
   "source": [
    "def element_search(ar, element):\n",
    "    for i in range(len(ar)):\n",
    "        if ar[i] == element:\n",
    "            return i\n",
    "    return \"Число не найдено\"\n",
    "s = 17\n",
    "print(element_search(lst, s))"
   ]
  },
  {
   "cell_type": "code",
   "execution_count": null,
   "id": "2febef80",
   "metadata": {},
   "outputs": [],
   "source": [
    "lst = [1, 26, 3, 24, 16, 17, 30, 17, 27, 28]\n",
    "element = 30\n",
    "for i in range(len(lst)):\n",
    "    if lst[i] == element:\n",
    "        print(i)\n",
    "        break\n",
    "else:\n",
    "    print(\"Число не найдено\")"
   ]
  },
  {
   "cell_type": "markdown",
   "id": "8a45b704",
   "metadata": {},
   "source": [
    "В этом примере в худшем случае (а нам интересен именно худший случай) мы пройдемся по всему списку, сравнивая каждый элемент с искомым, пока не найдем подходящий. Это и есть линейная сложность алгоритма. "
   ]
  },
  {
   "cell_type": "markdown",
   "id": "150e17c1",
   "metadata": {},
   "source": [
    "## Экспоненциальное время: O(2^n)\n",
    "\n",
    "Если сложность алгоритма описывается формулой O(2^n), значит, время его работы удваивается с каждым дополнением к набору данных. Кривая роста функции O(2^n) экспоненциальная: сначала она очень пологая, а затем стремительно поднимается вверх. Примером алгоритма с экспоненциальной сложностью может послужить рекурсивный расчет чисел Фибоначчи:"
   ]
  },
  {
   "cell_type": "code",
   "execution_count": null,
   "id": "4febbba8",
   "metadata": {},
   "outputs": [],
   "source": [
    "def fibonacci(n):\n",
    "    # Первое и второе числа Фибоначчи равны 1\n",
    "    if n <= 2:\n",
    "        return 1\n",
    "    return fibonacci(n - 1) + fibonacci(n - 2)\n",
    "\n",
    "fibonacci(10)"
   ]
  },
  {
   "cell_type": "markdown",
   "id": "f74ae07f",
   "metadata": {},
   "source": [
    "## Квадратичная $О(n^2)$\n",
    "\n",
    "Оценка алгоритма в $О(n^2)$ будет у алгоритма, который для каждого элемента множества перебирает все остальные элементы множества. Таковым, например, является **пузырьковая сортировка**.\n",
    "\n",
    "![Изображение не найдено](https://habrastorage.org/getpro/habr/upload_files/132/1a8/c2d/1321a8c2d653c5b4fdca906baff445a5.gif)"
   ]
  },
  {
   "cell_type": "code",
   "execution_count": null,
   "id": "ee0fef56",
   "metadata": {},
   "outputs": [],
   "source": [
    "def bubble_sort(nums):\n",
    "\n",
    "    # Устанавливаем swapped в True, чтобы цикл запустился хотя бы один раз\n",
    "    swapped = True\n",
    "\n",
    "    while swapped:\n",
    "        swapped = False\n",
    "\n",
    "        # Идем циклом по индексам наших элементов\n",
    "        for i in range(len(nums) - 1):\n",
    "\n",
    "            # Если текущий элемент слева больше своего элемента справа\n",
    "            if nums[i] > nums[i + 1]:\n",
    "\n",
    "                # Меняем элементы местами\n",
    "                nums[i], nums[i + 1] = nums[i + 1], nums[i]\n",
    "\n",
    "                # Устанавливаем swapped в True для следующей итерации\n",
    "                swapped = True\n",
    "\n",
    "                # По окончании первого прогона цикла for, самый большой элемент \"всплывет\" наверх\n",
    "\n",
    "# Проверяем, что оно работает\n",
    "random_list_of_nums = [9, 5, 2, 1, 8, 4, 3, 7, 6]\n",
    "bubble_sort(random_list_of_nums)\n",
    "print(random_list_of_nums)"
   ]
  },
  {
   "cell_type": "markdown",
   "id": "9d7f444a",
   "metadata": {},
   "source": [
    "Алгоритм сортировки списка вставкой"
   ]
  },
  {
   "cell_type": "code",
   "execution_count": null,
   "id": "d22c0880",
   "metadata": {},
   "outputs": [],
   "source": [
    "lst = [1, 26, 3, 24, 16, 17, 30, 18, 27, 28]\n",
    "n = len(lst)\n",
    "for i in range(1, n):\n",
    "    x = lst[i]\n",
    "    j = i - 1\n",
    "    while j > -1 and lst[j] > x:\n",
    "        lst[j + 1] = lst[j]\n",
    "        j -= 1\n",
    "\n",
    "    lst[j + 1] = x\n",
    "\n",
    "print(lst)"
   ]
  },
  {
   "cell_type": "markdown",
   "id": "1a3f4d20",
   "metadata": {},
   "source": [
    "## Логарифмическая $О(log(n))$\n",
    "\n",
    "Оценку $О(log(n))$ чаще всего имеют алгоритмы, которые на каждом шаге работы с данными уменьшают размер этих данных в разы. \n",
    "\n",
    "Классический пример логарифмического алгоритма — **бинарный поиск**\n"
   ]
  },
  {
   "cell_type": "code",
   "execution_count": null,
   "id": "bd15131d",
   "metadata": {},
   "outputs": [],
   "source": [
    "lst = [1, 3, 16, 17, 24, 26, 27, 28, 30]\n",
    "\n",
    "s = 17\n",
    "i = 0\n",
    "j = len(lst) - 1\n",
    "while i <= j:\n",
    "    k = (i + j) // 2\n",
    "    if lst[k] > s:\n",
    "        j = k - 1\n",
    "    elif lst[k] < s:\n",
    "        i = k + 1\n",
    "    else:\n",
    "        break\n",
    "if i <= j:\n",
    "    print(k)\n",
    "else:\n",
    "    print(\"Число не найдено\")"
   ]
  },
  {
   "cell_type": "markdown",
   "id": "7b476f1f",
   "metadata": {},
   "source": [
    "Получается, что в алгоритме бинарного поиска мы каждый раз будем делить наше множество пополам, пока не останется один элемент. Значит, функция, которая будет описывать оценку нашего алгоритма, должна показывать, сколько раз число $n$, которое описывает размер наших данных, можно поделить на 2, или наоборот — в какую степень надо возвести 2, чтобы получилось наше число. Это и есть определение логарифма $log(n)$. "
   ]
  },
  {
   "cell_type": "markdown",
   "id": "3b92fc82",
   "metadata": {},
   "source": [
    "## Линейно-логарифмическая $О(n * log(n))$\n",
    "\n",
    "Яркий пример такого алгоритма — **быстрая сортировка**. В этом алгоритме мы сначала разбиваем все элементы на пары (логарифмическая часть), а затем отсортированные пары последовательно соединяем (линейная часть). \n",
    "\n",
    "**Алгоритм с оценкой $О(n * log(n))$ считается самым быстрым решением задачи сортировки в общем случае.**\n",
    "\n",
    "![Изображение не найдено](https://habrastorage.org/getpro/habr/upload_files/0a9/afd/372/0a9afd372156de5806bd87f93c875834.gif)\n"
   ]
  },
  {
   "cell_type": "code",
   "execution_count": null,
   "id": "08df353c",
   "metadata": {},
   "outputs": [],
   "source": [
    "import random\n",
    "def quicksort(nums):\n",
    "\n",
    "    if len(nums) <= 1:\n",
    "        return nums\n",
    "    else:\n",
    "\n",
    "        q = random.choice(nums)  # Генерирует случайную выборку из заданного одномерного списка.\n",
    "        s_nums = []\n",
    "        m_nums = []\n",
    "        e_nums = []\n",
    "\n",
    "    for n in nums:\n",
    "        if n < q:\n",
    "            s_nums.append(n)\n",
    "        elif n > q:\n",
    "            m_nums.append(n)\n",
    "        else:\n",
    "            e_nums.append(n)\n",
    "\n",
    "    return quicksort(s_nums) + e_nums + quicksort(m_nums)\n",
    "\n",
    "lst = [1, 26, 3, 24, 16, 17, 30, 18, 27, 28]\n",
    "print(quicksort(lst))"
   ]
  },
  {
   "cell_type": "markdown",
   "id": "9cbb19a8",
   "metadata": {},
   "source": [
    "Сортировка слиянием\n",
    "![Изображение не найдено](https://habrastorage.org/getpro/habr/upload_files/21f/1a3/ec0/21f1a3ec016004112fbb9180f76067dd.gif)"
   ]
  },
  {
   "cell_type": "code",
   "execution_count": null,
   "id": "83ed80c3",
   "metadata": {},
   "outputs": [],
   "source": [
    "def merge(le, ri):\n",
    "    i, j = 0, 0\n",
    "    res = []\n",
    "    while i < len(le) and j < len(ri):\n",
    "        if le[i] <= ri[i]:\n",
    "            res.append(le[i])\n",
    "            i += 1\n",
    "        else:\n",
    "            res.append(ri[j])\n",
    "            j += 1\n",
    "    res += le[i:] + ri[j:]\n",
    "    return res\n",
    "\n",
    "def merge_sort(s):\n",
    "    if len(s) < 2: return s\n",
    "    else:\n",
    "        ln = len(s) // 2\n",
    "        left = merge_sort(s[:ln])\n",
    "        right = merge_sort(s[ln:])\n",
    "        return merge(left, right)\n",
    "\n",
    "lst = [1, 26, 3, 24, 16, 17, 30, 18, 27, 28]\n",
    "print(merge_sort(lst))"
   ]
  },
  {
   "cell_type": "markdown",
   "id": "ff3cc041",
   "metadata": {},
   "source": [
    "Сложность алгоритма `сортировки подсчетом` оценивается как **O(n + k)**, где n - это количество элементов в списке, а k - это количество уникальных элементов в списке."
   ]
  },
  {
   "cell_type": "code",
   "execution_count": null,
   "id": "66fd2bd8",
   "metadata": {},
   "outputs": [],
   "source": [
    "lst = [1, 3, 16, 17, 24, 24, 26, 27, 28, 30]\n",
    "lst_ancillary = [0] * (max(lst) + 1)\n",
    "for i in range(len(lst)):\n",
    "    lst_ancillary[lst[i]] += 1\n",
    "\n",
    "lst_new = []\n",
    "for i in range(max(lst) + 1):\n",
    "    for j in range(lst_ancillary[i]):\n",
    "        lst_new.append(i)\n",
    "\n",
    "print(lst_new)\n",
    "print(lst_ancillary)"
   ]
  }
 ],
 "metadata": {
  "kernelspec": {
   "display_name": "Python 3 (ipykernel)",
   "language": "python",
   "name": "python3"
  },
  "language_info": {
   "codemirror_mode": {
    "name": "ipython",
    "version": 3
   },
   "file_extension": ".py",
   "mimetype": "text/x-python",
   "name": "python",
   "nbconvert_exporter": "python",
   "pygments_lexer": "ipython3",
   "version": "3.11.5"
  }
 },
 "nbformat": 4,
 "nbformat_minor": 5
}
