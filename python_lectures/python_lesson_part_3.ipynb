{
 "cells": [
  {
   "cell_type": "markdown",
   "id": "bc1c968d",
   "metadata": {},
   "source": [
    "## Содержание:\n",
    "- Словари\n",
    "- Устройство функций в Python. Написание простейших функций. Написание сложных функций.\n",
    "- Распаковка\n",
    "- Локальные и глобальные переменные. Области видимости\n",
    "- Рекурсия\n",
    "- Функции как объект\n",
    "- Функции высших порядков\n",
    "- Lambda-функции\n",
    "- Основные оценки сложности алгоритмов\n",
    "- Библиотеки и модули\n",
    "- Работа с файлами\n",
    "- Библиотека OpenCV"
   ]
  },
  {
   "cell_type": "markdown",
   "id": "a2e62d92",
   "metadata": {},
   "source": [
    "# Словари"
   ]
  },
  {
   "cell_type": "markdown",
   "id": "e2a8051d",
   "metadata": {},
   "source": [
    "Словари(dict) в Python - неупорядоченные коллекции произвольных объектов с доступом по ключу. Их иногда ещё называют ассоциативными массивами или хеш-таблицами.\n",
    "\n",
    "Первый способ создать словарь:"
   ]
  },
  {
   "cell_type": "code",
   "execution_count": null,
   "id": "71cf2e4f",
   "metadata": {},
   "outputs": [],
   "source": [
    "# Пустой словарь\n",
    "empty_dict = {}\n",
    "\n",
    "# Словарь с двумя парами ключ-значение\n",
    "value_dict = {\"cat\": \"кошка\", \"dog\": \"собака\"}"
   ]
  },
  {
   "cell_type": "code",
   "execution_count": null,
   "id": "a0f0bf64",
   "metadata": {},
   "outputs": [],
   "source": [
    "type(value_dict)"
   ]
  },
  {
   "cell_type": "markdown",
   "id": "0f81256b",
   "metadata": {},
   "source": [
    "Второй способ создать словарь:"
   ]
  },
  {
   "cell_type": "code",
   "execution_count": null,
   "id": "60c84db0",
   "metadata": {},
   "outputs": [],
   "source": [
    "dct = dict(cat=\"кошка\", dog=\"собака\", hedgehog = \"ежик\")\n",
    "print(dct)\n",
    "dct[\"animals\"] = [\"кошка\", \"собака\", \"ежик\"]\n",
    "print(dct)"
   ]
  },
  {
   "cell_type": "markdown",
   "id": "3633cea6",
   "metadata": {},
   "source": [
    "Вернуть значение ключа."
   ]
  },
  {
   "cell_type": "code",
   "execution_count": null,
   "id": "d9e5e5fd",
   "metadata": {},
   "outputs": [],
   "source": [
    "dct[\"hedgehog\"]"
   ]
  },
  {
   "cell_type": "code",
   "execution_count": null,
   "id": "34399200",
   "metadata": {},
   "outputs": [],
   "source": [
    "dct.get(\"hedgehog\")"
   ]
  },
  {
   "cell_type": "code",
   "execution_count": null,
   "id": "cb3de3d1",
   "metadata": {},
   "outputs": [],
   "source": [
    "dct.get(\"hedgeho\", \"Такого ключа нет\")"
   ]
  },
  {
   "cell_type": "markdown",
   "id": "457e651a",
   "metadata": {},
   "source": [
    "Вернуть пары."
   ]
  },
  {
   "cell_type": "code",
   "execution_count": null,
   "id": "65929098",
   "metadata": {},
   "outputs": [],
   "source": [
    "dct.items()"
   ]
  },
  {
   "cell_type": "markdown",
   "id": "3655cf3f",
   "metadata": {},
   "source": [
    "Вернуть ключи"
   ]
  },
  {
   "cell_type": "code",
   "execution_count": null,
   "id": "2d05057d",
   "metadata": {},
   "outputs": [],
   "source": [
    "dct.keys()"
   ]
  },
  {
   "cell_type": "markdown",
   "id": "ff99f405",
   "metadata": {},
   "source": [
    "Вернуть значения."
   ]
  },
  {
   "cell_type": "code",
   "execution_count": null,
   "id": "ba895c17",
   "metadata": {},
   "outputs": [],
   "source": [
    "dct.values()"
   ]
  },
  {
   "cell_type": "code",
   "execution_count": null,
   "id": "a9afc8b5",
   "metadata": {},
   "outputs": [],
   "source": [
    "# Если пройтись циклом по словарю, то выведутся только ключи\n",
    "\n",
    "for k in dct:\n",
    "    print(k)"
   ]
  },
  {
   "cell_type": "code",
   "execution_count": null,
   "id": "73a4794d",
   "metadata": {},
   "outputs": [],
   "source": [
    "# Так посмотрим только на значения\n",
    "\n",
    "for v in dct.values():\n",
    "    print(v)"
   ]
  },
  {
   "cell_type": "code",
   "execution_count": null,
   "id": "176d3db6",
   "metadata": {},
   "outputs": [],
   "source": [
    "for k,v in dct.items():\n",
    "    print(\"Ключ: {} -> Значение: {}\".format(k, v))"
   ]
  },
  {
   "cell_type": "markdown",
   "id": "f65ef3cd",
   "metadata": {},
   "source": [
    "Методы:"
   ]
  },
  {
   "cell_type": "code",
   "execution_count": null,
   "id": "d195a519",
   "metadata": {},
   "outputs": [],
   "source": [
    "# Создать словарь\n",
    "df = dict(apple='яблоко', pineapple=\"ананас\", banana=\"банан\")\n",
    "\n",
    "# Получить значение по ключу\n",
    "print(df['apple'])\n",
    "\n",
    "# Получить значение по ключу\n",
    "print(df.get('apple'))\n",
    "\n",
    "# Получить пары ключ-значение\n",
    "print(df.items())\n",
    "\n",
    "# Получить все ключи в словаре\n",
    "print(df.keys())\n",
    "\n",
    "# Получить все значения в словаре\n",
    "print(df.values())\n",
    "\n",
    "# Удалить занчение из словаря\n",
    "del df[\"banana\"]\n",
    "print(df)\n",
    "\n",
    "# Получить значение по ключу, после чего удалить\n",
    "print(df.pop('apple'))\n",
    "print(df)\n",
    "\n",
    "# Если элемента нет\n",
    "print(df.pop('lemon', \"Элемента в словаре нет\"))\n",
    "\n",
    "# Добавить новое значение в словарь\n",
    "df['cherry'] = 'вишня'\n",
    "print(df)\n",
    "\n",
    "# Изменение значения\n",
    "df.update({\"banana\": \"БАНАН\"})\n",
    "print(df)"
   ]
  },
  {
   "cell_type": "markdown",
   "id": "ad51b04b",
   "metadata": {},
   "source": [
    "Включения для словарей."
   ]
  },
  {
   "cell_type": "code",
   "execution_count": null,
   "id": "9ab60d3e",
   "metadata": {},
   "outputs": [],
   "source": [
    "squares = {i: i * i for i in range(10)}\n",
    "squares"
   ]
  },
  {
   "cell_type": "markdown",
   "id": "8fd7cd6b",
   "metadata": {},
   "source": [
    "## Пример применения словарей"
   ]
  },
  {
   "cell_type": "markdown",
   "id": "281a00d4",
   "metadata": {},
   "source": [
    "Найдем пять самых часто встречающихся слова в утверждениях Zen of Python."
   ]
  },
  {
   "cell_type": "code",
   "execution_count": null,
   "id": "69258c7f",
   "metadata": {},
   "outputs": [],
   "source": [
    "import this"
   ]
  },
  {
   "cell_type": "markdown",
   "id": "153c6ba7",
   "metadata": {},
   "source": [
    "Создадим переменную zen, куда считаем все утверждения:"
   ]
  },
  {
   "cell_type": "code",
   "execution_count": null,
   "id": "32841e97",
   "metadata": {},
   "outputs": [],
   "source": [
    "zen = '''Beautiful is better than ugly.\n",
    "Explicit is better than implicit.\n",
    "Simple is better than complex.\n",
    "Complex is better than complicated.\n",
    "Flat is better than nested.\n",
    "Sparse is better than dense.\n",
    "Readability counts.\n",
    "Special cases aren't special enough to break the rules.\n",
    "Although practicality beats purity.\n",
    "Errors should never pass silently.\n",
    "Unless explicitly silenced.\n",
    "In the face of ambiguity, refuse the temptation to guess.\n",
    "There should be one-- and preferably only one --obvious way to do it.\n",
    "Although that way may not be obvious at first unless you're Dutch.\n",
    "Now is better than never.\n",
    "Although never is often better than *right* now.\n",
    "If the implementation is hard to explain, it's a bad idea.\n",
    "If the implementation is easy to explain, it may be a good idea.\n",
    "Namespaces are one honking great idea -- let's do more of those!'''"
   ]
  },
  {
   "cell_type": "markdown",
   "id": "f15e620d",
   "metadata": {},
   "source": [
    "Разобьем данную строку на слова и очистим от знаков. Очищенные слова будем поочередно добавлять в словарь zen_map. В качестве ключей в этом словаре будут выступать слова, а значениями - частота использования слов."
   ]
  },
  {
   "cell_type": "code",
   "execution_count": null,
   "id": "b90bddf0",
   "metadata": {},
   "outputs": [],
   "source": [
    "zen_map = dict()\n",
    "\n",
    "for word in zen.split():\n",
    "    cleaned_word = word.strip('.,!-* \"').lower()\n",
    "    if cleaned_word not in zen_map:\n",
    "        zen_map[cleaned_word] = 1  # Если слово ранее не встречалось, добавляем в словарь с ключом 1\n",
    "    else: \n",
    "        zen_map[cleaned_word] += 1  # Увеличиваем счетчик слов\n",
    "\n",
    "for k,v in zen_map.items():\n",
    "    print(\"Слово: {} -> Встречается: {}\".format(k, v))"
   ]
  },
  {
   "cell_type": "code",
   "execution_count": null,
   "id": "3c3d1478",
   "metadata": {},
   "outputs": [],
   "source": [
    "# Вариант программы, которая создает словарь без \"сорных\" слов\n",
    "\n",
    "zen_map = dict()\n",
    "for word in zen.split():\n",
    "    cleared_word = word.strip('.,!-* \"').lower()\n",
    "    if cleared_word not in zen_map:\n",
    "        if cleared_word not in ('this', 'is','and', 'not', 'to', 'the', 'in', 'of','for', 'than', 'there', 'at', 'if', \"\"):\n",
    "            zen_map[cleared_word]  = 1\n",
    "    else:\n",
    "        zen_map[cleared_word] += 1\n",
    "\n",
    "for k,v in zen_map.items():\n",
    "    print(\"Слово: {} -> Встречается: {}\".format(k, v))"
   ]
  },
  {
   "cell_type": "markdown",
   "id": "556a0486",
   "metadata": {},
   "source": [
    "Ключи и значения не упорядочены, поэтому организуем сортировку. Для этого можно воспользоватьс методом items(). Так мы получим zen_items - список множеств. Элементами множества будут - (ключ, значение)."
   ]
  },
  {
   "cell_type": "code",
   "execution_count": null,
   "id": "2c7419b3",
   "metadata": {},
   "outputs": [],
   "source": [
    "import operator\n",
    "\n",
    "zen_items = zen_map.items() \n",
    "word_count_items = sorted(zen_items, key=operator.itemgetter(1), reverse=True)\n",
    "\n",
    "print(word_count_items[:8])"
   ]
  },
  {
   "cell_type": "markdown",
   "id": "c52e7bc0",
   "metadata": {},
   "source": [
    "Однако, как это часто бывает в Python, уже есть встроенный модуль, который поможет решить эту задачу проще:"
   ]
  },
  {
   "cell_type": "code",
   "execution_count": null,
   "id": "557f8890",
   "metadata": {},
   "outputs": [],
   "source": [
    "from collections import Counter\n",
    "\n",
    "cleaned_list = []\n",
    "for word in zen.split():\n",
    "    cleaned_list.append(word.strip('.,!-* \"').lower())  # Очищаем строку от знаков и приводим к нижнему регистру\n",
    "\n",
    "print(Counter(cleaned_list).most_common(5)) # Вызываем Counter и обращаемся к методу most_common"
   ]
  },
  {
   "cell_type": "markdown",
   "id": "571763fc",
   "metadata": {},
   "source": [
    "### Задача\n",
    "\n",
    "Напишите программу для создания словаря из строки, где ключ – это значение символа сороки, а значение – количество их встречаемости.\n",
    "\n",
    "Пример строки: ' w3resource'\n",
    "\n",
    "Ожидаемый результат: {'w': 1, '3': 1, 'r': 2, 'e': 2, 's': 1, 'o': 1, 'u': 1, 'c': 1}"
   ]
  },
  {
   "cell_type": "code",
   "execution_count": null,
   "id": "e333bc46",
   "metadata": {},
   "outputs": [],
   "source": [
    "di = dict()\n",
    "st = input()\n",
    "for i in st:\n",
    "    if i is not di:\n",
    "        di[i] = st.count(i)\n",
    "print(di)"
   ]
  },
  {
   "cell_type": "markdown",
   "id": "fe581411",
   "metadata": {},
   "source": [
    "# Устройство функций в Python. Написание простейших функций. Написание сложных функций.  "
   ]
  },
  {
   "cell_type": "markdown",
   "id": "ab0d47a7",
   "metadata": {},
   "source": [
    "## Функция\n",
    "\n",
    "Функцией называют именованный фрагмент программного кода, к которому можно обратиться из другого места вашей программы (но есть lambda-функции, у которых нет имени, о них будет рассказано на следующем уроке). Как правило, функции создаются для работы с данными, которые передаются ей в качестве аргументов, также функция может формировать некоторое возвращаемое значение.\n",
    "\n",
    "**Объявляя функцию, нужно следовать определенным правилам**:\n",
    "\n",
    "Объявление происходит с помощью ключевого слова **def**, за ним идёт имя функции и круглые скобки ().\n",
    "\n",
    "**Аргументы**, передаваемые в функцию, должны находится в круглых скобках. Там же можно определить их значения по умолчанию, указав их после знака равно.\n",
    "\n",
    "Перед основным содержимым желательно включить **строку документации** (docstring), которая обычно описывает назначение  и основные принципы работы функции.\n",
    "\n",
    "**Тело функции** начинается после знака двоеточия. Важно не забыть об отступах.\n",
    "\n",
    "Чтобы выйти из функции в Python, используют оператор **return [значение]**. Если оператор опущен, будет возвращено значение None."
   ]
  },
  {
   "cell_type": "code",
   "execution_count": null,
   "id": "924e208c",
   "metadata": {},
   "outputs": [],
   "source": [
    "print(1)"
   ]
  },
  {
   "cell_type": "code",
   "execution_count": null,
   "id": "30720cff",
   "metadata": {},
   "outputs": [],
   "source": [
    "len(\"123\")  # Пример функции"
   ]
  },
  {
   "cell_type": "code",
   "execution_count": null,
   "id": "7c2a17b6",
   "metadata": {},
   "outputs": [],
   "source": [
    "'asdf'.upper()  # Пример метода"
   ]
  },
  {
   "cell_type": "raw",
   "id": "889791d9",
   "metadata": {},
   "source": [
    "def Имя(аргументы):\n",
    "    '''Документация\n",
    "    '''\n",
    "    Тело (инструкции)\n",
    "    return [значение]"
   ]
  },
  {
   "cell_type": "markdown",
   "id": "4abf30f2",
   "metadata": {},
   "source": [
    "Попробуем самостоятельно реализовать функцию, складывающую два числа и выводящую результат на печать:"
   ]
  },
  {
   "cell_type": "code",
   "execution_count": null,
   "id": "6f6d4ea3",
   "metadata": {},
   "outputs": [],
   "source": [
    "def summarize(a, b):\n",
    "    summ = a + b\n",
    "    print(summ)"
   ]
  },
  {
   "cell_type": "code",
   "execution_count": null,
   "id": "144a4bda",
   "metadata": {},
   "outputs": [],
   "source": [
    "summarize(1, 2)"
   ]
  },
  {
   "cell_type": "markdown",
   "id": "00ab4715",
   "metadata": {},
   "source": [
    "Или с return:"
   ]
  },
  {
   "cell_type": "code",
   "execution_count": null,
   "id": "f9d96b34",
   "metadata": {},
   "outputs": [],
   "source": [
    "def summarize(a, b):\n",
    "    summ = a + b\n",
    "    return summ"
   ]
  },
  {
   "cell_type": "code",
   "execution_count": null,
   "id": "a4a1ec8f",
   "metadata": {},
   "outputs": [],
   "source": [
    "x = summarize(1, 2)\n",
    "print(x)"
   ]
  },
  {
   "cell_type": "markdown",
   "id": "24c3a527",
   "metadata": {},
   "source": [
    "Теперь эту функцию можно вызвать в любом месте кода.\n",
    "\n",
    "При описании функции в Python 3 можно задать аргументы с какими-либо начальными значениями, такие аргументы являются \"необязательными\". Вначале нужно описывать обязательные параметры, а после них – необязательные. При вызове функции не обязательно указывать значения \"необязательных\" параметров. Если мы хотим изменить значение аргумента, не меняя начальные значения других аргументов, можно обращаться к нему по ключу."
   ]
  },
  {
   "cell_type": "code",
   "execution_count": null,
   "id": "2b57cf0c",
   "metadata": {},
   "outputs": [],
   "source": [
    "def example(first, second=3, third=5):\n",
    "    print(first)\n",
    "    print(second)\n",
    "    print(third)\n",
    "    \n",
    "example('my string')"
   ]
  },
  {
   "cell_type": "code",
   "execution_count": null,
   "id": "9ab56d8f",
   "metadata": {},
   "outputs": [],
   "source": [
    "example('my string',second='dfgh')"
   ]
  },
  {
   "cell_type": "markdown",
   "id": "ab0f7b47",
   "metadata": {},
   "source": [
    "Пример использования функции\n",
    "вычислим значение n! + k! - p!\n",
    "\n",
    "    5! = 5*4*3*2*1"
   ]
  },
  {
   "cell_type": "code",
   "execution_count": null,
   "id": "b404d17e",
   "metadata": {},
   "outputs": [],
   "source": [
    "n, k, p = 5, 6, 3\n",
    "fn = 1\n",
    "for i in range(2, n + 1):\n",
    "    fn *= i\n",
    "fk = 1\n",
    "for i in range(2, k + 1):\n",
    "    fk *= i\n",
    "fp = 1\n",
    "for i in range(2, p + 1):\n",
    "    fp *= i\n",
    "\n",
    "fn + fk - fp"
   ]
  },
  {
   "cell_type": "code",
   "execution_count": null,
   "id": "66b3962f",
   "metadata": {},
   "outputs": [],
   "source": [
    "def factorial(N):\n",
    "    f = 1\n",
    "    for i in range(1, N+1):\n",
    "        f *= i\n",
    "    return f\n",
    "\n",
    "factorial(5) + factorial(6) - factorial(3)"
   ]
  },
  {
   "cell_type": "markdown",
   "id": "7280f727",
   "metadata": {},
   "source": [
    "## Распаковка\n",
    "\n",
    "Если мы хотим сожержимое двух списков положить в третий список или содержимое двух словарей положить в третий словарь, на помощь нам приходит так называемый \"звездочный синтаксис\":"
   ]
  },
  {
   "cell_type": "code",
   "execution_count": null,
   "id": "93f7f1f7",
   "metadata": {},
   "outputs": [],
   "source": [
    "list1 = [1,2,3]\n",
    "list2 = [4,5,6]\n",
    "\n",
    "list3 = [*list1,*list2]  # Положили все элементы обоих списков в третий\n",
    "print(list3)"
   ]
  },
  {
   "cell_type": "code",
   "execution_count": null,
   "id": "7f9a9d1f",
   "metadata": {},
   "outputs": [],
   "source": [
    "dict1 = {'a':1,'b':2,'c':3}\n",
    "dict2 = {'a':4,'e':5,'f':6}\n",
    "\n",
    "dict3 = {**dict1,**dict2}  # Положили все элементы обоих словарей в третий\n",
    "print(dict3)"
   ]
  },
  {
   "cell_type": "markdown",
   "id": "730bb792",
   "metadata": {},
   "source": [
    "Точно таким же образом можно что-то указать \"в явном виде\", а что-то распаковать из структуры (например, вы хотите дописать в новый список числа 3 и 4):"
   ]
  },
  {
   "cell_type": "code",
   "execution_count": null,
   "id": "d14ff02d",
   "metadata": {},
   "outputs": [],
   "source": [
    "list1 = [0,1,2]\n",
    "print([3,4,list1])  # Тут элементом стал сам список\n",
    "print([3,4,*list1])  # А тут мы элементы списка распаковали"
   ]
  },
  {
   "cell_type": "markdown",
   "id": "de1d3dbb",
   "metadata": {},
   "source": [
    "**В функции точно так же можно подавать несколько аргументов**\n",
    "\n",
    "Даже если вы заранее не знаете, сколько их будет. Вспомните, например, функцию print(). Она умеет давать ответ и при одном аргументе, и при двух и при любом N."
   ]
  },
  {
   "cell_type": "code",
   "execution_count": null,
   "id": "21bce14c",
   "metadata": {},
   "outputs": [],
   "source": [
    "print(1,2,3)"
   ]
  },
  {
   "cell_type": "markdown",
   "id": "87a6a0ca",
   "metadata": {},
   "source": [
    "**\\*args и \\*\\*kwargs спешат на помощь**\n",
    "\n",
    "В Python можно передать переменное количество аргументов двумя способами:\n",
    "\n",
    "* \\*args для неименованных аргументов;\n",
    "* \\*\\*kwargs для именованных аргументов.\n",
    "\n",
    "Мы используем \\*args и \\*\\*kwargs в качестве аргумента, когда заранее не известно, сколько значений мы хотим передать функции."
   ]
  },
  {
   "cell_type": "markdown",
   "id": "01332acb",
   "metadata": {},
   "source": [
    "`*args`\n",
    "\n",
    "args нужен, когда мы хотим передать неизвестное количество неименованных аргументов. Если поставить * перед именем, это имя будет принимать не один аргумент, а несколько. Аргументы передаются как кортеж и доступны внутри функции под тем же именем, что и имя параметра, только без *."
   ]
  },
  {
   "cell_type": "code",
   "execution_count": null,
   "id": "2be02c33",
   "metadata": {},
   "outputs": [],
   "source": [
    "def adder(*nums):\n",
    "    summ = 0\n",
    "    for n in nums:\n",
    "        summ += n\n",
    "\n",
    "    print(\"Sum: \", summ)\n",
    "\n",
    "adder(3, 5)\n",
    "adder(4, 5, 6, 7)\n",
    "adder(1, 2, 3, 5, 6)"
   ]
  },
  {
   "cell_type": "code",
   "execution_count": null,
   "id": "7a2e9bf2",
   "metadata": {},
   "outputs": [],
   "source": [
    "def adder(*nums):\n",
    "    summ = 1\n",
    "    for n in nums:\n",
    "        summ *= n\n",
    "\n",
    "    print(\"Sum: \", summ)\n",
    "\n",
    "adder(3, 5)\n",
    "adder(4, 5)\n",
    "adder(1, 2)"
   ]
  },
  {
   "cell_type": "markdown",
   "id": "a3b685de",
   "metadata": {},
   "source": [
    "`**kwargs`\n",
    "\n",
    "По аналогии с \\*args мы используем \\*\\*kwargs для передачи переменного количества именованных аргументов. Схоже с \\*args, если поставить ** перед именем, это имя будет принимать любое количество именованных аргументов. Кортеж/словарь из нескольких переданных аргументов будет доступен под этим именем. Например:"
   ]
  },
  {
   "cell_type": "code",
   "execution_count": null,
   "id": "a3e8b6cd",
   "metadata": {},
   "outputs": [],
   "source": [
    "def dct(**data):\n",
    "    print(\"\\nData type of argument: \",type(data))\n",
    "\n",
    "    for key, value in data.items():\n",
    "        print(\"{} -> {}\".format(key, value))\n",
    "\n",
    "dct(cat=\"кошка\", dog=\"собака\", hedgehog = \"ежик\")\n",
    "dct(animals = [\"кошка\", \"собака\", \"ежик\"])"
   ]
  },
  {
   "cell_type": "markdown",
   "id": "818d4b5b",
   "metadata": {},
   "source": [
    "В этом случае у нас есть функция **dct()** с параметром \\*\\*data. В функцию мы передали два словаря разной длины. Затем внутри функции мы прошлись в цикле по словарям, чтобы вывести их содержимое."
   ]
  },
  {
   "cell_type": "markdown",
   "id": "92cb99f4",
   "metadata": {},
   "source": [
    "# Локальные и глобальные переменные. Области видимости\n",
    "\n",
    "**Локальные переменные**\n",
    "\n",
    "Для создания переменных, обладающих локальной областью видимости, необходимо всего лишь поместить их в отдельный блок кода, изолированный от остальной программы. Например, у нас таким свойством обладают все переменные, которые мы прежде использовали в функциях, например:"
   ]
  },
  {
   "cell_type": "code",
   "execution_count": null,
   "id": "df3f27b9",
   "metadata": {},
   "outputs": [],
   "source": [
    "def f(x):\n",
    "    output = x+1\n",
    "    output2 = output + 1\n",
    "    return output2\n",
    "\n",
    "print(f(4))\n",
    "print(output)"
   ]
  },
  {
   "cell_type": "markdown",
   "id": "8ca85be9",
   "metadata": {},
   "source": [
    "Функция у нас сработала, а вот переменную за пределами функции мы не видим. Попробуем изнутри функции использовать переменную определенную вовне."
   ]
  },
  {
   "cell_type": "code",
   "execution_count": null,
   "id": "a993b27d",
   "metadata": {},
   "outputs": [],
   "source": [
    "x = 11\n",
    "\n",
    "def foo(z):\n",
    "    print(x)\n",
    "    return None\n",
    "\n",
    "foo(10)"
   ]
  },
  {
   "cell_type": "markdown",
   "id": "623cd423",
   "metadata": {},
   "source": [
    "Если нам все-таки нужно использовать значение переменной \"изнутри\" функции, можно сказать , что мы объявляем глобальную переменную. Для этого используется выражение **global**"
   ]
  },
  {
   "cell_type": "code",
   "execution_count": null,
   "id": "ec906bef",
   "metadata": {},
   "outputs": [],
   "source": [
    "def f():\n",
    "    global s\n",
    "    print(s)\n",
    "    s = \"Переменная задана внутри функции\"\n",
    "    print(s)\n",
    "\n",
    "s = \"Переменная задана в основном теле программы\" \n",
    "f()\n",
    "print(s)"
   ]
  },
  {
   "cell_type": "markdown",
   "id": "e9bf10e8",
   "metadata": {},
   "source": [
    "Здесь мы вызвали функцию и она перезаписала нам значение в переменную s.\n",
    "\n",
    "**Возврат нескольких значений**\n",
    "\n",
    "Нужно упомянуть еще один факт: по команде return функция может возвращать несколько значений. Например вот функция, которая умеет выводить сумму и разность двух аргументов функции:"
   ]
  },
  {
   "cell_type": "code",
   "execution_count": null,
   "id": "56214909",
   "metadata": {},
   "outputs": [],
   "source": [
    "def sum_diff(a,b):\n",
    "    return a+b, a-b\n",
    "\n",
    "sum1, diff = sum_diff(4,1)\n",
    "print(sum1)\n",
    "print(diff)"
   ]
  },
  {
   "cell_type": "code",
   "execution_count": null,
   "id": "87f4a89f",
   "metadata": {},
   "outputs": [],
   "source": [
    "def sum_diff(a):\n",
    "    return a+a, a-a\n",
    "\n",
    "sum1, diff = sum_diff(4)\n",
    "print(sum1)\n",
    "print(diff)"
   ]
  },
  {
   "cell_type": "markdown",
   "id": "4e7c43fb",
   "metadata": {},
   "source": [
    "### Задача\n",
    "\n",
    "Напишите функцию для вычисления факториала данного числа без рекурсии.\n",
    "\n",
    "Ввод: 3\n",
    "\n",
    "Вывод: 6"
   ]
  },
  {
   "cell_type": "code",
   "execution_count": null,
   "id": "d55cb470",
   "metadata": {},
   "outputs": [],
   "source": [
    "def factorial(N):\n",
    "    f = 1\n",
    "    for i in range(1, N+1):\n",
    "        f *= i\n",
    "    return f\n",
    "\n",
    "factorial(3)"
   ]
  },
  {
   "cell_type": "markdown",
   "id": "d220a46f",
   "metadata": {},
   "source": [
    "## Рекурсия\n",
    "\n",
    "Рекурсия — функция вызывает сама себя. Самый известный пример — вычисление факториала n! = n * n — 1 * n -2 * … 2 *1"
   ]
  },
  {
   "cell_type": "code",
   "execution_count": null,
   "id": "8d4c73b1",
   "metadata": {},
   "outputs": [],
   "source": [
    "def factorial(n):\n",
    "    if n != 0:\n",
    "        return n * factorial(n-1)\n",
    "    else:\n",
    "        return 1"
   ]
  },
  {
   "cell_type": "code",
   "execution_count": null,
   "id": "c41073e8",
   "metadata": {},
   "outputs": [],
   "source": [
    "factorial(0)"
   ]
  },
  {
   "cell_type": "markdown",
   "id": "7e4bdfdf",
   "metadata": {},
   "source": [
    "А еще таким же образом можно вычислять N-ое число Фибоначчи (они как раз задаются рекурсивно).\n",
    "\n",
    "Заодно здесь мы видим, что выражений return может быть несколько (для различных условий).\n",
    "\n",
    "1, 1, 2, 3, 5, 8, 13, 21, ...\n",
    "\n",
    "f(5) -> f(4) + f(3) #3 + 2 = 5\n",
    "\n",
    "f(4) -> f(3) + f(2) #2 + 1 = 3\n",
    "\n",
    "f(3) -> f(2) + f(1) #1 + 1 = 2"
   ]
  },
  {
   "cell_type": "code",
   "execution_count": null,
   "id": "699298da",
   "metadata": {},
   "outputs": [],
   "source": [
    "def fibonacci(n):\n",
    "    if n in (1, 2):\n",
    "        return 1\n",
    "    return fibonacci(n - 1) + fibonacci(n - 2)"
   ]
  },
  {
   "cell_type": "code",
   "execution_count": null,
   "id": "ead3c1f1",
   "metadata": {},
   "outputs": [],
   "source": [
    "fibonacci(8)"
   ]
  },
  {
   "cell_type": "code",
   "execution_count": null,
   "id": "d3476734",
   "metadata": {},
   "outputs": [],
   "source": [
    "def fibonacci(n):\n",
    "    if n in (1, 2):\n",
    "        return 1\n",
    "    f1 = 1\n",
    "    f2 = 1\n",
    "    for i in range(1, n-1):\n",
    "        f3 = f1 + f2 \n",
    "        f1 = f2\n",
    "        f2 = f3\n",
    "    return f3"
   ]
  },
  {
   "cell_type": "code",
   "execution_count": null,
   "id": "b7031065",
   "metadata": {},
   "outputs": [],
   "source": [
    "fibonacci(8)"
   ]
  },
  {
   "cell_type": "markdown",
   "id": "3af4de71",
   "metadata": {},
   "source": [
    "### Задача\n",
    "\n",
    "Рекурсивно посчитать сумму чисел от 1 до N\n",
    "\n",
    "Вход: N\n",
    "\n",
    "Выход: sum(1,2,3,...,N)\n",
    "\n",
    "\n",
    "Вход: 3\n",
    "\n",
    "Выход: 6"
   ]
  },
  {
   "cell_type": "code",
   "execution_count": null,
   "id": "2b277d26",
   "metadata": {},
   "outputs": [],
   "source": [
    "def summe(n):\n",
    "    if n == 0:\n",
    "        return 0\n",
    "    return n + summe(n - 1)\n",
    "\n",
    "n = int(input())\n",
    "print(summe(n))"
   ]
  },
  {
   "cell_type": "markdown",
   "id": "7b3edf46",
   "metadata": {},
   "source": [
    "### Задача\n",
    "\n",
    "Рекурсивно проверить, является ли строка палиндромом (читается наоброт)\n",
    "\n",
    "Вход: шалаш\n",
    "\n",
    "Выход: True\n",
    "\n",
    "\n",
    "Вход: мама\n",
    "\n",
    "Выход: False"
   ]
  },
  {
   "cell_type": "code",
   "execution_count": null,
   "id": "f10e910a",
   "metadata": {},
   "outputs": [],
   "source": [
    "def Palindrom(s):\n",
    "    if len(s) <= 1:\n",
    "        return True\n",
    "    else:\n",
    "        return s[0] == s[-1] and Palindrom(s[1:-1])\n",
    "    \n",
    "st = input()\n",
    "Palindrom(st)"
   ]
  },
  {
   "cell_type": "code",
   "execution_count": null,
   "id": "7770a55b",
   "metadata": {},
   "outputs": [],
   "source": [
    "# Вариант решения без применения рекурсии (просто пример)\n",
    "\n",
    "def Palindrom(s):\n",
    "    if  s = s[::-1]:\n",
    "        return True\n",
    "    else:\n",
    "        return False\n",
    "    \n",
    "st = input()\n",
    "Palindrom(st)"
   ]
  },
  {
   "cell_type": "markdown",
   "id": "5b771d13",
   "metadata": {},
   "source": [
    "### Задача\n",
    "\n",
    "Напишите функцию, которая принимает три числа и возвращает их произведение."
   ]
  },
  {
   "cell_type": "code",
   "execution_count": null,
   "id": "35662eec",
   "metadata": {},
   "outputs": [],
   "source": [
    "def multi_num(n1, n2, n3):\n",
    "    return n1 * n2 * n3\n",
    "\n",
    "num1, num2, num3 = map(float, input().split())\n",
    "print(multi_num(num1, num2, num3))"
   ]
  },
  {
   "cell_type": "markdown",
   "id": "dab21a58",
   "metadata": {},
   "source": [
    "### Задача\n",
    "\n",
    "Напишите функцию для вычисления среднего арифметического числа в заданном списке."
   ]
  },
  {
   "cell_type": "code",
   "execution_count": null,
   "id": "77f13047",
   "metadata": {},
   "outputs": [],
   "source": [
    "def mean_lt(mas):\n",
    "    len_mas = len(mas)\n",
    "    sum_mas = 0\n",
    "    \n",
    "    for i in mas:\n",
    "        sum_mas += i\n",
    "    \n",
    "    return sum_mas / len_mas\n",
    "\n",
    "ls = list(map(float, input().split()))\n",
    "print(mean_lt(ls))"
   ]
  },
  {
   "cell_type": "code",
   "execution_count": null,
   "id": "cf8621e2",
   "metadata": {},
   "outputs": [],
   "source": [
    "# Вариант написания, без цикла for\n",
    "\n",
    "def mean_lt(mas):\n",
    "    len_mas = len(mas)\n",
    "    sum_mas = sum(mas)\n",
    "    \n",
    "    return sum_mas / len_mas\n",
    "\n",
    "ls = list(map(float, input().split()))\n",
    "print(mean_lt(ls))"
   ]
  },
  {
   "cell_type": "markdown",
   "id": "ad057a65",
   "metadata": {},
   "source": [
    "### Задача\n",
    "\n",
    "Напишите функцию, которая принимает на вход число и выдаёт сумму цифр в числе. Реализуйте два варианта, с использованием строки без использования строки."
   ]
  },
  {
   "cell_type": "code",
   "execution_count": null,
   "id": "c6b132a3",
   "metadata": {},
   "outputs": [],
   "source": [
    "# Вариант решения через строку №1\n",
    "\n",
    "def sum_st(num):\n",
    "    num = str(num)\n",
    "    sum_num = 0\n",
    "    \n",
    "    for i in num:\n",
    "        sum_num += int(i)\n",
    "    \n",
    "    return sum_num\n",
    "\n",
    "n = int(input())\n",
    "print(sum_st(n))"
   ]
  },
  {
   "cell_type": "code",
   "execution_count": null,
   "id": "c080c5da",
   "metadata": {},
   "outputs": [],
   "source": [
    "# Вариант решения через строку №2\n",
    "\n",
    "def sum_of(num):\n",
    "    return sum(int(digit) for digit in str(num))\n",
    "\n",
    "num = int(input())\n",
    "print(sum_of(num))"
   ]
  },
  {
   "cell_type": "code",
   "execution_count": null,
   "id": "fe2df0b1",
   "metadata": {},
   "outputs": [],
   "source": [
    "# Вариант решения через цикл while\n",
    "\n",
    "def sum_int(num):\n",
    "    sum_num = 0\n",
    "    \n",
    "    while num > 0:\n",
    "        sum_num += num % 10\n",
    "        num //= 10\n",
    "    \n",
    "    return sum_num\n",
    "\n",
    "n = int(input())\n",
    "print(sum_int(n))"
   ]
  },
  {
   "cell_type": "markdown",
   "id": "ecf13da2",
   "metadata": {},
   "source": [
    "### Задача\n",
    "\n",
    "Напишите функцию, которая будет преобразовывать десятичное число в двоичное."
   ]
  },
  {
   "cell_type": "code",
   "execution_count": null,
   "id": "96cf8fbe",
   "metadata": {},
   "outputs": [],
   "source": [
    "def translator(num):\n",
    "    st = \"\"\n",
    "    while num > 0:\n",
    "        st += str(num % 2)\n",
    "        num //= 2\n",
    "    \n",
    "    return st[::-1]\n",
    "\n",
    "n = int(input())\n",
    "print(translator(n))"
   ]
  },
  {
   "cell_type": "markdown",
   "id": "8090054e",
   "metadata": {},
   "source": [
    "# Функции как объект\n",
    "\n",
    "Функцию можно присвоить любой переменной."
   ]
  },
  {
   "cell_type": "code",
   "execution_count": null,
   "id": "9e19fd66",
   "metadata": {},
   "outputs": [],
   "source": [
    "writeline = print\n",
    "x = 5\n",
    "writeline(5)"
   ]
  },
  {
   "cell_type": "code",
   "execution_count": null,
   "id": "54444138",
   "metadata": {},
   "outputs": [],
   "source": [
    "s = \"Привет мир!!!\"\n",
    "writeline(s[:6])"
   ]
  },
  {
   "cell_type": "markdown",
   "id": "61574907",
   "metadata": {},
   "source": [
    "### Задача\n",
    "\n",
    "Исполнитель калькулятор может выполнить одно из действий: сложение, умножение или возведение в степень. Опишем функции:"
   ]
  },
  {
   "cell_type": "code",
   "execution_count": null,
   "id": "6eebbc6f",
   "metadata": {},
   "outputs": [],
   "source": [
    "# Первое решение\n",
    "\n",
    "def addition(x, y):  # Команда \"+\"\n",
    "    return x + y\n",
    "def multiplication(x, y):  # Команда \"*\"\n",
    "    return x * y\n",
    "def exponentiation(x, y):  # Команда \"^\"\n",
    "    return x ** y\n",
    "\n",
    "func = addition  # Значение по умолчанию\n",
    "\n",
    "operation_sign = input()\n",
    "\n",
    "if operation_sign == \"*\":\n",
    "    func = multiplication\n",
    "elif operation_sign == \"^\":\n",
    "    func = exponentiation\n",
    "\n",
    "x, y = 3, 4\n",
    "func(x, y)"
   ]
  },
  {
   "cell_type": "code",
   "execution_count": null,
   "id": "ed0f5aa6",
   "metadata": {},
   "outputs": [],
   "source": [
    "# Второе решение\n",
    "\n",
    "def addition(x, y):  # Команда \"+\"\n",
    "    return x + y\n",
    "def multiplication(x, y):  # Команда \"*\"\n",
    "    return x * y\n",
    "def exponentiation(x, y):  # Команда \"^\"\n",
    "    return x ** y\n",
    "\n",
    "operation = {\"+\" : addition,\n",
    "            \"*\" : multiplication,\n",
    "            \"^\" : exponentiation}\n",
    "\n",
    "operation_sign = input()\n",
    "func = operation[operation_sign]\n",
    "\n",
    "x, y = 3, 4\n",
    "func(x, y)"
   ]
  },
  {
   "cell_type": "markdown",
   "id": "58ac23cf",
   "metadata": {},
   "source": [
    "Напишем функции для преобразования стилистики текста:\n",
    "- все строчные\n",
    "- ВСЕ ПРОПИСНЫЕ\n",
    "- иЗМЕНИТЬ РЕГИСТР\n",
    "- Начинается С Прописных\n",
    "- Как в предложениях"
   ]
  },
  {
   "cell_type": "code",
   "execution_count": null,
   "id": "a96c78b0",
   "metadata": {},
   "outputs": [],
   "source": [
    "st = \"привет мир. hello, world.\"  # Тестовая строка"
   ]
  },
  {
   "cell_type": "code",
   "execution_count": null,
   "id": "196c61ca",
   "metadata": {},
   "outputs": [],
   "source": [
    "# Все строчные\n",
    "\n",
    "def all_lower(s): \n",
    "    return s.lower()\n",
    "\n",
    "all_lower(st)"
   ]
  },
  {
   "cell_type": "code",
   "execution_count": null,
   "id": "ae182de5",
   "metadata": {},
   "outputs": [],
   "source": [
    "# ВСЕ ПРОПИСНЫЕ\n",
    "\n",
    "def all_upper(s):\n",
    "    return s.upper()\n",
    "\n",
    "all_upper(st)"
   ]
  },
  {
   "cell_type": "code",
   "execution_count": null,
   "id": "fdc1d313",
   "metadata": {},
   "outputs": [],
   "source": [
    "# иЗМЕНИТЬ РЕГИСТР\n",
    "# swapcase() - можно было использовать, но напишем сами\n",
    "\n",
    "def change_register(s):\n",
    "    str_as_list = list(s)\n",
    "    for i in range(len(str_as_list)):\n",
    "        if str_as_list[i].isupper():\n",
    "            str_as_list[i] = all_lower(str_as_list[i])\n",
    "        else:\n",
    "            str_as_list[i] = all_upper(str_as_list[i])\n",
    "    return \"\".join(str_as_list)\n",
    "\n",
    "change_register(st)"
   ]
  },
  {
   "cell_type": "code",
   "execution_count": null,
   "id": "a23079cd",
   "metadata": {},
   "outputs": [],
   "source": [
    "# Как в предложениях\n",
    "\n",
    "def start_with_upper(s):\n",
    "    return s[0].upper() + s[1:]\n",
    "\n",
    "# Будем предполагать, что предложение заканчивается точкой.\n",
    "# capitalize()\n",
    "\n",
    "def as_sentence(s):\n",
    "    seq = s.split(sep=\". \")\n",
    "    for i in range(len(seq)):\n",
    "        seq[i] = start_with_upper(seq[i])\n",
    "\n",
    "    return \". \".join(seq)\n",
    "\n",
    "as_sentence(st)"
   ]
  },
  {
   "cell_type": "code",
   "execution_count": null,
   "id": "ef1dcc3e",
   "metadata": {},
   "outputs": [],
   "source": [
    "# Начинается С Прописных\n",
    "\n",
    "# title\n",
    "def words_with_upper(s):\n",
    "    words = s.split()\n",
    "    for i in range(len(words)):\n",
    "        words[i] = start_with_upper(words[i])\n",
    "    return \" \".join(words)\n",
    "\n",
    "words_with_upper(st)"
   ]
  },
  {
   "cell_type": "code",
   "execution_count": null,
   "id": "5d712835",
   "metadata": {},
   "outputs": [],
   "source": [
    "# Создадим словарь для хранения функций\n",
    "# Ключ - номер, значение функция\n",
    "\n",
    "regiter = {1: all_lower, \n",
    "           2: all_upper, \n",
    "           3: change_register, \n",
    "           4: as_sentence, \n",
    "           5: words_with_upper}\n",
    "\n",
    "number = int(input())\n",
    "if number not in range(1, 6):\n",
    "    print(\"Ошибочный ввод\")\n",
    "else:\n",
    "    func = regiter[number]\n",
    "    print(func(st))"
   ]
  },
  {
   "cell_type": "code",
   "execution_count": null,
   "id": "c46241d2",
   "metadata": {},
   "outputs": [],
   "source": [
    "# Создадим дополнительную функцию\n",
    "\n",
    "def register_fun(n):\n",
    "    register = {1: all_lower, \n",
    "       2: all_upper, \n",
    "       3: change_register, \n",
    "       4: as_sentence, \n",
    "       5: words_with_upper}\n",
    "    return register[number]\n",
    "\n",
    "number = int(input())\n",
    "if number not in range(1, 6):\n",
    "    print(\"Ошибочный ввод\")\n",
    "else:\n",
    "    func = register_fun(number)\n",
    "    print(func(st))"
   ]
  },
  {
   "cell_type": "markdown",
   "id": "e5a5fd0e",
   "metadata": {},
   "source": [
    "# Функции высших порядков\n",
    "\n",
    "Функции, которые могут принимать в качестве аргумента другую функцию и/или возвращать функцию в качестве результата своей работы.\n",
    "\n",
    "map, filter, sorted"
   ]
  },
  {
   "cell_type": "code",
   "execution_count": null,
   "id": "c57b15f3",
   "metadata": {},
   "outputs": [],
   "source": [
    "#Как в предложениях\n",
    "\n",
    "def start_with_upper(s):\n",
    "    return s[0].upper() + s[1:]\n",
    "\n",
    "#Будем предполагать, что предложение заканчивается точкой.\n",
    "# capitalize()\n",
    "\n",
    "def as_sentence(s):\n",
    "    seq = s.split(sep=\". \")\n",
    "    s = map(start_with_upper, seq)\n",
    "\n",
    "    return \". \".join(s)\n",
    "\n",
    "as_sentence(st)"
   ]
  },
  {
   "cell_type": "code",
   "execution_count": null,
   "id": "f15e8e73",
   "metadata": {},
   "outputs": [],
   "source": [
    "# Применение filter\n",
    "\n",
    "def is_odd(x):\n",
    "    return x % 2 == 1\n",
    "\n",
    "sp = [34, 45, 22, 65, 11, 87]\n",
    "\n",
    "sp2 = list(filter(is_odd, sp))\n",
    "print(sp2)"
   ]
  },
  {
   "cell_type": "code",
   "execution_count": null,
   "id": "ae5a0f15",
   "metadata": {},
   "outputs": [],
   "source": [
    "# Применение sorted\n",
    "\n",
    "fruits = ['apple', 'orange', 'banana', 'cherry', 'date', 'apricot']\n",
    "print(sorted(fruits))\n",
    "print(sorted(fruits, reverse=True))\n",
    "print(sorted(fruits, key=len))\n",
    "print(sorted(fruits, key=len, reverse=True))"
   ]
  },
  {
   "cell_type": "markdown",
   "id": "7a294951",
   "metadata": {},
   "source": [
    "# Lambda-функции\n",
    "\n",
    "Это особый вид функций, которые объявляются с помощью ключевого слова **lambda** вместо **def**.\n",
    "\n",
    "Лямбда-функции принимают любое количество аргументов, но не могут содержать несколько выражений и всегда возвращают только одно значение. Пишется так:\n",
    "\n",
    "- lambda arguments: expression\n",
    "\n",
    "arguments - аргументы, expression - выражение, возвращающее значение.\n",
    "\n",
    "Пример (lambda функция, которая добавляет к переданному аргументу 1 и возвращает результат):"
   ]
  },
  {
   "cell_type": "code",
   "execution_count": null,
   "id": "bfb71423",
   "metadata": {},
   "outputs": [],
   "source": [
    "add_1 = lambda x: [i for i in range(x + 1)]\n",
    "add_1(8)"
   ]
  },
  {
   "cell_type": "markdown",
   "id": "550ca7bf",
   "metadata": {},
   "source": [
    "Сложение двух числ с помощью лямбда-функции:"
   ]
  },
  {
   "cell_type": "code",
   "execution_count": null,
   "id": "b14c0b67",
   "metadata": {},
   "outputs": [],
   "source": [
    "add_2 = lambda x, y: x + y\n",
    "add_2(3, 4)"
   ]
  },
  {
   "cell_type": "markdown",
   "id": "0d3d897f",
   "metadata": {},
   "source": [
    "Выше, мы присвоили имя каждой из функций. Попробуем без имени. Аргументы передаются в скобках после скобок, содержащих определение lambda функции:"
   ]
  },
  {
   "cell_type": "code",
   "execution_count": null,
   "id": "2be76cd4",
   "metadata": {},
   "outputs": [],
   "source": [
    "(lambda x, y: x * y)(3, 5)"
   ]
  },
  {
   "cell_type": "markdown",
   "id": "6715b9dc",
   "metadata": {},
   "source": [
    "По сути, лямбда-функции умеют все, что и обычные функции, только они обязаны возвращать всего одно значение.\n",
    "\n",
    "- Они умеют работать с разными типами данных (Строками, например)\n",
    "- Можно вызывать функцию без параметров\n",
    "- Параметрам функции можно задать значения по умолчанию"
   ]
  },
  {
   "cell_type": "code",
   "execution_count": null,
   "id": "7fd9c9b0",
   "metadata": {},
   "outputs": [],
   "source": [
    "# Со строками\n",
    "\n",
    "(lambda x, y: x * y)(\"Ха-\",3)"
   ]
  },
  {
   "cell_type": "code",
   "execution_count": null,
   "id": "caadcda4",
   "metadata": {},
   "outputs": [],
   "source": [
    "(lambda x, y: x + y)(\"Первая \",\"Вторая\")"
   ]
  },
  {
   "cell_type": "code",
   "execution_count": null,
   "id": "25746a7e",
   "metadata": {},
   "outputs": [],
   "source": [
    "# А вот тут без аргументов\n",
    "\n",
    "(lambda: [0,1,2,3])()"
   ]
  },
  {
   "cell_type": "code",
   "execution_count": null,
   "id": "7d2dd953",
   "metadata": {},
   "outputs": [],
   "source": [
    "# Значения по умолчанию\n",
    "\n",
    "(lambda x=3, y = 5: str(x) + str(y))(1,2)"
   ]
  },
  {
   "cell_type": "code",
   "execution_count": null,
   "id": "80353955",
   "metadata": {},
   "outputs": [],
   "source": [
    "# Здесь в качестве первого аргумента пришел список, а второй использовался по умолчанию\n",
    "# На выходе должны получить первый элемент первого списка + 3\n",
    "\n",
    "(lambda x,y=3: x[0] + y)([1,2,3])"
   ]
  },
  {
   "cell_type": "code",
   "execution_count": null,
   "id": "dd9f2298",
   "metadata": {},
   "outputs": [],
   "source": [
    "print((lambda x, y, z: x + y + z)(1, 2, 3))  # Три аргумента\n",
    "\n",
    "print((lambda x, y, z=3: x + y + z)(1, 2))  # Три аргумента и у одного default-значение\n",
    "\n",
    "print((lambda x, y, z=3: x + y + z)(1, y=2))  # Три аргумента, у одного default-значение и один мы передали \"по имени\"\n",
    "\n",
    "print((lambda *args: sum(args))(1,2,3))  # Передали кортеж аргументов и сложили\n",
    "\n",
    "print((lambda **kwargs: sum(kwargs.values()))(one=1, two=2, three=3))  # Передали словарь аргументов и сложили"
   ]
  },
  {
   "cell_type": "markdown",
   "id": "3d69c6f0",
   "metadata": {},
   "source": [
    "Лямбда-функции очень часто применяются для преобразования каких-то коллекций. Для этого lambda-функции можно подавать в функцию map. Возьмем список и возведем все его элементы в квадрат с помощью map и lambda-функции."
   ]
  },
  {
   "cell_type": "code",
   "execution_count": null,
   "id": "f1927463",
   "metadata": {},
   "outputs": [],
   "source": [
    "a = [1,3,4,6]\n",
    "def to_str(x):\n",
    "    return x*x\n",
    "list(map(to_str, a))"
   ]
  },
  {
   "cell_type": "code",
   "execution_count": null,
   "id": "4f6a576d",
   "metadata": {},
   "outputs": [],
   "source": [
    "a = [1,3,4,6]\n",
    "list(map(lambda x: x * x,a))"
   ]
  },
  {
   "cell_type": "code",
   "execution_count": null,
   "id": "addfb27e",
   "metadata": {},
   "outputs": [],
   "source": [
    "lst = [\"ежик\", \"Python\", \"книга\"]\n",
    "print(list(map(lambda x: x[0], lst)))"
   ]
  },
  {
   "cell_type": "markdown",
   "id": "fba85301",
   "metadata": {},
   "source": [
    "`filter` - функция для фильтрации списков. Необходимо отфильтровать все числа меньше 4 из списка. С помощью цикла:"
   ]
  },
  {
   "cell_type": "code",
   "execution_count": null,
   "id": "ebe0a140",
   "metadata": {},
   "outputs": [],
   "source": [
    "numbers = [1,2,3,4,5]\n",
    "numbers_under_4 = []\n",
    "for number in numbers:\n",
    "    if number < 4:\n",
    "        numbers_under_4.append(number)\n",
    "numbers_under_4"
   ]
  },
  {
   "cell_type": "markdown",
   "id": "43fecb3f",
   "metadata": {},
   "source": [
    "С помощью спискового включения:"
   ]
  },
  {
   "cell_type": "code",
   "execution_count": null,
   "id": "4b6fb699",
   "metadata": {},
   "outputs": [],
   "source": [
    "numbers = [1,2,3,4,5]\n",
    "numbers_under_4 = [number for number in numbers if number < 4]\n",
    "numbers_under_4"
   ]
  },
  {
   "cell_type": "markdown",
   "id": "4aa183cf",
   "metadata": {},
   "source": [
    "filter + Lambda-функция:"
   ]
  },
  {
   "cell_type": "code",
   "execution_count": null,
   "id": "759e873c",
   "metadata": {},
   "outputs": [],
   "source": [
    "numbers = [1,2,3,4,5]\n",
    "numbers_under_4 = list(filter(lambda x: x < 4, numbers))\n",
    "numbers_under_4"
   ]
  },
  {
   "cell_type": "markdown",
   "id": "6c5e142f",
   "metadata": {},
   "source": [
    "Видно, что синтаксис такой же, как и у map. Первый аргумент - функция, которую надо применять, а второй - коллекция, на которую надо применять. Но как и для map, функция возвращает итератор, поэтому, чтобы получить список, его нужно обернуть функцией list.\n",
    "\n",
    "sorted + Lambda-функция:"
   ]
  },
  {
   "cell_type": "code",
   "execution_count": null,
   "id": "5ad5fcfb",
   "metadata": {},
   "outputs": [],
   "source": [
    "sp = [34, 45, 22, 65, 19, 87, 21]\n",
    "sorted(sp, key = lambda x: x % 10)"
   ]
  },
  {
   "cell_type": "code",
   "execution_count": null,
   "id": "444c9a79",
   "metadata": {},
   "outputs": [],
   "source": [
    "points = [(1, 1), (2, 3), (5, 4), (1, 3), (8, 0), (1, 0)]\n",
    "sorted(points, key = lambda x: x[0])"
   ]
  },
  {
   "cell_type": "code",
   "execution_count": null,
   "id": "9b41c2c5",
   "metadata": {},
   "outputs": [],
   "source": [
    "points = [(1, 1), (2, 3), (5, 4), (1, 3), (8, 0), (1, 0)]\n",
    "sorted(points, key = lambda x: (x[0], x[1]))"
   ]
  },
  {
   "cell_type": "markdown",
   "id": "5cbb26a9",
   "metadata": {},
   "source": [
    "# Основные оценки сложности алгоритмов"
   ]
  },
  {
   "cell_type": "markdown",
   "id": "f4eabf30",
   "metadata": {},
   "source": [
    "Основные категории алгоритмической сложности в О-нотации:\n",
    "\n",
    "* Постоянное время: 0(1) — время выполнения не зависит от количества элементов во входном наборе данных\n",
    "\n",
    "* Линейное время: О(N) — время выполнения пропорционально количеству элементов в коллекции\n",
    "\n",
    "* Логарифмическое время: О(log(N)) — время выполнения пропорционально логарифму от количества элементов в коллекции\n",
    "\n",
    "* Квазилинейное время: О(N*log(N)) — время выполнения больше чем, линейное, но меньше квадратичного\n",
    "\n",
    "* Полиномиальное время: О(N^2) — время выполнения пропорционально квадрату количества элементов в коллекции\n"
   ]
  },
  {
   "cell_type": "markdown",
   "id": "65da3f02",
   "metadata": {},
   "source": [
    "## Константа $O(1)$\n",
    "Самый простой в оценке вариант алгоритма — алгоритм, который не зависит от размера входных данных. \n",
    "Посчитаем сумму первых пяти натуральных чисел. Для этого сравним два алгоритма."
   ]
  },
  {
   "cell_type": "code",
   "execution_count": null,
   "id": "1eb763cb",
   "metadata": {},
   "outputs": [],
   "source": [
    "# Алгоритм 1\n",
    "\n",
    "a = [1, 2, 3, 4, 5, 6]\n",
    "\n",
    "summ = 0\n",
    "for element in a:\n",
    "    summ += element\n",
    "\n",
    "print(summ)"
   ]
  },
  {
   "cell_type": "markdown",
   "id": "e7a2b2b0",
   "metadata": {},
   "source": [
    "Первый алгоритм будет перебирать все элементы списка и добавлять их к общей сумме. \\\n",
    "*Количество операций*: 1 (создание переменной) + n (проходимся по всему списку) + n (операция суммы)."
   ]
  },
  {
   "cell_type": "code",
   "execution_count": null,
   "id": "7e5313b0",
   "metadata": {},
   "outputs": [],
   "source": [
    "# Алгоритм 2\n",
    "\n",
    "a = [1, 2, 3, 4, 5, 6]\n",
    "\n",
    "summ = (a[0] + a[len(a) - 1]) / 2 * len(a)\n",
    "\n",
    "print(summ)"
   ]
  },
  {
   "cell_type": "markdown",
   "id": "3ef525e6",
   "metadata": {},
   "source": [
    "Второй алгоритм не будет проходиться по всему массиву, а сразу сложит нужные элементы. \\\n",
    "*Количество операций*: 3.\n",
    "\n",
    "В этой задаче нам нужно сделать три действия, независимо от того, какое количество натуральных чисел мы передали. То есть мы говорим, что данный алгоритм имеет сложность $О(1)$."
   ]
  },
  {
   "cell_type": "markdown",
   "id": "c12a1f5f",
   "metadata": {},
   "source": [
    "# Линейная $О(n)$\n",
    "\n",
    "Линейная оценка, или сложность $О(n)$, будет у алгоритма, который проходит один или несколько раз по всем переданным объектам. Например, алгоритм поиска числа в неупорядоченном списке."
   ]
  },
  {
   "cell_type": "code",
   "execution_count": null,
   "id": "0fcaea8a",
   "metadata": {},
   "outputs": [],
   "source": [
    "lst = [1, 26, 3, 24, 16, 17, 30, 17, 27, 28]\n",
    "s = 17\n",
    "n = len(lst)\n",
    "i = 0\n",
    "while i < n and lst[i] != s:\n",
    "    i += 1\n",
    "if i == n:\n",
    "    print(\"Число не найдено\")\n",
    "else:\n",
    "    print(i)"
   ]
  },
  {
   "cell_type": "code",
   "execution_count": null,
   "id": "2e52a342",
   "metadata": {},
   "outputs": [],
   "source": [
    "def element_search(ar, element):\n",
    "    for i in range(len(ar)):\n",
    "        if ar[i] == element:\n",
    "            return i\n",
    "    return \"Число не найдено\"\n",
    "s = 17\n",
    "print(element_search(lst, s))"
   ]
  },
  {
   "cell_type": "code",
   "execution_count": null,
   "id": "2febef80",
   "metadata": {},
   "outputs": [],
   "source": [
    "lst = [1, 26, 3, 24, 16, 17, 30, 17, 27, 28]\n",
    "element = 30\n",
    "for i in range(len(lst)):\n",
    "    if lst[i] == element:\n",
    "        print(i)\n",
    "        break\n",
    "else:\n",
    "    print(\"Число не найдено\")"
   ]
  },
  {
   "cell_type": "markdown",
   "id": "8a45b704",
   "metadata": {},
   "source": [
    "В этом примере в худшем случае (а нам интересен именно худший случай) мы пройдемся по всему списку, сравнивая каждый элемент с искомым, пока не найдем подходящий. Это и есть линейная сложность алгоритма. "
   ]
  },
  {
   "cell_type": "markdown",
   "id": "150e17c1",
   "metadata": {},
   "source": [
    "## Экспоненциальное время: O(2^n)\n",
    "\n",
    "Если сложность алгоритма описывается формулой O(2^n), значит, время его работы удваивается с каждым дополнением к набору данных. Кривая роста функции O(2^n) экспоненциальная: сначала она очень пологая, а затем стремительно поднимается вверх. Примером алгоритма с экспоненциальной сложностью может послужить рекурсивный расчет чисел Фибоначчи:"
   ]
  },
  {
   "cell_type": "code",
   "execution_count": null,
   "id": "4febbba8",
   "metadata": {},
   "outputs": [],
   "source": [
    "def fibonacci(n):\n",
    "    # Первое и второе числа Фибоначчи равны 1\n",
    "    if n <= 2:\n",
    "        return 1\n",
    "    return fibonacci(n - 1) + fibonacci(n - 2)\n",
    "\n",
    "fibonacci(10)"
   ]
  },
  {
   "cell_type": "markdown",
   "id": "f74ae07f",
   "metadata": {},
   "source": [
    "## Квадратичная $О(n^2)$\n",
    "\n",
    "Оценка алгоритма в $О(n^2)$ будет у алгоритма, который для каждого элемента множества перебирает все остальные элементы множества. Таковым, например, является **пузырьковая сортировка**.\n",
    "\n",
    "![Изображение не найдено](https://habrastorage.org/getpro/habr/upload_files/132/1a8/c2d/1321a8c2d653c5b4fdca906baff445a5.gif)"
   ]
  },
  {
   "cell_type": "code",
   "execution_count": null,
   "id": "ee0fef56",
   "metadata": {},
   "outputs": [],
   "source": [
    "def bubble_sort(nums):\n",
    "\n",
    "    # Устанавливаем swapped в True, чтобы цикл запустился хотя бы один раз\n",
    "    swapped = True\n",
    "\n",
    "    while swapped:\n",
    "        swapped = False\n",
    "\n",
    "        # Идем циклом по индексам наших элементов\n",
    "        for i in range(len(nums) - 1):\n",
    "\n",
    "            # Если текущий элемент слева больше своего элемента справа\n",
    "            if nums[i] > nums[i + 1]:\n",
    "\n",
    "                # Меняем элементы местами\n",
    "                nums[i], nums[i + 1] = nums[i + 1], nums[i]\n",
    "\n",
    "                # Устанавливаем swapped в True для следующей итерации\n",
    "                swapped = True\n",
    "\n",
    "                # По окончании первого прогона цикла for, самый большой элемент \"всплывет\" наверх\n",
    "\n",
    "# Проверяем, что оно работает\n",
    "random_list_of_nums = [9, 5, 2, 1, 8, 4, 3, 7, 6]\n",
    "bubble_sort(random_list_of_nums)\n",
    "print(random_list_of_nums)"
   ]
  },
  {
   "cell_type": "markdown",
   "id": "9d7f444a",
   "metadata": {},
   "source": [
    "Алгоритм сортировки списка вставкой"
   ]
  },
  {
   "cell_type": "code",
   "execution_count": null,
   "id": "d22c0880",
   "metadata": {},
   "outputs": [],
   "source": [
    "lst = [1, 26, 3, 24, 16, 17, 30, 18, 27, 28]\n",
    "n = len(lst)\n",
    "for i in range(1, n):\n",
    "    x = lst[i]\n",
    "    j = i - 1\n",
    "    while j > -1 and lst[j] > x:\n",
    "        lst[j + 1] = lst[j]\n",
    "        j -= 1\n",
    "\n",
    "    lst[j + 1] = x\n",
    "\n",
    "print(lst)"
   ]
  },
  {
   "cell_type": "markdown",
   "id": "1a3f4d20",
   "metadata": {},
   "source": [
    "## Логарифмическая $О(log(n))$\n",
    "\n",
    "Оценку $О(log(n))$ чаще всего имеют алгоритмы, которые на каждом шаге работы с данными уменьшают размер этих данных в разы. \n",
    "\n",
    "Классический пример логарифмического алгоритма — **бинарный поиск**\n"
   ]
  },
  {
   "cell_type": "code",
   "execution_count": null,
   "id": "bd15131d",
   "metadata": {},
   "outputs": [],
   "source": [
    "lst = [1, 3, 16, 17, 24, 26, 27, 28, 30]\n",
    "\n",
    "s = 17\n",
    "i = 0\n",
    "j = len(lst) - 1\n",
    "while i <= j:\n",
    "    k = (i + j) // 2\n",
    "    if lst[k] > s:\n",
    "        j = k - 1\n",
    "    elif lst[k] < s:\n",
    "        i = k + 1\n",
    "    else:\n",
    "        break\n",
    "if i <= j:\n",
    "    print(k)\n",
    "else:\n",
    "    print(\"Число не найдено\")"
   ]
  },
  {
   "cell_type": "markdown",
   "id": "7b476f1f",
   "metadata": {},
   "source": [
    "Получается, что в алгоритме бинарного поиска мы каждый раз будем делить наше множество пополам, пока не останется один элемент. Значит, функция, которая будет описывать оценку нашего алгоритма, должна показывать, сколько раз число $n$, которое описывает размер наших данных, можно поделить на 2, или наоборот — в какую степень надо возвести 2, чтобы получилось наше число. Это и есть определение логарифма $log(n)$. "
   ]
  },
  {
   "cell_type": "markdown",
   "id": "3b92fc82",
   "metadata": {},
   "source": [
    "## Линейно-логарифмическая $О(n * log(n))$\n",
    "\n",
    "Яркий пример такого алгоритма — **быстрая сортировка**. В этом алгоритме мы сначала разбиваем все элементы на пары (логарифмическая часть), а затем отсортированные пары последовательно соединяем (линейная часть). \n",
    "\n",
    "**Алгоритм с оценкой $О(n * log(n))$ считается самым быстрым решением задачи сортировки в общем случае.**\n",
    "\n",
    "![Изображение не найдено](https://habrastorage.org/getpro/habr/upload_files/0a9/afd/372/0a9afd372156de5806bd87f93c875834.gif)\n"
   ]
  },
  {
   "cell_type": "code",
   "execution_count": null,
   "id": "08df353c",
   "metadata": {},
   "outputs": [],
   "source": [
    "import random\n",
    "def quicksort(nums):\n",
    "\n",
    "    if len(nums) <= 1:\n",
    "        return nums\n",
    "    else:\n",
    "\n",
    "        q = random.choice(nums)  # Генерирует случайную выборку из заданного одномерного списка.\n",
    "        s_nums = []\n",
    "        m_nums = []\n",
    "        e_nums = []\n",
    "\n",
    "    for n in nums:\n",
    "        if n < q:\n",
    "            s_nums.append(n)\n",
    "        elif n > q:\n",
    "            m_nums.append(n)\n",
    "        else:\n",
    "            e_nums.append(n)\n",
    "\n",
    "    return quicksort(s_nums) + e_nums + quicksort(m_nums)\n",
    "\n",
    "lst = [1, 26, 3, 24, 16, 17, 30, 18, 27, 28]\n",
    "print(quicksort(lst))"
   ]
  },
  {
   "cell_type": "markdown",
   "id": "9cbb19a8",
   "metadata": {},
   "source": [
    "Сортировка слиянием\n",
    "![Изображение не найдено](https://habrastorage.org/getpro/habr/upload_files/21f/1a3/ec0/21f1a3ec016004112fbb9180f76067dd.gif)"
   ]
  },
  {
   "cell_type": "code",
   "execution_count": null,
   "id": "83ed80c3",
   "metadata": {},
   "outputs": [],
   "source": [
    "def merge(le, ri):\n",
    "    i, j = 0, 0\n",
    "    res = []\n",
    "    while i < len(le) and j < len(ri):\n",
    "        if le[i] <= ri[i]:\n",
    "            res.append(le[i])\n",
    "            i += 1\n",
    "        else:\n",
    "            res.append(ri[j])\n",
    "            j += 1\n",
    "    res += le[i:] + ri[j:]\n",
    "    return res\n",
    "\n",
    "def merge_sort(s):\n",
    "    if len(s) < 2: return s\n",
    "    else:\n",
    "        ln = len(s) // 2\n",
    "        left = merge_sort(s[:ln])\n",
    "        right = merge_sort(s[ln:])\n",
    "        return merge(left, right)\n",
    "\n",
    "lst = [1, 26, 3, 24, 16, 17, 30, 18, 27, 28]\n",
    "print(merge_sort(lst))"
   ]
  },
  {
   "cell_type": "markdown",
   "id": "ff3cc041",
   "metadata": {},
   "source": [
    "Сложность алгоритма `сортировки подсчетом` оценивается как **O(n + k)**, где n - это количество элементов в списке, а k - это количество уникальных элементов в списке."
   ]
  },
  {
   "cell_type": "code",
   "execution_count": null,
   "id": "66fd2bd8",
   "metadata": {},
   "outputs": [],
   "source": [
    "lst = [1, 3, 16, 17, 24, 24, 26, 27, 28, 30]\n",
    "lst_ancillary = [0] * (max(lst) + 1)\n",
    "for i in range(len(lst)):\n",
    "    lst_ancillary[lst[i]] += 1\n",
    "\n",
    "lst_new = []\n",
    "for i in range(max(lst) + 1):\n",
    "    for j in range(lst_ancillary[i]):\n",
    "        lst_new.append(i)\n",
    "\n",
    "print(lst_new)\n",
    "print(lst_ancillary)"
   ]
  },
  {
   "cell_type": "markdown",
   "id": "637efb4b",
   "metadata": {
    "id": "aeCztTKUEUMg"
   },
   "source": [
    "# Библиотеки и модули\n",
    "\n",
    "Если несколько функций позволяют решать схожие задачи, то их объединяют в **модули**.  Например, модуль `math` объединяет в себе математические функции , модуль `string` предназначен для работы со строками, модуль `random` предлагает функции для генерации псевдослучайных чисел.  \n",
    "\n",
    "Эти модули и многие другие объединены в **Стандартную библиотеку Python**. Эта библиотека поставляется в составе Python, ее не нужно отдельно скачивать и устанавливать. Библиотека и входящие в нее модули описана в документации: https://docs.python.org/3/library/.\n",
    "\n",
    "\n",
    "Рассмотрим модули Стандартной библиотеки Python. "
   ]
  },
  {
   "cell_type": "markdown",
   "id": "1c922908",
   "metadata": {
    "id": "fKNEhWQKEUMk"
   },
   "source": [
    "## Пример использования модуля Стандартной библиотеки Python\n",
    "\n",
    "Воспользуемся функцией `sqrt()` из модуля  `math`. Эта функция как раз вычисляет квадратный корень, попробуем ее вызвать."
   ]
  },
  {
   "cell_type": "code",
   "execution_count": null,
   "id": "4d7fc265",
   "metadata": {
    "id": "Y2qpyo4kEUMl",
    "outputId": "bceae8e7-ae5f-4a47-a501-ae88c1e91c00"
   },
   "outputs": [],
   "source": [
    "sqrt(16)  # Вызвов функцию sqrt() из модуля math"
   ]
  },
  {
   "cell_type": "markdown",
   "id": "b49cd41d",
   "metadata": {
    "id": "a3ap8pGHEUMn"
   },
   "source": [
    "Не получилось. Необходимо импортировать модуль"
   ]
  },
  {
   "cell_type": "code",
   "execution_count": null,
   "id": "def6603d",
   "metadata": {
    "id": "XieNCrq9EUMn"
   },
   "outputs": [],
   "source": [
    "import math  # Импортируем модуль math"
   ]
  },
  {
   "cell_type": "code",
   "execution_count": null,
   "id": "31cb3cd3",
   "metadata": {
    "id": "cwYsJhZJEUMo",
    "outputId": "6406f594-59e6-488a-a8d5-e52214ac65b6"
   },
   "outputs": [],
   "source": [
    "sqrt(16)  # Снова пытаемся вызвать функцию sqrt() из модуля math, предварительно его импортировав"
   ]
  },
  {
   "cell_type": "markdown",
   "id": "ecbe7107",
   "metadata": {
    "id": "igtDQnoFEUMo"
   },
   "source": [
    " Необходимо выполнить следующее: `<модуль>.<функция()>`."
   ]
  },
  {
   "cell_type": "code",
   "execution_count": null,
   "id": "6efe8802",
   "metadata": {
    "id": "85Yb61feEUMp",
    "outputId": "9c373c1c-94cc-4891-8ad1-aa734b2eccc6"
   },
   "outputs": [],
   "source": [
    "math.sqrt(16)  # снова пытаемся вызвать функцию sqrt(), указав, что это функция из модуля math"
   ]
  },
  {
   "cell_type": "code",
   "execution_count": null,
   "id": "1e47bc91",
   "metadata": {},
   "outputs": [],
   "source": [
    "math.__dict__"
   ]
  },
  {
   "cell_type": "markdown",
   "id": "b32c1673",
   "metadata": {
    "id": "O_RfnljHEUMq"
   },
   "source": [
    "# Импорт отдельных компонент модуля\n",
    "\n",
    "Писать каждый раз название модуля, точку, название функции не всегда удобно. Можно явно указать, что именно необходимо импортировать из модуля."
   ]
  },
  {
   "cell_type": "code",
   "execution_count": null,
   "id": "dcb0b031",
   "metadata": {
    "id": "jb8XgX_0EUMq"
   },
   "outputs": [],
   "source": [
    "from random import randint, uniform  # Импортируем две функции из модуля random"
   ]
  },
  {
   "cell_type": "markdown",
   "id": "f059758c",
   "metadata": {
    "id": "ACVfRQPyEUMr"
   },
   "source": [
    "Чтобы узнать, что делают эти функции и какие аргументы им нужно подавать, можно посмотреть документацию или воспользоваться функцией `help()`:"
   ]
  },
  {
   "cell_type": "code",
   "execution_count": null,
   "id": "b543d23f",
   "metadata": {
    "id": "47l6FMnLEUMr",
    "outputId": "4bb92cc1-2559-4b59-aaaa-268acdf66256"
   },
   "outputs": [],
   "source": [
    "help(randint)"
   ]
  },
  {
   "cell_type": "code",
   "execution_count": null,
   "id": "15bc5b30",
   "metadata": {},
   "outputs": [],
   "source": [
    "?randint"
   ]
  },
  {
   "cell_type": "code",
   "execution_count": null,
   "id": "e8365136",
   "metadata": {},
   "outputs": [],
   "source": [
    "help(uniform)"
   ]
  },
  {
   "cell_type": "code",
   "execution_count": null,
   "id": "35fb93f8",
   "metadata": {
    "id": "kjuUZ5w8EUMr",
    "outputId": "fa04c1f2-c2e8-4599-d825-902fc7b97779"
   },
   "outputs": [],
   "source": [
    "# Вызываем функции по 5 раз\n",
    "for i in range(5):\n",
    "    print(randint(100, 200))\n",
    "    print(uniform(100, 200))"
   ]
  },
  {
   "cell_type": "code",
   "execution_count": null,
   "id": "62f24801",
   "metadata": {},
   "outputs": [],
   "source": [
    "import random\n",
    "help(random)"
   ]
  },
  {
   "cell_type": "markdown",
   "id": "13ce5a42",
   "metadata": {
    "id": "ScXYOliPEUMs"
   },
   "source": [
    "Получили по 5 разных псевдослучайных чисел для каждой функции в указанном диапазоне — все получилось без указания модуля через точку.\n"
   ]
  },
  {
   "cell_type": "markdown",
   "id": "8bea4d34",
   "metadata": {
    "id": "-fCPbnElEUMs"
   },
   "source": [
    "Если необходимо импортировать много функций и переменных из одного модуля, то можно импортировать всё сразу, используя звездочку. Тогда указывать модуль через точку тоже не нужно."
   ]
  },
  {
   "cell_type": "code",
   "execution_count": null,
   "id": "77979d1d",
   "metadata": {
    "id": "zWCFJYVzEUMs"
   },
   "outputs": [],
   "source": [
    "# Импортируем всё из модуля math\n",
    "from math import *"
   ]
  },
  {
   "cell_type": "code",
   "execution_count": null,
   "id": "7f38b220",
   "metadata": {},
   "outputs": [],
   "source": [
    "sqrt(16)"
   ]
  },
  {
   "cell_type": "markdown",
   "id": "1ec0f215",
   "metadata": {
    "id": "Wzd9QvdnEUMt"
   },
   "source": [
    "Получили число с высокой точностью, так как в модуле `math` содержится переменная `pi` с большим количеством знаков после запятой (точки):"
   ]
  },
  {
   "cell_type": "code",
   "execution_count": null,
   "id": "afa1db9c",
   "metadata": {},
   "outputs": [],
   "source": [
    "print(pi)"
   ]
  },
  {
   "cell_type": "markdown",
   "id": "4693f89d",
   "metadata": {
    "id": "SKuYIiB6EUMu"
   },
   "source": [
    "Допустим, потом мы проводим еще какие-то вычисления, где не нужна такая точность. Мы создаем свою переменную `pi`:"
   ]
  },
  {
   "cell_type": "code",
   "execution_count": null,
   "id": "dbd2a3f9",
   "metadata": {
    "id": "BoCfskzKEUMu"
   },
   "outputs": [],
   "source": [
    "pi = 3.14"
   ]
  },
  {
   "cell_type": "markdown",
   "id": "16036c6d",
   "metadata": {
    "id": "vaPe03kGEUMu"
   },
   "source": [
    "Переприсвоили значение переменной pi"
   ]
  },
  {
   "cell_type": "code",
   "execution_count": null,
   "id": "4d0b2e30",
   "metadata": {
    "id": "r6KuGL0QEUMu",
    "outputId": "c431994c-7bbb-4f75-9000-c83b37c0422d"
   },
   "outputs": [],
   "source": [
    "print(pi)"
   ]
  },
  {
   "cell_type": "markdown",
   "id": "bbb03d00",
   "metadata": {
    "id": "ZnReGLS6EUMv"
   },
   "source": [
    "Если бы мы импортировали `math` и записывали бы через точку, значение `math.pi` не изменилось бы:"
   ]
  },
  {
   "cell_type": "code",
   "execution_count": null,
   "id": "5789cf0a",
   "metadata": {
    "id": "w1nXqmiiEUMv",
    "outputId": "a6d9e925-6241-4eb9-d556-3aca586876da"
   },
   "outputs": [],
   "source": [
    "import math\n",
    "\n",
    "pi = 3.14\n",
    "print(pi, math.pi)"
   ]
  },
  {
   "cell_type": "markdown",
   "id": "0294b419",
   "metadata": {
    "id": "nF7F8X2IEUMv"
   },
   "source": [
    "# Импорт под псевдонимом\n",
    "\n",
    "Чтобы избежать таких сложностей, лучше писать название модуля. Но можно воспользоваться следующим упрощением: дать модулю псевдоним. Посмотрим на примере модуля `string`, предназначенного для работы со строками. Допустим, мы решили, что целиком слово `string` писать слишком долго, и хотим писать просто `s`. Посмотрим, как это можно сделать."
   ]
  },
  {
   "cell_type": "code",
   "execution_count": null,
   "id": "f9255d47",
   "metadata": {
    "id": "OBUja_geEUMv",
    "outputId": "05933234-9378-4a6b-c8c1-b40873556ac9"
   },
   "outputs": [],
   "source": [
    "import string as s    # Даем псевдоним модулю string\n",
    "print(s.punctuation)  # Печатаем строку со знаками препинания, хранящуюся в модуле"
   ]
  },
  {
   "cell_type": "markdown",
   "id": "a7300abb",
   "metadata": {
    "id": "IzB9YC1dEUMw"
   },
   "source": [
    "Теперь мы вместо `string.punctuation` будем писать `s.punctuation`, а `string.punctuation` не сработает."
   ]
  },
  {
   "cell_type": "code",
   "execution_count": null,
   "id": "97f8dbc0",
   "metadata": {
    "id": "ZypEiwekEUMw",
    "outputId": "35482cb6-d4e4-4ac9-e57a-ace034713d1e"
   },
   "outputs": [],
   "source": [
    "print(string.punctuation)"
   ]
  },
  {
   "cell_type": "code",
   "execution_count": null,
   "id": "1f896846",
   "metadata": {},
   "outputs": [],
   "source": [
    "s = 10"
   ]
  },
  {
   "cell_type": "code",
   "execution_count": null,
   "id": "1ab1c9bd",
   "metadata": {},
   "outputs": [],
   "source": [
    "s.punctuation"
   ]
  },
  {
   "cell_type": "markdown",
   "id": "c25d0159",
   "metadata": {
    "id": "mJ4UcF26EUMw"
   },
   "source": [
    "Наконец, если вы совсем не готовы писать название модуля и даже слово `punctuation` кажется вам тоже слишком длинным, можно и ему дать псевдоним:"
   ]
  },
  {
   "cell_type": "code",
   "execution_count": null,
   "id": "270f5f07",
   "metadata": {
    "id": "pS-HCRnmEUMw"
   },
   "outputs": [],
   "source": [
    "from string import punctuation as punc"
   ]
  },
  {
   "cell_type": "code",
   "execution_count": null,
   "id": "a6c018ab",
   "metadata": {
    "id": "F8DxWLCCEUMw",
    "outputId": "33c0f382-413d-45aa-deff-c1158640c7fa"
   },
   "outputs": [],
   "source": [
    "print(punc)"
   ]
  },
  {
   "cell_type": "markdown",
   "id": "b60a0671",
   "metadata": {},
   "source": [
    "## math"
   ]
  },
  {
   "cell_type": "code",
   "execution_count": null,
   "id": "21f670ed",
   "metadata": {},
   "outputs": [],
   "source": [
    "# Наибольший общий делитель\n",
    "math.gcd(34,17)"
   ]
  },
  {
   "cell_type": "code",
   "execution_count": null,
   "id": "c812f6fa",
   "metadata": {},
   "outputs": [],
   "source": [
    "# Факториал\n",
    "math.factorial(5)"
   ]
  },
  {
   "cell_type": "code",
   "execution_count": null,
   "id": "0197f306",
   "metadata": {},
   "outputs": [],
   "source": [
    "# Округление вверх\n",
    "math.ceil(23.013)"
   ]
  },
  {
   "cell_type": "code",
   "execution_count": null,
   "id": "4eb6dbd3",
   "metadata": {},
   "outputs": [],
   "source": [
    "# Округление вниз\n",
    "math.floor(23.013)"
   ]
  },
  {
   "cell_type": "markdown",
   "id": "f3a25ce4",
   "metadata": {},
   "source": [
    "Интересный факт - округление \"ломается\", при работе с некоторыми числами, у которых много значений после запятой. Нагляднее на примерах: "
   ]
  },
  {
   "cell_type": "code",
   "execution_count": null,
   "id": "861f59be",
   "metadata": {},
   "outputs": [],
   "source": [
    "from math import ceil, floor\n",
    "\n",
    "print(ceil(10.0000000000000009))\n",
    "print(ceil(10.0000000000000008))\n",
    "\n",
    "print(floor(10.9999999999999992))\n",
    "print(floor(10.9999999999999991))"
   ]
  },
  {
   "cell_type": "code",
   "execution_count": null,
   "id": "1a9f603a",
   "metadata": {},
   "outputs": [],
   "source": [
    "# Возведение в степень\n",
    "math.pow(2,5)"
   ]
  },
  {
   "cell_type": "markdown",
   "id": "f8630e60",
   "metadata": {},
   "source": [
    "## random"
   ]
  },
  {
   "cell_type": "code",
   "execution_count": null,
   "id": "d21d8f12",
   "metadata": {},
   "outputs": [],
   "source": [
    "# Случайное число от 0 до 1\n",
    "random.random()"
   ]
  },
  {
   "cell_type": "code",
   "execution_count": null,
   "id": "bb1136f0",
   "metadata": {},
   "outputs": [],
   "source": [
    "# Случайное число из заданного диапазона\n",
    "random.randint(1, 100)"
   ]
  },
  {
   "cell_type": "code",
   "execution_count": null,
   "id": "05778fbd",
   "metadata": {},
   "outputs": [],
   "source": [
    "# Случайное число с плавающей точкой\n",
    "random.uniform(1, 100)"
   ]
  },
  {
   "cell_type": "code",
   "execution_count": null,
   "id": "6b8004f4",
   "metadata": {},
   "outputs": [],
   "source": [
    "# Случайный элемент из непустой последовательности, например, из списка\n",
    "lst = [1, 26, 3, 24, 16, 17, 30, 17, 27, 28]\n",
    "random.choice(lst)"
   ]
  },
  {
   "cell_type": "code",
   "execution_count": null,
   "id": "6d63794b",
   "metadata": {},
   "outputs": [],
   "source": [
    "# Перемешать последовательность\n",
    "random.shuffle(lst)\n",
    "lst"
   ]
  },
  {
   "cell_type": "code",
   "execution_count": null,
   "id": "b9c610b6",
   "metadata": {},
   "outputs": [],
   "source": [
    "# Список заданной длины из последовательности\n",
    "random.sample(lst, 5)"
   ]
  },
  {
   "cell_type": "markdown",
   "id": "eee120a0",
   "metadata": {},
   "source": [
    "## datetime"
   ]
  },
  {
   "cell_type": "code",
   "execution_count": null,
   "id": "77e99fc5",
   "metadata": {},
   "outputs": [],
   "source": [
    "import datetime"
   ]
  },
  {
   "cell_type": "code",
   "execution_count": null,
   "id": "d47e7c38",
   "metadata": {},
   "outputs": [],
   "source": [
    "today = datetime.date.today()  # Текущая дата\n",
    "print(today)\n",
    "today = datetime.datetime.now()\n",
    "print(today)"
   ]
  },
  {
   "cell_type": "code",
   "execution_count": null,
   "id": "c5fb0a8f",
   "metadata": {},
   "outputs": [],
   "source": [
    "day = datetime.date(2024, 1, 16)\n",
    "print(day)"
   ]
  },
  {
   "cell_type": "code",
   "execution_count": null,
   "id": "569747b4",
   "metadata": {},
   "outputs": [],
   "source": [
    "import time\n",
    "\n",
    "sec = time.time()\n",
    "print(sec)\n",
    "print(datetime.datetime.fromtimestamp(sec))"
   ]
  },
  {
   "cell_type": "code",
   "execution_count": null,
   "id": "3c92ece4",
   "metadata": {},
   "outputs": [],
   "source": [
    "# Задать время\n",
    "time = datetime.time()\n",
    "print(time)"
   ]
  },
  {
   "cell_type": "code",
   "execution_count": null,
   "id": "65662ff5",
   "metadata": {},
   "outputs": [],
   "source": [
    "time = datetime.time(13)\n",
    "print(time)"
   ]
  },
  {
   "cell_type": "code",
   "execution_count": null,
   "id": "b0f86c82",
   "metadata": {},
   "outputs": [],
   "source": [
    "time = datetime.time(13, 24)\n",
    "print(time)"
   ]
  },
  {
   "cell_type": "code",
   "execution_count": null,
   "id": "d21d1001",
   "metadata": {},
   "outputs": [],
   "source": [
    "time = datetime.time(13, 24, 57)\n",
    "print(time)"
   ]
  },
  {
   "cell_type": "code",
   "execution_count": null,
   "id": "42e983ce",
   "metadata": {},
   "outputs": [],
   "source": [
    "# Получение текущего времени\n",
    "date_time = datetime.datetime.today()\n",
    "print(date_time)\n",
    "\n",
    "date_time = datetime.datetime.now()\n",
    "print(date_time)"
   ]
  },
  {
   "cell_type": "code",
   "execution_count": null,
   "id": "78722c9d",
   "metadata": {},
   "outputs": [],
   "source": [
    "date_str = \"16 February 2024\"\n",
    "date_format = \"%d %B %Y\"\n",
    "\n",
    "print(datetime.datetime.strptime(date_str, date_format))\n",
    "\n",
    "date_str = \"16 Feb 2024\"\n",
    "date_format = \"%d %b %Y\"\n",
    "\n",
    "print(datetime.datetime.strptime(date_str, date_format))"
   ]
  },
  {
   "cell_type": "code",
   "execution_count": null,
   "id": "5f6bd1a9",
   "metadata": {},
   "outputs": [],
   "source": [
    "d1 = datetime.datetime.strptime(\"01.01.2024 13:16\", \"%d.%m.%Y %H:%M\")\n",
    "print(d1)\n",
    "d2 = datetime.datetime.strptime(\"2024/03/03 17:18\", \"%Y/%m/%d %H:%M\")\n",
    "print(d2)"
   ]
  },
  {
   "cell_type": "code",
   "execution_count": null,
   "id": "51b8fb77",
   "metadata": {},
   "outputs": [],
   "source": [
    "d2 - d1"
   ]
  },
  {
   "cell_type": "code",
   "execution_count": null,
   "id": "e3993e79",
   "metadata": {},
   "outputs": [],
   "source": [
    "(d2 - d1).days"
   ]
  },
  {
   "cell_type": "code",
   "execution_count": null,
   "id": "5e1cfe4f",
   "metadata": {},
   "outputs": [],
   "source": [
    "(d2 - d1).seconds"
   ]
  },
  {
   "cell_type": "code",
   "execution_count": null,
   "id": "cbaf3653",
   "metadata": {},
   "outputs": [],
   "source": [
    "now = datetime.datetime.now()\n",
    "date_str = now.strftime(\"%m/%d/%y %H:%M:%S\")\n",
    "print(date_str)"
   ]
  },
  {
   "cell_type": "code",
   "execution_count": null,
   "id": "64bc5cd2",
   "metadata": {},
   "outputs": [],
   "source": [
    "datetime.datetime.now() - datetime.timedelta(days=5)"
   ]
  },
  {
   "cell_type": "code",
   "execution_count": null,
   "id": "08dc2aa6",
   "metadata": {},
   "outputs": [],
   "source": [
    "datetime.datetime.now() + datetime.timedelta(weeks=5)"
   ]
  },
  {
   "cell_type": "code",
   "execution_count": null,
   "id": "49bffd5d",
   "metadata": {},
   "outputs": [],
   "source": [
    "# День недели\n",
    "date_time = datetime.datetime.today()\n",
    "date_time.weekday()"
   ]
  },
  {
   "cell_type": "markdown",
   "id": "1b6d2bda",
   "metadata": {},
   "source": [
    "## pprint"
   ]
  },
  {
   "cell_type": "code",
   "execution_count": null,
   "id": "241f6e1e",
   "metadata": {},
   "outputs": [],
   "source": [
    "import pprint\n",
    "data = {\n",
    "    \"name\": \"John\",\n",
    "    \"age\": 30,\n",
    "    \"city\": \"New York\",\n",
    "    \"hobbies\": [\"reading\", \"playing guitar\", \"travelling\"],\n",
    "}\n",
    "\n",
    "pprint.pprint(data)\n",
    "print(data)"
   ]
  },
  {
   "cell_type": "markdown",
   "id": "f1b73128",
   "metadata": {},
   "source": [
    "Функция pprint предоставляет несколько параметров для настройки вывода данных. Например, можно установить ширину строки вывода и количество отступов для вложенных структур данных."
   ]
  },
  {
   "cell_type": "code",
   "execution_count": null,
   "id": "e55a97fb",
   "metadata": {},
   "outputs": [],
   "source": [
    "pprint.pprint(data, width=50, indent=4)"
   ]
  },
  {
   "cell_type": "code",
   "execution_count": null,
   "id": "5a0b2ed6",
   "metadata": {},
   "outputs": [],
   "source": [
    "pprint.pprint(data, depth=1)  # Указать глубину"
   ]
  },
  {
   "cell_type": "code",
   "execution_count": null,
   "id": "acdab7a8",
   "metadata": {},
   "outputs": [],
   "source": [
    "file = [\"file_00.csv\", \"file_01.csv\", \"file_02.csv\",\n",
    "        \"file_03.csv\", \"file_04.csv\", \"file_05.csv\",\n",
    "        \"file_06.csv\", \"file_07.csv\", \"file_08.csv\",\n",
    "        \"file_09.csv\", \"file_10.csv\", \"file_11.csv\",\n",
    "        \"file_12.csv\", \"file_13.csv\", \"file_14.csv\",\n",
    "        \"file_15.csv\", \"file_16.csv\", \"file_17.csv\",]"
   ]
  },
  {
   "cell_type": "code",
   "execution_count": null,
   "id": "edcb8827",
   "metadata": {},
   "outputs": [],
   "source": [
    "file"
   ]
  },
  {
   "cell_type": "code",
   "execution_count": null,
   "id": "981944d0",
   "metadata": {},
   "outputs": [],
   "source": [
    "print(file)"
   ]
  },
  {
   "cell_type": "code",
   "execution_count": null,
   "id": "813d9201",
   "metadata": {},
   "outputs": [],
   "source": [
    "pprint.pprint(file)"
   ]
  },
  {
   "cell_type": "markdown",
   "id": "28b6457c",
   "metadata": {},
   "source": [
    "## timeit\n",
    "\n",
    "Этот модуль предназначен для оценки производительности небольших фрагментов кода. \n",
    "\n",
    "Для этого необходимо импортировать саму библиотеку `timeit` и вызвать из нее метод `.timeit()`, передав ему название нашей функции и количество необходимых повторений.\n",
    "\n",
    "Рассмотрим следующую задачу конкатенации строк: Составить строку из чисел от 1 до 100, отделив числа друг от друга запятой."
   ]
  },
  {
   "cell_type": "code",
   "execution_count": null,
   "id": "a0bb2469",
   "metadata": {},
   "outputs": [],
   "source": [
    "import timeit\n",
    "\n",
    "# Алгоритм 1\n",
    "def concat():\n",
    "    s = \"\"\n",
    "    for i in range(100):\n",
    "        s += str(i) + \",\"\n",
    "    s += \"100\"\n",
    "\n",
    "# Алгоритм 2\n",
    "def join():\n",
    "    s = \",\".join(map(str, range(101)))\n",
    "\n",
    "print(timeit.timeit(concat, number=1000))\n",
    "print(timeit.timeit(join, number=1000))"
   ]
  },
  {
   "cell_type": "markdown",
   "id": "c381f637",
   "metadata": {},
   "source": [
    "# Работа с файлами\n",
    "\n",
    "Рассмотрим способы открытия, чтения и записи простых файлов с использования Python. \n",
    "\n",
    "Открывать файлы можно двумя способами. С помощью `open/close` и с помощью конструкции `with ... as`\n",
    "\n",
    "Синтаксис следующий:\n",
    "\n",
    "`f = open(file_name, access_mode)`\n",
    "\n",
    "Где, `file_name` = имя открываемого файла, а `access_mode` = режим открытия файла.\n",
    "\n",
    "Он может быть: для чтения, записи и т. д. По умолчанию используется режим чтения (r), если другое не указано. Далее полный список режимов открытия файла:\n",
    "\n",
    "- `r` Только для чтения.\n",
    "- `w` Только для записи. Создаст новый файл, если не найдет с указанным именем.\n",
    "- `rb` Только для чтения (бинарный).\n",
    "- `wb` Только для записи (бинарный). Создаст новый файл, если не найдет с указанным именем.\n",
    "- `r+` Для чтения и записи.\n",
    "- `rb+` Для чтения и записи (бинарный).\n",
    "- `w+` Для чтения и записи. Создаст новый файл для записи, если не найдет с указанным именем.\n",
    "- `wb+` Для чтения и записи (бинарный). Создаст новый файл для записи, если не найдет с указанным именем.\n",
    "- `a` Откроет для добавления нового содержимого. Создаст новый файл для записи, если не найдет с указанным именем.\n",
    "- `a+` Откроет для добавления нового содержимого. Создаст новый файл для чтения записи, если не найдет с указанным именем.\n",
    "- `ab` Откроет для добавления нового содержимого (бинарный). Создаст новый файл для записи, если не найдет с указанным именем.\n",
    "- `ab+` Откроет для добавления нового содержимого (бинарный). Создаст новый файл для чтения записи, если не найдет с указанным именем.\n",
    "\n",
    "Больше информации в статье [по ссылке](https://pythonru.com/osnovy/fajly-v-python-vvod-vyvod)\n",
    "\n",
    "Откроем и запишем строку в файл txt с использованием `open/close`. Файла с таким именем нет, Python сам создаст его. Использовать будем относительный путь, т.е. файл txt будет создан в той же директории, где находится наш файл Python."
   ]
  },
  {
   "cell_type": "code",
   "execution_count": null,
   "id": "8596f3ec",
   "metadata": {},
   "outputs": [],
   "source": [
    "f = open(\"file.txt\", \"w\")\n",
    "f.write(\"Hey, Bim\")\n",
    "f.close()"
   ]
  },
  {
   "cell_type": "code",
   "execution_count": null,
   "id": "aed733d6",
   "metadata": {},
   "outputs": [],
   "source": [
    "#Узнаем в какой директории мы находимся\n",
    "\n",
    "import os\n",
    "os.getcwd()"
   ]
  },
  {
   "cell_type": "markdown",
   "id": "66858081",
   "metadata": {},
   "source": [
    "Абсолютный путь к файлу может выглядеть следующим образом"
   ]
  },
  {
   "cell_type": "code",
   "execution_count": null,
   "id": "e82792a5",
   "metadata": {},
   "outputs": [],
   "source": [
    "f = open(\"C:\\\\Users\\\\User\\\\Python_for_beginners\\\\Lect_13\\\\file.txt\", \"w\")\n",
    "f.write(\"Hey, Bim\")\n",
    "f.close()"
   ]
  },
  {
   "cell_type": "markdown",
   "id": "6824fed0",
   "metadata": {},
   "source": [
    "Запишем текст с использованием кириллицы. Для записи необходимо использовать только строковый тип, для этого явный тип int преобразуем в str"
   ]
  },
  {
   "cell_type": "code",
   "execution_count": null,
   "id": "2f28c049",
   "metadata": {},
   "outputs": [],
   "source": [
    "f = open(\"file.txt\", \"w\")\n",
    "f.write(\"Собаке Бим уже \" + str(5) + \" лет\")\n",
    "f.close()"
   ]
  },
  {
   "cell_type": "markdown",
   "id": "04df16b6",
   "metadata": {},
   "source": [
    "При открытии файла file.txt в Jupyter, получаем проблемы с кодировкой. Поведение также может зависеть от операционной системы и программы, в которой открывается файл - что корректно откроется в обычном блокноте Win, может не открыться в Jupyter Notebook или, например, корректно открыться в Jupyter Notebook, но в MS Excel увидим абракадабру.\n",
    "\n",
    "Поэтому, часто стоит указывать кодировку, особенно если в тексте есть кириллица:"
   ]
  },
  {
   "cell_type": "code",
   "execution_count": null,
   "id": "ee7678da",
   "metadata": {},
   "outputs": [],
   "source": [
    "f = open(\"file.txt\", \"w\", encoding='UTF-8')\n",
    "f.write(\"Собаке Бим уже \" + str(5) + \" лет\")\n",
    "f.close()"
   ]
  },
  {
   "cell_type": "markdown",
   "id": "f7b767d3",
   "metadata": {},
   "source": [
    "На самом глубоком уровне компьютер оперирует исключительно цифрами 0 и 1. Это так называемый [двоичный код](https://ru.wikipedia.org/wiki/Двоичный_код), а единички и нули называются битами, от \"binary digit\" — «двоичная цифра».\n",
    "\n",
    "Обычные, привычные нам числа в десятичной системе исчисления, закодированы с помощью двоичных чисел.\n",
    "\n",
    "Компьютер на самом деле не знает ничего о буквах, знаках пунктуации и прочих текстовых символах. Все эти символы так же закодированы числами. В этом заключается суть `кодировок`.\n",
    "\n",
    "Во время своей работы, программы используют кодировки для преобразования чисел в символы и наоборот. Причём сама программа не имеет представления о смысле этих символов.\n",
    "\n",
    "Подобные таблицы, в которых сопоставляются буквы и числа, называются кодировками. Кроме букв алфавита, в таблицы кодировок входят знаки препинания и другие полезные символы. Вы наверняка сталкивались с кодировками, например, [ASCII](https://ru.wikipedia.org/wiki/ASCII) или [UTF-8](https://ru.wikipedia.org/wiki/UTF-8).\n",
    "\n",
    "Разные кодировки содержат разное количество символов. Изначально небольших таблиц вроде ASCII было достаточно для большинства задач. Но в ней только латинские буквы, несколько простых символов вроде % и ? и специальные управляющие символы типа перевода строки.\n",
    "\n",
    "С распространением компьютеров, разным странам понадобились свои, более широкие таблицы. В том числе для кириллических букв, восточных иероглифов, арабской вязи, дополнительных математических и типографских символов, а впоследствии даже для эмодзи-смайликов.\n",
    "\n",
    "Сегодня в большинстве случаев используется один из вариантов [юникода](https://ru.wikipedia.org/wiki/Юникод), включающий в себя знаки почти всех письменных языков мира.\n",
    "\n",
    "В Python можно «запросить» и вывести на экран любой символ из кодировки ASCII, по его номеру. Для этого используется функция `chr()`. Например:"
   ]
  },
  {
   "cell_type": "code",
   "execution_count": null,
   "id": "926cd9ca",
   "metadata": {},
   "outputs": [],
   "source": [
    "print(chr(126))\n",
    "print(chr(94))\n",
    "print(chr(37))"
   ]
  },
  {
   "cell_type": "markdown",
   "id": "f8905097",
   "metadata": {},
   "source": [
    "Теперь воспользуемся конструкцией `with ... as` для открытия и записи файла"
   ]
  },
  {
   "cell_type": "code",
   "execution_count": null,
   "id": "7d29113d",
   "metadata": {},
   "outputs": [],
   "source": [
    "with open(\"file.txt\", \"w\", encoding='UTF-8') as f:\n",
    "    f.write(\"Сегодня теплее чем вчера\\n\")\n",
    "    f.write(\"Завтра обещают похолодание\")"
   ]
  },
  {
   "cell_type": "markdown",
   "id": "57a289ab",
   "metadata": {},
   "source": [
    "Попробуем записать список в файл"
   ]
  },
  {
   "cell_type": "code",
   "execution_count": null,
   "id": "c649ae1f",
   "metadata": {},
   "outputs": [],
   "source": [
    "lst = [\"Мама\", \"мыла\", \"раму\"]\n",
    "with open(\"file.txt\", \"w\", encoding='UTF-8') as f:\n",
    "    f.write(lst)"
   ]
  },
  {
   "cell_type": "markdown",
   "id": "8115957d",
   "metadata": {},
   "source": [
    "Получим ошибку. Для записи списка необходимо использовать writelines"
   ]
  },
  {
   "cell_type": "code",
   "execution_count": null,
   "id": "5444563c",
   "metadata": {},
   "outputs": [],
   "source": [
    "lst = [\"Мама \", \" мыла \", \" раму\", \"\\n\"]\n",
    "with open(\"file.txt\", \"w\", encoding='UTF-8') as f:\n",
    "    f.writelines(lst)"
   ]
  },
  {
   "cell_type": "markdown",
   "id": "6b218664",
   "metadata": {},
   "source": [
    "Ранее мы перезаписывали файл. Для добавление данных файл нужно сменить \"w\" на \"a\""
   ]
  },
  {
   "cell_type": "code",
   "execution_count": null,
   "id": "f57b3615",
   "metadata": {},
   "outputs": [],
   "source": [
    "lst = [\"Раму \", \" мыла \", \" мама\"]\n",
    "with open(\"file.txt\", \"a\", encoding='UTF-8') as f:\n",
    "    f.writelines(lst)"
   ]
  },
  {
   "cell_type": "markdown",
   "id": "1c5a5086",
   "metadata": {},
   "source": [
    "Создадим новый файл и запишем в него несколько строк:"
   ]
  },
  {
   "cell_type": "code",
   "execution_count": null,
   "id": "17249e23",
   "metadata": {},
   "outputs": [],
   "source": [
    "test_text = '''Этот файл\n",
    "состоит\n",
    "из\n",
    "\n",
    "нескольких строчек'''\n",
    "\n",
    "with open(\"file_r.txt\", \"w\", encoding='UTF-8') as f:\n",
    "    f.writelines(test_text)"
   ]
  },
  {
   "cell_type": "markdown",
   "id": "0895fd26",
   "metadata": {},
   "source": [
    "Откроем файл для чтения. Сменим \"a\" на \"r\". Для наглядности, выводить будем без использования print"
   ]
  },
  {
   "cell_type": "code",
   "execution_count": null,
   "id": "22c8a289",
   "metadata": {},
   "outputs": [],
   "source": [
    "with open(\"file_r.txt\", \"r\") as f:\n",
    "    st = f.read()\n",
    "st"
   ]
  },
  {
   "cell_type": "markdown",
   "id": "2a782e38",
   "metadata": {},
   "source": [
    "Получили набор символов. Добавим при открытии encoding='UTF-8'"
   ]
  },
  {
   "cell_type": "code",
   "execution_count": null,
   "id": "e1964bbb",
   "metadata": {},
   "outputs": [],
   "source": [
    "with open(\"file_r.txt\", \"r\", encoding='UTF-8') as f:\n",
    "    st = f.read()\n",
    "st"
   ]
  },
  {
   "cell_type": "markdown",
   "id": "d72f8bb3",
   "metadata": {},
   "source": [
    "Прочитаем первые 25 символов"
   ]
  },
  {
   "cell_type": "code",
   "execution_count": null,
   "id": "d392b8e6",
   "metadata": {},
   "outputs": [],
   "source": [
    "with open(\"file_r.txt\", \"r\", encoding='UTF-8') as f:\n",
    "    st = f.read(25)\n",
    "st"
   ]
  },
  {
   "cell_type": "markdown",
   "id": "97cc84ca",
   "metadata": {},
   "source": [
    "Прочитаем 1 строку"
   ]
  },
  {
   "cell_type": "code",
   "execution_count": null,
   "id": "24a5e395",
   "metadata": {},
   "outputs": [],
   "source": [
    "with open(\"file_r.txt\", \"r\", encoding='UTF-8') as f:\n",
    "    st = f.readline()\n",
    "st"
   ]
  },
  {
   "cell_type": "markdown",
   "id": "06412c89",
   "metadata": {},
   "source": [
    "Прочитаем первые две строчки, выведем только вторую"
   ]
  },
  {
   "cell_type": "code",
   "execution_count": null,
   "id": "1a726170",
   "metadata": {},
   "outputs": [],
   "source": [
    "with open(\"file_r.txt\", \"r\", encoding='UTF-8') as f:\n",
    "    st = f.readline()\n",
    "    st2 = f.readline()\n",
    "st2"
   ]
  },
  {
   "cell_type": "markdown",
   "id": "2f9eb38d",
   "metadata": {},
   "source": [
    "Считаем все строки"
   ]
  },
  {
   "cell_type": "code",
   "execution_count": null,
   "id": "ea123214",
   "metadata": {},
   "outputs": [],
   "source": [
    "with open(\"file_r.txt\", \"r\", encoding='UTF-8') as f:\n",
    "    st = f.readlines()\n",
    "st"
   ]
  },
  {
   "cell_type": "markdown",
   "id": "b9c7f102",
   "metadata": {},
   "source": [
    "Еще один способ считывание всего файла в одну переменную str"
   ]
  },
  {
   "cell_type": "code",
   "execution_count": null,
   "id": "71b0951e",
   "metadata": {},
   "outputs": [],
   "source": [
    "st = \"\"\n",
    "with open(\"file_r.txt\", \"r\", encoding='UTF-8') as f:\n",
    "    for s in f:\n",
    "        st += s\n",
    "st"
   ]
  },
  {
   "cell_type": "markdown",
   "id": "ce261765",
   "metadata": {},
   "source": [
    "Уберем перенос строк c использованием `strip()`"
   ]
  },
  {
   "cell_type": "code",
   "execution_count": null,
   "id": "08e24ebb",
   "metadata": {},
   "outputs": [],
   "source": [
    "st = \"\"\n",
    "with open(\"file_r.txt\", \"r\", encoding='UTF-8') as f:\n",
    "    for s in f:\n",
    "        st += s.strip() + \" \"\n",
    "st"
   ]
  },
  {
   "cell_type": "markdown",
   "id": "074859ff",
   "metadata": {},
   "source": [
    "Следующий пример работы - создадим частотный словарь сказки Аксакова Сергея Тимофеевича - Аленький цветочек.\n",
    "\n",
    "Считываем текст из файла в одну строковую переменную, удаляя пробельные символы по краям строки."
   ]
  },
  {
   "cell_type": "code",
   "execution_count": null,
   "id": "42b8a35e",
   "metadata": {},
   "outputs": [],
   "source": [
    "text = \"\"\n",
    "with open(\"_add_material_lesson_python\\\\Аксаков С. Т. - Аленький цветочек.txt\", \"r\", encoding='UTF-8') as f:\n",
    "    for s in f:\n",
    "        text += s.strip() + \" \"\n",
    "print(text[:100])"
   ]
  },
  {
   "cell_type": "markdown",
   "id": "44f1eb78",
   "metadata": {},
   "source": [
    "Чтобы создать словарь уникальных слов, сначала нужно получить список этих слов. Но при обычном разделении через split() они у нас будут с лишними символами: запятая, точка, восклицательный знак и т.д."
   ]
  },
  {
   "cell_type": "code",
   "execution_count": null,
   "id": "2d2b0f72",
   "metadata": {},
   "outputs": [],
   "source": [
    "words = text.split()   \n",
    "\n",
    "print(words[:100])"
   ]
  },
  {
   "cell_type": "markdown",
   "id": "b63d6197",
   "metadata": {},
   "source": [
    "Создадим список слов без посторонних списков и приведем все к одному регистру"
   ]
  },
  {
   "cell_type": "code",
   "execution_count": null,
   "id": "086adbba",
   "metadata": {},
   "outputs": [],
   "source": [
    "words_lst = []\n",
    "\n",
    "for st in words:\n",
    "    st_temp = st.lower().strip('.,;:!«»?—()\"') \n",
    "    if st_temp != '':\n",
    "        words_lst.append(st_temp)\n",
    "\n",
    "\n",
    "print(words_lst[:100]) "
   ]
  },
  {
   "cell_type": "markdown",
   "id": "724cfef8",
   "metadata": {},
   "source": [
    "Напишем функцию для создания словаря слов"
   ]
  },
  {
   "cell_type": "code",
   "execution_count": null,
   "id": "0ad6dd75",
   "metadata": {},
   "outputs": [],
   "source": [
    "def create_dict(lst_words): \n",
    "    dic = {}\n",
    "    for word in lst_words:\n",
    "        if word not in dic:\n",
    "            dic[word] = 1\n",
    "        else:\n",
    "            dic[word] += 1\n",
    "    return dic     "
   ]
  },
  {
   "cell_type": "markdown",
   "id": "8fdcfb98",
   "metadata": {},
   "source": [
    "Проверим функцию на небольшом тексте"
   ]
  },
  {
   "cell_type": "code",
   "execution_count": null,
   "id": "29d07b6c",
   "metadata": {
    "scrolled": true
   },
   "outputs": [],
   "source": [
    "small_text = 'Мама мыла раму – раму мыла мама'.split()\n",
    "small_dict = create_dict(small_text)\n",
    "print(small_dict)\n",
    "small_text"
   ]
  },
  {
   "cell_type": "markdown",
   "id": "f94caf32",
   "metadata": {},
   "source": [
    "Запустим на данных из нашей сказки"
   ]
  },
  {
   "cell_type": "code",
   "execution_count": null,
   "id": "38809d4c",
   "metadata": {},
   "outputs": [],
   "source": [
    "dict_of_words = create_dict(words_lst)\n",
    "print(len(dict_of_words))\n",
    "len(words_lst)"
   ]
  },
  {
   "cell_type": "markdown",
   "id": "5d51af29",
   "metadata": {},
   "source": [
    "С помощью функции выведем первые 10 элементов словаря в том порядке, в котором они расположены в словаре"
   ]
  },
  {
   "cell_type": "code",
   "execution_count": null,
   "id": "f7a4f9a6",
   "metadata": {
    "scrolled": true
   },
   "outputs": [],
   "source": [
    "def print_dict(dictionary):\n",
    "    i = 0\n",
    "    for w in dictionary:\n",
    "        if i == 10:\n",
    "            break\n",
    "        print(w, dictionary[w])\n",
    "        i += 1\n",
    "        \n",
    "print_dict(dict_of_words)"
   ]
  },
  {
   "cell_type": "markdown",
   "id": "1c87e697",
   "metadata": {},
   "source": [
    "Отсортируем небольшой словарь. Для этого воспользуемся функцией sorted для сортировки с key в виде lamda-функции.\n",
    "\n",
    "Сортировка будет проходить по второму элементу, т.е. по встречаемости слов.\n",
    "\n",
    "Также применим reverse=True для сортировки от наибольшего к наименьшему."
   ]
  },
  {
   "cell_type": "code",
   "execution_count": null,
   "id": "2382dc21",
   "metadata": {},
   "outputs": [],
   "source": [
    "print(sorted(small_dict.items(), key=lambda dict: dict[1], reverse=True))"
   ]
  },
  {
   "cell_type": "markdown",
   "id": "ed9aeaca",
   "metadata": {},
   "source": [
    "Следующий результат получается на данных из сказки"
   ]
  },
  {
   "cell_type": "code",
   "execution_count": null,
   "id": "f98e7c3b",
   "metadata": {},
   "outputs": [],
   "source": [
    "sorted_list = sorted(dict_of_words.items(), key=lambda dict: dict[1], reverse=True)"
   ]
  },
  {
   "cell_type": "code",
   "execution_count": null,
   "id": "35990436",
   "metadata": {},
   "outputs": [],
   "source": [
    "sorted_list"
   ]
  },
  {
   "cell_type": "markdown",
   "id": "0d4d70ee",
   "metadata": {},
   "source": [
    "Список стоп-слов"
   ]
  },
  {
   "cell_type": "code",
   "execution_count": null,
   "id": "732478a4",
   "metadata": {},
   "outputs": [],
   "source": [
    "stopwords = ['и', 'в', 'во', 'не', 'что', 'он', 'на', 'я', 'с', 'со', 'как', 'а', 'то', \n",
    "             'она', 'так', 'его', 'но', 'да', 'ты', 'к', 'у', 'же', 'вы', 'за', 'бы', \n",
    "             'по', 'только', 'ее', 'мне', 'было', 'вот', 'от', 'меня', 'еще', 'нет', 'о', 'из', \n",
    "             'ему', 'теперь', 'когда', 'даже', 'ну', 'вдруг', 'ли', 'если', 'уже', 'или', 'ни', 'быть', \n",
    "             'был', 'него', 'до', 'вас', 'нибудь', 'опять', 'уж', 'вам', 'ведь', 'там', 'потом', 'себя', \n",
    "             'ничего', 'ей', 'может', 'они', 'тут', 'где', 'есть', 'надо', 'ней', 'для', 'мы', 'тебя', 'их', \n",
    "             'чем', 'была', 'сам', 'чтоб', 'без', 'будто', 'чего', 'раз', 'тоже', 'себе', 'под', 'будет', 'ж', \n",
    "             'тогда', 'кто', 'этот', 'того', 'потому', 'этого', 'какой', 'совсем', 'ним', 'здесь', 'этом', \n",
    "             'один', 'почти', 'мой', 'тем', 'чтобы', 'нее', 'сейчас', 'были', 'куда', 'зачем', 'всех', \n",
    "             'никогда', 'можно', 'при', 'наконец', 'два', 'об', 'другой', 'хоть', 'после', 'над', 'больше', \n",
    "             'тот', 'через', 'эти', 'нас', 'про', 'всего', 'них', 'какая', 'много', 'разве', 'три', 'эту', \n",
    "             'моя', 'впрочем', 'хорошо', 'свою', 'этой', 'перед', 'иногда', 'лучше', 'чуть', 'том', \n",
    "             'такой', 'им', 'более', 'всегда', 'всю', 'между','это']"
   ]
  },
  {
   "cell_type": "markdown",
   "id": "4e974917",
   "metadata": {},
   "source": [
    "Создадим новый список слов сказки без стоп-слов"
   ]
  },
  {
   "cell_type": "code",
   "execution_count": null,
   "id": "335cb65b",
   "metadata": {},
   "outputs": [],
   "source": [
    "words_lst_new = []                 # Создаем пустой список\n",
    "for word in words_lst:             # Последовательно для всех слов из списка\n",
    "    if word not in stopwords:      # Если слово не находится в списке стоп-слов\n",
    "        words_lst_new.append(word) # Добавляем его к новому списку\n",
    "print(words_lst_new[:10])          # Смотрим фрагмент получившегося списка, где видно, что стоп-слова исключены\n",
    "len(words_lst_new)"
   ]
  },
  {
   "cell_type": "markdown",
   "id": "52e9d03e",
   "metadata": {},
   "source": [
    "Создадим новый словарь без стоп-слов и отсортируем его"
   ]
  },
  {
   "cell_type": "code",
   "execution_count": null,
   "id": "c79c8c56",
   "metadata": {},
   "outputs": [],
   "source": [
    "dict_without_stopwords = create_dict(words_lst_new)"
   ]
  },
  {
   "cell_type": "code",
   "execution_count": null,
   "id": "3059962c",
   "metadata": {},
   "outputs": [],
   "source": [
    "print_dict(dict_without_stopwords)"
   ]
  },
  {
   "cell_type": "code",
   "execution_count": null,
   "id": "881f26f1",
   "metadata": {},
   "outputs": [],
   "source": [
    "sorted_without_stopwords = sorted(dict_without_stopwords.items(), key=lambda x: x[1], reverse=True)\n",
    "sorted_without_stopwords[:15]"
   ]
  },
  {
   "cell_type": "markdown",
   "id": "75047391",
   "metadata": {},
   "source": [
    "Запишем результат в файл"
   ]
  },
  {
   "cell_type": "code",
   "execution_count": null,
   "id": "5bec6d12",
   "metadata": {},
   "outputs": [],
   "source": [
    "with open(\"flower.txt\", \"w\", encoding='UTF-8') as f:\n",
    "    for lst in sorted_without_stopwords:\n",
    "        f.writelines(lst[0] + \", \" + str(lst[1]) + \"\\n\")"
   ]
  },
  {
   "cell_type": "code",
   "execution_count": null,
   "id": "1fe65bfd",
   "metadata": {},
   "outputs": [],
   "source": [
    "with open(\"flower.csv\", \"w\", encoding='UTF-8') as f:\n",
    "    for lst in sorted_without_stopwords:\n",
    "        f.writelines(lst[0] + \", \" + str(lst[1]) + \"\\n\")\n",
    "\n",
    "# p.s. В MS Excel потребуется открывать с указанием кодировки, иначе получим абракадабру."
   ]
  },
  {
   "cell_type": "markdown",
   "id": "3b7c9ecb",
   "metadata": {},
   "source": [
    "**Работа с csv-файлами**\n",
    "\n",
    "Часто для хранения табличных данных используют формат csv. В данном файле данные записаны по строкам, а разделение по столбцам происходит с помощью запятых (точек с запятой, пробелами и т.д.), отделяющих значения друг от друга. Данные файлы можно просматривать в редакторе таблиц (например, Excel и Google Sheets).\n",
    "\n",
    "Создадим и затем откроем csv файл."
   ]
  },
  {
   "cell_type": "code",
   "execution_count": null,
   "id": "d85b9236",
   "metadata": {},
   "outputs": [],
   "source": [
    "test_text = '''Random Number 1,Random Number 2,Random Number 3\n",
    "27,7,3\n",
    "23,14,24\n",
    "28,27,12\n",
    "16,2,9\n",
    "24,18,5\n",
    "21,15,10\n",
    "2,20,3\n",
    "11,9,26\n",
    "13,24,30\n",
    "21,22,9'''\n",
    "\n",
    "with open(\"file_csv.csv\", \"w\", encoding='UTF-8') as f:\n",
    "    f.writelines(test_text)"
   ]
  },
  {
   "cell_type": "code",
   "execution_count": null,
   "id": "905ebebc",
   "metadata": {},
   "outputs": [],
   "source": [
    "csv_data = \"\"\n",
    "with open(\"file_csv.csv\", \"r\", encoding='UTF-8') as f:\n",
    "    for s in f:\n",
    "        csv_data += s\n",
    "print(csv_data)"
   ]
  },
  {
   "cell_type": "markdown",
   "id": "05959676",
   "metadata": {},
   "source": [
    "Построим график, на основании содержимого существующего файла csv."
   ]
  },
  {
   "cell_type": "code",
   "execution_count": null,
   "id": "76d7a9e1",
   "metadata": {},
   "outputs": [],
   "source": [
    "csv_data = \"\"\n",
    "with open(\"_add_material_lesson_python\\\\usd_eur_quotes.csv\", \"r\") as f:\n",
    "    for line in f:\n",
    "        csv_data += line\n",
    "csv_data[:100]"
   ]
  },
  {
   "cell_type": "markdown",
   "id": "fc5dc393",
   "metadata": {},
   "source": [
    "В данном случае, в момент считывания файла лучше сразу разбить данные на элементы списка"
   ]
  },
  {
   "cell_type": "code",
   "execution_count": null,
   "id": "f9d7e29c",
   "metadata": {},
   "outputs": [],
   "source": [
    "usd_eur_list = []\n",
    "with open(\"_add_material_lesson_python\\\\usd_eur_quotes.csv\", \"r\") as f:\n",
    "    for line in f:\n",
    "        day_list = line.split(\";\")\n",
    "        usd_eur_list.append(day_list)\n",
    "usd_eur_list"
   ]
  },
  {
   "cell_type": "code",
   "execution_count": null,
   "id": "ec68528d",
   "metadata": {},
   "outputs": [],
   "source": [
    "usd_eur_list.pop(0)"
   ]
  },
  {
   "cell_type": "markdown",
   "id": "4a077775",
   "metadata": {},
   "source": [
    "Из полученного списка с курсов валют, сохраним данные в три разных списка, первый для даты, второй для курса доллара, третий для курса евро. Но так как данные за 1 января находятся в конце csv-файла, считывать данные будем в обратном порядке "
   ]
  },
  {
   "cell_type": "code",
   "execution_count": null,
   "id": "e02f6372",
   "metadata": {},
   "outputs": [],
   "source": [
    "dates = []\n",
    "currency_usd = []\n",
    "currency_eur = []\n",
    "\n",
    "for row in reversed(usd_eur_list):\n",
    "    dates.append(row[0])\n",
    "    currency_usd.append(float(row[1]))\n",
    "    currency_eur.append(float(row[2]))"
   ]
  },
  {
   "cell_type": "markdown",
   "id": "6b4520ab",
   "metadata": {},
   "source": [
    "Подключим библиотеку `matplotlib` для отрисовки графиков. Более подробнее мы будем ее изучать отдельно"
   ]
  },
  {
   "cell_type": "code",
   "execution_count": null,
   "id": "6898ee04",
   "metadata": {},
   "outputs": [],
   "source": [
    "import matplotlib.pyplot as plt\n",
    "\n",
    "\n",
    "plt.figure(figsize=(10, 5))\n",
    "plt.plot(dates, currency_usd, label='USD')\n",
    "plt.plot(dates, currency_eur, label='EUR')\n",
    "plt.xlabel('Date')\n",
    "plt.ylabel('Course')\n",
    "plt.title('Course of USD and EUR Over Time')\n",
    "plt.legend()\n",
    "plt.show()"
   ]
  },
  {
   "cell_type": "markdown",
   "id": "17b9008c",
   "metadata": {},
   "source": [
    "# Библиотека OpenCV"
   ]
  },
  {
   "cell_type": "code",
   "execution_count": null,
   "id": "75f324c7",
   "metadata": {},
   "outputs": [],
   "source": [
    "!pip install opencv-python"
   ]
  },
  {
   "cell_type": "code",
   "execution_count": null,
   "id": "60f64214",
   "metadata": {},
   "outputs": [],
   "source": [
    "!pip list"
   ]
  },
  {
   "cell_type": "code",
   "execution_count": null,
   "id": "d2b312b7",
   "metadata": {},
   "outputs": [],
   "source": [
    "import cv2\n",
    "import numpy as np\n",
    "import matplotlib.pyplot as plt"
   ]
  },
  {
   "cell_type": "code",
   "execution_count": null,
   "id": "56c640cf",
   "metadata": {},
   "outputs": [],
   "source": [
    "file_name = \"_add_material_lesson_python\\\\huskies.jpeg\"\n",
    "img = cv2.imread(file_name)\n",
    "plt.imshow(img);"
   ]
  },
  {
   "cell_type": "code",
   "execution_count": null,
   "id": "bf316db3",
   "metadata": {},
   "outputs": [],
   "source": [
    "# Для IDLE, matplotlib не нужно\n",
    "# Откроем картинку с собакой в Windows\n",
    "\n",
    "cv2.imshow('_add_material_lesson_python\\\\huskies.jpeg', img)\n",
    "cv2.waitKey(0)\n",
    "cv2.destroyAllWindows()"
   ]
  },
  {
   "cell_type": "markdown",
   "id": "44574814",
   "metadata": {},
   "source": [
    "Почему после обработки файла OpenCV мы получили такую картинку - всё дело в том, что OpenCV по умолчанию использует формат **BGR**, а не более привычный **RGB**. Так исторически сложилось. Подробнее можно почитать [по ссылке](https://arboook.com/kompyuternoe-zrenie/operatsii-s-tsvetom-v-opencv3-i-python/). Чтобы в нашем случае, получить требуемый результат, используем `cv2.COLOR_BGR2RGB`"
   ]
  },
  {
   "cell_type": "code",
   "execution_count": null,
   "id": "94229eb6",
   "metadata": {},
   "outputs": [],
   "source": [
    "img = cv2.cvtColor(cv2.imread(file_name), cv2.COLOR_BGR2RGB)\n",
    "\n",
    "plt.imshow(img);"
   ]
  },
  {
   "cell_type": "code",
   "execution_count": null,
   "id": "b5002981",
   "metadata": {},
   "outputs": [],
   "source": [
    "b, g, r = cv2.split(img)\n",
    "plt.imshow(b);"
   ]
  },
  {
   "cell_type": "code",
   "execution_count": null,
   "id": "c0ea8b47",
   "metadata": {},
   "outputs": [],
   "source": [
    "plt.imshow(g);"
   ]
  },
  {
   "cell_type": "code",
   "execution_count": null,
   "id": "81dfb184",
   "metadata": {},
   "outputs": [],
   "source": [
    "plt.imshow(r);"
   ]
  },
  {
   "cell_type": "markdown",
   "id": "c666eca0",
   "metadata": {},
   "source": [
    "Перевод в оттенки серого"
   ]
  },
  {
   "cell_type": "code",
   "execution_count": null,
   "id": "a65effa2",
   "metadata": {},
   "outputs": [],
   "source": [
    "gray = cv2.cvtColor(img, cv2.COLOR_RGB2GRAY)"
   ]
  },
  {
   "cell_type": "code",
   "execution_count": null,
   "id": "cc7ee047",
   "metadata": {},
   "outputs": [],
   "source": [
    "plt.imshow(gray, cmap='gray');"
   ]
  },
  {
   "cell_type": "markdown",
   "id": "59907f00",
   "metadata": {},
   "source": [
    "Изменение размера"
   ]
  },
  {
   "cell_type": "code",
   "execution_count": null,
   "id": "0d89d733",
   "metadata": {},
   "outputs": [],
   "source": [
    "size = 50\n",
    "height = int(img.shape[0] * size / 100)\n",
    "width = int(img.shape[1] * size / 100)\n",
    "resized_img = cv2.resize(img, (width, height))\n",
    "plt.imshow(resized_img);"
   ]
  },
  {
   "cell_type": "code",
   "execution_count": null,
   "id": "087856fa",
   "metadata": {},
   "outputs": [],
   "source": [
    "resized_img = cv2.resize(img, None, fx = 0.5, fy = 0.5)\n",
    "plt.imshow(resized_img);"
   ]
  },
  {
   "cell_type": "markdown",
   "id": "5bda8888",
   "metadata": {},
   "source": [
    "Кадрирование"
   ]
  },
  {
   "cell_type": "code",
   "execution_count": null,
   "id": "45d26a8b",
   "metadata": {},
   "outputs": [],
   "source": [
    "cropped = img[200:1200, 200:1500]  # Координаты: [y0:y1, x0:x1]\n",
    "plt.imshow(cropped);"
   ]
  },
  {
   "cell_type": "code",
   "execution_count": null,
   "id": "aa3291fc",
   "metadata": {},
   "outputs": [],
   "source": [
    "cropped[0][0]"
   ]
  },
  {
   "cell_type": "markdown",
   "id": "9eeb2e9e",
   "metadata": {},
   "source": [
    "Вращение изображений"
   ]
  },
  {
   "cell_type": "code",
   "execution_count": null,
   "id": "894165de",
   "metadata": {},
   "outputs": [],
   "source": [
    "rotated_img = cv2.rotate(img, cv2.ROTATE_90_CLOCKWISE)\n",
    "plt.imshow(rotated_img);"
   ]
  },
  {
   "cell_type": "code",
   "execution_count": null,
   "id": "9ce9fe80",
   "metadata": {},
   "outputs": [],
   "source": [
    "angel = 45  # В градусах\n",
    "(h, w, c) = img.shape\n",
    "center = (w // 2, h // 2)\n",
    "M = cv2.getRotationMatrix2D(center, angel, 1.0)\n",
    "rotated_img = cv2.warpAffine(img, M, (w, h))\n",
    "plt.imshow(rotated_img);"
   ]
  },
  {
   "cell_type": "markdown",
   "id": "49a86dd1",
   "metadata": {},
   "source": [
    "Контраст и яркость "
   ]
  },
  {
   "cell_type": "code",
   "execution_count": null,
   "id": "00fb3733",
   "metadata": {},
   "outputs": [],
   "source": [
    "lab = cv2.cvtColor(img, cv2.COLOR_RGB2LAB)  # Переведем в формат LAB\n",
    "l, a , b = cv2.split(lab)  # Разбитие на каналы\n",
    "# Создание адаптивной гистограммы\n",
    "clahe = cv2.createCLAHE(clipLimit = 3., tileGridSize = (8,8))\n",
    "# clipLimit - определяет, насколько контрастнее станет фото\n",
    "# Изображенеие разбивается на блоки 8 на 8, для каждого блока гистограмма строится отдельно\n",
    "l2 = clahe.apply(l)  # Применение гистограмм к L-каналу\n",
    "lab = cv2.merge((l2, a, b))\n",
    "img2 = cv2.cvtColor(lab, cv2.COLOR_LAB2RGB)\n",
    "plt.imshow(img2); "
   ]
  },
  {
   "cell_type": "code",
   "execution_count": null,
   "id": "0784aca6",
   "metadata": {},
   "outputs": [],
   "source": [
    "claheFilter = cv2.createCLAHE(clipLimit = 3., tileGridSize = (8,8))\n",
    "gray2 = claheFilter.apply(gray)\n",
    "plt.imshow(gray2, cmap='gray');"
   ]
  },
  {
   "cell_type": "code",
   "execution_count": null,
   "id": "80a32802",
   "metadata": {},
   "outputs": [],
   "source": [
    "# Линейный метод\n",
    "alpha = 1.5\n",
    "beta = 10\n",
    "# np.clip - ограничение значений в массиве\n",
    "# Значения за пределами интервала обрезаются по краям интервала\n",
    "img3 = np.uint8(np.clip((alpha * img + beta), 0, 255))\n",
    "plt.imshow(img3);"
   ]
  },
  {
   "cell_type": "markdown",
   "id": "a8ac8c3f",
   "metadata": {},
   "source": [
    "Выделение контуров"
   ]
  },
  {
   "cell_type": "code",
   "execution_count": null,
   "id": "adc2962a",
   "metadata": {},
   "outputs": [],
   "source": [
    "edged_grey = cv2.Canny(gray, 10, 250)\n",
    "plt.imshow(edged_grey, cmap='gray');"
   ]
  },
  {
   "cell_type": "code",
   "execution_count": null,
   "id": "4804bb61",
   "metadata": {},
   "outputs": [],
   "source": [
    "edged_grey_2 = cv2.Canny(gray2, 10, 250)\n",
    "plt.imshow(edged_grey_2, cmap='gray');"
   ]
  },
  {
   "cell_type": "markdown",
   "id": "1835472e",
   "metadata": {},
   "source": [
    "Размытие изображения"
   ]
  },
  {
   "cell_type": "code",
   "execution_count": null,
   "id": "b3ac72cc",
   "metadata": {},
   "outputs": [],
   "source": [
    "blurred_img = cv2.GaussianBlur(img, (11, 11), 0)\n",
    "\n",
    "plt.imshow(blurred_img);"
   ]
  },
  {
   "cell_type": "code",
   "execution_count": null,
   "id": "8c496bfa",
   "metadata": {},
   "outputs": [],
   "source": [
    "blurred_img = cv2.blur(img, (11, 11))\n",
    "\n",
    "plt.imshow(blurred_img);"
   ]
  },
  {
   "cell_type": "code",
   "execution_count": null,
   "id": "becc7817",
   "metadata": {},
   "outputs": [],
   "source": [
    "blurred_img = cv2.bilateralFilter(img, 19, 75, 75)\n",
    "\n",
    "plt.imshow(blurred_img);"
   ]
  },
  {
   "cell_type": "code",
   "execution_count": null,
   "id": "5c55d70b",
   "metadata": {
    "scrolled": false
   },
   "outputs": [],
   "source": [
    "plt.imshow(img);"
   ]
  },
  {
   "cell_type": "markdown",
   "id": "e32ed2d9",
   "metadata": {},
   "source": [
    "Загрузим изображение луны на зеленом фоне для дальнейшего добавления на нашу первоначальную картинку"
   ]
  },
  {
   "cell_type": "code",
   "execution_count": null,
   "id": "5611f753",
   "metadata": {
    "scrolled": false
   },
   "outputs": [],
   "source": [
    "file_name_moon = \"_add_material_lesson_python\\\\moon.jpg\"\n",
    "img_moon = cv2.cvtColor(cv2.imread(file_name_moon), cv2.COLOR_BGR2RGB)\n",
    "\n",
    "plt.imshow(img_moon);"
   ]
  },
  {
   "cell_type": "code",
   "execution_count": null,
   "id": "72a7b354",
   "metadata": {},
   "outputs": [],
   "source": [
    "print(img_moon.shape)"
   ]
  },
  {
   "cell_type": "markdown",
   "id": "c50aee0d",
   "metadata": {},
   "source": [
    "Размер изображения луны меньше, поэтому «создадим» зеленый прямоугольник нужного нам размера"
   ]
  },
  {
   "cell_type": "code",
   "execution_count": null,
   "id": "81622861",
   "metadata": {},
   "outputs": [],
   "source": [
    "green = np.full((1281,1920,3),(0, 255, 0), np.uint8)\n",
    "plt.imshow(green);"
   ]
  },
  {
   "cell_type": "markdown",
   "id": "66963117",
   "metadata": {},
   "source": [
    "При помощи среза заменим в зеленом прямоугольники пиксели из изображения луны"
   ]
  },
  {
   "cell_type": "code",
   "execution_count": null,
   "id": "57131572",
   "metadata": {},
   "outputs": [],
   "source": [
    "green[0:0+img_moon.shape[0], 0:0+img_moon.shape[1]] = img_moon\n",
    "plt.imshow(green);"
   ]
  },
  {
   "cell_type": "markdown",
   "id": "ef13c9e4",
   "metadata": {},
   "source": [
    "Уберем зеленый цвет. Для этого переведем картинку в HSV формат (Hue – тон, Saturation – насыщенность и Value – значение).\n",
    "Далее создадим маску зеленого цвета в формате HSV, более подробней можно посмотреть [по ссылке](https://stackoverflow.com/questions/47483951/how-can-i-define-a-threshold-value-to-detect-only-green-colour-objects-in-an-ima)"
   ]
  },
  {
   "cell_type": "code",
   "execution_count": null,
   "id": "24f84a29",
   "metadata": {
    "scrolled": true
   },
   "outputs": [],
   "source": [
    "hsv = cv2.cvtColor(green, cv2.COLOR_BGR2HSV) \n",
    "mask = cv2.inRange(hsv, (36, 25, 25), (70, 255,255))\n",
    "plt.imshow(mask, cmap='gray');"
   ]
  },
  {
   "cell_type": "markdown",
   "id": "df9ea53e",
   "metadata": {},
   "source": [
    "Сделаем копию изначального изображения.\n",
    "\n",
    "Уберем зеленый фон с использованием нашей маски, все кроме изображения луны красится в черный цвет"
   ]
  },
  {
   "cell_type": "code",
   "execution_count": null,
   "id": "7525cefd",
   "metadata": {
    "scrolled": false
   },
   "outputs": [],
   "source": [
    "masked_image = np.copy(green)\n",
    "masked_image[mask != 0] = [0, 0, 0]\n",
    "plt.imshow(masked_image);"
   ]
  },
  {
   "cell_type": "markdown",
   "id": "e3b434fe",
   "metadata": {},
   "source": [
    "Создадим копию первоначального изображения и на копию наложим нашу маску "
   ]
  },
  {
   "cell_type": "code",
   "execution_count": null,
   "id": "53c18814",
   "metadata": {},
   "outputs": [],
   "source": [
    "masked_background_image = np.copy(img)\n",
    "masked_background_image[mask == 0] = [0, 0, 0]\n",
    "plt.imshow(masked_background_image);"
   ]
  },
  {
   "cell_type": "code",
   "execution_count": null,
   "id": "5930a0b2",
   "metadata": {},
   "outputs": [],
   "source": [
    "complete_image = masked_image + masked_background_image  # Cкладываем массивы\n",
    "\n",
    "plt.imshow(complete_image);"
   ]
  },
  {
   "cell_type": "markdown",
   "id": "115cc313",
   "metadata": {},
   "source": [
    "Сохраняем файл, не забыв про `COLOR_BGR2RGB`"
   ]
  },
  {
   "cell_type": "code",
   "execution_count": null,
   "id": "597d13e0",
   "metadata": {},
   "outputs": [],
   "source": [
    "cv2.imwrite('_add_material_lesson_python\\\\huskies_moon.png', cv2.cvtColor(complete_image, cv2.COLOR_RGB2BGR))"
   ]
  }
 ],
 "metadata": {
  "kernelspec": {
   "display_name": "Python 3 (ipykernel)",
   "language": "python",
   "name": "python3"
  },
  "language_info": {
   "codemirror_mode": {
    "name": "ipython",
    "version": 3
   },
   "file_extension": ".py",
   "mimetype": "text/x-python",
   "name": "python",
   "nbconvert_exporter": "python",
   "pygments_lexer": "ipython3",
   "version": "3.11.5"
  }
 },
 "nbformat": 4,
 "nbformat_minor": 5
}
