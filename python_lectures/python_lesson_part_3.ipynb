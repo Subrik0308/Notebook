{
 "cells": [
  {
   "cell_type": "markdown",
   "id": "bc1c968d",
   "metadata": {},
   "source": [
    "## Содержание:\n",
    "- Основные оценки сложности алгоритмов\n",
    "- Библиотеки и модули\n",
    "- Работа с файлами"
   ]
  },
  {
   "cell_type": "markdown",
   "id": "5cbb26a9",
   "metadata": {},
   "source": [
    "# Основные оценки сложности алгоритмов"
   ]
  },
  {
   "cell_type": "markdown",
   "id": "f4eabf30",
   "metadata": {},
   "source": [
    "Основные категории алгоритмической сложности в О-нотации:\n",
    "\n",
    "* Постоянное время: 0(1) — время выполнения не зависит от количества элементов во входном наборе данных\n",
    "\n",
    "* Линейное время: О(N) — время выполнения пропорционально количеству элементов в коллекции\n",
    "\n",
    "* Логарифмическое время: О(log(N)) — время выполнения пропорционально логарифму от количества элементов в коллекции\n",
    "\n",
    "* Квазилинейное время: О(N*log(N)) — время выполнения больше чем, линейное, но меньше квадратичного\n",
    "\n",
    "* Полиномиальное время: О(N^2) — время выполнения пропорционально квадрату количества элементов в коллекции\n"
   ]
  },
  {
   "cell_type": "markdown",
   "id": "65da3f02",
   "metadata": {},
   "source": [
    "## Константа $O(1)$\n",
    "Самый простой в оценке вариант алгоритма — алгоритм, который не зависит от размера входных данных. \n",
    "Посчитаем сумму первых пяти натуральных чисел. Для этого сравним два алгоритма."
   ]
  },
  {
   "cell_type": "code",
   "execution_count": null,
   "id": "1eb763cb",
   "metadata": {},
   "outputs": [],
   "source": [
    "# Алгоритм 1\n",
    "\n",
    "a = [1, 2, 3, 4, 5, 6]\n",
    "\n",
    "summ = 0\n",
    "for element in a:\n",
    "    summ += element\n",
    "\n",
    "print(summ)"
   ]
  },
  {
   "cell_type": "markdown",
   "id": "e7a2b2b0",
   "metadata": {},
   "source": [
    "Первый алгоритм будет перебирать все элементы списка и добавлять их к общей сумме. \\\n",
    "*Количество операций*: 1 (создание переменной) + n (проходимся по всему списку) + n (операция суммы)."
   ]
  },
  {
   "cell_type": "code",
   "execution_count": null,
   "id": "7e5313b0",
   "metadata": {},
   "outputs": [],
   "source": [
    "# Алгоритм 2\n",
    "\n",
    "a = [1, 2, 3, 4, 5, 6]\n",
    "\n",
    "summ = (a[0] + a[len(a) - 1]) / 2 * len(a)\n",
    "\n",
    "print(summ)"
   ]
  },
  {
   "cell_type": "markdown",
   "id": "3ef525e6",
   "metadata": {},
   "source": [
    "Второй алгоритм не будет проходиться по всему массиву, а сразу сложит нужные элементы. \\\n",
    "*Количество операций*: 3.\n",
    "\n",
    "В этой задаче нам нужно сделать три действия, независимо от того, какое количество натуральных чисел мы передали. То есть мы говорим, что данный алгоритм имеет сложность $О(1)$."
   ]
  },
  {
   "cell_type": "markdown",
   "id": "c12a1f5f",
   "metadata": {},
   "source": [
    "# Линейная $О(n)$\n",
    "\n",
    "Линейная оценка, или сложность $О(n)$, будет у алгоритма, который проходит один или несколько раз по всем переданным объектам. Например, алгоритм поиска числа в неупорядоченном списке."
   ]
  },
  {
   "cell_type": "code",
   "execution_count": null,
   "id": "0fcaea8a",
   "metadata": {},
   "outputs": [],
   "source": [
    "lst = [1, 26, 3, 24, 16, 17, 30, 17, 27, 28]\n",
    "s = 17\n",
    "n = len(lst)\n",
    "i = 0\n",
    "while i < n and lst[i] != s:\n",
    "    i += 1\n",
    "if i == n:\n",
    "    print(\"Число не найдено\")\n",
    "else:\n",
    "    print(i)"
   ]
  },
  {
   "cell_type": "code",
   "execution_count": null,
   "id": "2e52a342",
   "metadata": {},
   "outputs": [],
   "source": [
    "def element_search(ar, element):\n",
    "    for i in range(len(ar)):\n",
    "        if ar[i] == element:\n",
    "            return i\n",
    "    return \"Число не найдено\"\n",
    "s = 17\n",
    "print(element_search(lst, s))"
   ]
  },
  {
   "cell_type": "code",
   "execution_count": null,
   "id": "2febef80",
   "metadata": {},
   "outputs": [],
   "source": [
    "lst = [1, 26, 3, 24, 16, 17, 30, 17, 27, 28]\n",
    "element = 30\n",
    "for i in range(len(lst)):\n",
    "    if lst[i] == element:\n",
    "        print(i)\n",
    "        break\n",
    "else:\n",
    "    print(\"Число не найдено\")"
   ]
  },
  {
   "cell_type": "markdown",
   "id": "8a45b704",
   "metadata": {},
   "source": [
    "В этом примере в худшем случае (а нам интересен именно худший случай) мы пройдемся по всему списку, сравнивая каждый элемент с искомым, пока не найдем подходящий. Это и есть линейная сложность алгоритма. "
   ]
  },
  {
   "cell_type": "markdown",
   "id": "150e17c1",
   "metadata": {},
   "source": [
    "## Экспоненциальное время: O(2^n)\n",
    "\n",
    "Если сложность алгоритма описывается формулой O(2^n), значит, время его работы удваивается с каждым дополнением к набору данных. Кривая роста функции O(2^n) экспоненциальная: сначала она очень пологая, а затем стремительно поднимается вверх. Примером алгоритма с экспоненциальной сложностью может послужить рекурсивный расчет чисел Фибоначчи:"
   ]
  },
  {
   "cell_type": "code",
   "execution_count": null,
   "id": "4febbba8",
   "metadata": {},
   "outputs": [],
   "source": [
    "def fibonacci(n):\n",
    "    # Первое и второе числа Фибоначчи равны 1\n",
    "    if n <= 2:\n",
    "        return 1\n",
    "    return fibonacci(n - 1) + fibonacci(n - 2)\n",
    "\n",
    "fibonacci(10)"
   ]
  },
  {
   "cell_type": "markdown",
   "id": "f74ae07f",
   "metadata": {},
   "source": [
    "## Квадратичная $О(n^2)$\n",
    "\n",
    "Оценка алгоритма в $О(n^2)$ будет у алгоритма, который для каждого элемента множества перебирает все остальные элементы множества. Таковым, например, является **пузырьковая сортировка**.\n",
    "\n",
    "![Изображение не найдено](https://habrastorage.org/getpro/habr/upload_files/132/1a8/c2d/1321a8c2d653c5b4fdca906baff445a5.gif)"
   ]
  },
  {
   "cell_type": "code",
   "execution_count": null,
   "id": "ee0fef56",
   "metadata": {},
   "outputs": [],
   "source": [
    "def bubble_sort(nums):\n",
    "\n",
    "    # Устанавливаем swapped в True, чтобы цикл запустился хотя бы один раз\n",
    "    swapped = True\n",
    "\n",
    "    while swapped:\n",
    "        swapped = False\n",
    "\n",
    "        # Идем циклом по индексам наших элементов\n",
    "        for i in range(len(nums) - 1):\n",
    "\n",
    "            # Если текущий элемент слева больше своего элемента справа\n",
    "            if nums[i] > nums[i + 1]:\n",
    "\n",
    "                # Меняем элементы местами\n",
    "                nums[i], nums[i + 1] = nums[i + 1], nums[i]\n",
    "\n",
    "                # Устанавливаем swapped в True для следующей итерации\n",
    "                swapped = True\n",
    "\n",
    "                # По окончании первого прогона цикла for, самый большой элемент \"всплывет\" наверх\n",
    "\n",
    "# Проверяем, что оно работает\n",
    "random_list_of_nums = [9, 5, 2, 1, 8, 4, 3, 7, 6]\n",
    "bubble_sort(random_list_of_nums)\n",
    "print(random_list_of_nums)"
   ]
  },
  {
   "cell_type": "markdown",
   "id": "9d7f444a",
   "metadata": {},
   "source": [
    "Алгоритм сортировки списка вставкой"
   ]
  },
  {
   "cell_type": "code",
   "execution_count": null,
   "id": "d22c0880",
   "metadata": {},
   "outputs": [],
   "source": [
    "lst = [1, 26, 3, 24, 16, 17, 30, 18, 27, 28]\n",
    "n = len(lst)\n",
    "for i in range(1, n):\n",
    "    x = lst[i]\n",
    "    j = i - 1\n",
    "    while j > -1 and lst[j] > x:\n",
    "        lst[j + 1] = lst[j]\n",
    "        j -= 1\n",
    "\n",
    "    lst[j + 1] = x\n",
    "\n",
    "print(lst)"
   ]
  },
  {
   "cell_type": "markdown",
   "id": "1a3f4d20",
   "metadata": {},
   "source": [
    "## Логарифмическая $О(log(n))$\n",
    "\n",
    "Оценку $О(log(n))$ чаще всего имеют алгоритмы, которые на каждом шаге работы с данными уменьшают размер этих данных в разы. \n",
    "\n",
    "Классический пример логарифмического алгоритма — **бинарный поиск**\n"
   ]
  },
  {
   "cell_type": "code",
   "execution_count": null,
   "id": "bd15131d",
   "metadata": {},
   "outputs": [],
   "source": [
    "lst = [1, 3, 16, 17, 24, 26, 27, 28, 30]\n",
    "\n",
    "s = 17\n",
    "i = 0\n",
    "j = len(lst) - 1\n",
    "while i <= j:\n",
    "    k = (i + j) // 2\n",
    "    if lst[k] > s:\n",
    "        j = k - 1\n",
    "    elif lst[k] < s:\n",
    "        i = k + 1\n",
    "    else:\n",
    "        break\n",
    "if i <= j:\n",
    "    print(k)\n",
    "else:\n",
    "    print(\"Число не найдено\")"
   ]
  },
  {
   "cell_type": "markdown",
   "id": "7b476f1f",
   "metadata": {},
   "source": [
    "Получается, что в алгоритме бинарного поиска мы каждый раз будем делить наше множество пополам, пока не останется один элемент. Значит, функция, которая будет описывать оценку нашего алгоритма, должна показывать, сколько раз число $n$, которое описывает размер наших данных, можно поделить на 2, или наоборот — в какую степень надо возвести 2, чтобы получилось наше число. Это и есть определение логарифма $log(n)$. "
   ]
  },
  {
   "cell_type": "markdown",
   "id": "3b92fc82",
   "metadata": {},
   "source": [
    "## Линейно-логарифмическая $О(n * log(n))$\n",
    "\n",
    "Яркий пример такого алгоритма — **быстрая сортировка**. В этом алгоритме мы сначала разбиваем все элементы на пары (логарифмическая часть), а затем отсортированные пары последовательно соединяем (линейная часть). \n",
    "\n",
    "**Алгоритм с оценкой $О(n * log(n))$ считается самым быстрым решением задачи сортировки в общем случае.**\n",
    "\n",
    "![Изображение не найдено](https://habrastorage.org/getpro/habr/upload_files/0a9/afd/372/0a9afd372156de5806bd87f93c875834.gif)\n"
   ]
  },
  {
   "cell_type": "code",
   "execution_count": null,
   "id": "08df353c",
   "metadata": {},
   "outputs": [],
   "source": [
    "import random\n",
    "def quicksort(nums):\n",
    "\n",
    "    if len(nums) <= 1:\n",
    "        return nums\n",
    "    else:\n",
    "\n",
    "        q = random.choice(nums)  # Генерирует случайную выборку из заданного одномерного списка.\n",
    "        s_nums = []\n",
    "        m_nums = []\n",
    "        e_nums = []\n",
    "\n",
    "    for n in nums:\n",
    "        if n < q:\n",
    "            s_nums.append(n)\n",
    "        elif n > q:\n",
    "            m_nums.append(n)\n",
    "        else:\n",
    "            e_nums.append(n)\n",
    "\n",
    "    return quicksort(s_nums) + e_nums + quicksort(m_nums)\n",
    "\n",
    "lst = [1, 26, 3, 24, 16, 17, 30, 18, 27, 28]\n",
    "print(quicksort(lst))"
   ]
  },
  {
   "cell_type": "markdown",
   "id": "9cbb19a8",
   "metadata": {},
   "source": [
    "Сортировка слиянием\n",
    "![Изображение не найдено](https://habrastorage.org/getpro/habr/upload_files/21f/1a3/ec0/21f1a3ec016004112fbb9180f76067dd.gif)"
   ]
  },
  {
   "cell_type": "code",
   "execution_count": null,
   "id": "83ed80c3",
   "metadata": {},
   "outputs": [],
   "source": [
    "def merge(le, ri):\n",
    "    i, j = 0, 0\n",
    "    res = []\n",
    "    while i < len(le) and j < len(ri):\n",
    "        if le[i] <= ri[i]:\n",
    "            res.append(le[i])\n",
    "            i += 1\n",
    "        else:\n",
    "            res.append(ri[j])\n",
    "            j += 1\n",
    "    res += le[i:] + ri[j:]\n",
    "    return res\n",
    "\n",
    "def merge_sort(s):\n",
    "    if len(s) < 2: return s\n",
    "    else:\n",
    "        ln = len(s) // 2\n",
    "        left = merge_sort(s[:ln])\n",
    "        right = merge_sort(s[ln:])\n",
    "        return merge(left, right)\n",
    "\n",
    "lst = [1, 26, 3, 24, 16, 17, 30, 18, 27, 28]\n",
    "print(merge_sort(lst))"
   ]
  },
  {
   "cell_type": "markdown",
   "id": "ff3cc041",
   "metadata": {},
   "source": [
    "Сложность алгоритма `сортировки подсчетом` оценивается как **O(n + k)**, где n - это количество элементов в списке, а k - это количество уникальных элементов в списке."
   ]
  },
  {
   "cell_type": "code",
   "execution_count": null,
   "id": "66fd2bd8",
   "metadata": {},
   "outputs": [],
   "source": [
    "lst = [1, 3, 16, 17, 24, 24, 26, 27, 28, 30]\n",
    "lst_ancillary = [0] * (max(lst) + 1)\n",
    "for i in range(len(lst)):\n",
    "    lst_ancillary[lst[i]] += 1\n",
    "\n",
    "lst_new = []\n",
    "for i in range(max(lst) + 1):\n",
    "    for j in range(lst_ancillary[i]):\n",
    "        lst_new.append(i)\n",
    "\n",
    "print(lst_new)\n",
    "print(lst_ancillary)"
   ]
  },
  {
   "cell_type": "markdown",
   "id": "637efb4b",
   "metadata": {
    "id": "aeCztTKUEUMg"
   },
   "source": [
    "# Библиотеки и модули\n",
    "\n",
    "Если несколько функций позволяют решать схожие задачи, то их объединяют в **модули**.  Например, модуль `math` объединяет в себе математические функции , модуль `string` предназначен для работы со строками, модуль `random` предлагает функции для генерации псевдослучайных чисел.  \n",
    "\n",
    "Эти модули и многие другие объединены в **Стандартную библиотеку Python**. Эта библиотека поставляется в составе Python, ее не нужно отдельно скачивать и устанавливать. Библиотека и входящие в нее модули описана в документации: https://docs.python.org/3/library/.\n",
    "\n",
    "\n",
    "Рассмотрим модули Стандартной библиотеки Python. "
   ]
  },
  {
   "cell_type": "markdown",
   "id": "1c922908",
   "metadata": {
    "id": "fKNEhWQKEUMk"
   },
   "source": [
    "## Пример использования модуля Стандартной библиотеки Python\n",
    "\n",
    "Воспользуемся функцией `sqrt()` из модуля  `math`. Эта функция как раз вычисляет квадратный корень, попробуем ее вызвать."
   ]
  },
  {
   "cell_type": "code",
   "execution_count": null,
   "id": "4d7fc265",
   "metadata": {
    "id": "Y2qpyo4kEUMl",
    "outputId": "bceae8e7-ae5f-4a47-a501-ae88c1e91c00"
   },
   "outputs": [],
   "source": [
    "sqrt(16)  # Вызвов функцию sqrt() из модуля math"
   ]
  },
  {
   "cell_type": "markdown",
   "id": "b49cd41d",
   "metadata": {
    "id": "a3ap8pGHEUMn"
   },
   "source": [
    "Не получилось. Необходимо импортировать модуль"
   ]
  },
  {
   "cell_type": "code",
   "execution_count": null,
   "id": "def6603d",
   "metadata": {
    "id": "XieNCrq9EUMn"
   },
   "outputs": [],
   "source": [
    "import math  # Импортируем модуль math"
   ]
  },
  {
   "cell_type": "code",
   "execution_count": null,
   "id": "31cb3cd3",
   "metadata": {
    "id": "cwYsJhZJEUMo",
    "outputId": "6406f594-59e6-488a-a8d5-e52214ac65b6"
   },
   "outputs": [],
   "source": [
    "sqrt(16)  # Снова пытаемся вызвать функцию sqrt() из модуля math, предварительно его импортировав"
   ]
  },
  {
   "cell_type": "markdown",
   "id": "ecbe7107",
   "metadata": {
    "id": "igtDQnoFEUMo"
   },
   "source": [
    " Необходимо выполнить следующее: `<модуль>.<функция()>`."
   ]
  },
  {
   "cell_type": "code",
   "execution_count": null,
   "id": "6efe8802",
   "metadata": {
    "id": "85Yb61feEUMp",
    "outputId": "9c373c1c-94cc-4891-8ad1-aa734b2eccc6"
   },
   "outputs": [],
   "source": [
    "math.sqrt(16)  # снова пытаемся вызвать функцию sqrt(), указав, что это функция из модуля math"
   ]
  },
  {
   "cell_type": "code",
   "execution_count": null,
   "id": "1e47bc91",
   "metadata": {},
   "outputs": [],
   "source": [
    "math.__dict__"
   ]
  },
  {
   "cell_type": "markdown",
   "id": "b32c1673",
   "metadata": {
    "id": "O_RfnljHEUMq"
   },
   "source": [
    "# Импорт отдельных компонент модуля\n",
    "\n",
    "Писать каждый раз название модуля, точку, название функции не всегда удобно. Можно явно указать, что именно необходимо импортировать из модуля."
   ]
  },
  {
   "cell_type": "code",
   "execution_count": null,
   "id": "dcb0b031",
   "metadata": {
    "id": "jb8XgX_0EUMq"
   },
   "outputs": [],
   "source": [
    "from random import randint, uniform  # Импортируем две функции из модуля random"
   ]
  },
  {
   "cell_type": "markdown",
   "id": "f059758c",
   "metadata": {
    "id": "ACVfRQPyEUMr"
   },
   "source": [
    "Чтобы узнать, что делают эти функции и какие аргументы им нужно подавать, можно посмотреть документацию или воспользоваться функцией `help()`:"
   ]
  },
  {
   "cell_type": "code",
   "execution_count": null,
   "id": "b543d23f",
   "metadata": {
    "id": "47l6FMnLEUMr",
    "outputId": "4bb92cc1-2559-4b59-aaaa-268acdf66256"
   },
   "outputs": [],
   "source": [
    "help(randint)"
   ]
  },
  {
   "cell_type": "code",
   "execution_count": null,
   "id": "15bc5b30",
   "metadata": {},
   "outputs": [],
   "source": [
    "?randint"
   ]
  },
  {
   "cell_type": "code",
   "execution_count": null,
   "id": "e8365136",
   "metadata": {},
   "outputs": [],
   "source": [
    "help(uniform)"
   ]
  },
  {
   "cell_type": "code",
   "execution_count": null,
   "id": "35fb93f8",
   "metadata": {
    "id": "kjuUZ5w8EUMr",
    "outputId": "fa04c1f2-c2e8-4599-d825-902fc7b97779"
   },
   "outputs": [],
   "source": [
    "# Вызываем функции по 5 раз\n",
    "for i in range(5):\n",
    "    print(randint(100, 200))\n",
    "    print(uniform(100, 200))"
   ]
  },
  {
   "cell_type": "code",
   "execution_count": null,
   "id": "62f24801",
   "metadata": {},
   "outputs": [],
   "source": [
    "import random\n",
    "help(random)"
   ]
  },
  {
   "cell_type": "markdown",
   "id": "13ce5a42",
   "metadata": {
    "id": "ScXYOliPEUMs"
   },
   "source": [
    "Получили по 5 разных псевдослучайных чисел для каждой функции в указанном диапазоне — все получилось без указания модуля через точку.\n"
   ]
  },
  {
   "cell_type": "markdown",
   "id": "8bea4d34",
   "metadata": {
    "id": "-fCPbnElEUMs"
   },
   "source": [
    "Если необходимо импортировать много функций и переменных из одного модуля, то можно импортировать всё сразу, используя звездочку. Тогда указывать модуль через точку тоже не нужно."
   ]
  },
  {
   "cell_type": "code",
   "execution_count": null,
   "id": "77979d1d",
   "metadata": {
    "id": "zWCFJYVzEUMs"
   },
   "outputs": [],
   "source": [
    "# Импортируем всё из модуля math\n",
    "from math import *"
   ]
  },
  {
   "cell_type": "code",
   "execution_count": null,
   "id": "7f38b220",
   "metadata": {},
   "outputs": [],
   "source": [
    "sqrt(16)"
   ]
  },
  {
   "cell_type": "markdown",
   "id": "1ec0f215",
   "metadata": {
    "id": "Wzd9QvdnEUMt"
   },
   "source": [
    "Получили число с высокой точностью, так как в модуле `math` содержится переменная `pi` с большим количеством знаков после запятой (точки):"
   ]
  },
  {
   "cell_type": "code",
   "execution_count": null,
   "id": "afa1db9c",
   "metadata": {},
   "outputs": [],
   "source": [
    "print(pi)"
   ]
  },
  {
   "cell_type": "markdown",
   "id": "4693f89d",
   "metadata": {
    "id": "SKuYIiB6EUMu"
   },
   "source": [
    "Допустим, потом мы проводим еще какие-то вычисления, где не нужна такая точность. Мы создаем свою переменную `pi`:"
   ]
  },
  {
   "cell_type": "code",
   "execution_count": null,
   "id": "dbd2a3f9",
   "metadata": {
    "id": "BoCfskzKEUMu"
   },
   "outputs": [],
   "source": [
    "pi = 3.14"
   ]
  },
  {
   "cell_type": "markdown",
   "id": "16036c6d",
   "metadata": {
    "id": "vaPe03kGEUMu"
   },
   "source": [
    "Переприсвоили значение переменной pi"
   ]
  },
  {
   "cell_type": "code",
   "execution_count": null,
   "id": "4d0b2e30",
   "metadata": {
    "id": "r6KuGL0QEUMu",
    "outputId": "c431994c-7bbb-4f75-9000-c83b37c0422d"
   },
   "outputs": [],
   "source": [
    "print(pi)"
   ]
  },
  {
   "cell_type": "markdown",
   "id": "bbb03d00",
   "metadata": {
    "id": "ZnReGLS6EUMv"
   },
   "source": [
    "Если бы мы импортировали `math` и записывали бы через точку, значение `math.pi` не изменилось бы:"
   ]
  },
  {
   "cell_type": "code",
   "execution_count": null,
   "id": "5789cf0a",
   "metadata": {
    "id": "w1nXqmiiEUMv",
    "outputId": "a6d9e925-6241-4eb9-d556-3aca586876da"
   },
   "outputs": [],
   "source": [
    "import math\n",
    "\n",
    "pi = 3.14\n",
    "print(pi, math.pi)"
   ]
  },
  {
   "cell_type": "markdown",
   "id": "0294b419",
   "metadata": {
    "id": "nF7F8X2IEUMv"
   },
   "source": [
    "# Импорт под псевдонимом\n",
    "\n",
    "Чтобы избежать таких сложностей, лучше писать название модуля. Но можно воспользоваться следующим упрощением: дать модулю псевдоним. Посмотрим на примере модуля `string`, предназначенного для работы со строками. Допустим, мы решили, что целиком слово `string` писать слишком долго, и хотим писать просто `s`. Посмотрим, как это можно сделать."
   ]
  },
  {
   "cell_type": "code",
   "execution_count": null,
   "id": "f9255d47",
   "metadata": {
    "id": "OBUja_geEUMv",
    "outputId": "05933234-9378-4a6b-c8c1-b40873556ac9"
   },
   "outputs": [],
   "source": [
    "import string as s    # Даем псевдоним модулю string\n",
    "print(s.punctuation)  # Печатаем строку со знаками препинания, хранящуюся в модуле"
   ]
  },
  {
   "cell_type": "markdown",
   "id": "a7300abb",
   "metadata": {
    "id": "IzB9YC1dEUMw"
   },
   "source": [
    "Теперь мы вместо `string.punctuation` будем писать `s.punctuation`, а `string.punctuation` не сработает."
   ]
  },
  {
   "cell_type": "code",
   "execution_count": null,
   "id": "97f8dbc0",
   "metadata": {
    "id": "ZypEiwekEUMw",
    "outputId": "35482cb6-d4e4-4ac9-e57a-ace034713d1e"
   },
   "outputs": [],
   "source": [
    "print(string.punctuation)"
   ]
  },
  {
   "cell_type": "code",
   "execution_count": null,
   "id": "1f896846",
   "metadata": {},
   "outputs": [],
   "source": [
    "s = 10"
   ]
  },
  {
   "cell_type": "code",
   "execution_count": null,
   "id": "1ab1c9bd",
   "metadata": {},
   "outputs": [],
   "source": [
    "s.punctuation"
   ]
  },
  {
   "cell_type": "markdown",
   "id": "c25d0159",
   "metadata": {
    "id": "mJ4UcF26EUMw"
   },
   "source": [
    "Наконец, если вы совсем не готовы писать название модуля и даже слово `punctuation` кажется вам тоже слишком длинным, можно и ему дать псевдоним:"
   ]
  },
  {
   "cell_type": "code",
   "execution_count": null,
   "id": "270f5f07",
   "metadata": {
    "id": "pS-HCRnmEUMw"
   },
   "outputs": [],
   "source": [
    "from string import punctuation as punc"
   ]
  },
  {
   "cell_type": "code",
   "execution_count": null,
   "id": "a6c018ab",
   "metadata": {
    "id": "F8DxWLCCEUMw",
    "outputId": "33c0f382-413d-45aa-deff-c1158640c7fa"
   },
   "outputs": [],
   "source": [
    "print(punc)"
   ]
  },
  {
   "cell_type": "markdown",
   "id": "b60a0671",
   "metadata": {},
   "source": [
    "## math"
   ]
  },
  {
   "cell_type": "code",
   "execution_count": null,
   "id": "21f670ed",
   "metadata": {},
   "outputs": [],
   "source": [
    "# Наибольший общий делитель\n",
    "math.gcd(34,17)"
   ]
  },
  {
   "cell_type": "code",
   "execution_count": null,
   "id": "c812f6fa",
   "metadata": {},
   "outputs": [],
   "source": [
    "# Факториал\n",
    "math.factorial(5)"
   ]
  },
  {
   "cell_type": "code",
   "execution_count": null,
   "id": "0197f306",
   "metadata": {},
   "outputs": [],
   "source": [
    "# Округление вверх\n",
    "math.ceil(23.013)"
   ]
  },
  {
   "cell_type": "code",
   "execution_count": null,
   "id": "4eb6dbd3",
   "metadata": {},
   "outputs": [],
   "source": [
    "# Округление вниз\n",
    "math.floor(23.013)"
   ]
  },
  {
   "cell_type": "markdown",
   "id": "f3a25ce4",
   "metadata": {},
   "source": [
    "Интересный факт - округление \"ломается\", при работе с некоторыми числами, у которых много значений после запятой. Нагляднее на примерах: "
   ]
  },
  {
   "cell_type": "code",
   "execution_count": null,
   "id": "861f59be",
   "metadata": {},
   "outputs": [],
   "source": [
    "from math import ceil, floor\n",
    "\n",
    "print(ceil(10.0000000000000009))\n",
    "print(ceil(10.0000000000000008))\n",
    "\n",
    "print(floor(10.9999999999999992))\n",
    "print(floor(10.9999999999999991))"
   ]
  },
  {
   "cell_type": "code",
   "execution_count": null,
   "id": "1a9f603a",
   "metadata": {},
   "outputs": [],
   "source": [
    "# Возведение в степень\n",
    "math.pow(2,5)"
   ]
  },
  {
   "cell_type": "markdown",
   "id": "f8630e60",
   "metadata": {},
   "source": [
    "## random"
   ]
  },
  {
   "cell_type": "code",
   "execution_count": null,
   "id": "d21d8f12",
   "metadata": {},
   "outputs": [],
   "source": [
    "# Случайное число от 0 до 1\n",
    "random.random()"
   ]
  },
  {
   "cell_type": "code",
   "execution_count": null,
   "id": "bb1136f0",
   "metadata": {},
   "outputs": [],
   "source": [
    "# Случайное число из заданного диапазона\n",
    "random.randint(1, 100)"
   ]
  },
  {
   "cell_type": "code",
   "execution_count": null,
   "id": "05778fbd",
   "metadata": {},
   "outputs": [],
   "source": [
    "# Случайное число с плавающей точкой\n",
    "random.uniform(1, 100)"
   ]
  },
  {
   "cell_type": "code",
   "execution_count": null,
   "id": "6b8004f4",
   "metadata": {},
   "outputs": [],
   "source": [
    "# Случайный элемент из непустой последовательности, например, из списка\n",
    "lst = [1, 26, 3, 24, 16, 17, 30, 17, 27, 28]\n",
    "random.choice(lst)"
   ]
  },
  {
   "cell_type": "code",
   "execution_count": null,
   "id": "6d63794b",
   "metadata": {},
   "outputs": [],
   "source": [
    "# Перемешать последовательность\n",
    "random.shuffle(lst)\n",
    "lst"
   ]
  },
  {
   "cell_type": "code",
   "execution_count": null,
   "id": "b9c610b6",
   "metadata": {},
   "outputs": [],
   "source": [
    "# Список заданной длины из последовательности\n",
    "random.sample(lst, 5)"
   ]
  },
  {
   "cell_type": "markdown",
   "id": "eee120a0",
   "metadata": {},
   "source": [
    "## datetime"
   ]
  },
  {
   "cell_type": "code",
   "execution_count": null,
   "id": "77e99fc5",
   "metadata": {},
   "outputs": [],
   "source": [
    "import datetime"
   ]
  },
  {
   "cell_type": "code",
   "execution_count": null,
   "id": "d47e7c38",
   "metadata": {},
   "outputs": [],
   "source": [
    "today = datetime.date.today()  # Текущая дата\n",
    "print(today)\n",
    "today = datetime.datetime.now()\n",
    "print(today)"
   ]
  },
  {
   "cell_type": "code",
   "execution_count": null,
   "id": "c5fb0a8f",
   "metadata": {},
   "outputs": [],
   "source": [
    "day = datetime.date(2024, 1, 16)\n",
    "print(day)"
   ]
  },
  {
   "cell_type": "code",
   "execution_count": null,
   "id": "569747b4",
   "metadata": {},
   "outputs": [],
   "source": [
    "import time\n",
    "\n",
    "sec = time.time()\n",
    "print(sec)\n",
    "print(datetime.datetime.fromtimestamp(sec))"
   ]
  },
  {
   "cell_type": "code",
   "execution_count": null,
   "id": "3c92ece4",
   "metadata": {},
   "outputs": [],
   "source": [
    "# Задать время\n",
    "time = datetime.time()\n",
    "print(time)"
   ]
  },
  {
   "cell_type": "code",
   "execution_count": null,
   "id": "65662ff5",
   "metadata": {},
   "outputs": [],
   "source": [
    "time = datetime.time(13)\n",
    "print(time)"
   ]
  },
  {
   "cell_type": "code",
   "execution_count": null,
   "id": "b0f86c82",
   "metadata": {},
   "outputs": [],
   "source": [
    "time = datetime.time(13, 24)\n",
    "print(time)"
   ]
  },
  {
   "cell_type": "code",
   "execution_count": null,
   "id": "d21d1001",
   "metadata": {},
   "outputs": [],
   "source": [
    "time = datetime.time(13, 24, 57)\n",
    "print(time)"
   ]
  },
  {
   "cell_type": "code",
   "execution_count": null,
   "id": "42e983ce",
   "metadata": {},
   "outputs": [],
   "source": [
    "# Получение текущего времени\n",
    "date_time = datetime.datetime.today()\n",
    "print(date_time)\n",
    "\n",
    "date_time = datetime.datetime.now()\n",
    "print(date_time)"
   ]
  },
  {
   "cell_type": "code",
   "execution_count": null,
   "id": "78722c9d",
   "metadata": {},
   "outputs": [],
   "source": [
    "date_str = \"16 February 2024\"\n",
    "date_format = \"%d %B %Y\"\n",
    "\n",
    "print(datetime.datetime.strptime(date_str, date_format))\n",
    "\n",
    "date_str = \"16 Feb 2024\"\n",
    "date_format = \"%d %b %Y\"\n",
    "\n",
    "print(datetime.datetime.strptime(date_str, date_format))"
   ]
  },
  {
   "cell_type": "code",
   "execution_count": null,
   "id": "5f6bd1a9",
   "metadata": {},
   "outputs": [],
   "source": [
    "d1 = datetime.datetime.strptime(\"01.01.2024 13:16\", \"%d.%m.%Y %H:%M\")\n",
    "print(d1)\n",
    "d2 = datetime.datetime.strptime(\"2024/03/03 17:18\", \"%Y/%m/%d %H:%M\")\n",
    "print(d2)"
   ]
  },
  {
   "cell_type": "code",
   "execution_count": null,
   "id": "51b8fb77",
   "metadata": {},
   "outputs": [],
   "source": [
    "d2 - d1"
   ]
  },
  {
   "cell_type": "code",
   "execution_count": null,
   "id": "e3993e79",
   "metadata": {},
   "outputs": [],
   "source": [
    "(d2 - d1).days"
   ]
  },
  {
   "cell_type": "code",
   "execution_count": null,
   "id": "5e1cfe4f",
   "metadata": {},
   "outputs": [],
   "source": [
    "(d2 - d1).seconds"
   ]
  },
  {
   "cell_type": "code",
   "execution_count": null,
   "id": "cbaf3653",
   "metadata": {},
   "outputs": [],
   "source": [
    "now = datetime.datetime.now()\n",
    "date_str = now.strftime(\"%m/%d/%y %H:%M:%S\")\n",
    "print(date_str)"
   ]
  },
  {
   "cell_type": "code",
   "execution_count": null,
   "id": "64bc5cd2",
   "metadata": {},
   "outputs": [],
   "source": [
    "datetime.datetime.now() - datetime.timedelta(days=5)"
   ]
  },
  {
   "cell_type": "code",
   "execution_count": null,
   "id": "08dc2aa6",
   "metadata": {},
   "outputs": [],
   "source": [
    "datetime.datetime.now() + datetime.timedelta(weeks=5)"
   ]
  },
  {
   "cell_type": "code",
   "execution_count": null,
   "id": "49bffd5d",
   "metadata": {},
   "outputs": [],
   "source": [
    "# День недели\n",
    "date_time = datetime.datetime.today()\n",
    "date_time.weekday()"
   ]
  },
  {
   "cell_type": "markdown",
   "id": "1b6d2bda",
   "metadata": {},
   "source": [
    "## pprint"
   ]
  },
  {
   "cell_type": "code",
   "execution_count": null,
   "id": "241f6e1e",
   "metadata": {},
   "outputs": [],
   "source": [
    "import pprint\n",
    "data = {\n",
    "    \"name\": \"John\",\n",
    "    \"age\": 30,\n",
    "    \"city\": \"New York\",\n",
    "    \"hobbies\": [\"reading\", \"playing guitar\", \"travelling\"],\n",
    "}\n",
    "\n",
    "pprint.pprint(data)\n",
    "print(data)"
   ]
  },
  {
   "cell_type": "markdown",
   "id": "f1b73128",
   "metadata": {},
   "source": [
    "Функция pprint предоставляет несколько параметров для настройки вывода данных. Например, можно установить ширину строки вывода и количество отступов для вложенных структур данных."
   ]
  },
  {
   "cell_type": "code",
   "execution_count": null,
   "id": "e55a97fb",
   "metadata": {},
   "outputs": [],
   "source": [
    "pprint.pprint(data, width=50, indent=4)"
   ]
  },
  {
   "cell_type": "code",
   "execution_count": null,
   "id": "5a0b2ed6",
   "metadata": {},
   "outputs": [],
   "source": [
    "pprint.pprint(data, depth=1)  # Указать глубину"
   ]
  },
  {
   "cell_type": "code",
   "execution_count": null,
   "id": "acdab7a8",
   "metadata": {},
   "outputs": [],
   "source": [
    "file = [\"file_00.csv\", \"file_01.csv\", \"file_02.csv\",\n",
    "        \"file_03.csv\", \"file_04.csv\", \"file_05.csv\",\n",
    "        \"file_06.csv\", \"file_07.csv\", \"file_08.csv\",\n",
    "        \"file_09.csv\", \"file_10.csv\", \"file_11.csv\",\n",
    "        \"file_12.csv\", \"file_13.csv\", \"file_14.csv\",\n",
    "        \"file_15.csv\", \"file_16.csv\", \"file_17.csv\",]"
   ]
  },
  {
   "cell_type": "code",
   "execution_count": null,
   "id": "edcb8827",
   "metadata": {},
   "outputs": [],
   "source": [
    "file"
   ]
  },
  {
   "cell_type": "code",
   "execution_count": null,
   "id": "981944d0",
   "metadata": {},
   "outputs": [],
   "source": [
    "print(file)"
   ]
  },
  {
   "cell_type": "code",
   "execution_count": null,
   "id": "813d9201",
   "metadata": {},
   "outputs": [],
   "source": [
    "pprint.pprint(file)"
   ]
  },
  {
   "cell_type": "markdown",
   "id": "28b6457c",
   "metadata": {},
   "source": [
    "## timeit\n",
    "\n",
    "Этот модуль предназначен для оценки производительности небольших фрагментов кода. \n",
    "\n",
    "Для этого необходимо импортировать саму библиотеку `timeit` и вызвать из нее метод `.timeit()`, передав ему название нашей функции и количество необходимых повторений.\n",
    "\n",
    "Рассмотрим следующую задачу конкатенации строк: Составить строку из чисел от 1 до 100, отделив числа друг от друга запятой."
   ]
  },
  {
   "cell_type": "code",
   "execution_count": null,
   "id": "a0bb2469",
   "metadata": {},
   "outputs": [],
   "source": [
    "import timeit\n",
    "\n",
    "# Алгоритм 1\n",
    "def concat():\n",
    "    s = \"\"\n",
    "    for i in range(100):\n",
    "        s += str(i) + \",\"\n",
    "    s += \"100\"\n",
    "\n",
    "# Алгоритм 2\n",
    "def join():\n",
    "    s = \",\".join(map(str, range(101)))\n",
    "\n",
    "print(timeit.timeit(concat, number=1000))\n",
    "print(timeit.timeit(join, number=1000))"
   ]
  },
  {
   "cell_type": "markdown",
   "id": "c381f637",
   "metadata": {},
   "source": [
    "# Работа с файлами\n",
    "\n",
    "Рассмотрим способы открытия, чтения и записи простых файлов с использования Python. \n",
    "\n",
    "Открывать файлы можно двумя способами. С помощью `open/close` и с помощью конструкции `with ... as`\n",
    "\n",
    "Синтаксис следующий:\n",
    "\n",
    "`f = open(file_name, access_mode)`\n",
    "\n",
    "Где, `file_name` = имя открываемого файла, а `access_mode` = режим открытия файла.\n",
    "\n",
    "Он может быть: для чтения, записи и т. д. По умолчанию используется режим чтения (r), если другое не указано. Далее полный список режимов открытия файла:\n",
    "\n",
    "- `r` Только для чтения.\n",
    "- `w` Только для записи. Создаст новый файл, если не найдет с указанным именем.\n",
    "- `rb` Только для чтения (бинарный).\n",
    "- `wb` Только для записи (бинарный). Создаст новый файл, если не найдет с указанным именем.\n",
    "- `r+` Для чтения и записи.\n",
    "- `rb+` Для чтения и записи (бинарный).\n",
    "- `w+` Для чтения и записи. Создаст новый файл для записи, если не найдет с указанным именем.\n",
    "- `wb+` Для чтения и записи (бинарный). Создаст новый файл для записи, если не найдет с указанным именем.\n",
    "- `a` Откроет для добавления нового содержимого. Создаст новый файл для записи, если не найдет с указанным именем.\n",
    "- `a+` Откроет для добавления нового содержимого. Создаст новый файл для чтения записи, если не найдет с указанным именем.\n",
    "- `ab` Откроет для добавления нового содержимого (бинарный). Создаст новый файл для записи, если не найдет с указанным именем.\n",
    "- `ab+` Откроет для добавления нового содержимого (бинарный). Создаст новый файл для чтения записи, если не найдет с указанным именем.\n",
    "\n",
    "Больше информации в статье [по ссылке](https://pythonru.com/osnovy/fajly-v-python-vvod-vyvod)\n",
    "\n",
    "Откроем и запишем строку в файл txt с использованием `open/close`. Файла с таким именем нет, Python сам создаст его. Использовать будем относительный путь, т.е. файл создаться в той же директории, где находится наш файл Python."
   ]
  },
  {
   "cell_type": "code",
   "execution_count": null,
   "id": "8596f3ec",
   "metadata": {},
   "outputs": [],
   "source": [
    "f = open(\"file.txt\", \"w\")\n",
    "f.write(\"Hey, Bim\")\n",
    "f.close()"
   ]
  },
  {
   "cell_type": "code",
   "execution_count": null,
   "id": "aed733d6",
   "metadata": {},
   "outputs": [],
   "source": [
    "#Узнаем в какой директории мы находимся\n",
    "\n",
    "import os\n",
    "os.getcwd()"
   ]
  },
  {
   "cell_type": "markdown",
   "id": "66858081",
   "metadata": {},
   "source": [
    "Абсолютный путь к файлу может выглядеть следующим образом"
   ]
  },
  {
   "cell_type": "code",
   "execution_count": null,
   "id": "e82792a5",
   "metadata": {},
   "outputs": [],
   "source": [
    "f = open(\"C:\\\\Users\\\\User\\\\Python_for_beginners\\\\Lect_13\\\\file.txt\", \"w\")\n",
    "f.write(\"Hey, Bim\")\n",
    "f.close()"
   ]
  },
  {
   "cell_type": "markdown",
   "id": "6824fed0",
   "metadata": {},
   "source": [
    "Запишем текст с использованием кириллицы. Для записи необходимо использовать только строковый тип, для этого явный тип int преобразуем в str"
   ]
  },
  {
   "cell_type": "code",
   "execution_count": null,
   "id": "2f28c049",
   "metadata": {},
   "outputs": [],
   "source": [
    "f = open(\"file.txt\", \"w\")\n",
    "f.write(\"Собаке Бим уже \" + str(5) + \" лет\")\n",
    "f.close()"
   ]
  },
  {
   "cell_type": "markdown",
   "id": "04df16b6",
   "metadata": {},
   "source": [
    "Получаем проблемы с кодировкой. Вместо такой ошибки, текст может отображаться некорректно, символы невозможно будет прочитать. Поведение также может зависеть от операционной системы и программы, в которой открывается файл - что корректно откроется в обычном блокноте Win, может не открыться в Jupyter Notebook или, например, корректно открыться в Jupyter Notebook, но в MS Excel увидим абракадабру. Поэтому, часто стоит указывать кодировку, особенно если в тексте есть кириллица:"
   ]
  },
  {
   "cell_type": "code",
   "execution_count": null,
   "id": "ee7678da",
   "metadata": {},
   "outputs": [],
   "source": [
    "f = open(\"file.txt\", \"w\", encoding='UTF-8')\n",
    "f.write(\"Собаке Бим уже \" + str(5) + \" лет\")\n",
    "f.close()"
   ]
  },
  {
   "cell_type": "markdown",
   "id": "f7b767d3",
   "metadata": {},
   "source": [
    "На самом глубоком уровне компьютер оперирует исключительно цифрами 0 и 1. Это так называемый [двоичный код](https://ru.wikipedia.org/wiki/Двоичный_код), а единички и нули называются битами, от \"binary digit\" — «двоичная цифра».\n",
    "\n",
    "Обычные, привычные нам числа в десятичной системе исчисления, закодированы с помощью двоичных чисел.\n",
    "\n",
    "Компьютер на самом деле не знает ничего о буквах, знаках пунктуации и прочих текстовых символах. Все эти символы так же закодированы числами. В этом заключается суть `кодировок`.\n",
    "\n",
    "Во время своей работы, программы используют кодировки для преобразования чисел в символы и наоборот. Причём сама программа не имеет представления о смысле этих символов.\n",
    "\n",
    "Подобные таблицы, в которых сопоставляются буквы и числа, называются кодировками. Кроме букв алфавита, в таблицы кодировок входят знаки препинания и другие полезные символы. Вы наверняка сталкивались с кодировками, например, [ASCII](https://ru.wikipedia.org/wiki/ASCII) или [UTF-8](https://ru.wikipedia.org/wiki/UTF-8).\n",
    "\n",
    "Разные кодировки содержат разное количество символов. Изначально небольших таблиц вроде ASCII было достаточно для большинства задач. Но в ней только латинские буквы, несколько простых символов вроде % и ? и специальные управляющие символы типа перевода строки.\n",
    "\n",
    "С распространением компьютеров, разным странам понадобились свои, более широкие таблицы. В том числе для кириллических букв, восточных иероглифов, арабской вязи, дополнительных математических и типографских символов, а впоследствии даже для эмодзи-смайликов.\n",
    "\n",
    "Сегодня в большинстве случаев используется один из вариантов [юникода](https://ru.wikipedia.org/wiki/Юникод), включающий в себя знаки почти всех письменных языков мира.\n",
    "\n",
    "В Python можно «запросить» и вывести на экран любой символ из кодировки ASCII, по его номеру. Для этого используется функция `chr()`. Например:"
   ]
  },
  {
   "cell_type": "code",
   "execution_count": null,
   "id": "926cd9ca",
   "metadata": {},
   "outputs": [],
   "source": [
    "print(chr(126))\n",
    "print(chr(94))\n",
    "print(chr(37))"
   ]
  },
  {
   "cell_type": "markdown",
   "id": "f8905097",
   "metadata": {},
   "source": [
    "Теперь воспользуемся конструкцией `with ... as` для открытия и записи файла"
   ]
  },
  {
   "cell_type": "code",
   "execution_count": null,
   "id": "7d29113d",
   "metadata": {},
   "outputs": [],
   "source": [
    "with open(\"file.txt\", \"w\", encoding='UTF-8') as f:\n",
    "    f.write(\"Сегодня теплее чем вчера\")\n",
    "    f.write(\"Завтра обещают похолодание\")"
   ]
  },
  {
   "cell_type": "markdown",
   "id": "57a289ab",
   "metadata": {},
   "source": [
    "Запишем список в файл"
   ]
  },
  {
   "cell_type": "code",
   "execution_count": null,
   "id": "c649ae1f",
   "metadata": {},
   "outputs": [],
   "source": [
    "lst = [\"Мама\", \"мыла\", \"раму\"]\n",
    "with open(\"file.txt\", \"w\", encoding='UTF-8') as f:\n",
    "    f.write(lst)"
   ]
  },
  {
   "cell_type": "markdown",
   "id": "8115957d",
   "metadata": {},
   "source": [
    "Для записи списка необходимо использовать writelines"
   ]
  },
  {
   "cell_type": "code",
   "execution_count": null,
   "id": "5444563c",
   "metadata": {},
   "outputs": [],
   "source": [
    "lst = [\"Мама \", \" мыла \", \" раму\", \"\\n\"]\n",
    "with open(\"file.txt\", \"w\", encoding='UTF-8') as f:\n",
    "    f.writelines(lst)"
   ]
  },
  {
   "cell_type": "markdown",
   "id": "6b218664",
   "metadata": {},
   "source": [
    "Ранее мы перезаписывали файл. Для добавление данных файл нужно сменить \"w\" на \"a\""
   ]
  },
  {
   "cell_type": "code",
   "execution_count": null,
   "id": "f57b3615",
   "metadata": {},
   "outputs": [],
   "source": [
    "lst = [\"Раму \", \" мыла \", \" мама\"]\n",
    "with open(\"1.txt\", \"a\", encoding='UTF-8') as f:\n",
    "    f.writelines(lst)"
   ]
  },
  {
   "cell_type": "markdown",
   "id": "0895fd26",
   "metadata": {},
   "source": [
    "Откроем файл для чтения. Сменим \"a\" на \"r\""
   ]
  },
  {
   "cell_type": "code",
   "execution_count": null,
   "id": "22c8a289",
   "metadata": {},
   "outputs": [],
   "source": [
    "with open(\"file_r.txt\", \"r\") as f:\n",
    "    st = f.read()\n",
    "st"
   ]
  },
  {
   "cell_type": "markdown",
   "id": "2a782e38",
   "metadata": {},
   "source": [
    "Добавим encoding='UTF-8'"
   ]
  },
  {
   "cell_type": "code",
   "execution_count": null,
   "id": "e1964bbb",
   "metadata": {},
   "outputs": [],
   "source": [
    "with open(\"file_r.txt\", \"r\", encoding='UTF-8') as f:\n",
    "    st = f.read()\n",
    "st"
   ]
  },
  {
   "cell_type": "markdown",
   "id": "d72f8bb3",
   "metadata": {},
   "source": [
    "Прочитаем первые 25 символов"
   ]
  },
  {
   "cell_type": "code",
   "execution_count": null,
   "id": "d392b8e6",
   "metadata": {},
   "outputs": [],
   "source": [
    "with open(\"file_r.txt\", \"r\", encoding='UTF-8') as f:\n",
    "    st = f.read(25)\n",
    "st"
   ]
  },
  {
   "cell_type": "markdown",
   "id": "97cc84ca",
   "metadata": {},
   "source": [
    "Прочитаем 1 строку"
   ]
  },
  {
   "cell_type": "code",
   "execution_count": null,
   "id": "24a5e395",
   "metadata": {},
   "outputs": [],
   "source": [
    "with open(\"file_r.txt\", \"r\", encoding='UTF-8') as f:\n",
    "    st = f.readline()\n",
    "st"
   ]
  },
  {
   "cell_type": "markdown",
   "id": "06412c89",
   "metadata": {},
   "source": [
    "Прочитаем первые две строчки, выведем только вторую"
   ]
  },
  {
   "cell_type": "code",
   "execution_count": null,
   "id": "1a726170",
   "metadata": {},
   "outputs": [],
   "source": [
    "with open(\"file_r.txt\", \"r\", encoding='UTF-8') as f:\n",
    "    st = f.readline()\n",
    "    st2 = f.readline()\n",
    "st2"
   ]
  },
  {
   "cell_type": "markdown",
   "id": "2f9eb38d",
   "metadata": {},
   "source": [
    "Считаем все строки"
   ]
  },
  {
   "cell_type": "code",
   "execution_count": null,
   "id": "ea123214",
   "metadata": {},
   "outputs": [],
   "source": [
    "with open(\"file_r.txt\", \"r\", encoding='UTF-8') as f:\n",
    "    st = f.readlines()\n",
    "st"
   ]
  },
  {
   "cell_type": "markdown",
   "id": "b9c7f102",
   "metadata": {},
   "source": [
    "Еще один способ считывание всего файла в одну переменную str"
   ]
  },
  {
   "cell_type": "code",
   "execution_count": null,
   "id": "71b0951e",
   "metadata": {},
   "outputs": [],
   "source": [
    "st = \"\"\n",
    "with open(\"file_r.txt\", \"r\", encoding='UTF-8') as f:\n",
    "    for s in f:\n",
    "        st += s\n",
    "st"
   ]
  },
  {
   "cell_type": "markdown",
   "id": "ce261765",
   "metadata": {},
   "source": [
    "Уберем перенос строк c использованием `strip()`"
   ]
  },
  {
   "cell_type": "code",
   "execution_count": null,
   "id": "08e24ebb",
   "metadata": {},
   "outputs": [],
   "source": [
    "st = \"\"\n",
    "with open(\"file_r.txt\", \"r\", encoding='UTF-8') as f:\n",
    "    for s in f:\n",
    "        st += s.strip() + \" \"\n",
    "st"
   ]
  },
  {
   "cell_type": "markdown",
   "id": "5a18b7aa",
   "metadata": {},
   "source": [
    "Часто для хранения табличных данных используют формат csv. В данном файле данные записаны по строкам, а разделение по столбцам происходит с помощью запятых (точек с запятой, пробелами и т.д.), отделяющих значения друг от друга. Данные файлы можно просматривать в редакторе таблиц (например, Excel и Google Sheets)\n",
    "\n",
    "Откроем csv файл"
   ]
  },
  {
   "cell_type": "code",
   "execution_count": null,
   "id": "905ebebc",
   "metadata": {},
   "outputs": [],
   "source": [
    "csv_data = \"\"\n",
    "with open(\"file_csv.csv\", \"r\", encoding='UTF-8') as f:\n",
    "    for s in f:\n",
    "        csv_data += s\n",
    "csv_data"
   ]
  },
  {
   "cell_type": "markdown",
   "id": "489bb115",
   "metadata": {},
   "source": [
    "Создадим частотный словарь повести Антуана де Сент-Экзюпери Маленький принц.\n",
    "\n",
    "Считываем текст из файла в одну строковую переменную, удаляя пробельные символы по краям строки."
   ]
  },
  {
   "cell_type": "code",
   "execution_count": null,
   "id": "42b8a35e",
   "metadata": {},
   "outputs": [],
   "source": [
    "text = \"\"\n",
    "with open(\"The_Little_Prince.txt\", \"r\", encoding='UTF-8') as f:\n",
    "    for s in f:\n",
    "        text += s.strip() + \" \"\n",
    "print(text[:100])"
   ]
  },
  {
   "cell_type": "markdown",
   "id": "44f1eb78",
   "metadata": {},
   "source": [
    "Чтобы создать словарь уникальных слов, сначала нужно получить список этих слов. Но при обычном разделении через split() они у нас будут с лишними символами: запятая, точка, восклицательный знак и т.д."
   ]
  },
  {
   "cell_type": "code",
   "execution_count": null,
   "id": "2d2b0f72",
   "metadata": {},
   "outputs": [],
   "source": [
    "words = text.split()   \n",
    "\n",
    "print(words[:100])"
   ]
  },
  {
   "cell_type": "markdown",
   "id": "b63d6197",
   "metadata": {},
   "source": [
    "Создадим список слов без посторонних списков и приведем все к одному регистру"
   ]
  },
  {
   "cell_type": "code",
   "execution_count": null,
   "id": "086adbba",
   "metadata": {},
   "outputs": [],
   "source": [
    "words_lst = []\n",
    "\n",
    "for st in words:\n",
    "    st_temp = st.lower().strip('.,;:!«»?—()\"') \n",
    "    if st_temp != '':\n",
    "        words_lst.append(st_temp)\n",
    "\n",
    "\n",
    "print(words_lst[:100]) "
   ]
  },
  {
   "cell_type": "markdown",
   "id": "724cfef8",
   "metadata": {},
   "source": [
    "Напишем функцию для создания словаря слов"
   ]
  },
  {
   "cell_type": "code",
   "execution_count": null,
   "id": "0ad6dd75",
   "metadata": {},
   "outputs": [],
   "source": [
    "def create_dict(lst_words): \n",
    "    dic = {}\n",
    "    for word in lst_words:\n",
    "        if word not in dic:\n",
    "            dic[word] = 1\n",
    "        else:\n",
    "            dic[word] += 1\n",
    "    return dic     "
   ]
  },
  {
   "cell_type": "markdown",
   "id": "8fdcfb98",
   "metadata": {},
   "source": [
    "Проверим функцию на небольшом тексте"
   ]
  },
  {
   "cell_type": "code",
   "execution_count": null,
   "id": "29d07b6c",
   "metadata": {
    "scrolled": true
   },
   "outputs": [],
   "source": [
    "small_text = 'Мама мыла раму – раму мыла мама'.split()\n",
    "small_dict = create_dict(small_text)\n",
    "print(small_dict)\n",
    "small_text"
   ]
  },
  {
   "cell_type": "markdown",
   "id": "f94caf32",
   "metadata": {},
   "source": [
    "Запустим на данных из нашей книжки "
   ]
  },
  {
   "cell_type": "code",
   "execution_count": null,
   "id": "38809d4c",
   "metadata": {},
   "outputs": [],
   "source": [
    "dict_of_words = create_dict(words_lst)\n",
    "print(len(dict_of_words))\n",
    "len(words_lst)"
   ]
  },
  {
   "cell_type": "markdown",
   "id": "5d51af29",
   "metadata": {},
   "source": [
    "С помощью функции выведем первые 10 элементов словаря в том порядке, в котором они расположены в словаре"
   ]
  },
  {
   "cell_type": "code",
   "execution_count": null,
   "id": "f7a4f9a6",
   "metadata": {
    "scrolled": true
   },
   "outputs": [],
   "source": [
    "def print_dict(dictionary):\n",
    "    i = 0\n",
    "    for w in dictionary:\n",
    "        if i == 10:\n",
    "            break\n",
    "        print(w, dictionary[w])\n",
    "        i += 1\n",
    "        \n",
    "print_dict(dict_of_words)"
   ]
  },
  {
   "cell_type": "markdown",
   "id": "1c87e697",
   "metadata": {},
   "source": [
    "Отсортируем небольшой словарь. Для этого воспользуемся функцией sorted для сортировки с key в виде lamda-функции.\n",
    "\n",
    "Сортировка будет проходить по второму элементу, т.е. по встречаемости слов.\n",
    "\n",
    "Также применим reverse=True для сортировки от наибольшего к наименьшему."
   ]
  },
  {
   "cell_type": "code",
   "execution_count": null,
   "id": "2382dc21",
   "metadata": {},
   "outputs": [],
   "source": [
    "print(sorted(small_dict.items(), key=lambda dict: dict[1], reverse=True))"
   ]
  },
  {
   "cell_type": "markdown",
   "id": "ed9aeaca",
   "metadata": {},
   "source": [
    "Следующий результат получается на данных из книги Маленький принц "
   ]
  },
  {
   "cell_type": "code",
   "execution_count": null,
   "id": "f98e7c3b",
   "metadata": {},
   "outputs": [],
   "source": [
    "sorted_list = sorted(dict_of_words.items(), key=lambda dict: dict[1], reverse=True)"
   ]
  },
  {
   "cell_type": "code",
   "execution_count": null,
   "id": "35990436",
   "metadata": {},
   "outputs": [],
   "source": [
    "sorted_list"
   ]
  },
  {
   "cell_type": "markdown",
   "id": "0d4d70ee",
   "metadata": {},
   "source": [
    "Список стоп-слов"
   ]
  },
  {
   "cell_type": "code",
   "execution_count": null,
   "id": "732478a4",
   "metadata": {},
   "outputs": [],
   "source": [
    "stopwords = ['и', 'в', 'во', 'не', 'что', 'он', 'на', 'я', 'с', 'со', 'как', 'а', 'то', \n",
    "             'она', 'так', 'его', 'но', 'да', 'ты', 'к', 'у', 'же', 'вы', 'за', 'бы', \n",
    "             'по', 'только', 'ее', 'мне', 'было', 'вот', 'от', 'меня', 'еще', 'нет', 'о', 'из', \n",
    "             'ему', 'теперь', 'когда', 'даже', 'ну', 'вдруг', 'ли', 'если', 'уже', 'или', 'ни', 'быть', \n",
    "             'был', 'него', 'до', 'вас', 'нибудь', 'опять', 'уж', 'вам', 'ведь', 'там', 'потом', 'себя', \n",
    "             'ничего', 'ей', 'может', 'они', 'тут', 'где', 'есть', 'надо', 'ней', 'для', 'мы', 'тебя', 'их', \n",
    "             'чем', 'была', 'сам', 'чтоб', 'без', 'будто', 'чего', 'раз', 'тоже', 'себе', 'под', 'будет', 'ж', \n",
    "             'тогда', 'кто', 'этот', 'того', 'потому', 'этого', 'какой', 'совсем', 'ним', 'здесь', 'этом', \n",
    "             'один', 'почти', 'мой', 'тем', 'чтобы', 'нее', 'сейчас', 'были', 'куда', 'зачем', 'всех', \n",
    "             'никогда', 'можно', 'при', 'наконец', 'два', 'об', 'другой', 'хоть', 'после', 'над', 'больше', \n",
    "             'тот', 'через', 'эти', 'нас', 'про', 'всего', 'них', 'какая', 'много', 'разве', 'три', 'эту', \n",
    "             'моя', 'впрочем', 'хорошо', 'свою', 'этой', 'перед', 'иногда', 'лучше', 'чуть', 'том', \n",
    "             'такой', 'им', 'более', 'всегда', 'всю', 'между','это']"
   ]
  },
  {
   "cell_type": "markdown",
   "id": "4e974917",
   "metadata": {},
   "source": [
    "Создадим новый список слов Маленького принца без стоп-слов"
   ]
  },
  {
   "cell_type": "code",
   "execution_count": null,
   "id": "335cb65b",
   "metadata": {},
   "outputs": [],
   "source": [
    "words_lst_new = []                 # Создаем пустой список\n",
    "for word in words_lst:             # Последовательно для всех слов из списка\n",
    "    if word not in stopwords:      # Если слово не находится в списке стоп-слов\n",
    "        words_lst_new.append(word) # Добавляем его к новому списку\n",
    "print(words_lst_new[:10])          # Смотрим фрагмент получившегося списка, где видно, что стоп-слова исключены\n",
    "len(words_lst_new)"
   ]
  },
  {
   "cell_type": "markdown",
   "id": "52e9d03e",
   "metadata": {},
   "source": [
    "Создадим новый словарь без стоп-слов и отсортируем его"
   ]
  },
  {
   "cell_type": "code",
   "execution_count": null,
   "id": "c79c8c56",
   "metadata": {},
   "outputs": [],
   "source": [
    "dict_without_stopwords = create_dict(words_lst_new)"
   ]
  },
  {
   "cell_type": "code",
   "execution_count": null,
   "id": "3059962c",
   "metadata": {},
   "outputs": [],
   "source": [
    "print_dict(dict_without_stopwords)"
   ]
  },
  {
   "cell_type": "code",
   "execution_count": null,
   "id": "881f26f1",
   "metadata": {},
   "outputs": [],
   "source": [
    "sorted_without_stopwords = sorted(dict_without_stopwords.items(), key=lambda x: x[1], reverse=True)\n",
    "sorted_without_stopwords[:15]"
   ]
  },
  {
   "cell_type": "markdown",
   "id": "75047391",
   "metadata": {},
   "source": [
    "Запишем результат в файл"
   ]
  },
  {
   "cell_type": "code",
   "execution_count": null,
   "id": "5bec6d12",
   "metadata": {},
   "outputs": [],
   "source": [
    "with open(\"Prince.txt\", \"w\", encoding='UTF-8') as f:\n",
    "    for lst in sorted_without_stopwords:\n",
    "        f.writelines(lst[0] + \", \" + str(lst[1]) + \"\\n\")"
   ]
  },
  {
   "cell_type": "code",
   "execution_count": null,
   "id": "1fe65bfd",
   "metadata": {},
   "outputs": [],
   "source": [
    "with open(\"Prince.csv\", \"w\", encoding='UTF-8') as f:\n",
    "    for lst in sorted_without_stopwords:\n",
    "        f.writelines(lst[0] + \", \" + str(lst[1]) + \"\\n\")"
   ]
  },
  {
   "cell_type": "markdown",
   "id": "3b7c9ecb",
   "metadata": {},
   "source": [
    "**Работа с csv-файлами**\n",
    "\n",
    "Откроем файл"
   ]
  },
  {
   "cell_type": "code",
   "execution_count": 1,
   "id": "76d7a9e1",
   "metadata": {},
   "outputs": [
    {
     "data": {
      "text/plain": [
       "'data;usd;eur\\n31.12.2023;89.6883;99.1919\\n30.12.2023;89.6883;99.1919\\n29.12.2023;90.3041;100.5506\\n28.12'"
      ]
     },
     "execution_count": 1,
     "metadata": {},
     "output_type": "execute_result"
    }
   ],
   "source": [
    "csv_data = \"\"\n",
    "with open(\"usd_eur_quotes.csv\", \"r\") as f:\n",
    "    for line in f:\n",
    "        csv_data += line\n",
    "csv_data[:100]"
   ]
  },
  {
   "cell_type": "markdown",
   "id": "fc5dc393",
   "metadata": {},
   "source": [
    "В данном случае лучше сразу разбить данные на элементы списка в момент считывания файла"
   ]
  },
  {
   "cell_type": "code",
   "execution_count": 2,
   "id": "a88d40ab",
   "metadata": {},
   "outputs": [
    {
     "data": {
      "text/plain": [
       "[['data', 'usd', 'eur\\n'],\n",
       " ['31.12.2023', '89.6883', '99.1919\\n'],\n",
       " ['30.12.2023', '89.6883', '99.1919\\n'],\n",
       " ['29.12.2023', '90.3041', '100.5506\\n'],\n",
       " ['28.12.2023', '91.7051', '101.3451\\n'],\n",
       " ['27.12.2023', '91.7069', '101.1178\\n'],\n",
       " ['26.12.2023', '91.969', '101.5781\\n'],\n",
       " ['25.12.2023', '91.9389', '101.2863\\n'],\n",
       " ['24.12.2023', '91.9389', '101.2863\\n'],\n",
       " ['23.12.2023', '91.9389', '101.2863\\n'],\n",
       " ['22.12.2023', '91.7062', '100.5113\\n'],\n",
       " ['21.12.2023', '90.4056', '99.048\\n'],\n",
       " ['20.12.2023', '90.087', '98.5764\\n'],\n",
       " ['19.12.2023', '90.4162', '98.7578\\n'],\n",
       " ['18.12.2023', '89.6966', '98.4186\\n'],\n",
       " ['17.12.2023', '89.6966', '98.4186\\n'],\n",
       " ['16.12.2023', '89.6966', '98.4186\\n'],\n",
       " ['15.12.2023', '89.6741', '97.7377\\n'],\n",
       " ['14.12.2023', '89.8926', '96.95\\n'],\n",
       " ['13.12.2023', '90.2158', '97.403\\n'],\n",
       " ['12.12.2023', '90.9846', '98.0769\\n'],\n",
       " ['11.12.2023', '91.6402', '98.8409\\n'],\n",
       " ['10.12.2023', '91.6402', '98.8409\\n'],\n",
       " ['09.12.2023', '91.6402', '98.8409\\n'],\n",
       " ['08.12.2023', '92.5654', '99.8131\\n'],\n",
       " ['07.12.2023', '92.7826', '100.1353\\n'],\n",
       " ['06.12.2023', '91.5823', '99.134\\n'],\n",
       " ['05.12.2023', '90.6728', '98.5768\\n'],\n",
       " ['04.12.2023', '89.7619', '97.9126\\n'],\n",
       " ['03.12.2023', '89.7619', '97.9126\\n'],\n",
       " ['02.12.2023', '89.7619', '97.9126\\n'],\n",
       " ['01.12.2023', '88.5819', '96.8827\\n'],\n",
       " ['30.11.2023', '88.8841', '97.6503\\n'],\n",
       " ['29.11.2023', '88.6102', '97.0659\\n'],\n",
       " ['28.11.2023', '88.7045', '97.1594\\n'],\n",
       " ['27.11.2023', '88.8133', '96.9187\\n'],\n",
       " ['26.11.2023', '88.8133', '96.9187\\n'],\n",
       " ['25.11.2023', '88.8133', '96.9187\\n'],\n",
       " ['24.11.2023', '88.1206', '96.2273\\n'],\n",
       " ['23.11.2023', '88.1648', '96.1475\\n'],\n",
       " ['22.11.2023', '87.8701', '96.2561\\n'],\n",
       " ['21.11.2023', '88.4954', '96.6597\\n'],\n",
       " ['20.11.2023', '89.1237', '96.7692\\n'],\n",
       " ['19.11.2023', '89.1237', '96.7692\\n'],\n",
       " ['18.11.2023', '89.1237', '96.7692\\n'],\n",
       " ['17.11.2023', '88.9466', '96.5921\\n'],\n",
       " ['16.11.2023', '89.4565', '97.1334\\n'],\n",
       " ['15.11.2023', '91.257', '97.7781\\n'],\n",
       " ['14.11.2023', '92.1185', '98.5314\\n'],\n",
       " ['13.11.2023', '92.0535', '98.3155\\n'],\n",
       " ['12.11.2023', '92.0535', '98.3155\\n'],\n",
       " ['11.11.2023', '92.0535', '98.3155\\n'],\n",
       " ['10.11.2023', '91.9266', '98.4076\\n'],\n",
       " ['09.11.2023', '92.1973', '98.4403\\n'],\n",
       " ['08.11.2023', '92.4151', '98.7863\\n'],\n",
       " ['07.11.2023', '93.0351', '99.0111\\n'],\n",
       " ['06.11.2023', '93.0351', '99.0111\\n'],\n",
       " ['05.11.2023', '93.0351', '99.0111\\n'],\n",
       " ['04.11.2023', '93.0351', '99.0111\\n'],\n",
       " ['03.11.2023', '93.173', '98.9995\\n'],\n",
       " ['02.11.2023', '93.2801', '98.4365\\n'],\n",
       " ['01.11.2023', '92.0226', '97.9345\\n'],\n",
       " ['31.10.2023', '93.2435', '98.6164\\n'],\n",
       " ['30.10.2023', '93.2174', '98.3504\\n'],\n",
       " ['29.10.2023', '93.2174', '98.3504\\n'],\n",
       " ['28.10.2023', '93.2174', '98.3504\\n'],\n",
       " ['27.10.2023', '93.5616', '98.7376\\n'],\n",
       " ['26.10.2023', '93.1507', '98.6543\\n'],\n",
       " ['25.10.2023', '93.5224', '99.5534\\n'],\n",
       " ['24.10.2023', '94.7081', '100.303\\n'],\n",
       " ['23.10.2023', '95.9053', '101.4257\\n'],\n",
       " ['22.10.2023', '95.9053', '101.4257\\n'],\n",
       " ['21.10.2023', '95.9053', '101.4257\\n'],\n",
       " ['20.10.2023', '97.3074', '102.6255\\n'],\n",
       " ['19.10.2023', '97.3724', '102.9059\\n'],\n",
       " ['18.10.2023', '97.3458', '102.7527\\n'],\n",
       " ['17.10.2023', '97.2865', '102.52\\n'],\n",
       " ['16.10.2023', '97.3075', '102.5523\\n'],\n",
       " ['15.10.2023', '97.3075', '102.5523\\n'],\n",
       " ['14.10.2023', '97.3075', '102.5523\\n'],\n",
       " ['13.10.2023', '96.9948', '103.035\\n'],\n",
       " ['12.10.2023', '99.9808', '105.9544\\n'],\n",
       " ['11.10.2023', '99.9349', '105.6864\\n'],\n",
       " ['10.10.2023', '101.3598', '107.0322\\n'],\n",
       " ['09.10.2023', '100.4911', '106.01\\n'],\n",
       " ['08.10.2023', '100.4911', '106.01\\n'],\n",
       " ['07.10.2023', '100.4911', '106.01\\n'],\n",
       " ['06.10.2023', '99.6762', '104.7877\\n'],\n",
       " ['05.10.2023', '99.4555', '104.3024\\n'],\n",
       " ['04.10.2023', '99.2677', '104.0621\\n'],\n",
       " ['03.10.2023', '98.4785', '103.868\\n'],\n",
       " ['02.10.2023', '97.4147', '103.1631\\n'],\n",
       " ['01.10.2023', '97.4147', '103.1631\\n'],\n",
       " ['30.09.2023', '97.4147', '103.1631\\n'],\n",
       " ['29.09.2023', '97.0018', '102.0979\\n'],\n",
       " ['28.09.2023', '96.5', '101.978\\n'],\n",
       " ['27.09.2023', '96.2378', '101.9888\\n'],\n",
       " ['26.09.2023', '96.1456', '102.2453\\n'],\n",
       " ['25.09.2023', '96.0419', '102.2485\\n'],\n",
       " ['24.09.2023', '96.0419', '102.2485\\n'],\n",
       " ['23.09.2023', '96.0419', '102.2485\\n'],\n",
       " ['22.09.2023', '96.0762', '102.3606\\n'],\n",
       " ['21.09.2023', '96.6172', '103.3699\\n'],\n",
       " ['20.09.2023', '96.2236', '102.9211\\n'],\n",
       " ['19.09.2023', '96.6472', '103.0945\\n'],\n",
       " ['18.09.2023', '96.6338', '103.0358\\n'],\n",
       " ['17.09.2023', '96.6338', '103.0358\\n'],\n",
       " ['16.09.2023', '96.6338', '103.0358\\n'],\n",
       " ['15.09.2023', '96.1609', '103.2289\\n'],\n",
       " ['14.09.2023', '95.9794', '103.1066\\n'],\n",
       " ['13.09.2023', '94.7035', '101.5646\\n'],\n",
       " ['12.09.2023', '96.5083', '103.5332\\n'],\n",
       " ['11.09.2023', '97.9241', '104.8872\\n'],\n",
       " ['10.09.2023', '97.9241', '104.8872\\n'],\n",
       " ['09.09.2023', '97.9241', '104.8872\\n'],\n",
       " ['08.09.2023', '98.1961', '105.2776\\n'],\n",
       " ['07.09.2023', '97.8439', '105.0789\\n'],\n",
       " ['06.09.2023', '97.5383', '104.9043\\n'],\n",
       " ['05.09.2023', '96.6199', '104.4171\\n'],\n",
       " ['04.09.2023', '96.3411', '104.6108\\n'],\n",
       " ['03.09.2023', '96.3411', '104.6108\\n'],\n",
       " ['02.09.2023', '96.3411', '104.6108\\n'],\n",
       " ['01.09.2023', '96.3344', '104.9407\\n'],\n",
       " ['31.08.2023', '95.9283', '104.4496\\n'],\n",
       " ['30.08.2023', '95.707', '103.4765\\n'],\n",
       " ['29.08.2023', '95.4717', '103.2434\\n'],\n",
       " ['28.08.2023', '94.7117', '102.2586\\n'],\n",
       " ['27.08.2023', '94.7117', '102.2586\\n'],\n",
       " ['26.08.2023', '94.7117', '102.2586\\n'],\n",
       " ['25.08.2023', '94.4007', '102.4719\\n'],\n",
       " ['24.08.2023', '94.4421', '102.2452\\n'],\n",
       " ['23.08.2023', '94.1185', '102.753\\n'],\n",
       " ['22.08.2023', '94.1424', '102.5719\\n'],\n",
       " ['21.08.2023', '93.4047', '101.4802\\n'],\n",
       " ['20.08.2023', '93.4047', '101.4802\\n'],\n",
       " ['19.08.2023', '93.4047', '101.4802\\n'],\n",
       " ['18.08.2023', '93.746', '102.181\\n'],\n",
       " ['17.08.2023', '96.7045', '105.6591\\n'],\n",
       " ['16.08.2023', '97.4217', '106.5736\\n'],\n",
       " ['15.08.2023', '101.0399', '110.6847\\n'],\n",
       " ['14.08.2023', '98.2066', '107.9723\\n'],\n",
       " ['13.08.2023', '98.2066', '107.9723\\n'],\n",
       " ['12.08.2023', '98.2066', '107.9723\\n'],\n",
       " ['11.08.2023', '97.2794', '107.1563\\n'],\n",
       " ['10.08.2023', '97.3999', '106.8897\\n'],\n",
       " ['09.08.2023', '96.0755', '105.4352\\n'],\n",
       " ['08.08.2023', '96.5668', '106.0543\\n'],\n",
       " ['07.08.2023', '94.8076', '103.8379\\n'],\n",
       " ['06.08.2023', '94.8076', '103.8379\\n'],\n",
       " ['05.08.2023', '94.8076', '103.8379\\n'],\n",
       " ['04.08.2023', '93.7792', '102.531\\n'],\n",
       " ['03.08.2023', '92.841', '101.9268\\n'],\n",
       " ['02.08.2023', '91.7755', '100.6988\\n'],\n",
       " ['01.08.2023', '91.5923', '100.9428\\n'],\n",
       " ['31.07.2023', '90.9783', '99.9586\\n'],\n",
       " ['30.07.2023', '90.9783', '99.9586\\n'],\n",
       " ['29.07.2023', '90.9783', '99.9586\\n'],\n",
       " ['28.07.2023', '90.0225', '100.2173\\n'],\n",
       " ['27.07.2023', '90.0468', '99.7156\\n'],\n",
       " ['26.07.2023', '90.0945', '99.6918\\n'],\n",
       " ['25.07.2023', '90.489', '100.3614\\n'],\n",
       " ['24.07.2023', '90.3846', '100.6562\\n'],\n",
       " ['23.07.2023', '90.3846', '100.6562\\n'],\n",
       " ['22.07.2023', '90.3846', '100.6562\\n'],\n",
       " ['21.07.2023', '90.8545', '101.833\\n'],\n",
       " ['20.07.2023', '91.2046', '102.4441\\n'],\n",
       " ['19.07.2023', '90.6906', '102.0271\\n'],\n",
       " ['18.07.2023', '90.4217', '101.6496\\n'],\n",
       " ['17.07.2023', '90.119', '101.1992\\n'],\n",
       " ['16.07.2023', '90.119', '101.1992\\n'],\n",
       " ['15.07.2023', '90.119', '101.1992\\n'],\n",
       " ['14.07.2023', '90.1757', '100.6788\\n'],\n",
       " ['13.07.2023', '90.6253', '99.889\\n'],\n",
       " ['12.07.2023', '90.5045', '99.6775\\n'],\n",
       " ['11.07.2023', '91.4931', '100.4155\\n'],\n",
       " ['10.07.2023', '91.6879', '99.8189\\n'],\n",
       " ['09.07.2023', '91.6879', '99.8189\\n'],\n",
       " ['08.07.2023', '91.6879', '99.8189\\n'],\n",
       " ['07.07.2023', '92.5695', '100.7163\\n'],\n",
       " ['06.07.2023', '90.338', '98.4144\\n'],\n",
       " ['05.07.2023', '89.545', '97.7382\\n'],\n",
       " ['04.07.2023', '89.3255', '97.2582\\n'],\n",
       " ['03.07.2023', '88.3844', '96.0195\\n'],\n",
       " ['02.07.2023', '88.3844', '96.0195\\n'],\n",
       " ['01.07.2023', '88.3844', '96.0195\\n'],\n",
       " ['30.06.2023', '87.0341', '95.1052\\n'],\n",
       " ['29.06.2023', '85.6192', '93.8644\\n'],\n",
       " ['28.06.2023', '85.0504', '93.1373\\n'],\n",
       " ['27.06.2023', '84.6642', '92.2969\\n'],\n",
       " ['26.06.2023', '84.0793', '91.4933\\n'],\n",
       " ['25.06.2023', '84.0793', '91.4933\\n'],\n",
       " ['24.06.2023', '84.0793', '91.4933\\n'],\n",
       " ['23.06.2023', '83.6077', '91.943\\n'],\n",
       " ['22.06.2023', '84.2467', '92.0014\\n'],\n",
       " ['21.06.2023', '84.2336', '92.0745\\n'],\n",
       " ['20.06.2023', '83.9866', '91.7966\\n'],\n",
       " ['19.06.2023', '83.6498', '91.6329\\n'],\n",
       " ['18.06.2023', '83.6498', '91.6329\\n'],\n",
       " ['17.06.2023', '83.6498', '91.6329\\n'],\n",
       " ['16.06.2023', '83.9611', '90.9665\\n'],\n",
       " ['15.06.2023', '84.3249', '91.0668\\n'],\n",
       " ['14.06.2023', '83.6405', '90.3899\\n'],\n",
       " ['13.06.2023', '82.6417', '89.0057\\n'],\n",
       " ['12.06.2023', '82.6417', '89.0057\\n'],\n",
       " ['11.06.2023', '82.6417', '89.0057\\n'],\n",
       " ['10.06.2023', '82.6417', '89.0057\\n'],\n",
       " ['09.06.2023', '82.093', '88.0379\\n'],\n",
       " ['08.06.2023', '81.4581', '87.1651\\n'],\n",
       " ['07.06.2023', '81.2502', '86.9519\\n'],\n",
       " ['06.06.2023', '81.3294', '87.0318\\n'],\n",
       " ['05.06.2023', '80.8756', '87.101\\n'],\n",
       " ['04.06.2023', '80.8756', '87.101\\n'],\n",
       " ['03.06.2023', '80.8756', '87.101\\n'],\n",
       " ['02.06.2023', '80.9657', '86.5764\\n'],\n",
       " ['01.06.2023', '80.9942', '86.5009\\n'],\n",
       " ['31.05.2023', '80.6872', '86.5119\\n'],\n",
       " ['30.05.2023', '80.0555', '85.9013\\n'],\n",
       " ['29.05.2023', '79.9667', '85.919\\n'],\n",
       " ['28.05.2023', '79.9667', '85.919\\n'],\n",
       " ['27.05.2023', '79.9667', '85.919\\n'],\n",
       " ['26.05.2023', '79.9841', '85.8767\\n'],\n",
       " ['25.05.2023', '79.9669', '86.1995\\n'],\n",
       " ['24.05.2023', '80.1665', '86.5502\\n'],\n",
       " ['23.05.2023', '79.9379', '86.4963\\n'],\n",
       " ['22.05.2023', '79.9093', '86.277\\n'],\n",
       " ['21.05.2023', '79.9093', '86.277\\n'],\n",
       " ['20.05.2023', '79.9093', '86.277\\n'],\n",
       " ['19.05.2023', '80.0366', '86.4964\\n'],\n",
       " ['18.05.2023', '80.7642', '87.5749\\n'],\n",
       " ['17.05.2023', '79.9798', '87.1619\\n'],\n",
       " ['16.05.2023', '79.1004', '86.0862\\n'],\n",
       " ['15.05.2023', '77.2041', '84.25\\n'],\n",
       " ['14.05.2023', '77.2041', '84.25\\n'],\n",
       " ['13.05.2023', '77.2041', '84.25\\n'],\n",
       " ['12.05.2023', '75.8846', '82.8877\\n'],\n",
       " ['11.05.2023', '76.6929', '84.1498\\n'],\n",
       " ['10.05.2023', '76.8207', '84.9073\\n'],\n",
       " ['09.05.2023', '76.8207', '84.9073\\n'],\n",
       " ['08.05.2023', '76.8207', '84.9073\\n'],\n",
       " ['07.05.2023', '76.8207', '84.9073\\n'],\n",
       " ['06.05.2023', '76.8207', '84.9073\\n'],\n",
       " ['05.05.2023', '78.6139', '86.9986\\n'],\n",
       " ['04.05.2023', '79.3071', '87.575\\n'],\n",
       " ['03.05.2023', '79.9609', '87.6556\\n'],\n",
       " ['02.05.2023', '80.5093', '88.3712\\n'],\n",
       " ['01.05.2023', '80.5093', '88.3712\\n'],\n",
       " ['30.04.2023', '80.5093', '88.3712\\n'],\n",
       " ['29.04.2023', '80.5093', '88.3712\\n'],\n",
       " ['28.04.2023', '81.5601', '90.2023\\n'],\n",
       " ['27.04.2023', '81.6274', '90.1436\\n'],\n",
       " ['26.04.2023', '81.5499', '90.0332\\n'],\n",
       " ['25.04.2023', '81.2745', '89.4589\\n'],\n",
       " ['24.04.2023', '81.4863', '89.3495\\n'],\n",
       " ['23.04.2023', '81.4863', '89.3495\\n'],\n",
       " ['22.04.2023', '81.4863', '89.3495\\n'],\n",
       " ['21.04.2023', '81.6188', '89.4638\\n'],\n",
       " ['20.04.2023', '81.6549', '89.3736\\n'],\n",
       " ['19.04.2023', '81.6028', '89.5713\\n'],\n",
       " ['18.04.2023', '81.6279', '89.659\\n'],\n",
       " ['17.04.2023', '81.5045', '90.1637\\n'],\n",
       " ['16.04.2023', '81.5045', '90.1637\\n'],\n",
       " ['15.04.2023', '81.5045', '90.1637\\n'],\n",
       " ['14.04.2023', '81.6758', '90.0035\\n'],\n",
       " ['13.04.2023', '82.0934', '89.7599\\n'],\n",
       " ['12.04.2023', '82.1799', '89.7271\\n'],\n",
       " ['11.04.2023', '81.7441', '89.1737\\n'],\n",
       " ['10.04.2023', '82.3988', '90.2892\\n'],\n",
       " ['09.04.2023', '82.3988', '90.2892\\n'],\n",
       " ['08.04.2023', '82.3988', '90.2892\\n'],\n",
       " ['07.04.2023', '80.6713', '88.1294\\n'],\n",
       " ['06.04.2023', '79.4961', '87.0954\\n'],\n",
       " ['05.04.2023', '79.3563', '86.7207\\n'],\n",
       " ['04.04.2023', '77.951', '84.6185\\n'],\n",
       " ['03.04.2023', '77.3233', '84.1116\\n'],\n",
       " ['02.04.2023', '77.3233', '84.1116\\n'],\n",
       " ['01.04.2023', '77.3233', '84.1116\\n'],\n",
       " ['31.03.2023', '77.0863', '83.7639\\n'],\n",
       " ['30.03.2023', '76.9781', '83.4859\\n'],\n",
       " ['29.03.2023', '76.5939', '82.775\\n'],\n",
       " ['28.03.2023', '76.5662', '82.2913\\n'],\n",
       " ['27.03.2023', '76.4479', '82.3923\\n'],\n",
       " ['26.03.2023', '76.4479', '82.3923\\n'],\n",
       " ['25.03.2023', '76.4479', '82.3923\\n'],\n",
       " ['24.03.2023', '76.3072', '83.1452\\n'],\n",
       " ['23.03.2023', '76.9561', '82.967\\n'],\n",
       " ['22.03.2023', '76.8373', '82.5428\\n'],\n",
       " ['21.03.2023', '77.2422', '82.3736\\n'],\n",
       " ['20.03.2023', '76.6044', '81.4635\\n'],\n",
       " ['19.03.2023', '76.6044', '81.4635\\n'],\n",
       " ['18.03.2023', '76.6044', '81.4635\\n'],\n",
       " ['17.03.2023', '76.4095', '81.1418\\n'],\n",
       " ['16.03.2023', '75.7457', '80.8763\\n'],\n",
       " ['15.03.2023', '75.1927', '80.5192\\n'],\n",
       " ['14.03.2023', '75.4609', '80.6102\\n'],\n",
       " ['13.03.2023', '75.9406', '80.4009\\n'],\n",
       " ['12.03.2023', '75.9406', '80.4009\\n'],\n",
       " ['11.03.2023', '75.9406', '80.4009\\n'],\n",
       " ['10.03.2023', '75.9028', '80.1372\\n'],\n",
       " ['09.03.2023', '75.4577', '80.5496\\n'],\n",
       " ['08.03.2023', '75.4577', '80.5496\\n'],\n",
       " ['07.03.2023', '75.4728', '80.2353\\n'],\n",
       " ['06.03.2023', '75.4592', '80.0469\\n'],\n",
       " ['05.03.2023', '75.4592', '80.0469\\n'],\n",
       " ['04.03.2023', '75.4592', '80.0469\\n'],\n",
       " ['03.03.2023', '75.4729', '80.1897\\n'],\n",
       " ['02.03.2023', '75.2513', '80.1008\\n'],\n",
       " ['01.03.2023', '74.8932', '79.5134\\n'],\n",
       " ['28.02.2023', '75.4323', '79.623\\n'],\n",
       " ['27.02.2023', '74.7087', '79.5716\\n'],\n",
       " ['26.02.2023', '74.7087', '79.5716\\n'],\n",
       " ['25.02.2023', '74.7087', '79.5716\\n'],\n",
       " ['24.02.2023', '74.7087', '79.5716\\n'],\n",
       " ['23.02.2023', '74.7087', '79.5716\\n'],\n",
       " ['22.02.2023', '74.8596', '79.7588\\n'],\n",
       " ['21.02.2023', '74.0432', '79.133\\n'],\n",
       " ['20.02.2023', '74.7588', '79.6104\\n'],\n",
       " ['19.02.2023', '74.7588', '79.6104\\n'],\n",
       " ['18.02.2023', '74.7588', '79.6104\\n'],\n",
       " ['17.02.2023', '74.7638', '79.9764\\n'],\n",
       " ['16.02.2023', '74.2077', '79.5654\\n'],\n",
       " ['15.02.2023', '73.8645', '79.3355\\n'],\n",
       " ['14.02.2023', '73.6307', '78.671\\n'],\n",
       " ['13.02.2023', '72.7923', '78.0542\\n'],\n",
       " ['12.02.2023', '72.7923', '78.0542\\n'],\n",
       " ['11.02.2023', '72.7923', '78.0542\\n'],\n",
       " ['10.02.2023', '72.8949', '78.3223\\n'],\n",
       " ['09.02.2023', '71.5763', '76.8344\\n'],\n",
       " ['08.02.2023', '70.8924', '75.9087\\n'],\n",
       " ['07.02.2023', '70.5991', '76.0347\\n'],\n",
       " ['06.02.2023', '70.3847', '76.7344\\n'],\n",
       " ['05.02.2023', '70.3847', '76.7344\\n'],\n",
       " ['04.02.2023', '70.3847', '76.7344\\n'],\n",
       " ['03.02.2023', '70.0414', '76.9564\\n'],\n",
       " ['02.02.2023', '70.1217', '76.2245\\n'],\n",
       " ['01.02.2023', '70.5174', '76.3004\\n'],\n",
       " ['31.01.2023', '69.5927', '75.7799\\n'],\n",
       " ['30.01.2023', '69.3372', '75.4062\\n'],\n",
       " ['29.01.2023', '69.3372', '75.4062\\n'],\n",
       " ['28.01.2023', '69.3372', '75.4062\\n'],\n",
       " ['27.01.2023', '69.1263', '75.3348\\n'],\n",
       " ['26.01.2023', '68.9573', '74.9564\\n'],\n",
       " ['25.01.2023', '68.7529', '74.6948\\n'],\n",
       " ['24.01.2023', '68.6288', '74.7307\\n'],\n",
       " ['23.01.2023', '68.6656', '74.3434\\n'],\n",
       " ['22.01.2023', '68.6656', '74.3434\\n'],\n",
       " ['21.01.2023', '68.6656', '74.3434\\n'],\n",
       " ['20.01.2023', '68.8467', '74.4058\\n'],\n",
       " ['19.01.2023', '68.8728', '74.5882\\n'],\n",
       " ['18.01.2023', '68.6644', '74.2646\\n'],\n",
       " ['17.01.2023', '68.2892', '73.8298\\n'],\n",
       " ['16.01.2023', '67.5744', '73.1131\\n'],\n",
       " ['15.01.2023', '67.5744', '73.1131\\n'],\n",
       " ['14.01.2023', '67.5744', '73.1131\\n'],\n",
       " ['13.01.2023', '67.7775', '72.7908\\n'],\n",
       " ['12.01.2023', '69.0202', '74.1361\\n'],\n",
       " ['11.01.2023', '69.6094', '74.5438\\n'],\n",
       " ['10.01.2023', '70.3002', '75.0785\\n'],\n",
       " ['09.01.2023', '70.3375', '75.6553\\n'],\n",
       " ['08.01.2023', '70.3375', '75.6553\\n'],\n",
       " ['07.01.2023', '70.3375', '75.6553\\n'],\n",
       " ['06.01.2023', '70.3375', '75.6553\\n'],\n",
       " ['05.01.2023', '70.3375', '75.6553\\n'],\n",
       " ['04.01.2023', '70.3375', '75.6553\\n'],\n",
       " ['03.01.2023', '70.3375', '75.6553\\n'],\n",
       " ['02.01.2023', '70.3375', '75.6553\\n'],\n",
       " ['01.01.2023', '70.3375', '75.6553\\n']]"
      ]
     },
     "execution_count": 2,
     "metadata": {},
     "output_type": "execute_result"
    }
   ],
   "source": [
    "usd_eur_list = []\n",
    "with open(\"usd_eur_quotes.csv\", \"r\") as f:\n",
    "    for line in f:\n",
    "        day_list = line.split(\";\")\n",
    "        usd_eur_list.append(day_list)\n",
    "usd_eur_list"
   ]
  },
  {
   "cell_type": "code",
   "execution_count": 3,
   "id": "d90c9877",
   "metadata": {
    "scrolled": true
   },
   "outputs": [
    {
     "data": {
      "text/plain": [
       "['data', 'usd', 'eur\\n']"
      ]
     },
     "execution_count": 3,
     "metadata": {},
     "output_type": "execute_result"
    }
   ],
   "source": [
    "usd_eur_list.pop(0)"
   ]
  },
  {
   "cell_type": "markdown",
   "id": "4a077775",
   "metadata": {},
   "source": [
    "Из полученного списка с курсов валют сохраним данные в три разных списка, первый для даты, второй для курса доллара, третий для курса евро. Но так как данные за 1 января находятся в конце csv-файла считывать данные будем в обратном порядке "
   ]
  },
  {
   "cell_type": "code",
   "execution_count": 4,
   "id": "15b29d3b",
   "metadata": {},
   "outputs": [],
   "source": [
    "dates = []\n",
    "currency_usd = []\n",
    "currency_eur = []\n",
    "\n",
    "for row in reversed(usd_eur_list):\n",
    "    dates.append(row[0])\n",
    "    currency_usd.append(float(row[1]))\n",
    "    currency_eur.append(float(row[2]))"
   ]
  },
  {
   "cell_type": "markdown",
   "id": "6b4520ab",
   "metadata": {},
   "source": [
    "Подключим библиотеку matplotlib для отрисовки графиков. Более подробнее мы будем ее изучать на отдельно занятии.  "
   ]
  },
  {
   "cell_type": "code",
   "execution_count": 6,
   "id": "6898ee04",
   "metadata": {},
   "outputs": [
    {
     "data": {
      "image/png": "[encoded data removed]",
      "text/plain": [
       "<Figure size 1000x500 with 1 Axes>"
      ]
     },
     "metadata": {},
     "output_type": "display_data"
    }
   ],
   "source": [
    "import matplotlib.pyplot as plt\n",
    "\n",
    "\n",
    "plt.figure(figsize=(10, 5))\n",
    "plt.plot(dates, currency_usd, label='USD')\n",
    "plt.plot(dates, currency_eur, label='EUR')\n",
    "plt.xlabel('Date')\n",
    "plt.ylabel('Course')\n",
    "plt.title('Course of USD and EUR Over Time')\n",
    "plt.legend()\n",
    "plt.show()"
   ]
  }
 ],
 "metadata": {
  "kernelspec": {
   "display_name": "Python 3 (ipykernel)",
   "language": "python",
   "name": "python3"
  },
  "language_info": {
   "codemirror_mode": {
    "name": "ipython",
    "version": 3
   },
   "file_extension": ".py",
   "mimetype": "text/x-python",
   "name": "python",
   "nbconvert_exporter": "python",
   "pygments_lexer": "ipython3",
   "version": "3.11.5"
  }
 },
 "nbformat": 4,
 "nbformat_minor": 5
}
