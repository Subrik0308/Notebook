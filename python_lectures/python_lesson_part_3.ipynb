{
 "cells": [
  {
   "cell_type": "markdown",
   "id": "bc1c968d",
   "metadata": {},
   "source": [
    "## Содержание:\n",
    "- Основные оценки сложности алгоритмов\n",
    "- Библиотеки и модули"
   ]
  },
  {
   "cell_type": "markdown",
   "id": "5cbb26a9",
   "metadata": {},
   "source": [
    "# Основные оценки сложности алгоритмов"
   ]
  },
  {
   "cell_type": "markdown",
   "id": "f4eabf30",
   "metadata": {},
   "source": [
    "Основные категории алгоритмической сложности в О-нотации:\n",
    "\n",
    "* Постоянное время: 0(1) — время выполнения не зависит от количества элементов во входном наборе данных\n",
    "\n",
    "* Линейное время: О(N) — время выполнения пропорционально количеству элементов в коллекции\n",
    "\n",
    "* Логарифмическое время: О(log(N)) — время выполнения пропорционально логарифму от количества элементов в коллекции\n",
    "\n",
    "* Квазилинейное время: О(N*log(N)) — время выполнения больше чем, линейное, но меньше квадратичного\n",
    "\n",
    "* Полиномиальное время: О(N^2) — время выполнения пропорционально квадрату количества элементов в коллекции\n"
   ]
  },
  {
   "cell_type": "markdown",
   "id": "65da3f02",
   "metadata": {},
   "source": [
    "## Константа $O(1)$\n",
    "Самый простой в оценке вариант алгоритма — алгоритм, который не зависит от размера входных данных. \n",
    "Посчитаем сумму первых пяти натуральных чисел. Для этого сравним два алгоритма."
   ]
  },
  {
   "cell_type": "code",
   "execution_count": null,
   "id": "1eb763cb",
   "metadata": {},
   "outputs": [],
   "source": [
    "# Алгоритм 1\n",
    "\n",
    "a = [1, 2, 3, 4, 5, 6]\n",
    "\n",
    "summ = 0\n",
    "for element in a:\n",
    "    summ += element\n",
    "\n",
    "print(summ)"
   ]
  },
  {
   "cell_type": "markdown",
   "id": "e7a2b2b0",
   "metadata": {},
   "source": [
    "Первый алгоритм будет перебирать все элементы списка и добавлять их к общей сумме. \\\n",
    "*Количество операций*: 1 (создание переменной) + n (проходимся по всему списку) + n (операция суммы)."
   ]
  },
  {
   "cell_type": "code",
   "execution_count": null,
   "id": "7e5313b0",
   "metadata": {},
   "outputs": [],
   "source": [
    "# Алгоритм 2\n",
    "\n",
    "a = [1, 2, 3, 4, 5, 6]\n",
    "\n",
    "summ = (a[0] + a[len(a) - 1]) / 2 * len(a)\n",
    "\n",
    "print(summ)"
   ]
  },
  {
   "cell_type": "markdown",
   "id": "3ef525e6",
   "metadata": {},
   "source": [
    "Второй алгоритм не будет проходиться по всему массиву, а сразу сложит нужные элементы. \\\n",
    "*Количество операций*: 3.\n",
    "\n",
    "В этой задаче нам нужно сделать три действия, независимо от того, какое количество натуральных чисел мы передали. То есть мы говорим, что данный алгоритм имеет сложность $О(1)$."
   ]
  },
  {
   "cell_type": "markdown",
   "id": "c12a1f5f",
   "metadata": {},
   "source": [
    "# Линейная $О(n)$\n",
    "\n",
    "Линейная оценка, или сложность $О(n)$, будет у алгоритма, который проходит один или несколько раз по всем переданным объектам. Например, алгоритм поиска числа в неупорядоченном списке."
   ]
  },
  {
   "cell_type": "code",
   "execution_count": null,
   "id": "0fcaea8a",
   "metadata": {},
   "outputs": [],
   "source": [
    "lst = [1, 26, 3, 24, 16, 17, 30, 17, 27, 28]\n",
    "s = 17\n",
    "n = len(lst)\n",
    "i = 0\n",
    "while i < n and lst[i] != s:\n",
    "    i += 1\n",
    "if i == n:\n",
    "    print(\"Число не найдено\")\n",
    "else:\n",
    "    print(i)"
   ]
  },
  {
   "cell_type": "code",
   "execution_count": null,
   "id": "2e52a342",
   "metadata": {},
   "outputs": [],
   "source": [
    "def element_search(ar, element):\n",
    "    for i in range(len(ar)):\n",
    "        if ar[i] == element:\n",
    "            return i\n",
    "    return \"Число не найдено\"\n",
    "s = 17\n",
    "print(element_search(lst, s))"
   ]
  },
  {
   "cell_type": "code",
   "execution_count": null,
   "id": "2febef80",
   "metadata": {},
   "outputs": [],
   "source": [
    "lst = [1, 26, 3, 24, 16, 17, 30, 17, 27, 28]\n",
    "element = 30\n",
    "for i in range(len(lst)):\n",
    "    if lst[i] == element:\n",
    "        print(i)\n",
    "        break\n",
    "else:\n",
    "    print(\"Число не найдено\")"
   ]
  },
  {
   "cell_type": "markdown",
   "id": "8a45b704",
   "metadata": {},
   "source": [
    "В этом примере в худшем случае (а нам интересен именно худший случай) мы пройдемся по всему списку, сравнивая каждый элемент с искомым, пока не найдем подходящий. Это и есть линейная сложность алгоритма. "
   ]
  },
  {
   "cell_type": "markdown",
   "id": "150e17c1",
   "metadata": {},
   "source": [
    "## Экспоненциальное время: O(2^n)\n",
    "\n",
    "Если сложность алгоритма описывается формулой O(2^n), значит, время его работы удваивается с каждым дополнением к набору данных. Кривая роста функции O(2^n) экспоненциальная: сначала она очень пологая, а затем стремительно поднимается вверх. Примером алгоритма с экспоненциальной сложностью может послужить рекурсивный расчет чисел Фибоначчи:"
   ]
  },
  {
   "cell_type": "code",
   "execution_count": null,
   "id": "4febbba8",
   "metadata": {},
   "outputs": [],
   "source": [
    "def fibonacci(n):\n",
    "    # Первое и второе числа Фибоначчи равны 1\n",
    "    if n <= 2:\n",
    "        return 1\n",
    "    return fibonacci(n - 1) + fibonacci(n - 2)\n",
    "\n",
    "fibonacci(10)"
   ]
  },
  {
   "cell_type": "markdown",
   "id": "f74ae07f",
   "metadata": {},
   "source": [
    "## Квадратичная $О(n^2)$\n",
    "\n",
    "Оценка алгоритма в $О(n^2)$ будет у алгоритма, который для каждого элемента множества перебирает все остальные элементы множества. Таковым, например, является **пузырьковая сортировка**.\n",
    "\n",
    "![Изображение не найдено](https://habrastorage.org/getpro/habr/upload_files/132/1a8/c2d/1321a8c2d653c5b4fdca906baff445a5.gif)"
   ]
  },
  {
   "cell_type": "code",
   "execution_count": null,
   "id": "ee0fef56",
   "metadata": {},
   "outputs": [],
   "source": [
    "def bubble_sort(nums):\n",
    "\n",
    "    # Устанавливаем swapped в True, чтобы цикл запустился хотя бы один раз\n",
    "    swapped = True\n",
    "\n",
    "    while swapped:\n",
    "        swapped = False\n",
    "\n",
    "        # Идем циклом по индексам наших элементов\n",
    "        for i in range(len(nums) - 1):\n",
    "\n",
    "            # Если текущий элемент слева больше своего элемента справа\n",
    "            if nums[i] > nums[i + 1]:\n",
    "\n",
    "                # Меняем элементы местами\n",
    "                nums[i], nums[i + 1] = nums[i + 1], nums[i]\n",
    "\n",
    "                # Устанавливаем swapped в True для следующей итерации\n",
    "                swapped = True\n",
    "\n",
    "                # По окончании первого прогона цикла for, самый большой элемент \"всплывет\" наверх\n",
    "\n",
    "# Проверяем, что оно работает\n",
    "random_list_of_nums = [9, 5, 2, 1, 8, 4, 3, 7, 6]\n",
    "bubble_sort(random_list_of_nums)\n",
    "print(random_list_of_nums)"
   ]
  },
  {
   "cell_type": "markdown",
   "id": "9d7f444a",
   "metadata": {},
   "source": [
    "Алгоритм сортировки списка вставкой"
   ]
  },
  {
   "cell_type": "code",
   "execution_count": null,
   "id": "d22c0880",
   "metadata": {},
   "outputs": [],
   "source": [
    "lst = [1, 26, 3, 24, 16, 17, 30, 18, 27, 28]\n",
    "n = len(lst)\n",
    "for i in range(1, n):\n",
    "    x = lst[i]\n",
    "    j = i - 1\n",
    "    while j > -1 and lst[j] > x:\n",
    "        lst[j + 1] = lst[j]\n",
    "        j -= 1\n",
    "\n",
    "    lst[j + 1] = x\n",
    "\n",
    "print(lst)"
   ]
  },
  {
   "cell_type": "markdown",
   "id": "1a3f4d20",
   "metadata": {},
   "source": [
    "## Логарифмическая $О(log(n))$\n",
    "\n",
    "Оценку $О(log(n))$ чаще всего имеют алгоритмы, которые на каждом шаге работы с данными уменьшают размер этих данных в разы. \n",
    "\n",
    "Классический пример логарифмического алгоритма — **бинарный поиск**\n"
   ]
  },
  {
   "cell_type": "code",
   "execution_count": null,
   "id": "bd15131d",
   "metadata": {},
   "outputs": [],
   "source": [
    "lst = [1, 3, 16, 17, 24, 26, 27, 28, 30]\n",
    "\n",
    "s = 17\n",
    "i = 0\n",
    "j = len(lst) - 1\n",
    "while i <= j:\n",
    "    k = (i + j) // 2\n",
    "    if lst[k] > s:\n",
    "        j = k - 1\n",
    "    elif lst[k] < s:\n",
    "        i = k + 1\n",
    "    else:\n",
    "        break\n",
    "if i <= j:\n",
    "    print(k)\n",
    "else:\n",
    "    print(\"Число не найдено\")"
   ]
  },
  {
   "cell_type": "markdown",
   "id": "7b476f1f",
   "metadata": {},
   "source": [
    "Получается, что в алгоритме бинарного поиска мы каждый раз будем делить наше множество пополам, пока не останется один элемент. Значит, функция, которая будет описывать оценку нашего алгоритма, должна показывать, сколько раз число $n$, которое описывает размер наших данных, можно поделить на 2, или наоборот — в какую степень надо возвести 2, чтобы получилось наше число. Это и есть определение логарифма $log(n)$. "
   ]
  },
  {
   "cell_type": "markdown",
   "id": "3b92fc82",
   "metadata": {},
   "source": [
    "## Линейно-логарифмическая $О(n * log(n))$\n",
    "\n",
    "Яркий пример такого алгоритма — **быстрая сортировка**. В этом алгоритме мы сначала разбиваем все элементы на пары (логарифмическая часть), а затем отсортированные пары последовательно соединяем (линейная часть). \n",
    "\n",
    "**Алгоритм с оценкой $О(n * log(n))$ считается самым быстрым решением задачи сортировки в общем случае.**\n",
    "\n",
    "![Изображение не найдено](https://habrastorage.org/getpro/habr/upload_files/0a9/afd/372/0a9afd372156de5806bd87f93c875834.gif)\n"
   ]
  },
  {
   "cell_type": "code",
   "execution_count": null,
   "id": "08df353c",
   "metadata": {},
   "outputs": [],
   "source": [
    "import random\n",
    "def quicksort(nums):\n",
    "\n",
    "    if len(nums) <= 1:\n",
    "        return nums\n",
    "    else:\n",
    "\n",
    "        q = random.choice(nums)  # Генерирует случайную выборку из заданного одномерного списка.\n",
    "        s_nums = []\n",
    "        m_nums = []\n",
    "        e_nums = []\n",
    "\n",
    "    for n in nums:\n",
    "        if n < q:\n",
    "            s_nums.append(n)\n",
    "        elif n > q:\n",
    "            m_nums.append(n)\n",
    "        else:\n",
    "            e_nums.append(n)\n",
    "\n",
    "    return quicksort(s_nums) + e_nums + quicksort(m_nums)\n",
    "\n",
    "lst = [1, 26, 3, 24, 16, 17, 30, 18, 27, 28]\n",
    "print(quicksort(lst))"
   ]
  },
  {
   "cell_type": "markdown",
   "id": "9cbb19a8",
   "metadata": {},
   "source": [
    "Сортировка слиянием\n",
    "![Изображение не найдено](https://habrastorage.org/getpro/habr/upload_files/21f/1a3/ec0/21f1a3ec016004112fbb9180f76067dd.gif)"
   ]
  },
  {
   "cell_type": "code",
   "execution_count": null,
   "id": "83ed80c3",
   "metadata": {},
   "outputs": [],
   "source": [
    "def merge(le, ri):\n",
    "    i, j = 0, 0\n",
    "    res = []\n",
    "    while i < len(le) and j < len(ri):\n",
    "        if le[i] <= ri[i]:\n",
    "            res.append(le[i])\n",
    "            i += 1\n",
    "        else:\n",
    "            res.append(ri[j])\n",
    "            j += 1\n",
    "    res += le[i:] + ri[j:]\n",
    "    return res\n",
    "\n",
    "def merge_sort(s):\n",
    "    if len(s) < 2: return s\n",
    "    else:\n",
    "        ln = len(s) // 2\n",
    "        left = merge_sort(s[:ln])\n",
    "        right = merge_sort(s[ln:])\n",
    "        return merge(left, right)\n",
    "\n",
    "lst = [1, 26, 3, 24, 16, 17, 30, 18, 27, 28]\n",
    "print(merge_sort(lst))"
   ]
  },
  {
   "cell_type": "markdown",
   "id": "ff3cc041",
   "metadata": {},
   "source": [
    "Сложность алгоритма `сортировки подсчетом` оценивается как **O(n + k)**, где n - это количество элементов в списке, а k - это количество уникальных элементов в списке."
   ]
  },
  {
   "cell_type": "code",
   "execution_count": null,
   "id": "66fd2bd8",
   "metadata": {},
   "outputs": [],
   "source": [
    "lst = [1, 3, 16, 17, 24, 24, 26, 27, 28, 30]\n",
    "lst_ancillary = [0] * (max(lst) + 1)\n",
    "for i in range(len(lst)):\n",
    "    lst_ancillary[lst[i]] += 1\n",
    "\n",
    "lst_new = []\n",
    "for i in range(max(lst) + 1):\n",
    "    for j in range(lst_ancillary[i]):\n",
    "        lst_new.append(i)\n",
    "\n",
    "print(lst_new)\n",
    "print(lst_ancillary)"
   ]
  },
  {
   "cell_type": "markdown",
   "id": "637efb4b",
   "metadata": {
    "id": "aeCztTKUEUMg"
   },
   "source": [
    "# Библиотеки и модули\n",
    "\n",
    "Если несколько функций позволяют решать схожие задачи, то их объединяют в **модули**.  Например, модуль `math` объединяет в себе математические функции , модуль `string` предназначен для работы со строками, модуль `random` предлагает функции для генерации псевдослучайных чисел.  \n",
    "\n",
    "Эти модули и многие другие объединены в **Стандартную библиотеку Python**. Эта библиотека поставляется в составе Python, ее не нужно отдельно скачивать и устанавливать. Библиотека и входящие в нее модули описана в документации: https://docs.python.org/3/library/.\n",
    "\n",
    "\n",
    "Рассмотрим модули Стандартной библиотеки Python. "
   ]
  },
  {
   "cell_type": "markdown",
   "id": "1c922908",
   "metadata": {
    "id": "fKNEhWQKEUMk"
   },
   "source": [
    "## Пример использования модуля Стандартной библиотеки Python\n",
    "\n",
    "Воспользуемся функцией `sqrt()` из модуля  `math`. Эта функция как раз вычисляет квадратный корень, попробуем ее вызвать."
   ]
  },
  {
   "cell_type": "code",
   "execution_count": null,
   "id": "4d7fc265",
   "metadata": {
    "id": "Y2qpyo4kEUMl",
    "outputId": "bceae8e7-ae5f-4a47-a501-ae88c1e91c00"
   },
   "outputs": [],
   "source": [
    "sqrt(16)  # Вызвов функцию sqrt() из модуля math"
   ]
  },
  {
   "cell_type": "markdown",
   "id": "b49cd41d",
   "metadata": {
    "id": "a3ap8pGHEUMn"
   },
   "source": [
    "Не получилось. Необходимо импортировать модуль"
   ]
  },
  {
   "cell_type": "code",
   "execution_count": null,
   "id": "def6603d",
   "metadata": {
    "id": "XieNCrq9EUMn"
   },
   "outputs": [],
   "source": [
    "import math  # Импортируем модуль math"
   ]
  },
  {
   "cell_type": "code",
   "execution_count": null,
   "id": "31cb3cd3",
   "metadata": {
    "id": "cwYsJhZJEUMo",
    "outputId": "6406f594-59e6-488a-a8d5-e52214ac65b6"
   },
   "outputs": [],
   "source": [
    "sqrt(16)  # Снова пытаемся вызвать функцию sqrt() из модуля math, предварительно его импортировав"
   ]
  },
  {
   "cell_type": "markdown",
   "id": "ecbe7107",
   "metadata": {
    "id": "igtDQnoFEUMo"
   },
   "source": [
    " Необходимо выполнить следующее: `<модуль>.<функция()>`."
   ]
  },
  {
   "cell_type": "code",
   "execution_count": null,
   "id": "6efe8802",
   "metadata": {
    "id": "85Yb61feEUMp",
    "outputId": "9c373c1c-94cc-4891-8ad1-aa734b2eccc6"
   },
   "outputs": [],
   "source": [
    "math.sqrt(16)  # снова пытаемся вызвать функцию sqrt(), указав, что это функция из модуля math"
   ]
  },
  {
   "cell_type": "code",
   "execution_count": null,
   "id": "1e47bc91",
   "metadata": {},
   "outputs": [],
   "source": [
    "math.__dict__"
   ]
  },
  {
   "cell_type": "markdown",
   "id": "b32c1673",
   "metadata": {
    "id": "O_RfnljHEUMq"
   },
   "source": [
    "# Импорт отдельных компонент модуля\n",
    "\n",
    "Писать каждый раз название модуля, точку, название функции не всегда удобно. Можно явно указать, что именно необходимо импортировать из модуля."
   ]
  },
  {
   "cell_type": "code",
   "execution_count": null,
   "id": "dcb0b031",
   "metadata": {
    "id": "jb8XgX_0EUMq"
   },
   "outputs": [],
   "source": [
    "from random import randint, uniform  # Импортируем две функции из модуля random"
   ]
  },
  {
   "cell_type": "markdown",
   "id": "f059758c",
   "metadata": {
    "id": "ACVfRQPyEUMr"
   },
   "source": [
    "Чтобы узнать, что делают эти функции и какие аргументы им нужно подавать, можно посмотреть документацию или воспользоваться функцией `help()`:"
   ]
  },
  {
   "cell_type": "code",
   "execution_count": null,
   "id": "b543d23f",
   "metadata": {
    "id": "47l6FMnLEUMr",
    "outputId": "4bb92cc1-2559-4b59-aaaa-268acdf66256"
   },
   "outputs": [],
   "source": [
    "help(randint)"
   ]
  },
  {
   "cell_type": "code",
   "execution_count": null,
   "id": "15bc5b30",
   "metadata": {},
   "outputs": [],
   "source": [
    "?randint"
   ]
  },
  {
   "cell_type": "code",
   "execution_count": null,
   "id": "e8365136",
   "metadata": {},
   "outputs": [],
   "source": [
    "help(uniform)"
   ]
  },
  {
   "cell_type": "code",
   "execution_count": null,
   "id": "35fb93f8",
   "metadata": {
    "id": "kjuUZ5w8EUMr",
    "outputId": "fa04c1f2-c2e8-4599-d825-902fc7b97779"
   },
   "outputs": [],
   "source": [
    "# Вызываем функции по 5 раз\n",
    "for i in range(5):\n",
    "    print(randint(100, 200))\n",
    "    print(uniform(100, 200))"
   ]
  },
  {
   "cell_type": "code",
   "execution_count": null,
   "id": "62f24801",
   "metadata": {},
   "outputs": [],
   "source": [
    "import random\n",
    "help(random)"
   ]
  },
  {
   "cell_type": "markdown",
   "id": "13ce5a42",
   "metadata": {
    "id": "ScXYOliPEUMs"
   },
   "source": [
    "Получили по 5 разных псевдослучайных чисел для каждой функции в указанном диапазоне — все получилось без указания модуля через точку.\n"
   ]
  },
  {
   "cell_type": "markdown",
   "id": "8bea4d34",
   "metadata": {
    "id": "-fCPbnElEUMs"
   },
   "source": [
    "Если необходимо импортировать много функций и переменных из одного модуля, то можно импортировать всё сразу, используя звездочку. Тогда указывать модуль через точку тоже не нужно."
   ]
  },
  {
   "cell_type": "code",
   "execution_count": null,
   "id": "77979d1d",
   "metadata": {
    "id": "zWCFJYVzEUMs"
   },
   "outputs": [],
   "source": [
    "# Импортируем всё из модуля math\n",
    "from math import *"
   ]
  },
  {
   "cell_type": "code",
   "execution_count": null,
   "id": "7f38b220",
   "metadata": {},
   "outputs": [],
   "source": [
    "sqrt(16)"
   ]
  },
  {
   "cell_type": "markdown",
   "id": "1ec0f215",
   "metadata": {
    "id": "Wzd9QvdnEUMt"
   },
   "source": [
    "Получили число с высокой точностью, так как в модуле `math` содержится переменная `pi` с большим количеством знаков после запятой (точки):"
   ]
  },
  {
   "cell_type": "code",
   "execution_count": null,
   "id": "afa1db9c",
   "metadata": {},
   "outputs": [],
   "source": [
    "print(pi)"
   ]
  },
  {
   "cell_type": "markdown",
   "id": "4693f89d",
   "metadata": {
    "id": "SKuYIiB6EUMu"
   },
   "source": [
    "Допустим, потом мы проводим еще какие-то вычисления, где не нужна такая точность. Мы создаем свою переменную `pi`:"
   ]
  },
  {
   "cell_type": "code",
   "execution_count": null,
   "id": "dbd2a3f9",
   "metadata": {
    "id": "BoCfskzKEUMu"
   },
   "outputs": [],
   "source": [
    "pi = 3.14"
   ]
  },
  {
   "cell_type": "markdown",
   "id": "16036c6d",
   "metadata": {
    "id": "vaPe03kGEUMu"
   },
   "source": [
    "Переприсвоили значение переменной pi"
   ]
  },
  {
   "cell_type": "code",
   "execution_count": null,
   "id": "4d0b2e30",
   "metadata": {
    "id": "r6KuGL0QEUMu",
    "outputId": "c431994c-7bbb-4f75-9000-c83b37c0422d"
   },
   "outputs": [],
   "source": [
    "print(pi)"
   ]
  },
  {
   "cell_type": "markdown",
   "id": "bbb03d00",
   "metadata": {
    "id": "ZnReGLS6EUMv"
   },
   "source": [
    "Если бы мы импортировали `math` и записывали бы через точку, значение `math.pi` не изменилось бы:"
   ]
  },
  {
   "cell_type": "code",
   "execution_count": null,
   "id": "5789cf0a",
   "metadata": {
    "id": "w1nXqmiiEUMv",
    "outputId": "a6d9e925-6241-4eb9-d556-3aca586876da"
   },
   "outputs": [],
   "source": [
    "import math\n",
    "\n",
    "pi = 3.14\n",
    "print(pi, math.pi)"
   ]
  },
  {
   "cell_type": "markdown",
   "id": "0294b419",
   "metadata": {
    "id": "nF7F8X2IEUMv"
   },
   "source": [
    "# Импорт под псевдонимом\n",
    "\n",
    "Чтобы избежать таких сложностей, лучше писать название модуля. Но можно воспользоваться следующим упрощением: дать модулю псевдоним. Посмотрим на примере модуля `string`, предназначенного для работы со строками. Допустим, мы решили, что целиком слово `string` писать слишком долго, и хотим писать просто `s`. Посмотрим, как это можно сделать."
   ]
  },
  {
   "cell_type": "code",
   "execution_count": null,
   "id": "f9255d47",
   "metadata": {
    "id": "OBUja_geEUMv",
    "outputId": "05933234-9378-4a6b-c8c1-b40873556ac9"
   },
   "outputs": [],
   "source": [
    "import string as s    # Даем псевдоним модулю string\n",
    "print(s.punctuation)  # Печатаем строку со знаками препинания, хранящуюся в модуле"
   ]
  },
  {
   "cell_type": "markdown",
   "id": "a7300abb",
   "metadata": {
    "id": "IzB9YC1dEUMw"
   },
   "source": [
    "Теперь мы вместо `string.punctuation` будем писать `s.punctuation`, а `string.punctuation` не сработает."
   ]
  },
  {
   "cell_type": "code",
   "execution_count": null,
   "id": "97f8dbc0",
   "metadata": {
    "id": "ZypEiwekEUMw",
    "outputId": "35482cb6-d4e4-4ac9-e57a-ace034713d1e"
   },
   "outputs": [],
   "source": [
    "print(string.punctuation)"
   ]
  },
  {
   "cell_type": "code",
   "execution_count": null,
   "id": "1f896846",
   "metadata": {},
   "outputs": [],
   "source": [
    "s = 10"
   ]
  },
  {
   "cell_type": "code",
   "execution_count": null,
   "id": "1ab1c9bd",
   "metadata": {},
   "outputs": [],
   "source": [
    "s.punctuation"
   ]
  },
  {
   "cell_type": "markdown",
   "id": "c25d0159",
   "metadata": {
    "id": "mJ4UcF26EUMw"
   },
   "source": [
    "Наконец, если вы совсем не готовы писать название модуля и даже слово `punctuation` кажется вам тоже слишком длинным, можно и ему дать псевдоним:"
   ]
  },
  {
   "cell_type": "code",
   "execution_count": null,
   "id": "270f5f07",
   "metadata": {
    "id": "pS-HCRnmEUMw"
   },
   "outputs": [],
   "source": [
    "from string import punctuation as punc"
   ]
  },
  {
   "cell_type": "code",
   "execution_count": null,
   "id": "a6c018ab",
   "metadata": {
    "id": "F8DxWLCCEUMw",
    "outputId": "33c0f382-413d-45aa-deff-c1158640c7fa"
   },
   "outputs": [],
   "source": [
    "print(punc)"
   ]
  },
  {
   "cell_type": "markdown",
   "id": "b60a0671",
   "metadata": {},
   "source": [
    "## math"
   ]
  },
  {
   "cell_type": "code",
   "execution_count": null,
   "id": "21f670ed",
   "metadata": {},
   "outputs": [],
   "source": [
    "# Наибольший общий делитель\n",
    "math.gcd(34,17)"
   ]
  },
  {
   "cell_type": "code",
   "execution_count": null,
   "id": "c812f6fa",
   "metadata": {},
   "outputs": [],
   "source": [
    "# Факториал\n",
    "math.factorial(5)"
   ]
  },
  {
   "cell_type": "code",
   "execution_count": null,
   "id": "0197f306",
   "metadata": {},
   "outputs": [],
   "source": [
    "# Округление вверх\n",
    "math.ceil(23.013)"
   ]
  },
  {
   "cell_type": "code",
   "execution_count": null,
   "id": "4eb6dbd3",
   "metadata": {},
   "outputs": [],
   "source": [
    "# Округление вниз\n",
    "math.floor(23.013)"
   ]
  },
  {
   "cell_type": "markdown",
   "id": "f3a25ce4",
   "metadata": {},
   "source": [
    "Интересный факт - округление \"ломается\", при работе с некоторыми числами, у которых много значений после запятой. Нагляднее на примерах: "
   ]
  },
  {
   "cell_type": "code",
   "execution_count": null,
   "id": "861f59be",
   "metadata": {},
   "outputs": [],
   "source": [
    "from math import ceil, floor\n",
    "\n",
    "print(ceil(10.0000000000000009))\n",
    "print(ceil(10.0000000000000008))\n",
    "\n",
    "print(floor(10.9999999999999992))\n",
    "print(floor(10.9999999999999991))"
   ]
  },
  {
   "cell_type": "code",
   "execution_count": null,
   "id": "1a9f603a",
   "metadata": {},
   "outputs": [],
   "source": [
    "# Возведение в степень\n",
    "math.pow(2,5)"
   ]
  },
  {
   "cell_type": "markdown",
   "id": "f8630e60",
   "metadata": {},
   "source": [
    "## random"
   ]
  },
  {
   "cell_type": "code",
   "execution_count": null,
   "id": "d21d8f12",
   "metadata": {},
   "outputs": [],
   "source": [
    "# Случайное число от 0 до 1\n",
    "random.random()"
   ]
  },
  {
   "cell_type": "code",
   "execution_count": null,
   "id": "bb1136f0",
   "metadata": {},
   "outputs": [],
   "source": [
    "# Случайное число из заданного диапазона\n",
    "random.randint(1, 100)"
   ]
  },
  {
   "cell_type": "code",
   "execution_count": null,
   "id": "05778fbd",
   "metadata": {},
   "outputs": [],
   "source": [
    "# Случайное число с плавающей точкой\n",
    "random.uniform(1, 100)"
   ]
  },
  {
   "cell_type": "code",
   "execution_count": null,
   "id": "6b8004f4",
   "metadata": {},
   "outputs": [],
   "source": [
    "# Случайный элемент из непустой последовательности, например, из списка\n",
    "lst = [1, 26, 3, 24, 16, 17, 30, 17, 27, 28]\n",
    "random.choice(lst)"
   ]
  },
  {
   "cell_type": "code",
   "execution_count": null,
   "id": "6d63794b",
   "metadata": {},
   "outputs": [],
   "source": [
    "# Перемешать последовательность\n",
    "random.shuffle(lst)\n",
    "lst"
   ]
  },
  {
   "cell_type": "code",
   "execution_count": null,
   "id": "b9c610b6",
   "metadata": {},
   "outputs": [],
   "source": [
    "# Список заданной длины из последовательности\n",
    "random.sample(lst, 5)"
   ]
  },
  {
   "cell_type": "markdown",
   "id": "eee120a0",
   "metadata": {},
   "source": [
    "## datetime"
   ]
  },
  {
   "cell_type": "code",
   "execution_count": null,
   "id": "77e99fc5",
   "metadata": {},
   "outputs": [],
   "source": [
    "import datetime"
   ]
  },
  {
   "cell_type": "code",
   "execution_count": null,
   "id": "d47e7c38",
   "metadata": {},
   "outputs": [],
   "source": [
    "today = datetime.date.today()  # Текущая дата\n",
    "print(today)\n",
    "today = datetime.datetime.now()\n",
    "print(today)"
   ]
  },
  {
   "cell_type": "code",
   "execution_count": null,
   "id": "c5fb0a8f",
   "metadata": {},
   "outputs": [],
   "source": [
    "day = datetime.date(2024, 1, 16)\n",
    "print(day)"
   ]
  },
  {
   "cell_type": "code",
   "execution_count": null,
   "id": "569747b4",
   "metadata": {},
   "outputs": [],
   "source": [
    "import time\n",
    "\n",
    "sec = time.time()\n",
    "print(sec)\n",
    "print(datetime.datetime.fromtimestamp(sec))"
   ]
  },
  {
   "cell_type": "code",
   "execution_count": null,
   "id": "3c92ece4",
   "metadata": {},
   "outputs": [],
   "source": [
    "# Задать время\n",
    "time = datetime.time()\n",
    "print(time)"
   ]
  },
  {
   "cell_type": "code",
   "execution_count": null,
   "id": "65662ff5",
   "metadata": {},
   "outputs": [],
   "source": [
    "time = datetime.time(13)\n",
    "print(time)"
   ]
  },
  {
   "cell_type": "code",
   "execution_count": null,
   "id": "b0f86c82",
   "metadata": {},
   "outputs": [],
   "source": [
    "time = datetime.time(13, 24)\n",
    "print(time)"
   ]
  },
  {
   "cell_type": "code",
   "execution_count": null,
   "id": "d21d1001",
   "metadata": {},
   "outputs": [],
   "source": [
    "time = datetime.time(13, 24, 57)\n",
    "print(time)"
   ]
  },
  {
   "cell_type": "code",
   "execution_count": null,
   "id": "42e983ce",
   "metadata": {},
   "outputs": [],
   "source": [
    "# Получение текущего времени\n",
    "date_time = datetime.datetime.today()\n",
    "print(date_time)\n",
    "\n",
    "date_time = datetime.datetime.now()\n",
    "print(date_time)"
   ]
  },
  {
   "cell_type": "code",
   "execution_count": null,
   "id": "78722c9d",
   "metadata": {},
   "outputs": [],
   "source": [
    "date_str = \"16 February 2024\"\n",
    "date_format = \"%d %B %Y\"\n",
    "\n",
    "print(datetime.datetime.strptime(date_str, date_format))\n",
    "\n",
    "date_str = \"16 Feb 2024\"\n",
    "date_format = \"%d %b %Y\"\n",
    "\n",
    "print(datetime.datetime.strptime(date_str, date_format))"
   ]
  },
  {
   "cell_type": "code",
   "execution_count": null,
   "id": "5f6bd1a9",
   "metadata": {},
   "outputs": [],
   "source": [
    "d1 = datetime.datetime.strptime(\"01.01.2024 13:16\", \"%d.%m.%Y %H:%M\")\n",
    "print(d1)\n",
    "d2 = datetime.datetime.strptime(\"2024/03/03 17:18\", \"%Y/%m/%d %H:%M\")\n",
    "print(d2)"
   ]
  },
  {
   "cell_type": "code",
   "execution_count": null,
   "id": "51b8fb77",
   "metadata": {},
   "outputs": [],
   "source": [
    "d2 - d1"
   ]
  },
  {
   "cell_type": "code",
   "execution_count": null,
   "id": "e3993e79",
   "metadata": {},
   "outputs": [],
   "source": [
    "(d2 - d1).days"
   ]
  },
  {
   "cell_type": "code",
   "execution_count": null,
   "id": "5e1cfe4f",
   "metadata": {},
   "outputs": [],
   "source": [
    "(d2 - d1).seconds"
   ]
  },
  {
   "cell_type": "code",
   "execution_count": null,
   "id": "cbaf3653",
   "metadata": {},
   "outputs": [],
   "source": [
    "now = datetime.datetime.now()\n",
    "date_str = now.strftime(\"%m/%d/%y %H:%M:%S\")\n",
    "print(date_str)"
   ]
  },
  {
   "cell_type": "code",
   "execution_count": null,
   "id": "64bc5cd2",
   "metadata": {},
   "outputs": [],
   "source": [
    "datetime.datetime.now() - datetime.timedelta(days=5)"
   ]
  },
  {
   "cell_type": "code",
   "execution_count": null,
   "id": "08dc2aa6",
   "metadata": {},
   "outputs": [],
   "source": [
    "datetime.datetime.now() + datetime.timedelta(weeks=5)"
   ]
  },
  {
   "cell_type": "code",
   "execution_count": null,
   "id": "49bffd5d",
   "metadata": {},
   "outputs": [],
   "source": [
    "# День недели\n",
    "date_time = datetime.datetime.today()\n",
    "date_time.weekday()"
   ]
  },
  {
   "cell_type": "markdown",
   "id": "1b6d2bda",
   "metadata": {},
   "source": [
    "## pprint"
   ]
  },
  {
   "cell_type": "code",
   "execution_count": null,
   "id": "241f6e1e",
   "metadata": {},
   "outputs": [],
   "source": [
    "import pprint\n",
    "data = {\n",
    "    \"name\": \"John\",\n",
    "    \"age\": 30,\n",
    "    \"city\": \"New York\",\n",
    "    \"hobbies\": [\"reading\", \"playing guitar\", \"travelling\"],\n",
    "}\n",
    "\n",
    "pprint.pprint(data)\n",
    "print(data)"
   ]
  },
  {
   "cell_type": "markdown",
   "id": "f1b73128",
   "metadata": {},
   "source": [
    "Функция pprint предоставляет несколько параметров для настройки вывода данных. Например, можно установить ширину строки вывода и количество отступов для вложенных структур данных."
   ]
  },
  {
   "cell_type": "code",
   "execution_count": null,
   "id": "e55a97fb",
   "metadata": {},
   "outputs": [],
   "source": [
    "pprint.pprint(data, width=50, indent=4)"
   ]
  },
  {
   "cell_type": "code",
   "execution_count": null,
   "id": "5a0b2ed6",
   "metadata": {},
   "outputs": [],
   "source": [
    "pprint.pprint(data, depth=1)  # Указать глубину"
   ]
  },
  {
   "cell_type": "code",
   "execution_count": null,
   "id": "acdab7a8",
   "metadata": {},
   "outputs": [],
   "source": [
    "file = [\"file_00.csv\", \"file_01.csv\", \"file_02.csv\",\n",
    "        \"file_03.csv\", \"file_04.csv\", \"file_05.csv\",\n",
    "        \"file_06.csv\", \"file_07.csv\", \"file_08.csv\",\n",
    "        \"file_09.csv\", \"file_10.csv\", \"file_11.csv\",\n",
    "        \"file_12.csv\", \"file_13.csv\", \"file_14.csv\",\n",
    "        \"file_15.csv\", \"file_16.csv\", \"file_17.csv\",]"
   ]
  },
  {
   "cell_type": "code",
   "execution_count": null,
   "id": "edcb8827",
   "metadata": {},
   "outputs": [],
   "source": [
    "file"
   ]
  },
  {
   "cell_type": "code",
   "execution_count": null,
   "id": "981944d0",
   "metadata": {},
   "outputs": [],
   "source": [
    "print(file)"
   ]
  },
  {
   "cell_type": "code",
   "execution_count": null,
   "id": "813d9201",
   "metadata": {},
   "outputs": [],
   "source": [
    "pprint.pprint(file)"
   ]
  },
  {
   "cell_type": "markdown",
   "id": "28b6457c",
   "metadata": {},
   "source": [
    "## timeit\n",
    "\n",
    "Этот модуль предназначен для оценки производительности небольших фрагментов кода. \n",
    "\n",
    "Для этого необходимо импортировать саму библиотеку `timeit` и вызвать из нее метод `.timeit()`, передав ему название нашей функции и количество необходимых повторений.\n",
    "\n",
    "Рассмотрим следующую задачу конкатенации строк: Составить строку из чисел от 1 до 100, отделив числа друг от друга запятой."
   ]
  },
  {
   "cell_type": "code",
   "execution_count": null,
   "id": "a0bb2469",
   "metadata": {},
   "outputs": [],
   "source": [
    "import timeit\n",
    "\n",
    "# Алгоритм 1\n",
    "def concat():\n",
    "    s = \"\"\n",
    "    for i in range(100):\n",
    "        s += str(i) + \",\"\n",
    "    s += \"100\"\n",
    "\n",
    "# Алгоритм 2\n",
    "def join():\n",
    "    s = \",\".join(map(str, range(101)))\n",
    "\n",
    "print(timeit.timeit(concat, number=1000))\n",
    "print(timeit.timeit(join, number=1000))"
   ]
  }
 ],
 "metadata": {
  "kernelspec": {
   "display_name": "Python 3 (ipykernel)",
   "language": "python",
   "name": "python3"
  },
  "language_info": {
   "codemirror_mode": {
    "name": "ipython",
    "version": 3
   },
   "file_extension": ".py",
   "mimetype": "text/x-python",
   "name": "python",
   "nbconvert_exporter": "python",
   "pygments_lexer": "ipython3",
   "version": "3.11.5"
  }
 },
 "nbformat": 4,
 "nbformat_minor": 5
}
