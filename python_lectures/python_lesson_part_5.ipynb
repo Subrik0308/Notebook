{
 "cells": [
  {
   "cell_type": "markdown",
   "id": "bc1c968d",
   "metadata": {},
   "source": [
    "## Содержание:\n",
    "- Основные оценки сложности алгоритмов\n",
    "- Работа с файлами\n",
    "- Библиотека OpenCV\n",
    "- Массивы NumPy"
   ]
  },
  {
   "cell_type": "markdown",
   "id": "5cbb26a9",
   "metadata": {},
   "source": [
    "# Основные оценки сложности алгоритмов"
   ]
  },
  {
   "cell_type": "markdown",
   "id": "f4eabf30",
   "metadata": {},
   "source": [
    "Основные категории алгоритмической сложности в О-нотации:\n",
    "\n",
    "* Постоянное время: 0(1) – время выполнения не зависит от количества элементов во входном наборе данных\n",
    "\n",
    "* Линейное время: О(N) – время выполнения пропорционально количеству элементов в коллекции\n",
    "\n",
    "* Логарифмическое время: О(log(N)) – время выполнения пропорционально логарифму от количества элементов в коллекции\n",
    "\n",
    "* Квазилинейное время: О(N*log(N)) – время выполнения больше чем, линейное, но меньше квадратичного\n",
    "\n",
    "* Полиномиальное время: О(N^2) – время выполнения пропорционально квадрату количества элементов в коллекции\n"
   ]
  },
  {
   "cell_type": "markdown",
   "id": "65da3f02",
   "metadata": {},
   "source": [
    "## Константа $O(1)$\n",
    "Самый простой в оценке вариант алгоритма – алгоритм, который не зависит от размера входных данных.\n",
    "Посчитаем сумму первых пяти натуральных чисел. Для этого сравним два алгоритма."
   ]
  },
  {
   "cell_type": "code",
   "execution_count": null,
   "id": "1eb763cb",
   "metadata": {},
   "outputs": [],
   "source": [
    "# Алгоритм 1\n",
    "\n",
    "a = [1, 2, 3, 4, 5, 6]\n",
    "\n",
    "summ = 0\n",
    "for element in a:\n",
    "    summ += element\n",
    "\n",
    "print(summ)"
   ]
  },
  {
   "cell_type": "markdown",
   "id": "e7a2b2b0",
   "metadata": {},
   "source": [
    "Первый алгоритм будет перебирать все элементы списка и добавлять их к общей сумме.\\\n",
    "*Количество операций*: 1 (создание переменной) + n (проходимся по всему списку) + n (операция суммы)."
   ]
  },
  {
   "cell_type": "code",
   "execution_count": null,
   "id": "7e5313b0",
   "metadata": {},
   "outputs": [],
   "source": [
    "# Алгоритм 2\n",
    "\n",
    "a = [1, 2, 3, 4, 5, 6]\n",
    "\n",
    "summ = (a[0] + a[len(a) - 1]) / 2 * len(a)\n",
    "\n",
    "print(summ)"
   ]
  },
  {
   "cell_type": "markdown",
   "id": "3ef525e6",
   "metadata": {},
   "source": [
    "Второй алгоритм не будет проходиться по всему массиву, а сразу сложит нужные элементы.\\\n",
    "*Количество операций*: 3.\n",
    "\n",
    "В этой задаче нам нужно сделать три действия, независимо от того, какое количество натуральных чисел мы передали. То есть мы говорим, что данный алгоритм имеет сложность $О(1)$."
   ]
  },
  {
   "cell_type": "markdown",
   "id": "c12a1f5f",
   "metadata": {},
   "source": [
    "# Линейная $О(n)$\n",
    "\n",
    "Линейная оценка, или сложность $О(n)$, будет у алгоритма, который проходит один или несколько раз по всем переданным объектам. Например, алгоритм поиска числа в неупорядоченном списке."
   ]
  },
  {
   "cell_type": "code",
   "execution_count": null,
   "id": "0fcaea8a",
   "metadata": {},
   "outputs": [],
   "source": [
    "lst = [1, 26, 3, 24, 16, 17, 30, 17, 27, 28]\n",
    "s = 17\n",
    "n = len(lst)\n",
    "i = 0\n",
    "while i < n and lst[i] != s:\n",
    "    i += 1\n",
    "if i == n:\n",
    "    print(\"Число не найдено\")\n",
    "else:\n",
    "    print(i)"
   ]
  },
  {
   "cell_type": "code",
   "execution_count": null,
   "id": "2e52a342",
   "metadata": {},
   "outputs": [],
   "source": [
    "def element_search(ar, element):\n",
    "    for i in range(len(ar)):\n",
    "        if ar[i] == element:\n",
    "            return i\n",
    "    return \"Число не найдено\"\n",
    "s = 17\n",
    "print(element_search(lst, s))"
   ]
  },
  {
   "cell_type": "code",
   "execution_count": null,
   "id": "2febef80",
   "metadata": {},
   "outputs": [],
   "source": [
    "lst = [1, 26, 3, 24, 16, 17, 30, 17, 27, 28]\n",
    "element = 30\n",
    "for i in range(len(lst)):\n",
    "    if lst[i] == element:\n",
    "        print(i)\n",
    "        break\n",
    "else:\n",
    "    print(\"Число не найдено\")"
   ]
  },
  {
   "cell_type": "markdown",
   "id": "8a45b704",
   "metadata": {},
   "source": [
    "В этом примере в худшем случае (а нам интересен именно худший случай) мы пройдемся по всему списку, сравнивая каждый элемент с искомым, пока не найдем подходящий. Это и есть линейная сложность алгоритма."
   ]
  },
  {
   "cell_type": "markdown",
   "id": "150e17c1",
   "metadata": {},
   "source": [
    "## Экспоненциальное время: O(2^n)\n",
    "\n",
    "Если сложность алгоритма описывается формулой O(2^n), значит, время его работы удваивается с каждым дополнением к набору данных. Кривая роста функции O(2^n) экспоненциальная: сначала она очень пологая, а затем стремительно поднимается вверх. Примером алгоритма с экспоненциальной сложностью может послужить рекурсивный расчет чисел Фибоначчи:"
   ]
  },
  {
   "cell_type": "code",
   "execution_count": null,
   "id": "4febbba8",
   "metadata": {},
   "outputs": [],
   "source": [
    "def fibonacci(n):\n",
    "    # Первое и второе числа Фибоначчи равны 1\n",
    "    if n <= 2:\n",
    "        return 1\n",
    "    return fibonacci(n - 1) + fibonacci(n - 2)\n",
    "\n",
    "fibonacci(10)"
   ]
  },
  {
   "cell_type": "markdown",
   "id": "f74ae07f",
   "metadata": {},
   "source": [
    "## Квадратичная $О(n^2)$\n",
    "\n",
    "Оценка алгоритма в $О(n^2)$ будет у алгоритма, который для каждого элемента множества перебирает все остальные элементы множества. Таковым, например, является **пузырьковая сортировка**.\n",
    "\n",
    "![Изображение не найдено](https://habrastorage.org/getpro/habr/upload_files/132/1a8/c2d/1321a8c2d653c5b4fdca906baff445a5.gif)"
   ]
  },
  {
   "cell_type": "code",
   "execution_count": null,
   "id": "ee0fef56",
   "metadata": {},
   "outputs": [],
   "source": [
    "def bubble_sort(nums):\n",
    "\n",
    "    # Устанавливаем swapped в True, чтобы цикл запустился хотя бы один раз\n",
    "    swapped = True\n",
    "\n",
    "    while swapped:\n",
    "        swapped = False\n",
    "\n",
    "        # Идем циклом по индексам наших элементов\n",
    "        for i in range(len(nums) - 1):\n",
    "\n",
    "            # Если текущий элемент слева больше своего элемента справа\n",
    "            if nums[i] > nums[i + 1]:\n",
    "\n",
    "                # Меняем элементы местами\n",
    "                nums[i], nums[i + 1] = nums[i + 1], nums[i]\n",
    "\n",
    "                # Устанавливаем swapped в True для следующей итерации\n",
    "                swapped = True\n",
    "\n",
    "                # По окончании первого прогона цикла for, самый большой элемент \"всплывет\" наверх\n",
    "\n",
    "# Проверяем, что оно работает\n",
    "random_list_of_nums = [9, 5, 2, 1, 8, 4, 3, 7, 6]\n",
    "bubble_sort(random_list_of_nums)\n",
    "print(random_list_of_nums)"
   ]
  },
  {
   "cell_type": "markdown",
   "id": "9d7f444a",
   "metadata": {},
   "source": [
    "Алгоритм сортировки списка вставкой"
   ]
  },
  {
   "cell_type": "code",
   "execution_count": null,
   "id": "d22c0880",
   "metadata": {},
   "outputs": [],
   "source": [
    "lst = [1, 26, 3, 24, 16, 17, 30, 18, 27, 28]\n",
    "n = len(lst)\n",
    "for i in range(1, n):\n",
    "    x = lst[i]\n",
    "    j = i - 1\n",
    "    while j > -1 and lst[j] > x:\n",
    "        lst[j + 1] = lst[j]\n",
    "        j -= 1\n",
    "\n",
    "    lst[j + 1] = x\n",
    "\n",
    "print(lst)"
   ]
  },
  {
   "cell_type": "markdown",
   "id": "1a3f4d20",
   "metadata": {},
   "source": [
    "## Логарифмическая $О(log(n))$\n",
    "\n",
    "Оценку $О(log(n))$ чаще всего имеют алгоритмы, которые на каждом шаге работы с данными уменьшают размер этих данных в разы.\n",
    "\n",
    "Классический пример логарифмического алгоритма – **бинарный поиск**\n"
   ]
  },
  {
   "cell_type": "code",
   "execution_count": null,
   "id": "bd15131d",
   "metadata": {},
   "outputs": [],
   "source": [
    "lst = [1, 3, 16, 17, 24, 26, 27, 28, 30]\n",
    "\n",
    "s = 17\n",
    "i = 0\n",
    "j = len(lst) - 1\n",
    "while i <= j:\n",
    "    k = (i + j) // 2\n",
    "    if lst[k] > s:\n",
    "        j = k - 1\n",
    "    elif lst[k] < s:\n",
    "        i = k + 1\n",
    "    else:\n",
    "        break\n",
    "if i <= j:\n",
    "    print(k)\n",
    "else:\n",
    "    print(\"Число не найдено\")"
   ]
  },
  {
   "cell_type": "markdown",
   "id": "7b476f1f",
   "metadata": {},
   "source": [
    "Получается, что в алгоритме бинарного поиска мы каждый раз будем делить наше множество пополам, пока не останется один элемент. Значит, функция, которая будет описывать оценку нашего алгоритма, должна показывать, сколько раз число $n$, которое описывает размер наших данных, можно поделить на 2, или наоборот – в какую степень надо возвести 2, чтобы получилось наше число. Это и есть определение логарифма $log(n)$."
   ]
  },
  {
   "cell_type": "markdown",
   "id": "3b92fc82",
   "metadata": {},
   "source": [
    "## Линейно-логарифмическая $О(n * log(n))$\n",
    "\n",
    "Яркий пример такого алгоритма – **быстрая сортировка**. В этом алгоритме мы сначала разбиваем все элементы на пары (логарифмическая часть), а затем отсортированные пары последовательно соединяем (линейная часть). \n",
    "\n",
    "**Алгоритм с оценкой $О(n * log(n))$ считается самым быстрым решением задачи сортировки в общем случае.**\n",
    "\n",
    "![Изображение не найдено](https://habrastorage.org/getpro/habr/upload_files/0a9/afd/372/0a9afd372156de5806bd87f93c875834.gif)\n"
   ]
  },
  {
   "cell_type": "code",
   "execution_count": null,
   "id": "08df353c",
   "metadata": {},
   "outputs": [],
   "source": [
    "import random\n",
    "def quicksort(nums):\n",
    "\n",
    "    if len(nums) <= 1:\n",
    "        return nums\n",
    "    else:\n",
    "\n",
    "        q = random.choice(nums)  # Генерирует случайную выборку из заданного одномерного списка.\n",
    "        s_nums = []\n",
    "        m_nums = []\n",
    "        e_nums = []\n",
    "\n",
    "    for n in nums:\n",
    "        if n < q:\n",
    "            s_nums.append(n)\n",
    "        elif n > q:\n",
    "            m_nums.append(n)\n",
    "        else:\n",
    "            e_nums.append(n)\n",
    "\n",
    "    return quicksort(s_nums) + e_nums + quicksort(m_nums)\n",
    "\n",
    "lst = [1, 26, 3, 24, 16, 17, 30, 18, 27, 28]\n",
    "print(quicksort(lst))"
   ]
  },
  {
   "cell_type": "markdown",
   "id": "9cbb19a8",
   "metadata": {},
   "source": [
    "Сортировка слиянием\n",
    "![Изображение не найдено](https://habrastorage.org/getpro/habr/upload_files/21f/1a3/ec0/21f1a3ec016004112fbb9180f76067dd.gif)"
   ]
  },
  {
   "cell_type": "code",
   "execution_count": null,
   "id": "83ed80c3",
   "metadata": {},
   "outputs": [],
   "source": [
    "def merge(le, ri):\n",
    "    i, j = 0, 0\n",
    "    res = []\n",
    "    while i < len(le) and j < len(ri):\n",
    "        if le[i] <= ri[i]:\n",
    "            res.append(le[i])\n",
    "            i += 1\n",
    "        else:\n",
    "            res.append(ri[j])\n",
    "            j += 1\n",
    "    res += le[i:] + ri[j:]\n",
    "    return res\n",
    "\n",
    "def merge_sort(s):\n",
    "    if len(s) < 2: return s\n",
    "    else:\n",
    "        ln = len(s) // 2\n",
    "        left = merge_sort(s[:ln])\n",
    "        right = merge_sort(s[ln:])\n",
    "        return merge(left, right)\n",
    "\n",
    "lst = [1, 26, 3, 24, 16, 17, 30, 18, 27, 28]\n",
    "print(merge_sort(lst))"
   ]
  },
  {
   "cell_type": "markdown",
   "id": "ff3cc041",
   "metadata": {},
   "source": [
    "Сложность алгоритма `сортировки подсчетом` оценивается как **O(n + k)**, где n – это количество элементов в списке, а k – это количество уникальных элементов в списке."
   ]
  },
  {
   "cell_type": "code",
   "execution_count": null,
   "id": "66fd2bd8",
   "metadata": {},
   "outputs": [],
   "source": [
    "lst = [1, 3, 16, 17, 24, 24, 26, 27, 28, 30]\n",
    "lst_ancillary = [0] * (max(lst) + 1)\n",
    "for i in range(len(lst)):\n",
    "    lst_ancillary[lst[i]] += 1\n",
    "\n",
    "lst_new = []\n",
    "for i in range(max(lst) + 1):\n",
    "    for j in range(lst_ancillary[i]):\n",
    "        lst_new.append(i)\n",
    "\n",
    "print(lst_new)\n",
    "print(lst_ancillary)"
   ]
  },
  {
   "cell_type": "markdown",
   "id": "c381f637",
   "metadata": {},
   "source": [
    "# Работа с файлами\n",
    "\n",
    "Рассмотрим способы открытия, чтения и записи простых файлов с использования Python.\n",
    "\n",
    "Открывать файлы можно двумя способами. С помощью `open/close` и с помощью конструкции `with ... as`\n",
    "\n",
    "Синтаксис следующий:\n",
    "\n",
    "`f = open(file_name, access_mode)`\n",
    "\n",
    "Где, `file_name` = имя открываемого файла, а `access_mode` = режим открытия файла.\n",
    "\n",
    "Он может быть: для чтения, записи и т. д. По умолчанию используется режим чтения (r), если другое не указано. Далее полный список режимов открытия файла:\n",
    "\n",
    "- `r` Только для чтения.\n",
    "- `w` Только для записи. Создаст новый файл, если не найдет с указанным именем.\n",
    "- `rb` Только для чтения (бинарный).\n",
    "- `wb` Только для записи (бинарный). Создаст новый файл, если не найдет с указанным именем.\n",
    "- `r+` Для чтения и записи.\n",
    "- `rb+` Для чтения и записи (бинарный).\n",
    "- `w+` Для чтения и записи. Создаст новый файл для записи, если не найдет с указанным именем.\n",
    "- `wb+` Для чтения и записи (бинарный). Создаст новый файл для записи, если не найдет с указанным именем.\n",
    "- `a` Откроет для добавления нового содержимого. Создаст новый файл для записи, если не найдет с указанным именем.\n",
    "- `a+` Откроет для добавления нового содержимого. Создаст новый файл для чтения записи, если не найдет с указанным именем.\n",
    "- `ab` Откроет для добавления нового содержимого (бинарный). Создаст новый файл для записи, если не найдет с указанным именем.\n",
    "- `ab+` Откроет для добавления нового содержимого (бинарный). Создаст новый файл для чтения записи, если не найдет с указанным именем.\n",
    "\n",
    "Больше информации в статье [по ссылке](https://pythonru.com/osnovy/fajly-v-python-vvod-vyvod)\n",
    "\n",
    "Откроем и запишем строку в файл txt с использованием `open/close`. Файла с таким именем нет, Python сам создаст его. Использовать будем относительный путь, т.е. файл txt будет создан в той же директории, где находится наш файл Python."
   ]
  },
  {
   "cell_type": "code",
   "execution_count": null,
   "id": "8596f3ec",
   "metadata": {},
   "outputs": [],
   "source": [
    "f = open(\"file.txt\", \"w\")\n",
    "f.write(\"Hey, Bim\")\n",
    "f.close()"
   ]
  },
  {
   "cell_type": "code",
   "execution_count": null,
   "id": "aed733d6",
   "metadata": {},
   "outputs": [],
   "source": [
    "#Узнаем в какой директории мы находимся\n",
    "\n",
    "import os\n",
    "os.getcwd()"
   ]
  },
  {
   "cell_type": "markdown",
   "id": "66858081",
   "metadata": {},
   "source": [
    "Абсолютный путь к файлу может выглядеть следующим образом"
   ]
  },
  {
   "cell_type": "code",
   "execution_count": null,
   "id": "e82792a5",
   "metadata": {},
   "outputs": [],
   "source": [
    "f = open(\"C:\\\\Users\\\\User\\\\Python_for_beginners\\\\Lect_13\\\\file.txt\", \"w\")\n",
    "f.write(\"Hey, Bim\")\n",
    "f.close()"
   ]
  },
  {
   "cell_type": "markdown",
   "id": "6824fed0",
   "metadata": {},
   "source": [
    "Запишем текст с использованием кириллицы. Для записи необходимо использовать только строковый тип, для этого явный тип int преобразуем в str"
   ]
  },
  {
   "cell_type": "code",
   "execution_count": null,
   "id": "2f28c049",
   "metadata": {},
   "outputs": [],
   "source": [
    "f = open(\"file.txt\", \"w\")\n",
    "f.write(\"Собаке Бим уже \" + str(5) + \" лет\")\n",
    "f.close()"
   ]
  },
  {
   "cell_type": "markdown",
   "id": "04df16b6",
   "metadata": {},
   "source": [
    "При открытии файла file.txt в Jupyter, получаем проблемы с кодировкой. Поведение также может зависеть от операционной системы и программы, в которой открывается файл – что корректно откроется в обычном блокноте Win, может не открыться в Jupyter Notebook или, например, корректно открыться в Jupyter Notebook, но в MS Excel увидим абракадабру.\n",
    "\n",
    "Поэтому, часто стоит указывать кодировку, особенно если в тексте есть кириллица:"
   ]
  },
  {
   "cell_type": "code",
   "execution_count": null,
   "id": "ee7678da",
   "metadata": {},
   "outputs": [],
   "source": [
    "f = open(\"file.txt\", \"w\", encoding = 'UTF-8')\n",
    "f.write(\"Собаке Бим уже \" + str(5) + \" лет\")\n",
    "f.close()"
   ]
  },
  {
   "cell_type": "markdown",
   "id": "f7b767d3",
   "metadata": {},
   "source": [
    "На самом глубоком уровне компьютер оперирует исключительно цифрами 0 и 1. Это так называемый [двоичный код](https://ru.wikipedia.org/wiki/Двоичный_код), а единички и нули называются битами, от \"binary digit\" – «двоичная цифра».\n",
    "\n",
    "Обычные, привычные нам числа в десятичной системе исчисления, закодированы с помощью двоичных чисел.\n",
    "\n",
    "Компьютер на самом деле не знает ничего о буквах, знаках пунктуации и прочих текстовых символах. Все эти символы так же закодированы числами. В этом заключается суть `кодировок`.\n",
    "\n",
    "Во время своей работы, программы используют кодировки для преобразования чисел в символы и наоборот. Причём сама программа не имеет представления о смысле этих символов.\n",
    "\n",
    "Подобные таблицы, в которых сопоставляются буквы и числа, называются кодировками. Кроме букв алфавита, в таблицы кодировок входят знаки препинания и другие полезные символы. Вы наверняка сталкивались с кодировками, например, [ASCII](https://ru.wikipedia.org/wiki/ASCII) или [UTF-8](https://ru.wikipedia.org/wiki/UTF-8).\n",
    "\n",
    "Разные кодировки содержат разное количество символов. Изначально небольших таблиц вроде ASCII было достаточно для большинства задач. Но в ней только латинские буквы, несколько простых символов вроде % и ? и специальные управляющие символы типа перевода строки.\n",
    "\n",
    "С распространением компьютеров, разным странам понадобились свои, более широкие таблицы. В том числе для кириллических букв, восточных иероглифов, арабской вязи, дополнительных математических и типографских символов, а впоследствии даже для эмодзи-смайликов.\n",
    "\n",
    "Сегодня в большинстве случаев используется один из вариантов [юникода](https://ru.wikipedia.org/wiki/Юникод), включающий в себя знаки почти всех письменных языков мира.\n",
    "\n",
    "В Python можно «запросить» и вывести на экран любой символ из кодировки ASCII, по его номеру. Для этого используется функция `chr()`. Например:"
   ]
  },
  {
   "cell_type": "code",
   "execution_count": null,
   "id": "926cd9ca",
   "metadata": {},
   "outputs": [],
   "source": [
    "print(chr(126))\n",
    "print(chr(94))\n",
    "print(chr(37))"
   ]
  },
  {
   "cell_type": "markdown",
   "id": "f8905097",
   "metadata": {},
   "source": [
    "Теперь воспользуемся конструкцией `with ... as` для открытия и записи файла"
   ]
  },
  {
   "cell_type": "code",
   "execution_count": null,
   "id": "7d29113d",
   "metadata": {},
   "outputs": [],
   "source": [
    "with open(\"file.txt\", \"w\", encoding = 'UTF-8') as f:\n",
    "    f.write(\"Сегодня теплее чем вчера\\n\")\n",
    "    f.write(\"Завтра обещают похолодание\")"
   ]
  },
  {
   "cell_type": "markdown",
   "id": "57a289ab",
   "metadata": {},
   "source": [
    "Попробуем записать список в файл"
   ]
  },
  {
   "cell_type": "code",
   "execution_count": null,
   "id": "c649ae1f",
   "metadata": {},
   "outputs": [],
   "source": [
    "lst = [\"Мама\", \"мыла\", \"раму\"]\n",
    "with open(\"file.txt\", \"w\", encoding = 'UTF-8') as f:\n",
    "    f.write(lst)"
   ]
  },
  {
   "cell_type": "markdown",
   "id": "8115957d",
   "metadata": {},
   "source": [
    "Получим ошибку. Для записи списка необходимо использовать writelines"
   ]
  },
  {
   "cell_type": "code",
   "execution_count": null,
   "id": "5444563c",
   "metadata": {},
   "outputs": [],
   "source": [
    "lst = [\"Мама \", \" мыла \", \" раму\", \"\\n\"]\n",
    "with open(\"file.txt\", \"w\", encoding = 'UTF-8') as f:\n",
    "    f.writelines(lst)"
   ]
  },
  {
   "cell_type": "markdown",
   "id": "6b218664",
   "metadata": {},
   "source": [
    "Ранее мы перезаписывали файл. Для добавление данных файл нужно сменить \"w\" на \"a\""
   ]
  },
  {
   "cell_type": "code",
   "execution_count": null,
   "id": "f57b3615",
   "metadata": {},
   "outputs": [],
   "source": [
    "lst = [\"Раму \", \" мыла \", \" мама\"]\n",
    "with open(\"file.txt\", \"a\", encoding = 'UTF-8') as f:\n",
    "    f.writelines(lst)"
   ]
  },
  {
   "cell_type": "markdown",
   "id": "1c5a5086",
   "metadata": {},
   "source": [
    "Создадим новый файл и запишем в него несколько строк:"
   ]
  },
  {
   "cell_type": "code",
   "execution_count": null,
   "id": "17249e23",
   "metadata": {},
   "outputs": [],
   "source": [
    "test_text = '''Этот файл\n",
    "состоит\n",
    "из\n",
    "\n",
    "нескольких строчек'''\n",
    "\n",
    "with open(\"file_r.txt\", \"w\", encoding = 'UTF-8') as f:\n",
    "    f.writelines(test_text)"
   ]
  },
  {
   "cell_type": "markdown",
   "id": "0895fd26",
   "metadata": {},
   "source": [
    "Откроем файл для чтения. Сменим \"a\" на \"r\". Для наглядности, выводить будем без использования print"
   ]
  },
  {
   "cell_type": "code",
   "execution_count": null,
   "id": "22c8a289",
   "metadata": {},
   "outputs": [],
   "source": [
    "with open(\"file_r.txt\", \"r\") as f:\n",
    "    st = f.read()\n",
    "st"
   ]
  },
  {
   "cell_type": "markdown",
   "id": "2a782e38",
   "metadata": {},
   "source": [
    "Получили набор символов. Добавим при открытии `encoding = 'UTF-8'`"
   ]
  },
  {
   "cell_type": "code",
   "execution_count": null,
   "id": "e1964bbb",
   "metadata": {},
   "outputs": [],
   "source": [
    "with open(\"file_r.txt\", \"r\", encoding = 'UTF-8') as f:\n",
    "    st = f.read()\n",
    "st"
   ]
  },
  {
   "cell_type": "markdown",
   "id": "d72f8bb3",
   "metadata": {},
   "source": [
    "Прочитаем первые 25 символов"
   ]
  },
  {
   "cell_type": "code",
   "execution_count": null,
   "id": "d392b8e6",
   "metadata": {},
   "outputs": [],
   "source": [
    "with open(\"file_r.txt\", \"r\", encoding = 'UTF-8') as f:\n",
    "    st = f.read(25)\n",
    "st"
   ]
  },
  {
   "cell_type": "markdown",
   "id": "97cc84ca",
   "metadata": {},
   "source": [
    "Прочитаем 1 строку"
   ]
  },
  {
   "cell_type": "code",
   "execution_count": null,
   "id": "24a5e395",
   "metadata": {},
   "outputs": [],
   "source": [
    "with open(\"file_r.txt\", \"r\", encoding = 'UTF-8') as f:\n",
    "    st = f.readline()\n",
    "st"
   ]
  },
  {
   "cell_type": "markdown",
   "id": "06412c89",
   "metadata": {},
   "source": [
    "Прочитаем первые две строчки, выведем только вторую"
   ]
  },
  {
   "cell_type": "code",
   "execution_count": null,
   "id": "1a726170",
   "metadata": {},
   "outputs": [],
   "source": [
    "with open(\"file_r.txt\", \"r\", encoding = 'UTF-8') as f:\n",
    "    st = f.readline()\n",
    "    st2 = f.readline()\n",
    "st2"
   ]
  },
  {
   "cell_type": "markdown",
   "id": "2f9eb38d",
   "metadata": {},
   "source": [
    "Считаем все строки"
   ]
  },
  {
   "cell_type": "code",
   "execution_count": null,
   "id": "ea123214",
   "metadata": {},
   "outputs": [],
   "source": [
    "with open(\"file_r.txt\", \"r\", encoding = 'UTF-8') as f:\n",
    "    st = f.readlines()\n",
    "st"
   ]
  },
  {
   "cell_type": "markdown",
   "id": "b9c7f102",
   "metadata": {},
   "source": [
    "Еще один способ считывание всего файла в одну переменную str"
   ]
  },
  {
   "cell_type": "code",
   "execution_count": null,
   "id": "71b0951e",
   "metadata": {},
   "outputs": [],
   "source": [
    "st = \"\"\n",
    "with open(\"file_r.txt\", \"r\", encoding = 'UTF-8') as f:\n",
    "    for s in f:\n",
    "        st += s\n",
    "st"
   ]
  },
  {
   "cell_type": "markdown",
   "id": "ce261765",
   "metadata": {},
   "source": [
    "Уберем перенос строк c использованием `strip()`"
   ]
  },
  {
   "cell_type": "code",
   "execution_count": null,
   "id": "08e24ebb",
   "metadata": {},
   "outputs": [],
   "source": [
    "st = \"\"\n",
    "with open(\"file_r.txt\", \"r\", encoding = 'UTF-8') as f:\n",
    "    for s in f:\n",
    "        st += s.strip() + \" \"\n",
    "st"
   ]
  },
  {
   "cell_type": "markdown",
   "id": "074859ff",
   "metadata": {},
   "source": [
    "Следующий пример работы – создадим частотный словарь сказки Аксакова Сергея Тимофеевича – Аленький цветочек.\n",
    "\n",
    "Считываем текст из файла в одну строковую переменную, удаляя пробельные символы по краям строки."
   ]
  },
  {
   "cell_type": "code",
   "execution_count": null,
   "id": "42b8a35e",
   "metadata": {},
   "outputs": [],
   "source": [
    "text = \"\"\n",
    "with open(\"_add_material_lesson_python\\\\Аксаков С. Т. - Аленький цветочек.txt\", \"r\", encoding = 'UTF-8') as f:\n",
    "    for s in f:\n",
    "        text += s.strip() + \" \"\n",
    "print(text[:100])"
   ]
  },
  {
   "cell_type": "markdown",
   "id": "44f1eb78",
   "metadata": {},
   "source": [
    "Чтобы создать словарь уникальных слов, сначала нужно получить список этих слов. Но при обычном разделении через split() они у нас будут с лишними символами: запятая, точка, восклицательный знак и т.д."
   ]
  },
  {
   "cell_type": "code",
   "execution_count": null,
   "id": "2d2b0f72",
   "metadata": {},
   "outputs": [],
   "source": [
    "words = text.split()   \n",
    "\n",
    "print(words[:100])"
   ]
  },
  {
   "cell_type": "markdown",
   "id": "b63d6197",
   "metadata": {},
   "source": [
    "Создадим список слов без посторонних списков и приведем все к одному регистру"
   ]
  },
  {
   "cell_type": "code",
   "execution_count": null,
   "id": "086adbba",
   "metadata": {},
   "outputs": [],
   "source": [
    "words_lst = []\n",
    "\n",
    "for st in words:\n",
    "    st_temp = st.lower().strip('.,;:!«»?—()\"') \n",
    "    if st_temp != '':\n",
    "        words_lst.append(st_temp)\n",
    "\n",
    "\n",
    "print(words_lst[:100]) "
   ]
  },
  {
   "cell_type": "markdown",
   "id": "724cfef8",
   "metadata": {},
   "source": [
    "Напишем функцию для создания словаря слов"
   ]
  },
  {
   "cell_type": "code",
   "execution_count": null,
   "id": "0ad6dd75",
   "metadata": {},
   "outputs": [],
   "source": [
    "def create_dict(lst_words): \n",
    "    dic = {}\n",
    "    for word in lst_words:\n",
    "        if word not in dic:\n",
    "            dic[word] = 1\n",
    "        else:\n",
    "            dic[word] += 1\n",
    "    return dic     "
   ]
  },
  {
   "cell_type": "markdown",
   "id": "8fdcfb98",
   "metadata": {},
   "source": [
    "Проверим функцию на небольшом тексте"
   ]
  },
  {
   "cell_type": "code",
   "execution_count": null,
   "id": "29d07b6c",
   "metadata": {
    "scrolled": true
   },
   "outputs": [],
   "source": [
    "small_text = 'Мама мыла раму – раму мыла мама'.split()\n",
    "small_dict = create_dict(small_text)\n",
    "print(small_dict)\n",
    "small_text"
   ]
  },
  {
   "cell_type": "markdown",
   "id": "f94caf32",
   "metadata": {},
   "source": [
    "Запустим на данных из нашей сказки"
   ]
  },
  {
   "cell_type": "code",
   "execution_count": null,
   "id": "38809d4c",
   "metadata": {},
   "outputs": [],
   "source": [
    "dict_of_words = create_dict(words_lst)\n",
    "print(len(dict_of_words))\n",
    "len(words_lst)"
   ]
  },
  {
   "cell_type": "markdown",
   "id": "5d51af29",
   "metadata": {},
   "source": [
    "С помощью функции выведем первые 10 элементов словаря в том порядке, в котором они расположены в словаре"
   ]
  },
  {
   "cell_type": "code",
   "execution_count": null,
   "id": "f7a4f9a6",
   "metadata": {
    "scrolled": true
   },
   "outputs": [],
   "source": [
    "def print_dict(dictionary):\n",
    "    i = 0\n",
    "    for w in dictionary:\n",
    "        if i == 10:\n",
    "            break\n",
    "        print(w, dictionary[w])\n",
    "        i += 1\n",
    "        \n",
    "print_dict(dict_of_words)"
   ]
  },
  {
   "cell_type": "markdown",
   "id": "1c87e697",
   "metadata": {},
   "source": [
    "Отсортируем небольшой словарь. Для этого воспользуемся функцией sorted для сортировки с key в виде lamda-функции.\n",
    "\n",
    "Сортировка будет проходить по второму элементу, т.е. по встречаемости слов.\n",
    "\n",
    "Также применим `reverse = True` для сортировки от наибольшего к наименьшему."
   ]
  },
  {
   "cell_type": "code",
   "execution_count": null,
   "id": "2382dc21",
   "metadata": {},
   "outputs": [],
   "source": [
    "print(sorted(small_dict.items(), key = lambda dict: dict[1], reverse = True))"
   ]
  },
  {
   "cell_type": "markdown",
   "id": "ed9aeaca",
   "metadata": {},
   "source": [
    "Следующий результат получается на данных из сказки"
   ]
  },
  {
   "cell_type": "code",
   "execution_count": null,
   "id": "f98e7c3b",
   "metadata": {},
   "outputs": [],
   "source": [
    "sorted_list = sorted(dict_of_words.items(), key = lambda dict: dict[1], reverse = True)"
   ]
  },
  {
   "cell_type": "code",
   "execution_count": null,
   "id": "35990436",
   "metadata": {},
   "outputs": [],
   "source": [
    "sorted_list"
   ]
  },
  {
   "cell_type": "markdown",
   "id": "0d4d70ee",
   "metadata": {},
   "source": [
    "Список стоп-слов"
   ]
  },
  {
   "cell_type": "code",
   "execution_count": null,
   "id": "732478a4",
   "metadata": {},
   "outputs": [],
   "source": [
    "stopwords = ['и', 'в', 'во', 'не', 'что', 'он', 'на', 'я', 'с', 'со', 'как', 'а', 'то', \n",
    "             'она', 'так', 'его', 'но', 'да', 'ты', 'к', 'у', 'же', 'вы', 'за', 'бы', \n",
    "             'по', 'только', 'ее', 'мне', 'было', 'вот', 'от', 'меня', 'еще', 'нет', 'о', 'из', \n",
    "             'ему', 'теперь', 'когда', 'даже', 'ну', 'вдруг', 'ли', 'если', 'уже', 'или', 'ни', 'быть', \n",
    "             'был', 'него', 'до', 'вас', 'нибудь', 'опять', 'уж', 'вам', 'ведь', 'там', 'потом', 'себя', \n",
    "             'ничего', 'ей', 'может', 'они', 'тут', 'где', 'есть', 'надо', 'ней', 'для', 'мы', 'тебя', 'их', \n",
    "             'чем', 'была', 'сам', 'чтоб', 'без', 'будто', 'чего', 'раз', 'тоже', 'себе', 'под', 'будет', 'ж', \n",
    "             'тогда', 'кто', 'этот', 'того', 'потому', 'этого', 'какой', 'совсем', 'ним', 'здесь', 'этом', \n",
    "             'один', 'почти', 'мой', 'тем', 'чтобы', 'нее', 'сейчас', 'были', 'куда', 'зачем', 'всех', \n",
    "             'никогда', 'можно', 'при', 'наконец', 'два', 'об', 'другой', 'хоть', 'после', 'над', 'больше', \n",
    "             'тот', 'через', 'эти', 'нас', 'про', 'всего', 'них', 'какая', 'много', 'разве', 'три', 'эту', \n",
    "             'моя', 'впрочем', 'хорошо', 'свою', 'этой', 'перед', 'иногда', 'лучше', 'чуть', 'том', \n",
    "             'такой', 'им', 'более', 'всегда', 'всю', 'между','это']"
   ]
  },
  {
   "cell_type": "markdown",
   "id": "4e974917",
   "metadata": {},
   "source": [
    "Создадим новый список слов сказки без стоп-слов"
   ]
  },
  {
   "cell_type": "code",
   "execution_count": null,
   "id": "335cb65b",
   "metadata": {},
   "outputs": [],
   "source": [
    "words_lst_new = []                 # Создаем пустой список\n",
    "for word in words_lst:             # Последовательно для всех слов из списка\n",
    "    if word not in stopwords:      # Если слово не находится в списке стоп-слов\n",
    "        words_lst_new.append(word) # Добавляем его к новому списку\n",
    "print(words_lst_new[:10])          # Смотрим фрагмент получившегося списка, где видно, что стоп-слова исключены\n",
    "len(words_lst_new)"
   ]
  },
  {
   "cell_type": "markdown",
   "id": "52e9d03e",
   "metadata": {},
   "source": [
    "Создадим новый словарь без стоп-слов и отсортируем его"
   ]
  },
  {
   "cell_type": "code",
   "execution_count": null,
   "id": "c79c8c56",
   "metadata": {},
   "outputs": [],
   "source": [
    "dict_without_stopwords = create_dict(words_lst_new)"
   ]
  },
  {
   "cell_type": "code",
   "execution_count": null,
   "id": "3059962c",
   "metadata": {},
   "outputs": [],
   "source": [
    "print_dict(dict_without_stopwords)"
   ]
  },
  {
   "cell_type": "code",
   "execution_count": null,
   "id": "881f26f1",
   "metadata": {},
   "outputs": [],
   "source": [
    "sorted_without_stopwords = sorted(dict_without_stopwords.items(), key = lambda x: x[1], reverse = True)\n",
    "sorted_without_stopwords[:15]"
   ]
  },
  {
   "cell_type": "markdown",
   "id": "75047391",
   "metadata": {},
   "source": [
    "Запишем результат в файл"
   ]
  },
  {
   "cell_type": "code",
   "execution_count": null,
   "id": "5bec6d12",
   "metadata": {},
   "outputs": [],
   "source": [
    "with open(\"flower.txt\", \"w\", encoding = 'UTF-8') as f:\n",
    "    for lst in sorted_without_stopwords:\n",
    "        f.writelines(lst[0] + \", \" + str(lst[1]) + \"\\n\")"
   ]
  },
  {
   "cell_type": "code",
   "execution_count": null,
   "id": "1fe65bfd",
   "metadata": {},
   "outputs": [],
   "source": [
    "with open(\"flower.csv\", \"w\", encoding = 'UTF-8') as f:\n",
    "    for lst in sorted_without_stopwords:\n",
    "        f.writelines(lst[0] + \", \" + str(lst[1]) + \"\\n\")\n",
    "\n",
    "# p.s. В MS Excel потребуется открывать с указанием кодировки, иначе получим абракадабру."
   ]
  },
  {
   "cell_type": "markdown",
   "id": "3b7c9ecb",
   "metadata": {},
   "source": [
    "**Работа с csv-файлами**\n",
    "\n",
    "Часто для хранения табличных данных используют формат csv. В данном файле данные записаны по строкам, а разделение по столбцам происходит с помощью запятых (точек с запятой, пробелами и т.д.), отделяющих значения друг от друга. Данные файлы можно просматривать в редакторе таблиц (например, Excel и Google Sheets).\n",
    "\n",
    "Создадим и затем откроем csv файл."
   ]
  },
  {
   "cell_type": "code",
   "execution_count": null,
   "id": "d85b9236",
   "metadata": {},
   "outputs": [],
   "source": [
    "test_text = '''Random Number 1, Random Number 2, Random Number 3\n",
    "27,7,3\n",
    "23,14,24\n",
    "28,27,12\n",
    "16,2,9\n",
    "24,18,5\n",
    "21,15,10\n",
    "2,20,3\n",
    "11,9,26\n",
    "13,24,30\n",
    "21,22,9'''\n",
    "\n",
    "with open(\"file_csv.csv\", \"w\", encoding = 'UTF-8') as f:\n",
    "    f.writelines(test_text)"
   ]
  },
  {
   "cell_type": "code",
   "execution_count": null,
   "id": "905ebebc",
   "metadata": {},
   "outputs": [],
   "source": [
    "csv_data = \"\"\n",
    "with open(\"file_csv.csv\", \"r\", encoding = 'UTF-8') as f:\n",
    "    for s in f:\n",
    "        csv_data += s\n",
    "print(csv_data)"
   ]
  },
  {
   "cell_type": "markdown",
   "id": "05959676",
   "metadata": {},
   "source": [
    "Построим график, на основании содержимого существующего файла csv."
   ]
  },
  {
   "cell_type": "code",
   "execution_count": null,
   "id": "76d7a9e1",
   "metadata": {},
   "outputs": [],
   "source": [
    "csv_data = \"\"\n",
    "with open(\"_add_material_lesson_python\\\\usd_eur_quotes.csv\", \"r\") as f:\n",
    "    for line in f:\n",
    "        csv_data += line\n",
    "csv_data[:100]"
   ]
  },
  {
   "cell_type": "markdown",
   "id": "fc5dc393",
   "metadata": {},
   "source": [
    "В данном случае, в момент считывания файла лучше сразу разбить данные на элементы списка"
   ]
  },
  {
   "cell_type": "code",
   "execution_count": null,
   "id": "f9d7e29c",
   "metadata": {},
   "outputs": [],
   "source": [
    "usd_eur_list = []\n",
    "with open(\"_add_material_lesson_python\\\\usd_eur_quotes.csv\", \"r\") as f:\n",
    "    for line in f:\n",
    "        day_list = line.split(\";\")\n",
    "        usd_eur_list.append(day_list)\n",
    "usd_eur_list"
   ]
  },
  {
   "cell_type": "code",
   "execution_count": null,
   "id": "ec68528d",
   "metadata": {},
   "outputs": [],
   "source": [
    "usd_eur_list.pop(0)"
   ]
  },
  {
   "cell_type": "markdown",
   "id": "4a077775",
   "metadata": {},
   "source": [
    "Из полученного списка с курсов валют, сохраним данные в три разных списка, первый для даты, второй для курса доллара, третий для курса евро. Но так как данные за 1 января находятся в конце csv-файла, считывать данные будем в обратном порядке "
   ]
  },
  {
   "cell_type": "code",
   "execution_count": null,
   "id": "e02f6372",
   "metadata": {},
   "outputs": [],
   "source": [
    "dates = []\n",
    "currency_usd = []\n",
    "currency_eur = []\n",
    "\n",
    "for row in reversed(usd_eur_list):\n",
    "    dates.append(row[0])\n",
    "    currency_usd.append(float(row[1]))\n",
    "    currency_eur.append(float(row[2]))"
   ]
  },
  {
   "cell_type": "markdown",
   "id": "6b4520ab",
   "metadata": {},
   "source": [
    "Подключим библиотеку `matplotlib` для отрисовки графиков. Более подробнее мы будем ее изучать отдельно"
   ]
  },
  {
   "cell_type": "code",
   "execution_count": null,
   "id": "6898ee04",
   "metadata": {},
   "outputs": [],
   "source": [
    "import matplotlib.pyplot as plt\n",
    "\n",
    "\n",
    "plt.figure(figsize = (10, 5))\n",
    "plt.plot(dates, currency_usd, label = 'USD')\n",
    "plt.plot(dates, currency_eur, label = 'EUR')\n",
    "plt.xlabel('Date')\n",
    "plt.ylabel('Course')\n",
    "plt.title('Course of USD and EUR Over Time')\n",
    "plt.legend()\n",
    "plt.show()"
   ]
  },
  {
   "cell_type": "markdown",
   "id": "17b9008c",
   "metadata": {},
   "source": [
    "# Библиотека OpenCV"
   ]
  },
  {
   "cell_type": "code",
   "execution_count": null,
   "id": "75f324c7",
   "metadata": {},
   "outputs": [],
   "source": [
    "!pip install opencv-python"
   ]
  },
  {
   "cell_type": "code",
   "execution_count": null,
   "id": "60f64214",
   "metadata": {},
   "outputs": [],
   "source": [
    "!pip list"
   ]
  },
  {
   "cell_type": "code",
   "execution_count": null,
   "id": "d2b312b7",
   "metadata": {},
   "outputs": [],
   "source": [
    "import cv2\n",
    "import numpy as np\n",
    "import matplotlib.pyplot as plt"
   ]
  },
  {
   "cell_type": "code",
   "execution_count": null,
   "id": "56c640cf",
   "metadata": {},
   "outputs": [],
   "source": [
    "file_name = \"_add_material_lesson_python\\\\huskies.jpeg\"\n",
    "img = cv2.imread(file_name)\n",
    "plt.imshow(img);"
   ]
  },
  {
   "cell_type": "code",
   "execution_count": null,
   "id": "bf316db3",
   "metadata": {},
   "outputs": [],
   "source": [
    "# Для IDLE, matplotlib не нужно\n",
    "# Откроем картинку с собакой в Windows\n",
    "\n",
    "cv2.imshow('_add_material_lesson_python\\\\huskies.jpeg', img)\n",
    "cv2.waitKey(0)\n",
    "cv2.destroyAllWindows()"
   ]
  },
  {
   "cell_type": "markdown",
   "id": "44574814",
   "metadata": {},
   "source": [
    "Почему после обработки файла OpenCV мы получили такую картинку – всё дело в том, что OpenCV по умолчанию использует формат **BGR**, а не более привычный **RGB**. Так исторически сложилось. Подробнее можно почитать [по ссылке](https://arboook.com/kompyuternoe-zrenie/operatsii-s-tsvetom-v-opencv3-i-python/). Чтобы в нашем случае, получить требуемый результат, используем `cv2.COLOR_BGR2RGB`"
   ]
  },
  {
   "cell_type": "code",
   "execution_count": null,
   "id": "94229eb6",
   "metadata": {},
   "outputs": [],
   "source": [
    "img = cv2.cvtColor(cv2.imread(file_name), cv2.COLOR_BGR2RGB)\n",
    "\n",
    "plt.imshow(img);"
   ]
  },
  {
   "cell_type": "code",
   "execution_count": null,
   "id": "b5002981",
   "metadata": {},
   "outputs": [],
   "source": [
    "b, g, r = cv2.split(img)\n",
    "plt.imshow(b);"
   ]
  },
  {
   "cell_type": "code",
   "execution_count": null,
   "id": "c0ea8b47",
   "metadata": {},
   "outputs": [],
   "source": [
    "plt.imshow(g);"
   ]
  },
  {
   "cell_type": "code",
   "execution_count": null,
   "id": "81dfb184",
   "metadata": {},
   "outputs": [],
   "source": [
    "plt.imshow(r);"
   ]
  },
  {
   "cell_type": "markdown",
   "id": "c666eca0",
   "metadata": {},
   "source": [
    "Перевод в оттенки серого"
   ]
  },
  {
   "cell_type": "code",
   "execution_count": null,
   "id": "a65effa2",
   "metadata": {},
   "outputs": [],
   "source": [
    "gray = cv2.cvtColor(img, cv2.COLOR_RGB2GRAY)"
   ]
  },
  {
   "cell_type": "code",
   "execution_count": null,
   "id": "cc7ee047",
   "metadata": {},
   "outputs": [],
   "source": [
    "plt.imshow(gray, cmap = 'gray');"
   ]
  },
  {
   "cell_type": "markdown",
   "id": "59907f00",
   "metadata": {},
   "source": [
    "Изменение размера"
   ]
  },
  {
   "cell_type": "code",
   "execution_count": null,
   "id": "0d89d733",
   "metadata": {},
   "outputs": [],
   "source": [
    "size = 50\n",
    "height = int(img.shape[0] * size / 100)\n",
    "width = int(img.shape[1] * size / 100)\n",
    "resized_img = cv2.resize(img, (width, height))\n",
    "plt.imshow(resized_img);"
   ]
  },
  {
   "cell_type": "code",
   "execution_count": null,
   "id": "087856fa",
   "metadata": {},
   "outputs": [],
   "source": [
    "resized_img = cv2.resize(img, None, fx = 0.5, fy = 0.5)\n",
    "plt.imshow(resized_img);"
   ]
  },
  {
   "cell_type": "markdown",
   "id": "5bda8888",
   "metadata": {},
   "source": [
    "Кадрирование"
   ]
  },
  {
   "cell_type": "code",
   "execution_count": null,
   "id": "45d26a8b",
   "metadata": {},
   "outputs": [],
   "source": [
    "cropped = img[200:1200, 200:1500]  # Координаты: [y0:y1, x0:x1]\n",
    "plt.imshow(cropped);"
   ]
  },
  {
   "cell_type": "code",
   "execution_count": null,
   "id": "aa3291fc",
   "metadata": {},
   "outputs": [],
   "source": [
    "cropped[0][0]"
   ]
  },
  {
   "cell_type": "markdown",
   "id": "9eeb2e9e",
   "metadata": {},
   "source": [
    "Вращение изображений"
   ]
  },
  {
   "cell_type": "code",
   "execution_count": null,
   "id": "894165de",
   "metadata": {},
   "outputs": [],
   "source": [
    "rotated_img = cv2.rotate(img, cv2.ROTATE_90_CLOCKWISE)\n",
    "plt.imshow(rotated_img);"
   ]
  },
  {
   "cell_type": "code",
   "execution_count": null,
   "id": "9ce9fe80",
   "metadata": {},
   "outputs": [],
   "source": [
    "angel = 45  # В градусах\n",
    "(h, w, c) = img.shape\n",
    "center = (w // 2, h // 2)\n",
    "M = cv2.getRotationMatrix2D(center, angel, 1.0)\n",
    "rotated_img = cv2.warpAffine(img, M, (w, h))\n",
    "plt.imshow(rotated_img);"
   ]
  },
  {
   "cell_type": "markdown",
   "id": "49a86dd1",
   "metadata": {},
   "source": [
    "Контраст и яркость "
   ]
  },
  {
   "cell_type": "code",
   "execution_count": null,
   "id": "00fb3733",
   "metadata": {},
   "outputs": [],
   "source": [
    "lab = cv2.cvtColor(img, cv2.COLOR_RGB2LAB)  # Переведем в формат LAB\n",
    "l, a , b = cv2.split(lab)  # Разбитие на каналы\n",
    "# Создание адаптивной гистограммы\n",
    "clahe = cv2.createCLAHE(clipLimit = 3., tileGridSize = (8,8))\n",
    "# clipLimit – определяет, насколько контрастнее станет фото\n",
    "# Изображенеие разбивается на блоки 8 на 8, для каждого блока гистограмма строится отдельно\n",
    "l2 = clahe.apply(l)  # Применение гистограмм к L-каналу\n",
    "lab = cv2.merge((l2, a, b))\n",
    "img2 = cv2.cvtColor(lab, cv2.COLOR_LAB2RGB)\n",
    "plt.imshow(img2); "
   ]
  },
  {
   "cell_type": "code",
   "execution_count": null,
   "id": "0784aca6",
   "metadata": {},
   "outputs": [],
   "source": [
    "claheFilter = cv2.createCLAHE(clipLimit = 3., tileGridSize = (8,8))\n",
    "gray2 = claheFilter.apply(gray)\n",
    "plt.imshow(gray2, cmap = 'gray');"
   ]
  },
  {
   "cell_type": "code",
   "execution_count": null,
   "id": "80a32802",
   "metadata": {},
   "outputs": [],
   "source": [
    "# Линейный метод\n",
    "alpha = 1.5\n",
    "beta = 10\n",
    "# np.clip – ограничение значений в массиве\n",
    "# Значения за пределами интервала обрезаются по краям интервала\n",
    "img3 = np.uint8(np.clip((alpha * img + beta), 0, 255))\n",
    "plt.imshow(img3);"
   ]
  },
  {
   "cell_type": "markdown",
   "id": "a8ac8c3f",
   "metadata": {},
   "source": [
    "Выделение контуров"
   ]
  },
  {
   "cell_type": "code",
   "execution_count": null,
   "id": "adc2962a",
   "metadata": {},
   "outputs": [],
   "source": [
    "edged_grey = cv2.Canny(gray, 10, 250)\n",
    "plt.imshow(edged_grey, cmap = 'gray');"
   ]
  },
  {
   "cell_type": "code",
   "execution_count": null,
   "id": "4804bb61",
   "metadata": {},
   "outputs": [],
   "source": [
    "edged_grey_2 = cv2.Canny(gray2, 10, 250)\n",
    "plt.imshow(edged_grey_2, cmap = 'gray');"
   ]
  },
  {
   "cell_type": "markdown",
   "id": "1835472e",
   "metadata": {},
   "source": [
    "Размытие изображения"
   ]
  },
  {
   "cell_type": "code",
   "execution_count": null,
   "id": "b3ac72cc",
   "metadata": {},
   "outputs": [],
   "source": [
    "blurred_img = cv2.GaussianBlur(img, (11, 11), 0)\n",
    "\n",
    "plt.imshow(blurred_img);"
   ]
  },
  {
   "cell_type": "code",
   "execution_count": null,
   "id": "8c496bfa",
   "metadata": {},
   "outputs": [],
   "source": [
    "blurred_img = cv2.blur(img, (11, 11))\n",
    "\n",
    "plt.imshow(blurred_img);"
   ]
  },
  {
   "cell_type": "code",
   "execution_count": null,
   "id": "becc7817",
   "metadata": {},
   "outputs": [],
   "source": [
    "blurred_img = cv2.bilateralFilter(img, 19, 75, 75)\n",
    "\n",
    "plt.imshow(blurred_img);"
   ]
  },
  {
   "cell_type": "code",
   "execution_count": null,
   "id": "5c55d70b",
   "metadata": {
    "scrolled": false
   },
   "outputs": [],
   "source": [
    "plt.imshow(img);"
   ]
  },
  {
   "cell_type": "markdown",
   "id": "e32ed2d9",
   "metadata": {},
   "source": [
    "Загрузим изображение луны на зеленом фоне для дальнейшего добавления на нашу первоначальную картинку"
   ]
  },
  {
   "cell_type": "code",
   "execution_count": null,
   "id": "5611f753",
   "metadata": {
    "scrolled": false
   },
   "outputs": [],
   "source": [
    "file_name_moon = \"_add_material_lesson_python\\\\moon.jpg\"\n",
    "img_moon = cv2.cvtColor(cv2.imread(file_name_moon), cv2.COLOR_BGR2RGB)\n",
    "\n",
    "plt.imshow(img_moon);"
   ]
  },
  {
   "cell_type": "code",
   "execution_count": null,
   "id": "72a7b354",
   "metadata": {},
   "outputs": [],
   "source": [
    "print(img_moon.shape)"
   ]
  },
  {
   "cell_type": "markdown",
   "id": "c50aee0d",
   "metadata": {},
   "source": [
    "Размер изображения луны меньше, поэтому «создадим» зеленый прямоугольник нужного нам размера"
   ]
  },
  {
   "cell_type": "code",
   "execution_count": null,
   "id": "81622861",
   "metadata": {},
   "outputs": [],
   "source": [
    "green = np.full((1281,1920,3),(0, 255, 0), np.uint8)\n",
    "plt.imshow(green);"
   ]
  },
  {
   "cell_type": "markdown",
   "id": "66963117",
   "metadata": {},
   "source": [
    "При помощи среза заменим в зеленом прямоугольники пиксели из изображения луны"
   ]
  },
  {
   "cell_type": "code",
   "execution_count": null,
   "id": "57131572",
   "metadata": {},
   "outputs": [],
   "source": [
    "green[0:0+img_moon.shape[0], 0:0+img_moon.shape[1]] = img_moon\n",
    "plt.imshow(green);"
   ]
  },
  {
   "cell_type": "markdown",
   "id": "ef13c9e4",
   "metadata": {},
   "source": [
    "Уберем зеленый цвет. Для этого переведем картинку в HSV формат (Hue – тон, Saturation – насыщенность и Value – значение).\n",
    "Далее создадим маску зеленого цвета в формате HSV, более подробней можно посмотреть [по ссылке](https://stackoverflow.com/questions/47483951/how-can-i-define-a-threshold-value-to-detect-only-green-colour-objects-in-an-ima)"
   ]
  },
  {
   "cell_type": "code",
   "execution_count": null,
   "id": "24f84a29",
   "metadata": {
    "scrolled": true
   },
   "outputs": [],
   "source": [
    "hsv = cv2.cvtColor(green, cv2.COLOR_BGR2HSV)\n",
    "mask = cv2.inRange(hsv, (36, 25, 25), (70, 255,255))\n",
    "plt.imshow(mask, cmap = 'gray');"
   ]
  },
  {
   "cell_type": "markdown",
   "id": "df9ea53e",
   "metadata": {},
   "source": [
    "Сделаем копию изначального изображения.\n",
    "\n",
    "Уберем зеленый фон с использованием нашей маски, все кроме изображения луны красится в черный цвет"
   ]
  },
  {
   "cell_type": "code",
   "execution_count": null,
   "id": "7525cefd",
   "metadata": {
    "scrolled": false
   },
   "outputs": [],
   "source": [
    "masked_image = np.copy(green)\n",
    "masked_image[mask != 0] = [0, 0, 0]\n",
    "plt.imshow(masked_image);"
   ]
  },
  {
   "cell_type": "markdown",
   "id": "e3b434fe",
   "metadata": {},
   "source": [
    "Создадим копию первоначального изображения и на копию наложим нашу маску"
   ]
  },
  {
   "cell_type": "code",
   "execution_count": null,
   "id": "53c18814",
   "metadata": {},
   "outputs": [],
   "source": [
    "masked_background_image = np.copy(img)\n",
    "masked_background_image[mask == 0] = [0, 0, 0]\n",
    "plt.imshow(masked_background_image);"
   ]
  },
  {
   "cell_type": "code",
   "execution_count": null,
   "id": "5930a0b2",
   "metadata": {},
   "outputs": [],
   "source": [
    "complete_image = masked_image + masked_background_image  # Cкладываем массивы\n",
    "\n",
    "plt.imshow(complete_image);"
   ]
  },
  {
   "cell_type": "markdown",
   "id": "115cc313",
   "metadata": {},
   "source": [
    "Сохраняем файл, не забыв про `COLOR_BGR2RGB`"
   ]
  },
  {
   "cell_type": "code",
   "execution_count": null,
   "id": "597d13e0",
   "metadata": {},
   "outputs": [],
   "source": [
    "cv2.imwrite('_add_material_lesson_python\\\\huskies_moon.png', cv2.cvtColor(complete_image, cv2.COLOR_RGB2BGR))"
   ]
  },
  {
   "cell_type": "markdown",
   "id": "983bb16a",
   "metadata": {},
   "source": [
    "## Массивы NumPy\n",
    "### Базовые операции с массивами\n",
    "\n",
    "Библиотека `NumPy` (сокращение от *Numeric Python*) часто используется в задачах, связанных с машинным обучением. Производить вычисления с массивами `NumPy` гораздо быстрее и эффективнее чем со списками.\n",
    "\n",
    "Импортируем библиотеку"
   ]
  },
  {
   "cell_type": "code",
   "execution_count": null,
   "id": "6ae9d087",
   "metadata": {},
   "outputs": [],
   "source": [
    "import numpy as np"
   ]
  },
  {
   "cell_type": "markdown",
   "id": "58fc3ec0",
   "metadata": {},
   "source": [
    "Основным объектом `numpy` является Ndarray – это n-мерный массив (сокращение от *n-dimensional array*), структура данных, которая позволяет хранить набор элементов **одного типа**: либо только целые числа, либо числа с плавающей точкой, либо строки, либо булевы (логические) значения."
   ]
  },
  {
   "cell_type": "code",
   "execution_count": null,
   "id": "8050a42d",
   "metadata": {},
   "outputs": [],
   "source": [
    "a = [1, 2, 3]\n",
    "b = [4, 5, 6]"
   ]
  },
  {
   "cell_type": "code",
   "execution_count": null,
   "id": "c54f07a3",
   "metadata": {},
   "outputs": [],
   "source": [
    "a + b"
   ]
  },
  {
   "cell_type": "code",
   "execution_count": null,
   "id": "02c72aea",
   "metadata": {},
   "outputs": [],
   "source": [
    "a * 2"
   ]
  },
  {
   "cell_type": "code",
   "execution_count": null,
   "id": "9d7a0161",
   "metadata": {},
   "outputs": [],
   "source": [
    "# Преобразование списка в массив\n",
    "\n",
    "a_arr = np.array(a)\n",
    "b_arr = np.array(b)"
   ]
  },
  {
   "cell_type": "code",
   "execution_count": null,
   "id": "d18a04ce",
   "metadata": {},
   "outputs": [],
   "source": [
    "a_arr + b_arr"
   ]
  },
  {
   "cell_type": "code",
   "execution_count": null,
   "id": "4050d29b",
   "metadata": {},
   "outputs": [],
   "source": [
    "a_arr - b_arr"
   ]
  },
  {
   "cell_type": "code",
   "execution_count": null,
   "id": "3b868fb7",
   "metadata": {},
   "outputs": [],
   "source": [
    "a_arr * 2"
   ]
  },
  {
   "cell_type": "code",
   "execution_count": null,
   "id": "85767d69",
   "metadata": {},
   "outputs": [],
   "source": [
    "a_arr / b_arr"
   ]
  },
  {
   "cell_type": "code",
   "execution_count": null,
   "id": "5248fa5e",
   "metadata": {},
   "outputs": [],
   "source": [
    "a_arr ** 2"
   ]
  },
  {
   "cell_type": "code",
   "execution_count": null,
   "id": "5be72e59",
   "metadata": {},
   "outputs": [],
   "source": [
    "a_arr / 0"
   ]
  },
  {
   "cell_type": "code",
   "execution_count": null,
   "id": "2d076941",
   "metadata": {},
   "outputs": [],
   "source": [
    "np.array([0, 2, 3, 4])  # Создание массива"
   ]
  },
  {
   "cell_type": "markdown",
   "id": "d4cfd721",
   "metadata": {},
   "source": [
    "Массивы могут быть многомерными (n-мерными)"
   ]
  },
  {
   "cell_type": "code",
   "execution_count": null,
   "id": "569027bf",
   "metadata": {},
   "outputs": [],
   "source": [
    "np.array([[1, 2], \n",
    "          [1, 0]])  # Двумерный"
   ]
  },
  {
   "cell_type": "code",
   "execution_count": null,
   "id": "9b309d77",
   "metadata": {},
   "outputs": [],
   "source": [
    "x = np.array([[[6, 3],\n",
    "        [6, 8]],\n",
    "      [[1, 100],\n",
    "        [0, 1]]])  # Трехмерный\n",
    "x"
   ]
  },
  {
   "cell_type": "code",
   "execution_count": null,
   "id": "9aa97acc",
   "metadata": {},
   "outputs": [],
   "source": [
    "x[0]"
   ]
  },
  {
   "cell_type": "code",
   "execution_count": null,
   "id": "9aaf1e2f",
   "metadata": {},
   "outputs": [],
   "source": [
    "x[0][1]"
   ]
  },
  {
   "cell_type": "code",
   "execution_count": null,
   "id": "30afdfc0",
   "metadata": {},
   "outputs": [],
   "source": [
    "x[0][1][1]"
   ]
  },
  {
   "cell_type": "code",
   "execution_count": null,
   "id": "02f6962e",
   "metadata": {},
   "outputs": [],
   "source": [
    "x[1][0][1]"
   ]
  },
  {
   "cell_type": "markdown",
   "id": "549017dd",
   "metadata": {},
   "source": [
    "Число элементов в списках внутри массива должно совпадать"
   ]
  },
  {
   "cell_type": "code",
   "execution_count": null,
   "id": "1b13d8d4",
   "metadata": {},
   "outputs": [],
   "source": [
    "lst = [[0, 0, 1],\n",
    "         [0, 1]]\n",
    "lst"
   ]
  },
  {
   "cell_type": "code",
   "execution_count": null,
   "id": "f282c0d2",
   "metadata": {},
   "outputs": [],
   "source": [
    "np.array([[0, 0, 1],\n",
    "         [0, 1]])"
   ]
  },
  {
   "cell_type": "markdown",
   "id": "e9efd183",
   "metadata": {},
   "source": [
    "Объединим в массив объекты разных типов"
   ]
  },
  {
   "cell_type": "code",
   "execution_count": null,
   "id": "5a1a5d22",
   "metadata": {},
   "outputs": [],
   "source": [
    "np.array([[5, 8.2],\n",
    "         [1.2, 1,]])"
   ]
  },
  {
   "cell_type": "code",
   "execution_count": null,
   "id": "e00d637c",
   "metadata": {},
   "outputs": [],
   "source": [
    "np.array([[5, 8.2],\n",
    "         [1.2, 'help']])"
   ]
  },
  {
   "cell_type": "markdown",
   "id": "7a7aa910",
   "metadata": {},
   "source": [
    "Наиболее важные атрибуты объектов ndarray:\n",
    "1. **`ndarray.ndim`** – число измерений (чаще их называют \"оси\") массива.\n",
    "  \n",
    "2. **`ndarray.shape`** – размеры массива, его форма. Это кортеж натуральных чисел, показывающий длину массива по каждой оси. Для матрицы из n строк и m столбов, shape будет (n,m). Число элементов кортежа shape равно ndim.\n",
    "3. **`ndarray.size`** – количество элементов массива. Очевидно, равно произведению всех элементов атрибута shape.\n",
    "4. **`ndarray.dtype`** – объект, описывающий тип элементов массива. Можно определить dtype, используя стандартные типы данных Python. Можно хранить и numpy типы, например: bool, int16, int32, int64, float16, float32, float64, complex64\n",
    "\n",
    "Двумерный массив:"
   ]
  },
  {
   "cell_type": "code",
   "execution_count": null,
   "id": "9234f5cb",
   "metadata": {},
   "outputs": [],
   "source": [
    "M = np.array([[2, 5],\n",
    "              [6, 8],\n",
    "              [1, 3]])\n",
    "M"
   ]
  },
  {
   "cell_type": "code",
   "execution_count": null,
   "id": "48b5cb61",
   "metadata": {},
   "outputs": [],
   "source": [
    "M.dtype"
   ]
  },
  {
   "cell_type": "code",
   "execution_count": null,
   "id": "d4e69351",
   "metadata": {},
   "outputs": [],
   "source": [
    "M.ndim  # Число измерений"
   ]
  },
  {
   "cell_type": "code",
   "execution_count": null,
   "id": "3eb90fba",
   "metadata": {},
   "outputs": [],
   "source": [
    "M.shape  # 3 строки и 2 столбца, т.е. 3 списка по 2 элемента"
   ]
  },
  {
   "cell_type": "code",
   "execution_count": null,
   "id": "ee963e2c",
   "metadata": {},
   "outputs": [],
   "source": [
    "M.size  # Общее число элементов в массиве, его длина"
   ]
  },
  {
   "cell_type": "markdown",
   "id": "95d820be",
   "metadata": {},
   "source": [
    "### Работа с элементами массива"
   ]
  },
  {
   "cell_type": "code",
   "execution_count": null,
   "id": "c4c549b6",
   "metadata": {},
   "outputs": [],
   "source": [
    "M"
   ]
  },
  {
   "cell_type": "code",
   "execution_count": null,
   "id": "96029f4d",
   "metadata": {},
   "outputs": [],
   "source": [
    "M[0]  # Весь первый список в M"
   ]
  },
  {
   "cell_type": "code",
   "execution_count": null,
   "id": "ccf249a5",
   "metadata": {},
   "outputs": [],
   "source": [
    "M[0][1]  # Второй элемент первого списка в M"
   ]
  },
  {
   "cell_type": "markdown",
   "id": "ac9ff4b2",
   "metadata": {},
   "source": [
    "Еще один способ"
   ]
  },
  {
   "cell_type": "code",
   "execution_count": null,
   "id": "4ba28c05",
   "metadata": {},
   "outputs": [],
   "source": [
    "M[0, 1]"
   ]
  },
  {
   "cell_type": "markdown",
   "id": "c9df626f",
   "metadata": {},
   "source": [
    "Можно выбирать сразу несколько элементов массива. Для этого воспользуемся срезами"
   ]
  },
  {
   "cell_type": "code",
   "execution_count": null,
   "id": "7087acea",
   "metadata": {},
   "outputs": [],
   "source": [
    "M[0:2]  # С элемента с индексом 0, до элемента с индексом 1 включительно"
   ]
  },
  {
   "cell_type": "code",
   "execution_count": null,
   "id": "833326f3",
   "metadata": {},
   "outputs": [],
   "source": [
    "M"
   ]
  },
  {
   "cell_type": "code",
   "execution_count": null,
   "id": "4f35808e",
   "metadata": {},
   "outputs": [],
   "source": [
    "M[1:]  # С элемента с индексом 1 до конца"
   ]
  },
  {
   "cell_type": "code",
   "execution_count": null,
   "id": "bafd5268",
   "metadata": {},
   "outputs": [],
   "source": [
    "M[:2]  # С начала массива, до элемента с индексом 1 включительно"
   ]
  },
  {
   "cell_type": "markdown",
   "id": "fd3e04ed",
   "metadata": {},
   "source": [
    "Кроме того, при выборе элементов можно выставлять шаг. По умолчанию мы выбираем все элементы подряд, шаг равен 1"
   ]
  },
  {
   "cell_type": "code",
   "execution_count": null,
   "id": "4f3ebab7",
   "metadata": {},
   "outputs": [],
   "source": [
    "M[0:3:2]  # С нулевого по третий через 2"
   ]
  },
  {
   "cell_type": "code",
   "execution_count": null,
   "id": "7a7c3f90",
   "metadata": {},
   "outputs": [],
   "source": [
    "M[0::2]"
   ]
  },
  {
   "cell_type": "markdown",
   "id": "bb576e12",
   "metadata": {},
   "source": [
    "При отрицательном шаге все элементы выведутся в обратном порядке"
   ]
  },
  {
   "cell_type": "code",
   "execution_count": null,
   "id": "e24d64d0",
   "metadata": {},
   "outputs": [],
   "source": [
    "M"
   ]
  },
  {
   "cell_type": "code",
   "execution_count": null,
   "id": "a1fb4a12",
   "metadata": {},
   "outputs": [],
   "source": [
    "M[::-1]"
   ]
  },
  {
   "cell_type": "markdown",
   "id": "b540c370",
   "metadata": {},
   "source": [
    "Рассмотрим другие операции над одномерным массивом"
   ]
  },
  {
   "cell_type": "code",
   "execution_count": null,
   "id": "48535e2c",
   "metadata": {},
   "outputs": [],
   "source": [
    "marks = np.array([5, 4, 3, 5, 5, 4, 3, 4])\n",
    "marks"
   ]
  },
  {
   "cell_type": "markdown",
   "id": "1b44d1d1",
   "metadata": {},
   "source": [
    "Минимальный элемент"
   ]
  },
  {
   "cell_type": "code",
   "execution_count": null,
   "id": "f99b02cd",
   "metadata": {},
   "outputs": [],
   "source": [
    "marks.min()"
   ]
  },
  {
   "cell_type": "markdown",
   "id": "c8c916cf",
   "metadata": {},
   "source": [
    "Максимальный элемент"
   ]
  },
  {
   "cell_type": "code",
   "execution_count": null,
   "id": "27bc6808",
   "metadata": {},
   "outputs": [],
   "source": [
    "marks.max()"
   ]
  },
  {
   "cell_type": "markdown",
   "id": "6f0395ef",
   "metadata": {},
   "source": [
    "Среднее значение"
   ]
  },
  {
   "cell_type": "code",
   "execution_count": null,
   "id": "b2553791",
   "metadata": {},
   "outputs": [],
   "source": [
    "marks.mean()"
   ]
  },
  {
   "cell_type": "markdown",
   "id": "51066130",
   "metadata": {},
   "source": [
    "Функция для медианы"
   ]
  },
  {
   "cell_type": "code",
   "execution_count": null,
   "id": "992430fa",
   "metadata": {},
   "outputs": [],
   "source": [
    "np.median(marks)"
   ]
  },
  {
   "cell_type": "code",
   "execution_count": null,
   "id": "79ff6fed",
   "metadata": {},
   "outputs": [],
   "source": [
    "M"
   ]
  },
  {
   "cell_type": "code",
   "execution_count": null,
   "id": "6d4b24ba",
   "metadata": {},
   "outputs": [],
   "source": [
    "np.median(M)"
   ]
  },
  {
   "cell_type": "markdown",
   "id": "a0164552",
   "metadata": {},
   "source": [
    "Индекс с максимального значения"
   ]
  },
  {
   "cell_type": "code",
   "execution_count": null,
   "id": "bebbc1de",
   "metadata": {},
   "outputs": [],
   "source": [
    "marks"
   ]
  },
  {
   "cell_type": "code",
   "execution_count": null,
   "id": "fa4db1f7",
   "metadata": {},
   "outputs": [],
   "source": [
    "marks.max()"
   ]
  },
  {
   "cell_type": "code",
   "execution_count": null,
   "id": "f09e52b1",
   "metadata": {},
   "outputs": [],
   "source": [
    "marks.argmax()"
   ]
  },
  {
   "cell_type": "markdown",
   "id": "91669b69",
   "metadata": {},
   "source": [
    "Индекс минимального значения"
   ]
  },
  {
   "cell_type": "code",
   "execution_count": null,
   "id": "c90a9963",
   "metadata": {},
   "outputs": [],
   "source": [
    "marks.min()"
   ]
  },
  {
   "cell_type": "code",
   "execution_count": null,
   "id": "8dd94dd6",
   "metadata": {},
   "outputs": [],
   "source": [
    "marks.argmin()"
   ]
  },
  {
   "cell_type": "markdown",
   "id": "3f31d97d",
   "metadata": {},
   "source": [
    "Выводится первое значение, которое встретилось"
   ]
  },
  {
   "cell_type": "markdown",
   "id": "0d950555",
   "metadata": {},
   "source": [
    "Работа с многомерным массивом, на примере двухмерного"
   ]
  },
  {
   "cell_type": "code",
   "execution_count": null,
   "id": "78f2e74d",
   "metadata": {},
   "outputs": [],
   "source": [
    "grades = np.array([[3, 5, 5, 4, 3],\n",
    "                   [3, 3, 4, 3, 3],\n",
    "                   [5, 5, 5, 4, 5]])"
   ]
  },
  {
   "cell_type": "code",
   "execution_count": null,
   "id": "94fd3492",
   "metadata": {},
   "outputs": [],
   "source": [
    "grades.min()"
   ]
  },
  {
   "cell_type": "code",
   "execution_count": null,
   "id": "99f509d2",
   "metadata": {},
   "outputs": [],
   "source": [
    "grades.min(axis = 1)  # 1 – значит по строкам"
   ]
  },
  {
   "cell_type": "code",
   "execution_count": null,
   "id": "dff30060",
   "metadata": {},
   "outputs": [],
   "source": [
    "grades.min(axis = 0)  # 0 – по столбцам"
   ]
  },
  {
   "cell_type": "code",
   "execution_count": null,
   "id": "bc8c5259",
   "metadata": {},
   "outputs": [],
   "source": [
    "grades.max()"
   ]
  },
  {
   "cell_type": "code",
   "execution_count": null,
   "id": "05c3093a",
   "metadata": {},
   "outputs": [],
   "source": [
    "grades.argmax()"
   ]
  },
  {
   "cell_type": "code",
   "execution_count": null,
   "id": "eff58910",
   "metadata": {},
   "outputs": [],
   "source": [
    "grades.argmax(axis = 1)"
   ]
  },
  {
   "cell_type": "code",
   "execution_count": null,
   "id": "5d3fe866",
   "metadata": {},
   "outputs": [],
   "source": [
    "grades.mean(axis = 1)  # Среднее по строкам"
   ]
  },
  {
   "cell_type": "code",
   "execution_count": null,
   "id": "28669b12",
   "metadata": {},
   "outputs": [],
   "source": [
    "grades.mean(axis = 0)  # Среднее по столбцам"
   ]
  },
  {
   "cell_type": "markdown",
   "id": "4e5c77a0",
   "metadata": {},
   "source": [
    "### Создание массивов\n",
    "\n",
    "**Способ 1**\n",
    "\n",
    "Массив можно получить из готового списка, воспользовавшись функцией `array()`:"
   ]
  },
  {
   "cell_type": "code",
   "execution_count": null,
   "id": "b830efd0",
   "metadata": {},
   "outputs": [],
   "source": [
    "np.array([10.5, 45, 2.4])"
   ]
  },
  {
   "cell_type": "markdown",
   "id": "c4af1246",
   "metadata": {},
   "source": [
    "**Способ 2**\n",
    "\n",
    "Можно создать массив на основе промежутка, созданного с помощью `arange()` – функции `numpy`, похожей на стандартный `range()`, только более гибкой."
   ]
  },
  {
   "cell_type": "code",
   "execution_count": null,
   "id": "d588a149",
   "metadata": {},
   "outputs": [],
   "source": [
    "np.arange(2, 9)  # По умолчанию шаг равен 1, как обычный range()"
   ]
  },
  {
   "cell_type": "code",
   "execution_count": null,
   "id": "3a5e7cd8",
   "metadata": {},
   "outputs": [],
   "source": [
    "np.arange(2, 9, 3)  # с шагом 3"
   ]
  },
  {
   "cell_type": "code",
   "execution_count": null,
   "id": "34d4ce96",
   "metadata": {},
   "outputs": [],
   "source": [
    "np.arange(2, 9, 0.5)"
   ]
  },
  {
   "cell_type": "markdown",
   "id": "2c8fe834",
   "metadata": {},
   "source": [
    "Можно создать массив из диапазона значений [start, stop] с заданием количества точек."
   ]
  },
  {
   "cell_type": "code",
   "execution_count": null,
   "id": "8793e68f",
   "metadata": {},
   "outputs": [],
   "source": [
    "m = np.linspace(0, 5, 5)\n",
    "print(m)"
   ]
  },
  {
   "cell_type": "markdown",
   "id": "24c6130e",
   "metadata": {},
   "source": [
    "**Способ 3**\n",
    "\n",
    "\n",
    "Массив из нулей:"
   ]
  },
  {
   "cell_type": "code",
   "execution_count": null,
   "id": "f489ee1c",
   "metadata": {},
   "outputs": [],
   "source": [
    "Z = np.zeros((3, 3, 3))  # Размеры в виде кортежа\n",
    "Z"
   ]
  },
  {
   "cell_type": "code",
   "execution_count": null,
   "id": "1c81bb81",
   "metadata": {},
   "outputs": [],
   "source": [
    "np.zeros((5, 2))"
   ]
  },
  {
   "cell_type": "code",
   "execution_count": null,
   "id": "77292bdd",
   "metadata": {},
   "outputs": [],
   "source": [
    "# Создание вектора из нулей\n",
    "\n",
    "v = np.zeros(4)\n",
    "print(v)"
   ]
  },
  {
   "cell_type": "markdown",
   "id": "3bb55a1a",
   "metadata": {},
   "source": [
    "Массив из единиц"
   ]
  },
  {
   "cell_type": "code",
   "execution_count": null,
   "id": "26c37111",
   "metadata": {},
   "outputs": [],
   "source": [
    "O = np.ones((4, 2))\n",
    "O"
   ]
  },
  {
   "cell_type": "markdown",
   "id": "4abd7fa6",
   "metadata": {},
   "source": [
    "Единичная матрица – таблица из 0 и 1, в которой число строк и столбцов одинаково, и где на главной диагонали стоят 1:"
   ]
  },
  {
   "cell_type": "code",
   "execution_count": null,
   "id": "385f0788",
   "metadata": {},
   "outputs": [],
   "source": [
    "E = np.eye(5)\n",
    "E"
   ]
  },
  {
   "cell_type": "markdown",
   "id": "7226a82a",
   "metadata": {},
   "source": [
    "Создадим матрицу 5x5 со значениями строк в диапазоне от 0 до 4"
   ]
  },
  {
   "cell_type": "code",
   "execution_count": null,
   "id": "e3685e36",
   "metadata": {},
   "outputs": [],
   "source": [
    "np.arange(5)"
   ]
  },
  {
   "cell_type": "code",
   "execution_count": null,
   "id": "6be5175d",
   "metadata": {},
   "outputs": [],
   "source": [
    "m = np.zeros((5, 5))\n",
    "print(m)\n",
    "m += np.arange(5)\n",
    "print(m)"
   ]
  },
  {
   "cell_type": "markdown",
   "id": "64f4c96d",
   "metadata": {},
   "source": [
    "**Способ 4**\n",
    "\n",
    "Создание массива случайных чисел.\n",
    "\n",
    "В `numpy` есть аналог модуля `random` – `numpy.random`."
   ]
  },
  {
   "cell_type": "code",
   "execution_count": null,
   "id": "fb075f7a",
   "metadata": {},
   "outputs": [],
   "source": [
    "np.random.rand(1,1)"
   ]
  },
  {
   "cell_type": "code",
   "execution_count": null,
   "id": "dca79cd0",
   "metadata": {},
   "outputs": [],
   "source": [
    "np.random.seed(42)  # seed нужен для того, чтобы при каждом запуске алгоритм выдавал одинаковые значения\n",
    "np.random.rand(5, 2)"
   ]
  },
  {
   "cell_type": "code",
   "execution_count": null,
   "id": "3c8ba1f1",
   "metadata": {},
   "outputs": [],
   "source": [
    "import random\n",
    "\n",
    "random.seed(42)\n",
    "for i in range(10):\n",
    "    #print(random.random())\n",
    "    print(random.randint(10,100))"
   ]
  },
  {
   "cell_type": "code",
   "execution_count": null,
   "id": "be5bb75e",
   "metadata": {},
   "outputs": [],
   "source": [
    "# Массив чисел из равномерного (uniform) распределения в диапазоне [0, 1)\n",
    "# np.random.rand(d0, d1, d3, ...) d0, d1,... – pазмеры возвращаемого массива\n",
    "\n",
    "np.random.seed(42)\n",
    "print(np.random.rand(2, 2))\n",
    "print(np.random.rand(2, 2).shape)"
   ]
  },
  {
   "cell_type": "code",
   "execution_count": null,
   "id": "a3cbe52c",
   "metadata": {},
   "outputs": [],
   "source": [
    "# Массив чисел из стандартного нормального (norm) распределения\n",
    "\n",
    "np.random.randn(2, 3, 2)\n",
    "# print(np.random.randn(2, 3, 2).shape)"
   ]
  },
  {
   "cell_type": "markdown",
   "id": "c7f153eb",
   "metadata": {},
   "source": [
    "### Изменение размерности списков"
   ]
  },
  {
   "cell_type": "code",
   "execution_count": null,
   "id": "56d0982c",
   "metadata": {},
   "outputs": [],
   "source": [
    "grades"
   ]
  },
  {
   "cell_type": "code",
   "execution_count": null,
   "id": "d77adf80",
   "metadata": {},
   "outputs": [],
   "source": [
    "grades.reshape(5, 3)"
   ]
  },
  {
   "cell_type": "code",
   "execution_count": null,
   "id": "56b7676c",
   "metadata": {},
   "outputs": [],
   "source": [
    "grades.reshape(5, -1)  # Не задаем явно количество столбцов"
   ]
  },
  {
   "cell_type": "code",
   "execution_count": null,
   "id": "2b7b0982",
   "metadata": {},
   "outputs": [],
   "source": [
    "grades.reshape(-1, 3)  # Не задаем явно количество строк"
   ]
  },
  {
   "cell_type": "code",
   "execution_count": null,
   "id": "657fbc83",
   "metadata": {},
   "outputs": [],
   "source": [
    "grades.reshape(5, 4)"
   ]
  },
  {
   "cell_type": "markdown",
   "id": "05f2bf01",
   "metadata": {},
   "source": [
    "Если нам нужно просто поменять местами строки и столбцы в таблице, то есть списки в массиве, можно воспользоваться транспонированием, которое осуществляется в `NumPy` с помощью метода `.transpose()`:"
   ]
  },
  {
   "cell_type": "code",
   "execution_count": null,
   "id": "704f9bc1",
   "metadata": {},
   "outputs": [],
   "source": [
    "grades"
   ]
  },
  {
   "cell_type": "code",
   "execution_count": null,
   "id": "8b8cf4f1",
   "metadata": {},
   "outputs": [],
   "source": [
    "grades.transpose()"
   ]
  },
  {
   "cell_type": "code",
   "execution_count": null,
   "id": "0d27e600",
   "metadata": {},
   "outputs": [],
   "source": [
    "grades"
   ]
  },
  {
   "cell_type": "code",
   "execution_count": null,
   "id": "8de4f7d8",
   "metadata": {},
   "outputs": [],
   "source": [
    "grades.ravel()  # Из многомерного массива создать одномерный"
   ]
  },
  {
   "cell_type": "code",
   "execution_count": null,
   "id": "e72417c5",
   "metadata": {},
   "outputs": [],
   "source": [
    "grades.flatten()  # Второй способ, но создает копию"
   ]
  },
  {
   "cell_type": "markdown",
   "id": "72dadf6b",
   "metadata": {},
   "source": [
    "### Проверка условий на массивах"
   ]
  },
  {
   "cell_type": "markdown",
   "id": "3bdb6420",
   "metadata": {},
   "source": [
    "Создадим массив со значениями возраста:"
   ]
  },
  {
   "cell_type": "code",
   "execution_count": null,
   "id": "6a99ef3d",
   "metadata": {},
   "outputs": [],
   "source": [
    "ages = np.array([[15, 23, 32, 45, 52],\n",
    "               [68, 34, 55, 78, 20],\n",
    "               [25, 67, 33, 45, 14]])"
   ]
  },
  {
   "cell_type": "code",
   "execution_count": null,
   "id": "b53aeb52",
   "metadata": {},
   "outputs": [],
   "source": [
    "ages >= 16  # Больше или равно"
   ]
  },
  {
   "cell_type": "code",
   "execution_count": null,
   "id": "0dcf3679",
   "metadata": {},
   "outputs": [],
   "source": [
    "(ages > 18) & (ages < 60)  # & – одновременное условие"
   ]
  },
  {
   "cell_type": "markdown",
   "id": "4b378e67",
   "metadata": {},
   "source": [
    "Найдем сумму"
   ]
  },
  {
   "cell_type": "code",
   "execution_count": null,
   "id": "eafa7dc4",
   "metadata": {},
   "outputs": [],
   "source": [
    "((ages > 18) & (ages < 60)).sum()"
   ]
  },
  {
   "cell_type": "code",
   "execution_count": null,
   "id": "07beb4d3",
   "metadata": {
    "scrolled": true
   },
   "outputs": [],
   "source": [
    "(ages < 18) | (ages > 60)  # | – или – хотя бы одно условие верно"
   ]
  },
  {
   "cell_type": "markdown",
   "id": "83a2b494",
   "metadata": {},
   "source": [
    "Создадим условия, чтобы данные элемены вывести"
   ]
  },
  {
   "cell_type": "code",
   "execution_count": null,
   "id": "61fd288f",
   "metadata": {},
   "outputs": [],
   "source": [
    "ages"
   ]
  },
  {
   "cell_type": "code",
   "execution_count": null,
   "id": "897029ea",
   "metadata": {},
   "outputs": [],
   "source": [
    "ages >= 16"
   ]
  },
  {
   "cell_type": "code",
   "execution_count": null,
   "id": "243015a0",
   "metadata": {},
   "outputs": [],
   "source": [
    "ages[ages >= 16]"
   ]
  },
  {
   "cell_type": "code",
   "execution_count": null,
   "id": "15dd5f8d",
   "metadata": {},
   "outputs": [],
   "source": [
    "ages[(ages >= 16) & (ages < 60)]"
   ]
  },
  {
   "cell_type": "markdown",
   "id": "c781f450",
   "metadata": {},
   "source": [
    "Круглые скобки для каждого условия обязательны"
   ]
  },
  {
   "cell_type": "code",
   "execution_count": null,
   "id": "2663b2de",
   "metadata": {},
   "outputs": [],
   "source": [
    "ages[ages >= 16 & ages < 60]"
   ]
  },
  {
   "cell_type": "markdown",
   "id": "e335c08e",
   "metadata": {},
   "source": [
    "https://numpy.org/doc/stable/reference/generated/numpy.where.html"
   ]
  },
  {
   "cell_type": "markdown",
   "id": "f8dae08d",
   "metadata": {},
   "source": [
    "### Запись списков в файл и чтение файлов со списками"
   ]
  },
  {
   "cell_type": "code",
   "execution_count": null,
   "id": "8075b516",
   "metadata": {},
   "outputs": [],
   "source": [
    "import os\n",
    "os.getcwd()"
   ]
  },
  {
   "cell_type": "code",
   "execution_count": null,
   "id": "0c706051",
   "metadata": {},
   "outputs": [],
   "source": [
    "np.save(\"ages.npy\", ages)"
   ]
  },
  {
   "cell_type": "code",
   "execution_count": null,
   "id": "e5c9cbeb",
   "metadata": {},
   "outputs": [],
   "source": [
    "np.load(\"ages.npy\")"
   ]
  },
  {
   "cell_type": "code",
   "execution_count": null,
   "id": "a49329ac",
   "metadata": {},
   "outputs": [],
   "source": [
    "np.savetxt(\"ages.txt\", ages)"
   ]
  },
  {
   "cell_type": "code",
   "execution_count": null,
   "id": "637db668",
   "metadata": {},
   "outputs": [],
   "source": [
    "np.loadtxt(\"ages.txt\")"
   ]
  },
  {
   "cell_type": "markdown",
   "id": "31f7b72d",
   "metadata": {},
   "source": [
    "Если нет необходимости работать с файлами, можем просто превратить массив в другой объект Python. Например, в обычный список:"
   ]
  },
  {
   "cell_type": "code",
   "execution_count": null,
   "id": "c3ef9156",
   "metadata": {},
   "outputs": [],
   "source": [
    "ages.tolist()"
   ]
  },
  {
   "cell_type": "code",
   "execution_count": null,
   "id": "96224909",
   "metadata": {},
   "outputs": [],
   "source": [
    "list(ages)  # Такое преобразование не верно"
   ]
  },
  {
   "cell_type": "code",
   "execution_count": null,
   "id": "5fb4e47e",
   "metadata": {},
   "outputs": [],
   "source": [
    "ages"
   ]
  },
  {
   "cell_type": "markdown",
   "id": "37b684e9",
   "metadata": {},
   "source": [
    "Преобразование в строку"
   ]
  },
  {
   "cell_type": "code",
   "execution_count": null,
   "id": "acc192cc",
   "metadata": {},
   "outputs": [],
   "source": [
    "np.array2string(ages)"
   ]
  }
 ],
 "metadata": {
  "kernelspec": {
   "display_name": "Python 3 (ipykernel)",
   "language": "python",
   "name": "python3"
  },
  "language_info": {
   "codemirror_mode": {
    "name": "ipython",
    "version": 3
   },
   "file_extension": ".py",
   "mimetype": "text/x-python",
   "name": "python",
   "nbconvert_exporter": "python",
   "pygments_lexer": "ipython3",
   "version": "3.11.5"
  }
 },
 "nbformat": 4,
 "nbformat_minor": 5
}
