{
 "cells": [
  {
   "cell_type": "markdown",
   "id": "bc1c968d",
   "metadata": {},
   "source": [
    "## Содержание:\n",
    "- Операторы и операнды\n",
    "- Условные конструкции\n",
    "- Встроенные функции\n",
    "- Встроенные модули\n",
    "- Ключевое слово as\n",
    "- Особенности импорта модулей\n",
    "- Цикл While\n",
    "- Инструкции, использующиеся внутри циклов\n",
    "- Вложенные циклы\n",
    "- Коллекции: множества, списки, кортежи.\n",
    "- Методы .split(), .join(), функция map(), вывод и ввод списков\n",
    "- Цикл For\n",
    "- Списковые включения (list comprehension)\n",
    "- Включения для множеств\n",
    "- Многомерные списки"
   ]
  },
  {
   "cell_type": "markdown",
   "id": "2fda1f05",
   "metadata": {},
   "source": [
    "# Операторы и операнды\n",
    "\n",
    "Ранее мы изучили булевы переменные. Их особенность в том, что они могут принимать всего два значения:\n",
    "\n",
    "- True, которое можно сравнить с 1;\n",
    "- False, которое сравнимо с 0.\n",
    "\n",
    "`Операторы` — это некий функционал, производящий какие-либо действия, который может быть представлен в виде символов, например «+», или специальных зарезервированных слов.\n",
    "\n",
    "Операторы могут производить некоторые действия над данными, и эти данные называются `операндами`.\n",
    "\n",
    "![Ошибка загрузки](https://github.com/akazachkov/python_notebook/blob/master/python_lectures/_add_material_lesson_python/03.png?raw=true)\n",
    "![Ошибка загрузки](https://github.com/akazachkov/python_notebook/blob/master/python_lectures/_add_material_lesson_python/04.jpg?raw=true)\n",
    "\n",
    "Пусть у нас есть данные о росте трех студентов в метрах (тип float). Для хранения этих данных используются три переменные:"
   ]
  },
  {
   "cell_type": "code",
   "execution_count": null,
   "id": "3fb38a60",
   "metadata": {},
   "outputs": [],
   "source": [
    "# Создаём 3 переменные, в которых содержится рост трех студентов\n",
    "\n",
    "student_01 = 1.64\n",
    "student_02 = 1.79\n",
    "student_03 = 1.79"
   ]
  },
  {
   "cell_type": "markdown",
   "id": "5c31c1cd",
   "metadata": {},
   "source": [
    "Давайте сравним прибыль компании на каждый год между собой. "
   ]
  },
  {
   "cell_type": "code",
   "execution_count": null,
   "id": "d87f59f8",
   "metadata": {},
   "outputs": [],
   "source": [
    "# Проверяем равенство роста 1 и 2 студента\n",
    "print(student_01 == student_02)\n",
    "# False\n",
    "\n",
    "# Проверяем равенство роста 2 и 3 студента\n",
    "print(student_02 == student_03)\n",
    "# True"
   ]
  },
  {
   "cell_type": "markdown",
   "id": "ef9b3f6a",
   "metadata": {},
   "source": [
    "# Условные конструкции\n",
    "\n",
    "Условные конструкции – конструкции с операторами условия. Условная конструкция обычно предполагает «развилку»: если условие выполняется, то должен выполняться один набор действий, если нет – другой набор действий.\n",
    "\n",
    "![Ошибка загрузки](https://github.com/akazachkov/python_notebook/blob/master/python_lectures/_add_material_lesson_python/05.png?raw=true)\n",
    "\n",
    "Напишем программу, которая будет просить пользователя ввести целое число, и если это число менее 10, на экран будет выводиться сообщение \"Меньше 10\"."
   ]
  },
  {
   "cell_type": "code",
   "execution_count": null,
   "id": "71342c94",
   "metadata": {},
   "outputs": [],
   "source": [
    "x = int(input(\"Введите число: \"))\n",
    "if x < 10:\n",
    "    print('Меньше 10')"
   ]
  },
  {
   "cell_type": "markdown",
   "id": "8304ec90",
   "metadata": {},
   "source": [
    "Теперь дополним программу, она будет просить пользователя ввести целое число, и если это число менее 10, на экран будет выводиться сообщение \"Меньше 10\", иначе – \"Больше 10\". Это конструкция `if-else`."
   ]
  },
  {
   "cell_type": "code",
   "execution_count": null,
   "id": "d1731bbf",
   "metadata": {},
   "outputs": [],
   "source": [
    "x = int(input(\"Введите число: \"))\n",
    "if x < 10:\n",
    "    print(\"Меньше 10\")\n",
    "else:\n",
    "    print(\"Больше 10\")"
   ]
  },
  {
   "cell_type": "markdown",
   "id": "6c179797",
   "metadata": {},
   "source": [
    "В части с if мы прописываем условие, в зависимости от которого Python будет делать выбор, что выводить на экран, а после двоеточия перечисляем действия, которые будут выполняться в случае, если x удовлетворяет условию. В части с else мы уже не пишем никакого условия – оператор else сам по себе означает «в случае, если условие в выражении с if не выполнено».\n",
    "\n",
    "Часть с else является необязательной: программа может существовать только с условием if. Тогда в случае невыполнения условия ничего происходить не будет, Python просто перейдет к следующим строкам кода.\n",
    "\n",
    "Как быть, если условий несколько? Например, мы просим пользователя ввести число, и если число больше 10, на экране должно быть сообщение \"Больше 10\", если ровно 10 – \"Равно 10\", если меньше – \"Меньше 10\". Условные конструкции можно вкладывать друг друга, главное не забывать при этом про отступы.\n",
    "\n",
    "Сдвигать части кода можно при помощи горячих клавиш:\n",
    "\n",
    "Ctrl + ] -- вправо\n",
    "\n",
    "Ctrl + [ -- влево"
   ]
  },
  {
   "cell_type": "code",
   "execution_count": null,
   "id": "32dbee29",
   "metadata": {},
   "outputs": [],
   "source": [
    "x = int(input(\"Введите число: \"))\n",
    "if x < 10:\n",
    "    print(\"Меньше 10\")\n",
    "else:\n",
    "    if x == 10:\n",
    "        print(\"Равно 10\")\n",
    "    else: \n",
    "        print(\"Больше 10\")"
   ]
  },
  {
   "cell_type": "markdown",
   "id": "90c003d8",
   "metadata": {},
   "source": [
    "Можно воспользоваться оператором `elif`, который по смыслу является сочетанием `else + if`: если предыдущее условие невыполнено, то, нужно проверить следующее условие, и если оно тоже не выполнено, то уже перейти к ветке с else.\n",
    "\n",
    "![Ошибка загрузки](https://github.com/akazachkov/python_notebook/blob/master/python_lectures/_add_material_lesson_python/06.png?raw=true)"
   ]
  },
  {
   "cell_type": "code",
   "execution_count": null,
   "id": "a8871cce",
   "metadata": {},
   "outputs": [],
   "source": [
    "x = int(input(\"Введите число: \"))\n",
    "if x < 10:\n",
    "    print(\"Меньше 10\")\n",
    "elif x == 10:\n",
    "    print(\"Равно 10\")\n",
    "else: \n",
    "    print(\"Больше 10\")"
   ]
  },
  {
   "cell_type": "markdown",
   "id": "9e0ece2a",
   "metadata": {},
   "source": [
    "Ответвлений с elif может быть несколько: сколько условий, столько и выражений с elif.\n",
    "\n",
    "Законный вопрос: а можно ли обойтись совсем без elif, просто записав несколько выражений с if? Тут все зависит от ситуации. Иногда решения использовать elif и if, не меняя остальной код, будут равнозначными. Если мы перепишем код в примере выше, заменив elif на if, ничего не изменится, так как условия будут проверяться последовательно в любом случае: если число меньше 10, будет выведено слово «Мало», если нет – программа перейдет к следующему условию, и так далее.\n",
    "\n",
    "В случае, когда условия как-то связаны между собой, нужно быть более внимательными. Рассмотрим такой пример. \n",
    "\n",
    "**Случай 1.**"
   ]
  },
  {
   "cell_type": "code",
   "execution_count": null,
   "id": "92de48b3",
   "metadata": {},
   "outputs": [],
   "source": [
    "mark = int(input(\"Введите оценку: \"))"
   ]
  },
  {
   "cell_type": "code",
   "execution_count": null,
   "id": "bada8193",
   "metadata": {},
   "outputs": [],
   "source": [
    "if mark < 6:\n",
    "    print(\"Плохо\")\n",
    "elif mark == 10:\n",
    "    print(\"Отлично\")\n",
    "elif mark < 10:\n",
    "    print(\"Это нормально\")"
   ]
  },
  {
   "cell_type": "markdown",
   "id": "5187a3fe",
   "metadata": {},
   "source": [
    "Если оценка меньше 10, мы выводим на экран сообщение \"Это нормально\", если нет, то проверяем, равна ли она 10: если да, то выводим \"Отлично\", если нет – ничего не делаем. При этом, *после* всех этих действий делаем дополнительную проверку: если оценка меньше 6, выводим \"Плохо\".\n",
    "\n",
    "**Случай 2.**"
   ]
  },
  {
   "cell_type": "code",
   "execution_count": null,
   "id": "8120f9f9",
   "metadata": {},
   "outputs": [],
   "source": [
    "if mark == 10:\n",
    "    print(\"Отлично\")\n",
    "elif mark < 10:\n",
    "    print(\"Это нормально\")\n",
    "elif mark < 6:\n",
    "    print(\"Плохо\")"
   ]
  },
  {
   "cell_type": "markdown",
   "id": "93282371",
   "metadata": {},
   "source": [
    "Если оценка меньше 10, мы выводим на экран сообщение \"Это нормально\", если нет, то проверяем, равна ли она 10: если да, то выводим \"Отлично\", если нет – сравниваем ее с 6. Если оценка меньше 6, выводим \"Плохо\".\n",
    "\n",
    "Во втором случае не вывелось сообщение \"Плохо\" потому что из-за второго elif мы попросту до него не дошли.\n",
    "\n",
    "Напишем программу по переводу из 10-балльной шкалы в 5-балльную: оценка 8-10 баллов – «отлично», 6 - 7 – «хорошо», 4 - 5 – «удовлетворительно», ниже 4 – «плохо».\n",
    "\n",
    "**Решение 1:** несколько вложенных условий с оператором `elif`"
   ]
  },
  {
   "cell_type": "code",
   "execution_count": null,
   "id": "648d818d",
   "metadata": {},
   "outputs": [],
   "source": [
    "grade = 10\n",
    "if grade > 7:\n",
    "    print(\"Отлично\")\n",
    "elif grade > 5:\n",
    "    print(\"Хорошо\")\n",
    "elif grade > 3:\n",
    "    print(\"Удовлетворительно\")\n",
    "else:\n",
    "    print(\"Плохо\")"
   ]
  },
  {
   "cell_type": "markdown",
   "id": "f98558e4",
   "metadata": {},
   "source": [
    "**Решение 2:** несколько сложных условий с `if`"
   ]
  },
  {
   "cell_type": "code",
   "execution_count": null,
   "id": "dd18913d",
   "metadata": {},
   "outputs": [],
   "source": [
    "grade = 7\n",
    "if grade > 7:\n",
    "    print(\"Отлично\")\n",
    "if (grade > 5) and (grade <= 7):\n",
    "    print(\"Хорошо\")\n",
    "if (grade > 3) and (grade <= 5):\n",
    "    print(\"Удовлетворительно\")\n",
    "if grade <= 3:\n",
    "    print(\"Плохо\")"
   ]
  },
  {
   "cell_type": "markdown",
   "id": "bd926ebf",
   "metadata": {},
   "source": [
    "Могли бы мы использовать `else` вместо последнего условия с `if`? Давайте проверим!"
   ]
  },
  {
   "cell_type": "code",
   "execution_count": null,
   "id": "7c325a0b",
   "metadata": {},
   "outputs": [],
   "source": [
    "grade = 7\n",
    "if grade > 7:\n",
    "    print(\"Отлично\")\n",
    "if (grade > 5) and (grade <= 7):\n",
    "    print(\"Хорошо\")\n",
    "if (grade > 3) and (grade <= 5):\n",
    "    print(\"Удовлетворительно\")\n",
    "else:\n",
    "    print(\"Плохо\")"
   ]
  },
  {
   "cell_type": "markdown",
   "id": "f847f5ea",
   "metadata": {},
   "source": [
    "### Задача\n",
    "\n",
    "Реализуeм следующую программу:\n",
    "\n",
    "* В переменную time считывается целое число (время суток от 0 до 24).\n",
    "* Если время от 8 до 22 включительно, то программа печатает \"Бодрствуем!\", иначе — \"Время спать!\"."
   ]
  },
  {
   "cell_type": "code",
   "execution_count": null,
   "id": "7ad0a613",
   "metadata": {},
   "outputs": [],
   "source": [
    "time = int(input())\n",
    "if 8 <= time <= 22:\n",
    "    print(\"Бодрствуем!\")\n",
    "else:\n",
    "    print(\"Время спать!\")"
   ]
  },
  {
   "cell_type": "markdown",
   "id": "12b4b63b",
   "metadata": {},
   "source": [
    "### Задача\n",
    "\n",
    "Распродажа\n",
    "\n",
    "В магазине проходит акция:\n",
    "\n",
    "- На все товары за 1000 рублей и дешевле скидка 15%\n",
    "- На все товары дороже 1000, но не дороже 5000 рублей скидка 20%\n",
    "- На все товары дороже 5000 рублей скидка 25%\n",
    "\n",
    "**Ввод**\n",
    "\n",
    "Целое неотрицательное число - цена товара в рублях\n",
    "\n",
    "**Вывод**\n",
    "\n",
    "Целое неотрицательное число - скидка на товар в рублях"
   ]
  },
  {
   "cell_type": "code",
   "execution_count": null,
   "id": "473f0a16",
   "metadata": {},
   "outputs": [],
   "source": [
    "price = int(input())\n",
    "if price <= 1000:\n",
    "    print(int(price * 0.15))\n",
    "elif price <= 5000:\n",
    "    print(int(price * 0.2))\n",
    "else:\n",
    "    print(int(price * 0.25))"
   ]
  },
  {
   "cell_type": "markdown",
   "id": "638b4973",
   "metadata": {},
   "source": [
    "### Задача\n",
    "\n",
    "Разовая поездка на метро стоит 70 рублей, проездной на 30 дней — 2500 рублей. Валя подсчитала, сколько она совершает поездок за 30 дней, помогите ей понять, чем выгоднее пользоваться — проездным или разовыми поездками. \n",
    "\n",
    "**Ввод** \n",
    "\n",
    "Целое положительное число — количество поездок Вали на метро за 30 дней\n",
    "\n",
    "**Вывод** \n",
    "\n",
    "Строка \"Выгоднее разовые поездки\" или \"Выгоднее проездной\" в зависимости от того, что выгоднее."
   ]
  },
  {
   "cell_type": "code",
   "execution_count": null,
   "id": "a296fc51",
   "metadata": {},
   "outputs": [],
   "source": [
    "n = int(input())\n",
    "if n * 70 < 2500:\n",
    "    print(\"Выгоднее разовые поездки\")\n",
    "else:\n",
    "    print(\"Выгоднее проездной\")"
   ]
  },
  {
   "cell_type": "markdown",
   "id": "e17baf56",
   "metadata": {},
   "source": [
    "### Задача\n",
    "\n",
    "Вводятся 4 числа - координаты клеток на шахматной доске. Если они одного цвета, то выводит YES, если разного – то NO. Если нарисовать доску, то закономерность будет видна - если вычислить остаток от деления на 2 суммы или разницы координат клетки, будет ясно, что у белых клеток остаток будет 1, а у чёрных - 0."
   ]
  },
  {
   "cell_type": "code",
   "execution_count": null,
   "id": "72de173d",
   "metadata": {},
   "outputs": [],
   "source": [
    "v1 = int(input())\n",
    "g1 = int(input())\n",
    "v2 = int(input())\n",
    "g2 = int(input())\n",
    "x = (v1 - g1) % 2\n",
    "y = (v2 - g2) % 2\n",
    "if x == y:\n",
    "    print('YES')\n",
    "else:\n",
    "    print('NO')"
   ]
  },
  {
   "cell_type": "markdown",
   "id": "25cb95dc",
   "metadata": {},
   "source": [
    "### Задача\n",
    "\n",
    "Шахматный король ходит по горизонтали, вертикали и диагонали, но только на 1 клетку. Даны две различные клетки шахматной доски, определите, может ли король попасть с первой клетки на вторую одним ходом. На входе четыре числа от 1 до 8 каждое - номер столбца и номер строки сначала для первой, потом для второй клетки. Необходимо вывести YES, если из первой клетки ходом короля можно попасть во вторую или NO, в противном случае."
   ]
  },
  {
   "cell_type": "code",
   "execution_count": null,
   "id": "822d47d6",
   "metadata": {},
   "outputs": [],
   "source": [
    "v1 = int(input())\n",
    "g1 = int(input())\n",
    "v2 = int(input())\n",
    "g2 = int(input())\n",
    "if (v1 - 1) == v2 or (v1 == v2) or (v1 + 1) == v2:\n",
    "    if (g1 - 1) == g2 or (g1 == g2) or (g1 + 1) == g2:\n",
    "        print('YES')\n",
    "    else:\n",
    "        print('NO')\n",
    "else:\n",
    "    print('NO')"
   ]
  },
  {
   "cell_type": "markdown",
   "id": "22d0a415",
   "metadata": {},
   "source": [
    "### Задача\n",
    "\n",
    "Дано три числа. Упорядочите их в порядке неубывания. Программа должна считывать три числа a,b,c, затем необходимо менять их значения так, чтобы стали выполнены условия a≤b≤c и вывести тройку a,b,c. Дополнительные ограничения: нельзя использовать дополнительные переменные."
   ]
  },
  {
   "cell_type": "code",
   "execution_count": null,
   "id": "337ddeb2",
   "metadata": {},
   "outputs": [],
   "source": [
    "a, b, c = int(input()), int(input()), int(input())\n",
    "if a <= b <= c:\n",
    "    print(a, b, c)\n",
    "elif b <= a <= c:\n",
    "    print(b, a, c)\n",
    "elif c <= a <= b:\n",
    "    print(c, a, b)\n",
    "elif b <= c <= a:\n",
    "    print(b, c, a)\n",
    "elif c <= b <= a:\n",
    "    print(c, b, a)\n",
    "elif a <= c <= b:\n",
    "    print(a, c, b)"
   ]
  },
  {
   "cell_type": "code",
   "execution_count": null,
   "id": "b56edc9d",
   "metadata": {},
   "outputs": [],
   "source": [
    "# Результат применения функции (a,b)=(b,a):\n",
    "\n",
    "a = 2\n",
    "b = 1\n",
    "a, b = b, a\n",
    "print(a, b)  # Выведет 1 2"
   ]
  },
  {
   "cell_type": "code",
   "execution_count": null,
   "id": "4bed5077",
   "metadata": {},
   "outputs": [],
   "source": [
    "# Вышенаписанная задача решена с применением функции (a,b)=(b,a):\n",
    "\n",
    "a, b, c = int(input()), int(input()), int(input())\n",
    "if a <= b <= c:\n",
    "    print(a, b, c)\n",
    "elif a <= c <= b:\n",
    "    (c, b) = (b, c)\n",
    "    print(a, b, c)\n",
    "elif b <= a <= c:\n",
    "    (b, a) = (a, b)\n",
    "    print(a, b, c)\n",
    "elif b <= c <= a:\n",
    "    (b, a) = (a, b)\n",
    "    (c, b) = (b, c)\n",
    "    print(a, b, c)\n",
    "elif c <= b <= a:\n",
    "    (c, a) = (a, c)\n",
    "    print(a, b, c)\n",
    "elif c <= a <= b:\n",
    "    (c, a) = (a, c)\n",
    "    (b, c) = (c, b)\n",
    "    print(a, b, c)"
   ]
  },
  {
   "cell_type": "markdown",
   "id": "986c917c",
   "metadata": {},
   "source": [
    "### Задача\n",
    "\n",
    "За многие годы заточения узник замка Иф проделал в стене прямоугольное отверстие размером D×E. Замок Иф сложен из кирпичей, размером A×B×C. Определите, сможет ли узник выбрасывать кирпичи в море через это отверстие (очевидно, стороны кирпича должны быть параллельны сторонам отверстия).\n",
    "\n",
    "Для решения необходимо сначало упорядочить размеры кирпича в порядке возрастания, затем сравнить с дырой в стене."
   ]
  },
  {
   "cell_type": "code",
   "execution_count": null,
   "id": "4934a3f7",
   "metadata": {},
   "outputs": [],
   "source": [
    "a, b, c = int(input()), int(input()), int(input())\n",
    "d, e = int(input()), int(input())\n",
    "if a <= c <= b:\n",
    "    (c, b) = (b, c)\n",
    "elif b <= a <= c:\n",
    "    (b, a) = (a, b)\n",
    "elif b <= c <= a:\n",
    "    (b, a) = (a, b)\n",
    "    (c, b) = (b, c)\n",
    "elif c <= b <= a:\n",
    "    (c, a) = (a, c)\n",
    "elif c <= a <= b:\n",
    "    (c, a) = (a, c)\n",
    "    (b, c) = (c, b)\n",
    "if (a <= d and b <= e) or (a <= d and c <= e) or (b <= d and c <= e):\n",
    "    print('YES')\n",
    "else:\n",
    "    print('NO')"
   ]
  },
  {
   "cell_type": "markdown",
   "id": "221a0fe8",
   "metadata": {},
   "source": [
    "### Задача\n",
    "\n",
    "Есть две коробки, первая размером A₁×B₁×C₁, вторая размером A₂×B₂×C₂. Определите, можно ли разместить одну из этих коробок внутри другой, при условии, что поворачивать коробки можно только на 90 градусов вокруг ребер. На входе числа A₁,B₁,C₁,A₂,B₂,C₂. Программа должна вывести одну из следующих строчек: Boxes are equal, если коробки одинаковые.\n",
    "\n",
    "The first box is smaller than the second one, если первая коробка может быть положена во вторую.\n",
    "\n",
    "The first box is larger than the second one, если вторая коробка может быть положена в первую.\n",
    "\n",
    "Boxes are incomparable, во всех остальных случаях.\n",
    "\n",
    "з.ы. В математической вселенной, если некоторые стороны коробок равны - они могут быть помещены друг в друга.\n",
    "\n",
    "тест 1 - 1, 2, 3, 3, 2, 1 - вывод 'Boxes are equal'\n",
    "\n",
    "тест 2 - 2, 2, 3, 3, 2, 1 - вывод 'The first box is larger than the second one'\n",
    "\n",
    "Для начала упорядочиваем размеры сторон коробок в порядке возрастания, затем перебором сравниваем их."
   ]
  },
  {
   "cell_type": "code",
   "execution_count": null,
   "id": "193542c6",
   "metadata": {},
   "outputs": [],
   "source": [
    "a1, b1, c1 = int(input()), int(input()), int(input())\n",
    "a2, b2, c2 = int(input()), int(input()), int(input())\n",
    "if a1 <= c1 <= b1:\n",
    "    (c1, b1) = (b1, c1)\n",
    "elif b1 <= a1 <= c1:\n",
    "    (b1, a1) = (a1, b1)\n",
    "elif b1 <= c1 <= a1:\n",
    "    (b1, a1) = (a1, b1)\n",
    "    (c1, b1) = (b1, c1)\n",
    "elif c1 <= b1 <= a1:\n",
    "    (c1, a1) = (a1, c1)\n",
    "elif c1 <= a1 <= b1:\n",
    "    (c1, a1) = (a1, c1)\n",
    "    (b1, c1) = (c1, b1)\n",
    "if a2 <= c2 <= b2:\n",
    "    (c2, b2) = (b2, c2)\n",
    "elif b2 <= a2 <= c2:\n",
    "    (b2, a2) = (a2, b2)\n",
    "elif b2 <= c2 <= a2:\n",
    "    (b2, a2) = (a2, b2)\n",
    "    (c2, b2) = (b2, c2)\n",
    "elif c2 <= b2 <= a2:\n",
    "    (c2, a2) = (a2, c2)\n",
    "elif c2 <= a2 <= b2:\n",
    "    (c2, a2) = (a2, c2)\n",
    "    (b2, c2) = (c2, b2)\n",
    "# print(a1, b1, c1)  # Проверяем корректность работы функции (a,b)=(b,a)\n",
    "# print(a2, b2, c2)  # Проверяем корректность работы функции (a,b)=(b,a)\n",
    "if (a1 <= a2) and (b1 <= b2) and (c1 < c2):\n",
    "    print('The first box is smaller than the second one')\n",
    "elif (a1 <= a2) and (b1 < b2) and (c1 <= c2):\n",
    "    print('The first box is smaller than the second one')\n",
    "elif (a1 < a2) and (b1 < b2) and (c1 <= c2):\n",
    "    print('The first box is smaller than the second one')\n",
    "elif (a1 == a2) and (b1 == b2) and (c1 == c2):\n",
    "    print('Boxes are equal')\n",
    "elif (a1 >= a2) and (b1 >= b2) and (c1 > c2):\n",
    "    print('The first box is larger than the second one')\n",
    "elif (a1 >= a2) and (b1 > b2) and (c1 >= c2):\n",
    "    print('The first box is larger than the second one')\n",
    "elif (a1 > a2) and (b1 >= b2) and (c1 >= c2):\n",
    "    print('The first box is larger than the second one')\n",
    "else:\n",
    "    print('Boxes are incomparable')"
   ]
  },
  {
   "cell_type": "markdown",
   "id": "5ec8214c",
   "metadata": {},
   "source": [
    "### Задача\n",
    "\n",
    "Даны три целых числа. Определите, сколько среди них совпадающих. Программа должна вывести одно из чисел: 3 (если все совпадают), 2 (если два совпадает) или 0 (если все числа различны)."
   ]
  },
  {
   "cell_type": "code",
   "execution_count": null,
   "id": "db930bd5",
   "metadata": {},
   "outputs": [],
   "source": [
    "a, b, c = int(input()), int(input()), int(input())\n",
    "if a == b and a == c and b == c:\n",
    "    print(3)\n",
    "elif a == b or a == c or b == c:\n",
    "    print(2)\n",
    "else:\n",
    "    print(0)"
   ]
  },
  {
   "cell_type": "markdown",
   "id": "549f7a44",
   "metadata": {},
   "source": [
    "### Задача\n",
    "\n",
    "Шоколадка имеет вид прямоугольника, разделенного на n×m долек. Шоколадку можно один раз разломить по прямой на две части. Определите, можно ли таким образом отломить от шоколадки часть, состоящую ровно из k долек. На входе три числа: n, m, k. На выходе должно быть одно из двух слов: YES или NO."
   ]
  },
  {
   "cell_type": "code",
   "execution_count": null,
   "id": "36b23ec8",
   "metadata": {},
   "outputs": [],
   "source": [
    "n = int(input())\n",
    "m = int(input())\n",
    "k = int(input())\n",
    "if k < n * m:\n",
    "    if k % n == 0 or k % m == 0:\n",
    "        print('YES')\n",
    "    else:\n",
    "        print('NO')\n",
    "else:\n",
    "    print('NO')"
   ]
  },
  {
   "cell_type": "markdown",
   "id": "77a74690",
   "metadata": {},
   "source": [
    "### Задача\n",
    "\n",
    "Дано натуральное число. Требуется определить, является ли год с данным номером високосным. Если год является високосным, то выведите YES, иначе выведите NO. Напомним, что в соответствии с григорианским календарем, год является високосным, если его номер кратен 4, но не кратен 100, или же если он кратен 400."
   ]
  },
  {
   "cell_type": "code",
   "execution_count": null,
   "id": "12914222",
   "metadata": {},
   "outputs": [],
   "source": [
    "a = int(input())\n",
    "if a % 400 == 0:\n",
    "    print('YES')\n",
    "else:\n",
    "    if a % 100 == 0:\n",
    "        print('NO')\n",
    "    else:\n",
    "        if a % 4 == 0:\n",
    "            print('YES')\n",
    "        else:\n",
    "                print('NO')"
   ]
  },
  {
   "cell_type": "markdown",
   "id": "4dc19a32",
   "metadata": {},
   "source": [
    "### Задача\n",
    "\n",
    "Для данного числа 0<=n<=100 закончите фразу \"У меня на этой неделе...\" одним из возможных продолжений: \"n дедлайн\", \"n дедлайна\", \"n дедлайнов\", правильно склоняя слово \"дедлайн\"."
   ]
  },
  {
   "cell_type": "code",
   "execution_count": null,
   "id": "63369357",
   "metadata": {},
   "outputs": [],
   "source": [
    "n = int(input())\n",
    "if (11 <= n <= 14) or (5 <= n % 10 <= 9) or (n % 10 == 0):\n",
    "    print(n, \"дедлайнов\")\n",
    "elif n % 10 == 1:\n",
    "    print(n, \"дедлайн\")\n",
    "else:\n",
    "    print(n, \"дедлайна\")"
   ]
  },
  {
   "cell_type": "markdown",
   "id": "3cf9fe11",
   "metadata": {},
   "source": [
    "Для данного числа n<100 закончите фразу “На лугу пасется...” одним из возможных продолжений: “n коров”, “n корова”, “n коровы”, правильно склоняя слово “корова”. Программа должна вывести введенное число n и одно из слов: korov, korova или korovy. Между числом и словом должен стоять ровно один пробел."
   ]
  },
  {
   "cell_type": "code",
   "execution_count": null,
   "id": "a79b7e1c",
   "metadata": {},
   "outputs": [],
   "source": [
    "n = int(input())\n",
    "if n > 20 and 2 <= (n % 10) <= 4:\n",
    "    print(n, 'korovy')\n",
    "elif n % 10 == 1 and n != 11:\n",
    "    print(n, 'korova')\n",
    "elif n < 10 and 2 <= (n % 10) <= 4:\n",
    "    print(n, 'korovy')\n",
    "else:\n",
    "    print(n, 'korov')"
   ]
  },
  {
   "cell_type": "markdown",
   "id": "a8456a8d",
   "metadata": {},
   "source": [
    "# Встроенные функции\n",
    "\n",
    "В программировании (и в Python, в частности) функция — это сущность, которая из одного (или даже нескольких) значений делает другое.\n",
    "\n",
    "На прошлых занятии мы познакомились с несколькими:\n",
    "\n",
    "`print` -  выводит свои аргументы на экран. Функция может принимать не один аргумент, а сколько угодно. Несколько аргументов одной функции следует разделять запятыми.\n",
    "\n",
    "`input` — тоже функция, может работать, не принимая никаких аргументов, а может в качестве аргумента принимать сообщение, которое надо вывести перед ожиданием пользовательского ввода. Но всегда считывает строку с клавиатуры и возвращает ее.\n",
    "\n",
    "`str` - переводит объект в строку\n",
    "\n",
    "`int` - преобразовывает к типу integer"
   ]
  },
  {
   "cell_type": "code",
   "execution_count": null,
   "id": "8b3b9d2a",
   "metadata": {},
   "outputs": [],
   "source": [
    "print(int(20.5 + 34.1))  # Дробная часть отбрасывается"
   ]
  },
  {
   "cell_type": "code",
   "execution_count": null,
   "id": "e72f5998",
   "metadata": {},
   "outputs": [],
   "source": [
    "print(int(input()) + 1)"
   ]
  },
  {
   "cell_type": "markdown",
   "id": "f0131477",
   "metadata": {},
   "source": [
    "`float` поможет, если строка, которую надо конвертировать в число, не является целым числом"
   ]
  },
  {
   "cell_type": "code",
   "execution_count": null,
   "id": "a7200210",
   "metadata": {},
   "outputs": [],
   "source": [
    "pi_digits = '3.141592653589793238462643383279502884197169399375'\n",
    "print(float(pi_digits))"
   ]
  },
  {
   "cell_type": "markdown",
   "id": "9d36a550",
   "metadata": {},
   "source": [
    "`round()`  - используется для так называемого \"банковского округления\", то есть округление к ближайшему чётному. "
   ]
  },
  {
   "cell_type": "code",
   "execution_count": null,
   "id": "e3f6cdf1",
   "metadata": {},
   "outputs": [],
   "source": [
    "round(3.5)"
   ]
  },
  {
   "cell_type": "code",
   "execution_count": null,
   "id": "3996aff8",
   "metadata": {},
   "outputs": [],
   "source": [
    "round(2.5)"
   ]
  },
  {
   "cell_type": "code",
   "execution_count": null,
   "id": "7d330b76",
   "metadata": {},
   "outputs": [],
   "source": [
    "print(round(2.5)) \n",
    "print(round(3.1)) "
   ]
  },
  {
   "cell_type": "code",
   "execution_count": null,
   "id": "9bad368d",
   "metadata": {},
   "outputs": [],
   "source": [
    "print(round(3))"
   ]
  },
  {
   "cell_type": "markdown",
   "id": "7c88a020",
   "metadata": {},
   "source": [
    "`len()` - определяет длину строки (количества символов в стоке)"
   ]
  },
  {
   "cell_type": "code",
   "execution_count": null,
   "id": "0a159e30",
   "metadata": {},
   "outputs": [],
   "source": [
    "word = input()\n",
    "length = len(word)\n",
    "print('Вы ввели слово длиной', length, 'букв.')"
   ]
  },
  {
   "cell_type": "markdown",
   "id": "f85dbf7b",
   "metadata": {},
   "source": [
    "`type()` - возвращает тип объекта, который вы ей передаете"
   ]
  },
  {
   "cell_type": "code",
   "execution_count": null,
   "id": "90c5268f",
   "metadata": {},
   "outputs": [],
   "source": [
    "type(True)"
   ]
  },
  {
   "cell_type": "markdown",
   "id": "e6b1c9aa",
   "metadata": {},
   "source": [
    "`help()` - хотите знать, как работает определённый объект, метод или атрибут, функция help поможет вам."
   ]
  },
  {
   "cell_type": "code",
   "execution_count": null,
   "id": "6d24b437",
   "metadata": {},
   "outputs": [],
   "source": [
    "?print"
   ]
  },
  {
   "cell_type": "code",
   "execution_count": null,
   "id": "75d3b607",
   "metadata": {},
   "outputs": [],
   "source": [
    "help(print)"
   ]
  },
  {
   "cell_type": "markdown",
   "id": "48b57d9d",
   "metadata": {},
   "source": [
    "Использование в программе функции называется вызов функции, а данные, записанные в круглых скобках - аргументами. После выполнения работы на место вызова функции (то есть имени функции и ее аргументов в скобках) подставляется результат ее работы, это называется возвращаемое значение функции."
   ]
  },
  {
   "cell_type": "markdown",
   "id": "b0aa1c9f",
   "metadata": {},
   "source": [
    "# Встроенные модули\n",
    "\n",
    "Стандартных библиотек, входящей в комплект Python, уже достаточно для многих реализации множества действий. Стандартным библиотекам посвящен целый раздел документации: https://docs.python.org/3/library/\n",
    "\n",
    "Чтобы воспользоваться функциями, в составе каких-либо модулей, их необходимо подключить - импортировать. За импорт в Python отвечает директива `import`."
   ]
  },
  {
   "cell_type": "code",
   "execution_count": null,
   "id": "914c60a1",
   "metadata": {},
   "outputs": [],
   "source": [
    "import numpy\n",
    "print(numpy.pi)  # Вызов конкретной функции из импортированной библиотеки"
   ]
  },
  {
   "cell_type": "code",
   "execution_count": null,
   "id": "99dd9ef1",
   "metadata": {},
   "outputs": [],
   "source": [
    "from math import pi  # Возьмем число пи из библиотеки math\n",
    "print(pi)"
   ]
  },
  {
   "cell_type": "code",
   "execution_count": null,
   "id": "af7d98a5",
   "metadata": {},
   "outputs": [],
   "source": [
    "!pip install opencv-python  # Команда установки новой библиотеки opencv-python"
   ]
  },
  {
   "cell_type": "markdown",
   "id": "bea2ee52",
   "metadata": {},
   "source": [
    "Если ошибка pip.\n",
    "\n",
    "Откройте Anaconda, далее нужно открыть терминал и вести команду:\n",
    "\n",
    "python -m pip install --upgrade pip\n",
    "\n",
    "![Ошибка загрузки](https://github.com/akazachkov/python_notebook/blob/master/python_lectures/_add_material_lesson_python/07.png?raw=true)"
   ]
  },
  {
   "cell_type": "markdown",
   "id": "2aa8d6c0",
   "metadata": {},
   "source": [
    "# Ключевое слово as"
   ]
  },
  {
   "cell_type": "code",
   "execution_count": null,
   "id": "d4415fb5",
   "metadata": {},
   "outputs": [],
   "source": [
    "import math as m  # После данной команды, вместо math.log, можно писать более кратко:"
   ]
  },
  {
   "cell_type": "code",
   "execution_count": null,
   "id": "cc8b7a14",
   "metadata": {},
   "outputs": [],
   "source": [
    "m.log(80)"
   ]
  },
  {
   "cell_type": "code",
   "execution_count": null,
   "id": "d11a9402",
   "metadata": {},
   "outputs": [],
   "source": [
    "from math import log  # Импортировав функцию log, указывать через точку имя библиотеки math, больше не нужно:"
   ]
  },
  {
   "cell_type": "code",
   "execution_count": null,
   "id": "10538735",
   "metadata": {},
   "outputs": [],
   "source": [
    "log(80)"
   ]
  },
  {
   "cell_type": "markdown",
   "id": "c8e9aef5",
   "metadata": {},
   "source": [
    "Модуль, переменную, класс или функцию можно при импорте назвать своим именем — для этого служит ключевое слово `as`, например:"
   ]
  },
  {
   "cell_type": "code",
   "execution_count": null,
   "id": "78b8cec4",
   "metadata": {},
   "outputs": [],
   "source": [
    "from math import pi as число_пи\n",
    "число_пи"
   ]
  },
  {
   "cell_type": "markdown",
   "id": "094f6eaa",
   "metadata": {},
   "source": [
    "Более того, поскольку в программе на языке Python в именах допустимы буквенные символы любых алфавитов, можно использовать даже греческие буквы (впрочем, это неудобно, если у вас кириллическо-латинская клавиатура)."
   ]
  },
  {
   "cell_type": "code",
   "execution_count": null,
   "id": "e6a0a453",
   "metadata": {},
   "outputs": [],
   "source": [
    "from math import pi as π\n",
    "print(π)"
   ]
  },
  {
   "cell_type": "markdown",
   "id": "3d145cc6",
   "metadata": {},
   "source": [
    "Мы можем импортировать всю библиотеку, но тогда для доступа к ее содержимому нужно снова использовать точку:"
   ]
  },
  {
   "cell_type": "code",
   "execution_count": null,
   "id": "e79a0b46",
   "metadata": {},
   "outputs": [],
   "source": [
    "import math\n",
    "print(math.pi)"
   ]
  },
  {
   "cell_type": "markdown",
   "id": "cfdfa9a1",
   "metadata": {},
   "source": [
    "# Особенности импорта модулей\n",
    "\n",
    "Значения после директивы `import` можно писать через запятую:"
   ]
  },
  {
   "cell_type": "code",
   "execution_count": null,
   "id": "295214ed",
   "metadata": {},
   "outputs": [],
   "source": [
    "from math import sin, cos, tan"
   ]
  },
  {
   "cell_type": "code",
   "execution_count": null,
   "id": "a1e090cd",
   "metadata": {},
   "outputs": [],
   "source": [
    "sin(0.5)"
   ]
  },
  {
   "cell_type": "markdown",
   "id": "b7afda5a",
   "metadata": {},
   "source": [
    "Значок `*` означает, что из библиотеки нужно импортировать всё, что доступно."
   ]
  },
  {
   "cell_type": "code",
   "execution_count": null,
   "id": "476983be",
   "metadata": {},
   "outputs": [],
   "source": [
    "from math import *"
   ]
  },
  {
   "cell_type": "code",
   "execution_count": null,
   "id": "ea36746d",
   "metadata": {},
   "outputs": [],
   "source": [
    "cos(50)"
   ]
  },
  {
   "cell_type": "markdown",
   "id": "a595348f",
   "metadata": {},
   "source": [
    "Но так делать не рекомендуется, поскольку при таком подходе засоряется пространство имен."
   ]
  },
  {
   "cell_type": "code",
   "execution_count": null,
   "id": "628bdb4c",
   "metadata": {},
   "outputs": [],
   "source": [
    "help(sin)"
   ]
  },
  {
   "cell_type": "code",
   "execution_count": null,
   "id": "92488fd9",
   "metadata": {},
   "outputs": [],
   "source": [
    "help(radians)"
   ]
  },
  {
   "cell_type": "code",
   "execution_count": null,
   "id": "6ec2bfb7",
   "metadata": {},
   "outputs": [],
   "source": [
    "sin(radians(90))"
   ]
  },
  {
   "cell_type": "code",
   "execution_count": null,
   "id": "1037563a",
   "metadata": {},
   "outputs": [],
   "source": [
    "help(math)  # Просмотр справки по библиотеке и всех входящих в неё функций"
   ]
  },
  {
   "cell_type": "code",
   "execution_count": null,
   "id": "dabc0a9b",
   "metadata": {},
   "outputs": [],
   "source": [
    "conda list  # Команда для просмотра всех установленных библиотек и их версий"
   ]
  },
  {
   "cell_type": "markdown",
   "id": "615a195f",
   "metadata": {},
   "source": [
    "# Цикл While"
   ]
  },
  {
   "cell_type": "markdown",
   "id": "26b0f803",
   "metadata": {},
   "source": [
    "`While` - один из самых универсальных циклов в Python, но работает достаточно медленно.\n",
    "\n",
    "Цикл while (в переводе - пока) позволяет выполнить одну и ту же последовательность действий, пока проверяемое условие истинно.\n",
    "\n",
    "Как правило, цикл while используется, когда невозможно определить точное значение количества проходов исполнения цикла.\n",
    "\n",
    "Условие записывается до тела цикла и проверяется до выполнения тела цикла.\n",
    "\n",
    "При выполнении цикла while сначала проверяется условие. Если оно ложно, то выполнение цикла прекращается и управление передается на следующую инструкцию после тела цикла while. Если условие истинно, то выполняется инструкция, после чего условие проверяется снова и снова выполняется инструкция. Так продолжается до тех пор, пока условие будет истинно. Как только условие станет ложно, работа цикла завершится и управление передастся следующей инструкции после цикла.\n",
    "\n",
    "Синтаксис цикла while в простейшем случае выглядит так:"
   ]
  },
  {
   "cell_type": "code",
   "execution_count": null,
   "id": "e7b469e8",
   "metadata": {},
   "outputs": [],
   "source": [
    "while <<условие>> :\n",
    "    <<блок инструкций>>"
   ]
  },
  {
   "cell_type": "markdown",
   "id": "c4c3ec6d",
   "metadata": {},
   "source": [
    "![Ошибка загрузки](https://github.com/akazachkov/python_notebook/blob/master/python_lectures/_add_material_lesson_python/08.png?raw=true)"
   ]
  },
  {
   "cell_type": "markdown",
   "id": "0c087f40",
   "metadata": {},
   "source": [
    "### Задача\n",
    "\n",
    "Вывести все числа от 1 до заданного пользователем целого числа N с помощью цикла while"
   ]
  },
  {
   "cell_type": "code",
   "execution_count": null,
   "id": "d606fc65",
   "metadata": {},
   "outputs": [],
   "source": [
    "N = int(input())\n",
    "i = 1\n",
    "while i <= N:\n",
    "    print(i)\n",
    "    i += 1  # Переменная i увеличивается на 1 и перезаписывается. Раносильная запись i = i + 1"
   ]
  },
  {
   "cell_type": "markdown",
   "id": "9b1a4251",
   "metadata": {},
   "source": [
    "### Задача\n",
    "Посчитать из скольки цифр состоит натуральное число, введенное пользователем с клавиатуры с помощью цикла while"
   ]
  },
  {
   "cell_type": "code",
   "execution_count": null,
   "id": "2d3a472b",
   "metadata": {},
   "outputs": [],
   "source": [
    "N = int(input())\n",
    "count = 0\n",
    "while N > 0:\n",
    "    print(N)\n",
    "    N //= 10\n",
    "    count += 1\n",
    "print()\n",
    "print(count)"
   ]
  },
  {
   "cell_type": "markdown",
   "id": "9855c906",
   "metadata": {},
   "source": [
    "### Задача\n",
    "Используя цикл while, выведите на экран для числа 2 его степени от 0 до 10."
   ]
  },
  {
   "cell_type": "code",
   "execution_count": null,
   "id": "4c2b81a8",
   "metadata": {},
   "outputs": [],
   "source": [
    "i = 0\n",
    "while i <= 10:\n",
    "    print(2 ** i)\n",
    "    i += 1"
   ]
  },
  {
   "cell_type": "markdown",
   "id": "133cf2d9",
   "metadata": {},
   "source": [
    "### Задача\n",
    "\n",
    "Программа по вычислению факториала натурального числа, заданного пользователем.\n",
    "\n",
    "5! = 1\\*2\\*3\\*4\\*5"
   ]
  },
  {
   "cell_type": "code",
   "execution_count": null,
   "id": "a1693d50",
   "metadata": {},
   "outputs": [],
   "source": [
    "N = int(input())\n",
    "i = 1\n",
    "f = 1\n",
    "while i <= N:\n",
    "    f *= i\n",
    "    i += 1\n",
    "print(f)"
   ]
  },
  {
   "cell_type": "markdown",
   "id": "b82b95df",
   "metadata": {},
   "source": [
    "### Задача\n",
    "\n",
    "Дано целое число, не меньшее 2. Выведите его наименьший натуральный делитель, отличный от 1."
   ]
  },
  {
   "cell_type": "code",
   "execution_count": null,
   "id": "15c72e40",
   "metadata": {},
   "outputs": [],
   "source": [
    "n = int(input())\n",
    "i = 2\n",
    "while n % i != 0:\n",
    "    i += 1\n",
    "print(i)"
   ]
  },
  {
   "cell_type": "markdown",
   "id": "680ca9c6",
   "metadata": {},
   "source": [
    "### Задача\n",
    "\n",
    "Игра-угадайка.\n",
    "\n",
    "Программа будет загадывать целое число от 1 до 100, а пользователь его угадывать. Будем генерировать случайное число n из интервала [1, 100]. Задача пользователя угадать это число. Выводится количество попыток сделанное пользователем."
   ]
  },
  {
   "cell_type": "code",
   "execution_count": null,
   "id": "c8dbe318",
   "metadata": {},
   "outputs": [],
   "source": [
    "from random import randrange  # Ипортируем функию randrange\n",
    "n = randrange(1, 101)  # n и есть загаданное число. Указываем 101, т.к. последнее значение диапазона, не используется\n",
    "print(n)"
   ]
  },
  {
   "cell_type": "code",
   "execution_count": null,
   "id": "317db7ab",
   "metadata": {},
   "outputs": [],
   "source": [
    "num = 1  # Служит счётчиком попыток угадать число\n",
    "flag = True\n",
    "while flag:\n",
    "    print(\"Ваша попытка\", num, \"Ваше число: \", end = \"\")\n",
    "    guess = int(input())\n",
    "    if guess == n:\n",
    "        print(\"Вы выиграли\")\n",
    "        flag = False\n",
    "    elif guess > n:\n",
    "        print(\"Вы ввели слишком большое число\")\n",
    "        num += 1\n",
    "    else:\n",
    "        print(\"Вы ввели слишком маленькое число\")\n",
    "        num += 1\n",
    "print(f\"Было совершено {num} попыток\")"
   ]
  },
  {
   "cell_type": "markdown",
   "id": "96088edb",
   "metadata": {},
   "source": [
    "# Инструкции, использующиеся внутри циклов\n",
    "\n",
    "`break` – производит переход за пределы цикла\n",
    "\n",
    "`continue` – производит переход в начало цикла\n",
    "\n",
    "`pass` – ничего не делает (пустая конструкция-заполнитель)\n",
    "\n",
    "`else` – выполняется, только если цикл завершился обычным образом (без использования break)"
   ]
  },
  {
   "cell_type": "code",
   "execution_count": null,
   "id": "b0e5b442",
   "metadata": {},
   "outputs": [],
   "source": [
    "i = 0\n",
    "\n",
    "while i <= 5:\n",
    "    print(i)\n",
    "    if i == 3:\n",
    "        break  # Полностью выводит нас из цикла\n",
    "    i += 1\n",
    "else:\n",
    "    print(\"Цикл завершил работу\")"
   ]
  },
  {
   "cell_type": "code",
   "execution_count": null,
   "id": "717bfd10",
   "metadata": {},
   "outputs": [],
   "source": [
    "i = 0\n",
    "\n",
    "while i <= 5:\n",
    "    i += 1\n",
    "    \n",
    "    if i == 3:\n",
    "        print(\"Тройку пропускаем\")\n",
    "        continue  # Пропускаем дальнеший код в теле цикла и возвращаемся к началу\n",
    "        \n",
    "    print(i)\n",
    "else:\n",
    "    print(\"Цикл завершил работу\")"
   ]
  },
  {
   "cell_type": "code",
   "execution_count": null,
   "id": "b7b84911",
   "metadata": {},
   "outputs": [],
   "source": [
    "i = 0\n",
    "\n",
    "while i <= 10:\n",
    "    if i == 5:\n",
    "        pass  # Ничего не делаем\n",
    "    else:\n",
    "        print(i)\n",
    "    i += 1\n",
    "else:\n",
    "    print(\"Цикл завершил работу\")"
   ]
  },
  {
   "cell_type": "markdown",
   "id": "a79fc5bd",
   "metadata": {},
   "source": [
    "# Вложенные циклы"
   ]
  },
  {
   "cell_type": "markdown",
   "id": "bba50959",
   "metadata": {},
   "source": [
    "![Ошибка загрузки](https://github.com/akazachkov/python_notebook/blob/master/python_lectures/_add_material_lesson_python/09.png?raw=true)"
   ]
  },
  {
   "cell_type": "markdown",
   "id": "b5c56584",
   "metadata": {},
   "source": [
    "Вложенные циклы while содержат два основных компонента:\n",
    "\n",
    "1. Внешний цикл while\n",
    "2. Внутренний цикл while\n",
    "\n",
    "\n",
    "Внешний цикл while может содержать несколько внутренних циклов while. Условие приводит к булевому значению, и если оно истинно, только тогда цикл выполняется. На каждой итерации внешнего цикла while внутренний цикл выполняется с самого начала, и этот процесс продолжается до тех пор, пока условие внешнего цикла не станет истинным. Аналогично, внутренний цикл while выполняется только в том случае, если его условие истинно, после чего выполняется блок кода."
   ]
  },
  {
   "cell_type": "markdown",
   "id": "9ac2d370",
   "metadata": {},
   "source": [
    "### Задача\n",
    "\n",
    "Выведите таблицу умножения от 1 до 5."
   ]
  },
  {
   "cell_type": "code",
   "execution_count": null,
   "id": "f9806419",
   "metadata": {},
   "outputs": [],
   "source": [
    "i = 1\n",
    "\n",
    "while i <= 5:\n",
    "    j = 1\n",
    "    while j <= 10:\n",
    "        print(i, \"*\", j, \"=\", i * j)\n",
    "        j += 1\n",
    "    print()\n",
    "    i += 1"
   ]
  },
  {
   "cell_type": "markdown",
   "id": "cb2d5a23",
   "metadata": {},
   "source": [
    "# Коллекции: множества, списки, кортежи."
   ]
  },
  {
   "cell_type": "markdown",
   "id": "f97744de",
   "metadata": {},
   "source": [
    "## Множества\n",
    "\n",
    "`Множество` — cоставной тип данных, представляющий собой неупорядоченный набор уникальных объектов (элементов множества) под одним именем. Множества изменяемы и чаще всего используются для удаления дубликатов и всевозможных проверок на вхождение.\n",
    "\n",
    "Чтобы задать множество, нужно в фигурных скобках перечислить его элементы. Множество может содержать и строки, и числа.\n",
    "Создадим множество из нескольких элементов и выведем на экран:"
   ]
  },
  {
   "cell_type": "code",
   "execution_count": null,
   "id": "1fae2d6c",
   "metadata": {},
   "outputs": [],
   "source": [
    "num = {1, 2, 3, 4, 5, 0, \"Hello, world!!!\", \"Привет мир!!!\", 'cat', 'dog', 1.4, 5.8}\n",
    "print(num)"
   ]
  },
  {
   "cell_type": "markdown",
   "id": "7cfef098",
   "metadata": {},
   "source": [
    "После запуска видим иной порядок, чем мы задали. Так происходит потому, что элементы в множестве Python не упорядочены.\n",
    "\n",
    "У множеств есть три ключевые особенности:\n",
    "\n",
    "- Порядок элементов в множестве не определен\n",
    "- Элементы множеств — строки и/или числа\n",
    "- Множество не может содержать одинаковых элементов\n",
    "\n",
    "### Cоздание множества\n",
    "\n",
    "Для создания пустых множеств обязательно вызывать функцию `set()`:"
   ]
  },
  {
   "cell_type": "code",
   "execution_count": null,
   "id": "eccc19af",
   "metadata": {},
   "outputs": [],
   "source": [
    "empty = set()"
   ]
  },
  {
   "cell_type": "markdown",
   "id": "13df6141",
   "metadata": {},
   "source": [
    "### Операции над множеством (одним)\n",
    "\n",
    "len() - вычисление числа элементов множества:"
   ]
  },
  {
   "cell_type": "code",
   "execution_count": null,
   "id": "23add2c1",
   "metadata": {},
   "outputs": [],
   "source": [
    "my_set = {'a', 'b', 'c'}\n",
    "n = len(my_set)\n",
    "print(n)"
   ]
  },
  {
   "cell_type": "markdown",
   "id": "cae70f22",
   "metadata": {},
   "source": [
    "#### Добавление элемента в множество\n",
    "\n",
    "Выполняется с помощью метода `.add`.\n",
    "\n",
    "Если элемент, равный новому элементу, уже существует в множестве, оно не изменится, поскольку не может содержать одинаковых элементов. Ошибки при этом не произойдет."
   ]
  },
  {
   "cell_type": "code",
   "execution_count": null,
   "id": "d134338e",
   "metadata": {},
   "outputs": [],
   "source": [
    "my_set = set()\n",
    "my_set.add('a')\n",
    "my_set.add('b')\n",
    "my_set.add('a')\n",
    "print(my_set)"
   ]
  },
  {
   "cell_type": "markdown",
   "id": "a30113f4",
   "metadata": {},
   "source": [
    "#### Удаление элемента\n",
    "\n",
    "Для удаления есть три метода:\n",
    "\n",
    "- .discard - удалить заданный элемент, если он есть в множестве, и ничего не делать, если его нет;\n",
    "- .remove - удалить заданный элемент, если он есть, и породить ошибку KeyError, если нет;\n",
    "- .pop - удалить некоторый элемент из множества и возвратить его как результат."
   ]
  },
  {
   "cell_type": "code",
   "execution_count": null,
   "id": "4ca11573",
   "metadata": {},
   "outputs": [],
   "source": [
    "my_set = {'a', 'b', 'c'} \n",
    "my_set.discard('a')  # Будет удален\n",
    "my_set.discard('d')  # Нет в множестве, ничего не делать\n",
    "print(my_set)"
   ]
  },
  {
   "cell_type": "code",
   "execution_count": null,
   "id": "30fe2f58",
   "metadata": {},
   "outputs": [],
   "source": [
    "my_set.remove('b')  # Будет удален\n",
    "print(my_set) "
   ]
  },
  {
   "cell_type": "code",
   "execution_count": null,
   "id": "3567ec87",
   "metadata": {},
   "outputs": [],
   "source": [
    "my_set.remove('d')  # Не в множестве, вызовет ошибку KeyError"
   ]
  },
  {
   "cell_type": "code",
   "execution_count": null,
   "id": "40f3edcc",
   "metadata": {},
   "outputs": [],
   "source": [
    "elem = my_set.pop()  # Удаляет из множества случайный элемент и возвращает его значение\n",
    "print(elem)"
   ]
  },
  {
   "cell_type": "markdown",
   "id": "9e2ccef5",
   "metadata": {},
   "source": [
    "#### Очистка множества\n",
    "\n",
    "Очистить множество от всех элементов можно с помощью метода `clear()`:"
   ]
  },
  {
   "cell_type": "code",
   "execution_count": null,
   "id": "2e121ae3",
   "metadata": {},
   "outputs": [],
   "source": [
    "my_set.clear()"
   ]
  },
  {
   "cell_type": "markdown",
   "id": "33482f15",
   "metadata": {},
   "source": [
    "### Операции над двумя множествами"
   ]
  },
  {
   "cell_type": "code",
   "execution_count": null,
   "id": "50aff233",
   "metadata": {},
   "outputs": [],
   "source": [
    "a = set(\"1234\")\n",
    "b = set(\"3456\")"
   ]
  },
  {
   "cell_type": "code",
   "execution_count": null,
   "id": "d5d54515",
   "metadata": {},
   "outputs": [],
   "source": [
    "print(a)\n",
    "print(b)"
   ]
  },
  {
   "cell_type": "markdown",
   "id": "471617e1",
   "metadata": {},
   "source": [
    "**Объединение множеств**\n",
    "\n",
    "Объединением двух множеств называется множество, состоящее из тех и только тех элементов, которые принадлежат хотя бы одному из данных множеств.\n",
    "\n",
    "![Ошибка загрузки](https://github.com/akazachkov/python_notebook/blob/master/python_lectures/_add_material_lesson_python/10.png?raw=true)"
   ]
  },
  {
   "cell_type": "code",
   "execution_count": null,
   "id": "c1551a06",
   "metadata": {},
   "outputs": [],
   "source": [
    "print(a | b)"
   ]
  },
  {
   "cell_type": "markdown",
   "id": "8c104e89",
   "metadata": {},
   "source": [
    "**Пересечение множеств**\n",
    "\n",
    "Пересечением двух множеств называется множество, которому принадлежат те и только те элементы, которые одновременно принадлежат двум данным множествам.\n",
    "\n",
    "![Ошибка загрузки](https://github.com/akazachkov/python_notebook/blob/master/python_lectures/_add_material_lesson_python/11.png?raw=true)"
   ]
  },
  {
   "cell_type": "code",
   "execution_count": null,
   "id": "d96805aa",
   "metadata": {},
   "outputs": [],
   "source": [
    "print(a & b)"
   ]
  },
  {
   "cell_type": "markdown",
   "id": "1c500d01",
   "metadata": {},
   "source": [
    "**Разность множеств**\n",
    "\n",
    "Разностью двух множеств называется множество, состоящее из тех и только тех элементов, которые входят в первое множество, но не входят во второе.\n",
    "\n",
    "![Ошибка загрузки](https://github.com/akazachkov/python_notebook/blob/master/python_lectures/_add_material_lesson_python/12.png?raw=true)"
   ]
  },
  {
   "cell_type": "code",
   "execution_count": null,
   "id": "73363ec0",
   "metadata": {},
   "outputs": [],
   "source": [
    "print(a - b)"
   ]
  },
  {
   "cell_type": "markdown",
   "id": "15e7046a",
   "metadata": {},
   "source": [
    "**Симметрическая разность множеств**\n",
    "\n",
    "Симметрической разностью двух множеств называется множество, которое состоит из элементов, принадлежащих ровно одному из данных множеств.\n",
    "\n",
    "![Ошибка загрузки](https://github.com/akazachkov/python_notebook/blob/master/python_lectures/_add_material_lesson_python/13.png?raw=true)"
   ]
  },
  {
   "cell_type": "code",
   "execution_count": null,
   "id": "7a5a87a1",
   "metadata": {},
   "outputs": [],
   "source": [
    "print(a ^ b)"
   ]
  },
  {
   "cell_type": "markdown",
   "id": "26bcbdfb",
   "metadata": {},
   "source": [
    "### Сравнение множеств\n",
    "\n",
    "Для сравнения множеств используются все логические операторы: `==, <, >, !=`. Равными будут считаться множества с одинаковым набором элементов. Операторы сравнения возвращают результат True, если сравнение истинно, и False — если нет."
   ]
  },
  {
   "cell_type": "code",
   "execution_count": null,
   "id": "70b9cbfe",
   "metadata": {},
   "outputs": [],
   "source": [
    "setA = {7, 6, 5, 4, 3}\n",
    "setB = {3, 4, 5, 6, 7}\n",
    "setA == setB"
   ]
  },
  {
   "cell_type": "code",
   "execution_count": null,
   "id": "4cfdd65f",
   "metadata": {},
   "outputs": [],
   "source": [
    "setA != setB"
   ]
  },
  {
   "cell_type": "code",
   "execution_count": null,
   "id": "6c39f93d",
   "metadata": {},
   "outputs": [],
   "source": [
    "setA = {7, 6, 5, 4, 3}\n",
    "setB = {3, 4, 5}\n",
    "setB < setA"
   ]
  },
  {
   "cell_type": "code",
   "execution_count": null,
   "id": "9ecea9d1",
   "metadata": {},
   "outputs": [],
   "source": [
    "setB > setA  # Значение False. Но, если хотя бы один элемент множества setB не будет принадлежать множеству setA"
   ]
  },
  {
   "cell_type": "markdown",
   "id": "af3100df",
   "metadata": {},
   "source": [
    "### Задача\n",
    "\n",
    "Аня и Маша  играют в игру. Аня вводит число, а Маша должна ввести число, в котором есть только те цифры, которые есть в числе Ани. Если Маша ввела верное число, то выводится \"Верное число!\". В противном случае \"Такое число нельзя использовать\"."
   ]
  },
  {
   "cell_type": "code",
   "execution_count": null,
   "id": "86a855b3",
   "metadata": {},
   "outputs": [],
   "source": [
    "anya = set(input())\n",
    "mash = set(input())\n",
    "if mash <= anya:\n",
    "    print(\"Верное число!\")\n",
    "else:\n",
    "    print(\"Такое число нельзя использовать\")"
   ]
  },
  {
   "cell_type": "markdown",
   "id": "75c83076",
   "metadata": {},
   "source": [
    "## Списки (list)\n",
    "\n",
    "`Список` — это упорядоченный набор объектов, хранящихся в одной переменной. В отличие от массивов в других языках, у списков нет никаких ограничений на тип переменных, поэтому в них могут храниться разные объекты, в том числе и другие коллекции.\n",
    "\n",
    "### Создание списков\n",
    "\n",
    "Создадим список:"
   ]
  },
  {
   "cell_type": "code",
   "execution_count": null,
   "id": "6ed846bf",
   "metadata": {},
   "outputs": [],
   "source": [
    "list_num = [1, 2, 3, 4, 5, 0, \"Hello, world!!!\", \"Привет мир!!!\", 'cat', 'dog'] \n",
    "print(list_num)\n",
    "print(type(list_num))"
   ]
  },
  {
   "cell_type": "markdown",
   "id": "a515e4c3",
   "metadata": {},
   "source": [
    "Пустой список можно создать двумя способами - оператором [] и функцией list()."
   ]
  },
  {
   "cell_type": "code",
   "execution_count": null,
   "id": "c170426a",
   "metadata": {},
   "outputs": [],
   "source": [
    "print([])\n",
    "print(list())"
   ]
  },
  {
   "cell_type": "code",
   "execution_count": null,
   "id": "9dba003c",
   "metadata": {},
   "outputs": [],
   "source": [
    "a = list()\n",
    "a"
   ]
  },
  {
   "cell_type": "markdown",
   "id": "4402a5b6",
   "metadata": {},
   "source": [
    "Список может быть даже смешанным. Например, давайте сохраним в одном списке имя студента, его год рождения, средний балл, и логическую переменную, которая будет равна True, если студент учится на бюджете."
   ]
  },
  {
   "cell_type": "code",
   "execution_count": null,
   "id": "a4556ee3",
   "metadata": {},
   "outputs": [],
   "source": [
    "student1 = [\"Иван Иванов\", 1988, 7.5, True]\n",
    "print(student1)"
   ]
  },
  {
   "cell_type": "markdown",
   "id": "bbdfb6fd",
   "metadata": {},
   "source": [
    "Список может даже содержать другие списки.\n",
    "\n",
    "Давайте создадим еще одного студента по аналогии со student1 и положим этих двух студентов в еще один список."
   ]
  },
  {
   "cell_type": "code",
   "execution_count": null,
   "id": "c098e49a",
   "metadata": {},
   "outputs": [],
   "source": [
    "student2 = [\"Сергей Смирнов\", 1990, 7.9, False]\n",
    "students = [student1, student2]\n",
    "print(students)"
   ]
  },
  {
   "cell_type": "markdown",
   "id": "1df403ec",
   "metadata": {},
   "source": [
    "### Срезы списков\n",
    "\n",
    "Элементы списков нумеруются, начиная с 0. Мы можем получить доступ к элементу списка по его индексу."
   ]
  },
  {
   "cell_type": "code",
   "execution_count": null,
   "id": "e68e5e83",
   "metadata": {},
   "outputs": [],
   "source": [
    "students = [\"Иван Иванов\", \"Сергей Смирнов\", \"Николай Пешков\"]\n",
    "print(students[0])  # Первый элемент\n",
    "print(students[1])  # Второй элемент\n",
    "print(students[-1])  # Последний элемент"
   ]
  },
  {
   "cell_type": "markdown",
   "id": "6df6c4b9",
   "metadata": {},
   "source": [
    "Индексация работает и в строках. Там отдельными элементами являются символы."
   ]
  },
  {
   "cell_type": "code",
   "execution_count": null,
   "id": "a67c39b3",
   "metadata": {},
   "outputs": [],
   "source": [
    "x = \"Привет\"\n",
    "print(x[0])\n",
    "print(x[-1])"
   ]
  },
  {
   "cell_type": "markdown",
   "id": "4f45dfbc",
   "metadata": {},
   "source": [
    "Мы можем узнать длину списка с помощью функции len() (работает и для строк)."
   ]
  },
  {
   "cell_type": "code",
   "execution_count": null,
   "id": "be76abe3",
   "metadata": {},
   "outputs": [],
   "source": [
    "print(len(students))  # Количество элементов в списке students\n",
    "print(len(x))  # Количество символов в строке x"
   ]
  },
  {
   "cell_type": "markdown",
   "id": "d93ca5f5",
   "metadata": {},
   "source": [
    "Но, в отличие от строк, <ins>список можно изменить</ins>."
   ]
  },
  {
   "cell_type": "code",
   "execution_count": null,
   "id": "b1510eb7",
   "metadata": {},
   "outputs": [],
   "source": [
    "students = [\"Иван Иванов\", \"Сергей Смирнов\", \"Николай Пешков\"]\n",
    "students"
   ]
  },
  {
   "cell_type": "code",
   "execution_count": null,
   "id": "3a0343b1",
   "metadata": {},
   "outputs": [],
   "source": [
    "students[0] = 'Петр Иванов'\n",
    "students"
   ]
  },
  {
   "cell_type": "code",
   "execution_count": null,
   "id": "144d1b75",
   "metadata": {},
   "outputs": [],
   "source": [
    "string = \"Привет\"\n",
    "string[1] = \"a\""
   ]
  },
  {
   "cell_type": "markdown",
   "id": "a6f31a68",
   "metadata": {},
   "source": [
    "<ins>Строки - неизменяемый тип данных</ins>, поэтому присвоение символа по индексу не сработает.\n",
    "\n",
    "Еще одна операция, которая работает со всеми последовательностями - проверка на наличие элемента in и not in. Возвращает True или False."
   ]
  },
  {
   "cell_type": "code",
   "execution_count": null,
   "id": "4e476f96",
   "metadata": {},
   "outputs": [],
   "source": [
    "n = [7, 22, 8, 5]\n",
    "x = 22\n",
    "x in n"
   ]
  },
  {
   "cell_type": "markdown",
   "id": "50b5bbc3",
   "metadata": {},
   "source": [
    "Способ расширить список - метод `.append()`, который добавляет аргумент в список в качестве последнего элемента."
   ]
  },
  {
   "cell_type": "code",
   "execution_count": null,
   "id": "07d76f15",
   "metadata": {},
   "outputs": [],
   "source": [
    "lst = [7, 22, 8, 5]\n",
    "\n",
    "lst.append(10)\n",
    "print(lst)\n",
    "\n",
    "lst += [6]  # Эквивалентное append выражение\n",
    "print(lst)"
   ]
  },
  {
   "cell_type": "markdown",
   "id": "22573606",
   "metadata": {},
   "source": [
    "Удалить элемент из списка можно с помощью метода `.remove()` (без возвращения удаленного элемента) или `.pop` (с возвращением удаленного элемента)."
   ]
  },
  {
   "cell_type": "code",
   "execution_count": null,
   "id": "9d7cc629",
   "metadata": {},
   "outputs": [],
   "source": [
    "lst.remove(7)  # Аргумент - объект, который ходим удалить\n",
    "print(lst)"
   ]
  },
  {
   "cell_type": "code",
   "execution_count": null,
   "id": "2403ebf4",
   "metadata": {},
   "outputs": [],
   "source": [
    "x = lst.pop(0)  # Аргумент - индекс объекта. Результат операции можно сохранить в переменную\n",
    "print(lst)\n",
    "print(x)"
   ]
  },
  {
   "cell_type": "markdown",
   "id": "ffdfbc44",
   "metadata": {},
   "source": [
    "Поиском в списках занимается метод `.index()`, который вернет индекс объекта, переданного в качестве аргумента."
   ]
  },
  {
   "cell_type": "code",
   "execution_count": null,
   "id": "782659d5",
   "metadata": {},
   "outputs": [],
   "source": [
    "lst.append(6)"
   ]
  },
  {
   "cell_type": "code",
   "execution_count": null,
   "id": "73190a3c",
   "metadata": {},
   "outputs": [],
   "source": [
    "lst"
   ]
  },
  {
   "cell_type": "code",
   "execution_count": null,
   "id": "a92db70b",
   "metadata": {},
   "outputs": [],
   "source": [
    "print(lst.index(6))"
   ]
  },
  {
   "cell_type": "code",
   "execution_count": null,
   "id": "1548bd2d",
   "metadata": {},
   "outputs": [],
   "source": [
    "# Находим индекс объекта 6\n",
    "\n",
    "print(lst[lst.index(6)])  # Используем метод, возвращающий индекс, для обращения к объекту"
   ]
  },
  {
   "cell_type": "markdown",
   "id": "7c13fa24",
   "metadata": {},
   "source": [
    "Метод `.count()`, он подсчитывает количество элементов и .reverse(), который разворачивает список"
   ]
  },
  {
   "cell_type": "code",
   "execution_count": null,
   "id": "b14f9f54",
   "metadata": {},
   "outputs": [],
   "source": [
    "print(lst.count(6))"
   ]
  },
  {
   "cell_type": "code",
   "execution_count": null,
   "id": "f2d03490",
   "metadata": {},
   "outputs": [],
   "source": [
    "b = [1,2,3,4,5]\n",
    "b.reverse()  # Осторожно - метод меняет список!\n",
    "b"
   ]
  },
  {
   "cell_type": "markdown",
   "id": "856eea24",
   "metadata": {},
   "source": [
    "##### Все методы списков [здесь](https://docs.python.org/3/tutorial/datastructures.html)"
   ]
  },
  {
   "cell_type": "markdown",
   "id": "4ba5ed68",
   "metadata": {},
   "source": [
    "### Сортировки"
   ]
  },
  {
   "cell_type": "code",
   "execution_count": null,
   "id": "148247ee",
   "metadata": {},
   "outputs": [],
   "source": [
    "test_list = [9, 3, 2, 1, 4, 8, 5]\n",
    "print(test_list)  # Элементы списка расположены в хаотичном порядке\n",
    "test_list.sort()\n",
    "print(test_list)  # Теперь элементы списка теперь расположены по возрастанию"
   ]
  },
  {
   "cell_type": "code",
   "execution_count": null,
   "id": "ec6e4e91",
   "metadata": {},
   "outputs": [],
   "source": [
    "test_list.sort(reverse = True)"
   ]
  },
  {
   "cell_type": "code",
   "execution_count": null,
   "id": "ded56fde",
   "metadata": {},
   "outputs": [],
   "source": [
    "test_list"
   ]
  },
  {
   "cell_type": "code",
   "execution_count": null,
   "id": "38ff2e78",
   "metadata": {},
   "outputs": [],
   "source": [
    "test_list.sort(reverse = True)  # Параметр reverse указывает на то, что нужно отсортировать список в обратном порядке\n",
    "print(test_list)"
   ]
  },
  {
   "cell_type": "markdown",
   "id": "80dc71a0",
   "metadata": {},
   "source": [
    "Следует обратить внимание, что метод `list.sort()` изменяет сам список, на котором его вызвали.\n",
    "\n",
    "Таким образом, при каждом вызове метода `sort()`, наш список \"test_list\" изменяется.\n",
    "\n",
    "Это может быть удобно, если нам не нужно держать в памяти исходный список.\n",
    "\n",
    "Однако, в противном случае, или же - в случае неизменяемого типа данных (например, кортежа или строки) - этот метод не сработает. В таком случае, на помощь приходит встроенная в питон функция `sorted()`."
   ]
  },
  {
   "cell_type": "code",
   "execution_count": null,
   "id": "8f866884",
   "metadata": {},
   "outputs": [],
   "source": [
    "test_list = [9, 3, 2, 1, 4, 8, 5]\n",
    "print(sorted(test_list))  # Сам список при сортировке не изменяется"
   ]
  },
  {
   "cell_type": "code",
   "execution_count": null,
   "id": "a7051f21",
   "metadata": {},
   "outputs": [],
   "source": [
    "test_list"
   ]
  },
  {
   "cell_type": "markdown",
   "id": "78d599d2",
   "metadata": {},
   "source": [
    "Так как `sorted()` - это функция, а не метод, то будет работать и с другими типами данных."
   ]
  },
  {
   "cell_type": "code",
   "execution_count": null,
   "id": "01e24805",
   "metadata": {},
   "outputs": [],
   "source": [
    "print(sorted(\"привет\"))"
   ]
  },
  {
   "cell_type": "code",
   "execution_count": null,
   "id": "114f7d9d",
   "metadata": {},
   "outputs": [],
   "source": [
    "# print(sorted('привет')) отсортирует буквы в строке, но выведет список\n",
    "print(''.join(sorted('привет')))  # С помощью метода join можно собрать отсортированную строку, ниже подробнее про него"
   ]
  },
  {
   "cell_type": "markdown",
   "id": "4ced0291",
   "metadata": {},
   "source": [
    "У функции sorted(), как и у метода list.sort() есть параметр key, с помощью которого можно указать функцию, которая будет применена к каждому элементу последовательности при сортировке."
   ]
  },
  {
   "cell_type": "code",
   "execution_count": null,
   "id": "a840980f",
   "metadata": {},
   "outputs": [],
   "source": [
    "test_string = 'Строка С заглавными И строчными буквами'"
   ]
  },
  {
   "cell_type": "code",
   "execution_count": null,
   "id": "0658a5d7",
   "metadata": {},
   "outputs": [],
   "source": [
    "print(sorted(test_string.split())) # заглавные буквы получили приоритет над строчными"
   ]
  },
  {
   "cell_type": "code",
   "execution_count": null,
   "id": "c5475ba0",
   "metadata": {},
   "outputs": [],
   "source": [
    "\"Привет мир!!!\".upper()"
   ]
  },
  {
   "cell_type": "code",
   "execution_count": null,
   "id": "33466d53",
   "metadata": {},
   "outputs": [],
   "source": [
    "print(sorted(test_string.split(), key=str.upper)) # все буквы были приведены к верхнему регистру + сортировка по алфавиту"
   ]
  },
  {
   "cell_type": "code",
   "execution_count": null,
   "id": "f855eb9c",
   "metadata": {},
   "outputs": [],
   "source": [
    "lst = [-50, 10, 8, 50, 25, 0, -10]"
   ]
  },
  {
   "cell_type": "code",
   "execution_count": null,
   "id": "d4fb3ec2",
   "metadata": {},
   "outputs": [],
   "source": [
    "sorted(lst, key = abs)"
   ]
  },
  {
   "cell_type": "markdown",
   "id": "0da340b8",
   "metadata": {},
   "source": [
    "## Кортежи (tuple)"
   ]
  },
  {
   "cell_type": "markdown",
   "id": "b3dbb27a",
   "metadata": {},
   "source": [
    "`Кортежи` очень похожи на списки."
   ]
  },
  {
   "cell_type": "code",
   "execution_count": null,
   "id": "64261c63",
   "metadata": {},
   "outputs": [],
   "source": [
    "student = (\"Иван Иванов\", 1988, 7.5, True)\n",
    "print(student)\n",
    "print(type(student))"
   ]
  },
  {
   "cell_type": "markdown",
   "id": "fa34045a",
   "metadata": {},
   "source": [
    "Пустой кортеж можно создать с помощью оператора `()` либо функции `tuple()`."
   ]
  },
  {
   "cell_type": "code",
   "execution_count": null,
   "id": "3fef7d37",
   "metadata": {},
   "outputs": [],
   "source": [
    "print(())\n",
    "print(tuple())"
   ]
  },
  {
   "cell_type": "code",
   "execution_count": null,
   "id": "1eccc564",
   "metadata": {},
   "outputs": [],
   "source": [
    "x = tuple()\n",
    "x"
   ]
  },
  {
   "cell_type": "code",
   "execution_count": null,
   "id": "6f8a7384",
   "metadata": {},
   "outputs": [],
   "source": [
    "student"
   ]
  },
  {
   "cell_type": "markdown",
   "id": "8723d3d5",
   "metadata": {},
   "source": [
    "<ins>Основное отличие кортежей от списков состоит в том, что кортежи нельзя изменять.</ins>"
   ]
  },
  {
   "cell_type": "code",
   "execution_count": null,
   "id": "4f9c69d9",
   "metadata": {},
   "outputs": [],
   "source": [
    "student[1] = 1987"
   ]
  },
  {
   "cell_type": "markdown",
   "id": "ddc6685b",
   "metadata": {},
   "source": [
    "Списки и кортежи могут быть вложены друг в друга. Например, пусть в информации о студенте у нас будет храниться не его средний балл, а список всех его оценок."
   ]
  },
  {
   "cell_type": "code",
   "execution_count": null,
   "id": "edac0d4e",
   "metadata": {},
   "outputs": [],
   "source": [
    "student = ('Иван Иванов', 1988, [8, 7, 7, 9, 6], True)\n",
    "print(student)"
   ]
  },
  {
   "cell_type": "code",
   "execution_count": null,
   "id": "b3b1f0fb",
   "metadata": {},
   "outputs": [],
   "source": [
    "student = ('Ivan Ivanov', 2001, (8, 7, 7, 9, 6), True)\n",
    "print(student)"
   ]
  },
  {
   "cell_type": "markdown",
   "id": "6b73cf8d",
   "metadata": {},
   "source": [
    "Мы можем обратиться к элементу вложенного списка или кортежа с помощью двойной индексации."
   ]
  },
  {
   "cell_type": "code",
   "execution_count": null,
   "id": "251ef5f5",
   "metadata": {},
   "outputs": [],
   "source": [
    "print(student[2][1])  # Получили вторую оценку"
   ]
  },
  {
   "cell_type": "markdown",
   "id": "9561cc41",
   "metadata": {},
   "source": [
    "### Опасность работы с изменяемыми типами данных"
   ]
  },
  {
   "cell_type": "markdown",
   "id": "03feb681",
   "metadata": {},
   "source": [
    "В работе со списками есть важный момент, на который нужно обращать внимание. Давайте рассмотрим такой код:"
   ]
  },
  {
   "cell_type": "code",
   "execution_count": null,
   "id": "5f298e2a",
   "metadata": {},
   "outputs": [],
   "source": [
    "a = [1, 2, 3]"
   ]
  },
  {
   "cell_type": "code",
   "execution_count": null,
   "id": "9e49ae2a",
   "metadata": {},
   "outputs": [],
   "source": [
    "b = a"
   ]
  },
  {
   "cell_type": "code",
   "execution_count": null,
   "id": "f7307538",
   "metadata": {},
   "outputs": [],
   "source": [
    "b[0] = 4"
   ]
  },
  {
   "cell_type": "code",
   "execution_count": null,
   "id": "6d0a274b",
   "metadata": {},
   "outputs": [],
   "source": [
    "print(a)\n",
    "print(b)"
   ]
  },
  {
   "cell_type": "markdown",
   "id": "a6536276",
   "metadata": {},
   "source": [
    "Переменная a ссылается на место в памяти, где хранится список [1, 2, 3]. И когда мы пишем, что b = a, b начинает указывать на то же самое место. То есть образуется два имени для одного и того же кусочка данных. И после изменения этого кусочка через переменную b, значение переменной a тоже меняется!\n",
    "\n",
    "Чтобы этого избежать необходимо использовать метод .copy()"
   ]
  },
  {
   "cell_type": "code",
   "execution_count": null,
   "id": "3fd116e5",
   "metadata": {},
   "outputs": [],
   "source": [
    "a = [1, 2, 3]\n",
    "b = a.copy()  # Теперь переменная b указывает на другой список, который хранится в другом кусочке памяти\n",
    "b[0] = 4\n",
    "print(a, b)"
   ]
  },
  {
   "cell_type": "markdown",
   "id": "20a50317",
   "metadata": {},
   "source": [
    "Копию можно создавать и с помощью пустого среза."
   ]
  },
  {
   "cell_type": "code",
   "execution_count": null,
   "id": "b6d84454",
   "metadata": {},
   "outputs": [],
   "source": [
    "a = [1, 2, 3]\n",
    "b = a[:]  # По умолчанию берется срез от первого элемента до последнего, то есть копируется весь список a\n",
    "b[0] = 4\n",
    "print(a, b)"
   ]
  },
  {
   "cell_type": "markdown",
   "id": "3a5da197",
   "metadata": {},
   "source": [
    "Не нужно путать присваивание с изменением."
   ]
  },
  {
   "cell_type": "code",
   "execution_count": null,
   "id": "abad4d2e",
   "metadata": {},
   "outputs": [],
   "source": [
    "a = [1, 2, 3]\n",
    "b = a\n",
    "a = [4,5,6]\n",
    "print(a)\n",
    "print(b)"
   ]
  },
  {
   "cell_type": "markdown",
   "id": "a50b239b",
   "metadata": {},
   "source": [
    "В примере выше переменная a была не изменена, а перезаписана, она начала указывать на другой список, хранящийся в другом месте памяти, поэтому переменная b осталась нетронута."
   ]
  },
  {
   "cell_type": "markdown",
   "id": "4f800f34",
   "metadata": {},
   "source": [
    "### Конкатенация списков и кортежей\n",
    "\n",
    "На списках и кортежах определен оператор `+`. По аналогии со строками, он будет склеивать две части выражения.\n",
    "\n",
    "Но складывать можно только данные одного типа."
   ]
  },
  {
   "cell_type": "code",
   "execution_count": null,
   "id": "cea51375",
   "metadata": {},
   "outputs": [],
   "source": [
    "print([1, 2] + [3, 4])\n",
    "print((1, 2) + (3, 4))"
   ]
  },
  {
   "cell_type": "code",
   "execution_count": null,
   "id": "3c02e37b",
   "metadata": {},
   "outputs": [],
   "source": [
    "print((1, 2) + [3, 4])  # А так нельзя"
   ]
  },
  {
   "cell_type": "markdown",
   "id": "2b8a9288",
   "metadata": {},
   "source": [
    "Но можно превратить список в кортеж, а потом сложить (или наоборот)."
   ]
  },
  {
   "cell_type": "code",
   "execution_count": null,
   "id": "28cf96b0",
   "metadata": {},
   "outputs": [],
   "source": [
    "print(list((1, 2)) + [3, 4])\n",
    "print((1, 2) + tuple([3, 4]))"
   ]
  },
  {
   "cell_type": "markdown",
   "id": "ed0bc965",
   "metadata": {},
   "source": [
    "# Методы .split(), .join(),  функция map(), вывод и ввод списков\n",
    "\n",
    "При работе со списками довольно часто нам придется вводить их и выводить в отформатированном виде.\n",
    "\n",
    "`Метод .split()` получает на вход строку-разделитель и возвращает список строк, разбитый по этому разделителю.\n",
    "\n",
    "По умолчанию метод разбивает строку по пробелу."
   ]
  },
  {
   "cell_type": "code",
   "execution_count": null,
   "id": "b8c495dc",
   "metadata": {},
   "outputs": [],
   "source": [
    "print(\"Hello, world!!!         Привет мир!!!\".split())"
   ]
  },
  {
   "cell_type": "code",
   "execution_count": null,
   "id": "206486a8",
   "metadata": {},
   "outputs": [],
   "source": [
    "print('Ночь. Улица. Фонарь. Аптека'.split('. '))  # Разделитель можно задать самому"
   ]
  },
  {
   "cell_type": "markdown",
   "id": "94f66292",
   "metadata": {},
   "source": [
    "`Метод .join()` ведет себя с точностью до наоборот - он склеивает список в строку, вставляя между элементами строку-разделитель."
   ]
  },
  {
   "cell_type": "code",
   "execution_count": null,
   "id": "b3638d0a",
   "metadata": {},
   "outputs": [],
   "source": [
    "print('-'.join(['8', '888', '777', '11', '15']))"
   ]
  },
  {
   "cell_type": "markdown",
   "id": "7bf79bcc",
   "metadata": {},
   "source": [
    "`Функция map()` берет функцию и последовательность и применяет эту функцию ко всем ее элементам (map() всегда будет ожидать два аргумента)."
   ]
  },
  {
   "cell_type": "code",
   "execution_count": null,
   "id": "3407d74e",
   "metadata": {},
   "outputs": [],
   "source": [
    "lst = [\"5\", \"4\", \"3\", \"2\", \"1\"]\n",
    "print(lst)\n",
    "\n",
    "lst2 = list(map(int, [\"5\", \"4\", \"3\", \"2\", \"1\"]))\n",
    "print(lst2)"
   ]
  },
  {
   "cell_type": "markdown",
   "id": "aa809d85",
   "metadata": {},
   "source": [
    "## Ввод и вывод списков\n",
    "\n",
    "Теперь можно быстро вводить и выводить списки, содержащие разные данные через разные разделители."
   ]
  },
  {
   "cell_type": "code",
   "execution_count": null,
   "id": "835a2eed",
   "metadata": {},
   "outputs": [],
   "source": [
    "num = list(map(int, input().split()))  # Получаем строку, разбиваем по пробелу, сразу преобразуем все элементы в числа\n",
    "print(num)\n",
    "print('-> '.join(list(map(str, num))))  # Преобразуем массив чисел в массив строк и склеиваем через ->"
   ]
  },
  {
   "cell_type": "markdown",
   "id": "90b88352",
   "metadata": {},
   "source": [
    "Также, если нет задачи сохранить результат в переменную в виде строки, вместо join() можно использовать распаковку. Мы ставим оператор * перед списком, и, например, функция print() будет воспринимать его не как список, а как последовательность объектов."
   ]
  },
  {
   "cell_type": "code",
   "execution_count": null,
   "id": "7c21a28e",
   "metadata": {},
   "outputs": [],
   "source": [
    "print(num, sep='-> ')  # Не работает, получили список\n",
    "print(*num, sep='-> ')  # Теперь сработало. По сути, распакованный список питон видит как в примере ниже. * распаковка списка\n",
    "print(num[0], num[1], num[2], num[3], num[4], sep='-> ')"
   ]
  },
  {
   "cell_type": "markdown",
   "id": "b6f2befa",
   "metadata": {},
   "source": [
    "## Строки: срезы и методы\n",
    "Строки (strings) в питоне предназначаются для хранения и отображения текстовой информации.\n",
    "\n",
    "Строки представляют собой последовательность символов, которые имеют свой порядок, что значит, что питон отслеживает положение каждого элемента строки. Это позволит, например, удобно индексировать строки. Для создания строки нужно использовать одинарные или двойные кавычки.\n",
    "\n",
    "Попробуем создать строку."
   ]
  },
  {
   "cell_type": "code",
   "execution_count": null,
   "id": "6d9192b7",
   "metadata": {},
   "outputs": [],
   "source": [
    "s = 'Привет мир!'  # Одинарные кавычки\n",
    "print(s)\n",
    "\n",
    "s = \"Привет мир!\"  # Двойные кавычки\n",
    "print(s)"
   ]
  },
  {
   "cell_type": "markdown",
   "id": "b2f90da5",
   "metadata": {},
   "source": [
    "Если есть необходимость в строке использовать кавычки, например, для какого-то названия, то следует использовать разные кавычки для текста внутри строки и для самой страны."
   ]
  },
  {
   "cell_type": "code",
   "execution_count": null,
   "id": "da788622",
   "metadata": {},
   "outputs": [],
   "source": [
    "s = 'Добро пожаловать на курс \"Python для начинающих\"'  # Можно и наоборот - двойные снаружи и одинарные внтури)\n",
    "print(s)"
   ]
  },
  {
   "cell_type": "markdown",
   "id": "21084084",
   "metadata": {},
   "source": [
    "Также можно посчитать количество символов в строке (ее длину) с помощью функции len()"
   ]
  },
  {
   "cell_type": "code",
   "execution_count": null,
   "id": "a32ee315",
   "metadata": {},
   "outputs": [],
   "source": [
    "f = \"Привет мир!     \""
   ]
  },
  {
   "cell_type": "code",
   "execution_count": null,
   "id": "6e2fc337",
   "metadata": {},
   "outputs": [],
   "source": [
    "len(f)"
   ]
  },
  {
   "cell_type": "markdown",
   "id": "44ea6540",
   "metadata": {},
   "source": [
    "Строка представляет собой последовательность, а это значит, что можно обратиться к любому ее элементу по индексу. Для выполнения такой операции в питоне используются квадратные скобки [] после объекта. В квадратных скобках указывается желаемый индекс. Индексирование начинается с 0."
   ]
  },
  {
   "cell_type": "code",
   "execution_count": null,
   "id": "e96f6b50",
   "metadata": {},
   "outputs": [],
   "source": [
    "print(s[0])  # Первый элемент\n",
    "print(s[1])  # Второй\n",
    "print(s[2])  # Третий\n",
    "print(s[-1])  # Последний\n",
    "print(s[-2])  # Второй с конца\n",
    "\n",
    "# Предыдущие действия никак не изменили строку\n",
    "print(s)"
   ]
  },
  {
   "cell_type": "markdown",
   "id": "dfe635fe",
   "metadata": {},
   "source": [
    "Кроме выбора одного элемента с помощью индексирования можно получить подстроку. Для этого надо указать индексы границ подстроки через двоеточие. \n",
    "\n",
    "**Первое число** - от какого индекса начинаем, если ничего не написать, то начнем сначала. Этот индекс включается в отрезок. **Второе число** (после первого двоеточия) - каким индексом заканчивается срез, если ничего не написать, то питон возьмет последний символ. Здесь уже не включительно - если указать срез [0:2], то питон вернет только два символа под индексами 0 и 1. **Третье число** (необязательное, после второго двоеточия) - шаг, по умолчанию там стоит параметр 1 (выводится каждая буква).\n",
    "\n",
    "Таким образом, использовав одно число без двоеточий получим один символ. Использовав два числа через двоеточие - срез строки, включая первый индекс и не включая второй (первое число обязательно меньше второго). Использовав три числа через два двоеточия - срез строки с определенным шагом, заданным третьим числом."
   ]
  },
  {
   "cell_type": "code",
   "execution_count": null,
   "id": "b7f7da9a",
   "metadata": {},
   "outputs": [],
   "source": [
    "s = 'Добро пожаловать на курс \"Python для начинающих\"'"
   ]
  },
  {
   "cell_type": "code",
   "execution_count": null,
   "id": "b51c73c6",
   "metadata": {},
   "outputs": [],
   "source": [
    "print(s[1:])\n",
    "print(s[:4])  # Четыре первых символа до порядкового номера 4\n",
    "print(s[:])  # Копия строки (срез от первого до последнего символа)\n",
    "print(s[:-1])  # Вся строка кроме последнего символа\n",
    "print(s[::2])  # Также можно выбирать символы из строки с каким-то шагом\n",
    "print(s[::-1])  # Например, с помощью шага -1 можно получить строку наоборот"
   ]
  },
  {
   "cell_type": "markdown",
   "id": "2efa30f4",
   "metadata": {},
   "source": [
    "## Методы строк\n",
    "Теперь перейдем к задачам поинтереснее. Пусть нам нужно найти в строке какое-нибудь слово. Мы можем проверять наличие подстроки в строке с помощью специального слова in."
   ]
  },
  {
   "cell_type": "code",
   "execution_count": null,
   "id": "aee6e957",
   "metadata": {},
   "outputs": [],
   "source": [
    "poem = '''Это утро, радость эта, \n",
    "Эта мощь и дня и света, \n",
    "Этот синий свод, \n",
    "Этот крик и вереницы, \n",
    "Эти стаи, эти птицы, \n",
    "Этот говор вод, \n",
    "\n",
    "Эти ивы и березы, \n",
    "Эти капли - эти слезы, \n",
    "Этот пух - не лист, \n",
    "Эти горы, эти долы, \n",
    "Эти мошки, эти пчелы, \n",
    "Этот зык и свист, \n",
    "\n",
    "Эти зори без затменья, \n",
    "Этот вздох ночной селенья, \n",
    "Эта ночь без сна, \n",
    "Эта мгла и жар постели, \n",
    "Эта дробь и эти трели, \n",
    "Это все - весна.\n",
    "(А. Фет)'''\n",
    "\n",
    "print('Эта' in poem)"
   ]
  },
  {
   "cell_type": "markdown",
   "id": "10fcc409",
   "metadata": {},
   "source": [
    "Возьмем пять строк стиха и посчитаем сколько в них встречается определенное слов."
   ]
  },
  {
   "cell_type": "code",
   "execution_count": null,
   "id": "306a1126",
   "metadata": {},
   "outputs": [],
   "source": [
    "mentions = 0  # Переменная, в которой будем считать упоминания\n",
    "poem_number = 1  # Счетчик строк, начинаем работать с первой\n",
    "\n",
    "while poem_number <= 5:\n",
    "    poem_num = input()\n",
    "    if 'Эта' in poem_num:\n",
    "        mentions += 1\n",
    "    poem_number += 1\n",
    "    \n",
    "print(mentions)"
   ]
  },
  {
   "cell_type": "markdown",
   "id": "9d27b83a",
   "metadata": {},
   "source": [
    "Если слово \"Эта\" введено с маленькой буквы, то оно учитываться не будет.\n",
    "\n",
    "Работая со строками, мы будем использовать очень много методов. Методы отличаются от функций тем, что вызываются от имени переменной через точку. Например poem_num.upper() - метод `upper()` вызывается от строковой переменной poem_num. По сути методы, это функции, которые применимы только к особому типу данных. Так, например, функция print() напечатает все, что бы мы ей не передали, а перевод к верхнему регистру (а именно это делает метод upper()) ни с одним типом данных кроме строки уже не сработает."
   ]
  },
  {
   "cell_type": "code",
   "execution_count": null,
   "id": "e999af47",
   "metadata": {},
   "outputs": [],
   "source": [
    "print(poem.upper())  # Приводит строку к верхнему регистру\n",
    "print()\n",
    "print(poem.lower())  # Приводит строку к нижнему регистру"
   ]
  },
  {
   "cell_type": "markdown",
   "id": "857fa317",
   "metadata": {},
   "source": [
    "Обратите внимание, что метод, как правило, не изменяет объект и наша строка осталась такой как была."
   ]
  },
  {
   "cell_type": "code",
   "execution_count": null,
   "id": "728b32a9",
   "metadata": {},
   "outputs": [],
   "source": [
    "print(poem)"
   ]
  },
  {
   "cell_type": "markdown",
   "id": "8f0ba42b",
   "metadata": {},
   "source": [
    "Рассмотрим самые основные методы работы со строками\n",
    "\n",
    "Метод `find()` - возвращает индекс вхождения символа в строку (или индекс первого символа подстроки в строке, если идет поиск подстроки). Зная индекс первого элемента, можем достать интересующую нас информацию."
   ]
  },
  {
   "cell_type": "code",
   "execution_count": null,
   "id": "bb1acdae",
   "metadata": {},
   "outputs": [],
   "source": [
    "uaz = \"Patriot Цена: 1 480 000 ₽ присутствуют скидки\"\n",
    "\n",
    "print(uaz.find('Цена'))  # Нашли индекс Ц - начала подстроки \"Цена:\"\n",
    "print(uaz.find('₽'))  # Нашли индекс ₽\n",
    "price = uaz[uaz.find('Цена:')+6:uaz.find('₽')-1]  # Вывели срез от от начала до конца цены (с помощью значений 6 и -1\n",
    "                                                  # указали индексы до начала и конца цены)\n",
    "print(price)"
   ]
  },
  {
   "cell_type": "markdown",
   "id": "bac6702e",
   "metadata": {},
   "source": [
    "Если в строке нет искомой подстроки, то выведется -1. Это не значит, что первый символ находится на последнем месте, это значит, что такой подстроки в строке не встречается."
   ]
  },
  {
   "cell_type": "code",
   "execution_count": null,
   "id": "c7801611",
   "metadata": {},
   "outputs": [],
   "source": [
    "uaz.find(\"Lada\")"
   ]
  },
  {
   "cell_type": "markdown",
   "id": "8fcb8796",
   "metadata": {},
   "source": [
    "А если подстрока входит в строку несколько раз, то find() вернет индекс только для первого вхождения."
   ]
  },
  {
   "cell_type": "code",
   "execution_count": null,
   "id": "bd0045ff",
   "metadata": {},
   "outputs": [],
   "source": [
    "uaz.find(\"и\")"
   ]
  },
  {
   "cell_type": "markdown",
   "id": "4fce241c",
   "metadata": {},
   "source": [
    "Есть модификация метода find(): rfind(substring) - возвращает позицию самого правого вхождения подстроки substring в строку string или -1, если подстрока не найдена."
   ]
  },
  {
   "cell_type": "markdown",
   "id": "1dd8e3a6",
   "metadata": {},
   "source": [
    "Метод `replace()` может заменить символ или подстроку в строке. Метод принимает два аргумента - что меняем и на что меняем."
   ]
  },
  {
   "cell_type": "code",
   "execution_count": null,
   "id": "7fe4782b",
   "metadata": {},
   "outputs": [],
   "source": [
    "price = price.replace(\" \", \"\")  # Убираем пробелы\n",
    "price = price.replace(\"0\", \"9\", 3)  # Третий параметр означает то, сколько вхождений хотим изменить. Иначе, заменяет все\n",
    "int(price)"
   ]
  },
  {
   "cell_type": "markdown",
   "id": "09ce2810",
   "metadata": {},
   "source": [
    "Рассмотрим следующую задачу: у нас есть строка, в которой собраны данные ответа на вопрос о качестве оказанной услуги. Каждый ответ отделен точкой с запятой от следующего. Требуется напечатать каждый ответ на новой строке."
   ]
  },
  {
   "cell_type": "code",
   "execution_count": null,
   "id": "37818413",
   "metadata": {},
   "outputs": [],
   "source": [
    "s = \"Отлично;Хорошо;Удовлетворительно;Не удовлетворительно\"\n",
    "\n",
    "while len(s) > 0:  # Будем отрезать от нашей строки элементы, пока она не станет равна нулю\n",
    "    idx = s.find(';')  # Ищем индекс первого вхождения ;\n",
    "    if idx == -1:  # Если ; нет, то печатаем строку\n",
    "        print(s)\n",
    "        s = ''  # Заменяем строку на пустую строку длины 0, чтобы цикл не запустился на следующую итерацию\n",
    "    else:\n",
    "        print(s[:idx])  # Если нашли ;, то печатаем строку от начала и до ;\n",
    "        s = s[idx+1:]  # А теперь отрезаем тот кусок, который только что напечатали и сам ; (для этого +1). Это делаем для того,\n",
    "                       # чтобы на вход в цикл пришла строка уже без этого куска"
   ]
  },
  {
   "cell_type": "markdown",
   "id": "0fa11f9d",
   "metadata": {},
   "source": [
    "Методы `startswith()` и `endswith()` проверяют, стоит ли искомая построка в начале или в конце строки."
   ]
  },
  {
   "cell_type": "code",
   "execution_count": null,
   "id": "860964b9",
   "metadata": {},
   "outputs": [],
   "source": [
    "s = 'Отлично;Хорошо;Удовлетворительно;Не удовлетворительно'\n",
    "\n",
    "print(s)\n",
    "print(s.startswith(\"Отл\"))  # Данный метод проверяет, начинается ли исходная строка на данную подстроку\n",
    "print(s.endswith(\"удовлетворительно\"))"
   ]
  },
  {
   "cell_type": "markdown",
   "id": "56477837",
   "metadata": {},
   "source": [
    "Метод `strip()`, а также `lstrip()` и `rstrip()`, работающие только с одной стороны строки, удаляет незначимые символы (пробелы, табуляцию и т.д.) с краев строк. Очень полезный метод, когда мы собираем информацию из интернета. Если этим методам передать аргумент, то они удалят подстроку."
   ]
  },
  {
   "cell_type": "code",
   "execution_count": null,
   "id": "6de4ea33",
   "metadata": {},
   "outputs": [],
   "source": [
    "print(' russia.ru   '.strip())  # Удалили пробельные символы слева и справа\n",
    "print('russia.ru'.strip('ru'))  # Удалили ru с обеих сторон\n",
    "print('russia.ru'.lstrip('ru'))  # Удалили ru слева\n",
    "print('russia.ru'.rstrip('ru'))  # Удалили ru справа"
   ]
  },
  {
   "cell_type": "markdown",
   "id": "a176478c",
   "metadata": {},
   "source": [
    "В реальности strip() часто используется для нормализации email'ов или других идентификторов."
   ]
  },
  {
   "cell_type": "code",
   "execution_count": null,
   "id": "9955cfa2",
   "metadata": {},
   "outputs": [],
   "source": [
    "print('      pileyan@gmail.com       '.strip())"
   ]
  },
  {
   "cell_type": "markdown",
   "id": "8dcd0912",
   "metadata": {},
   "source": [
    "Применение метода `count()`"
   ]
  },
  {
   "cell_type": "code",
   "execution_count": null,
   "id": "ac5ea6f4",
   "metadata": {},
   "outputs": [],
   "source": [
    "uaz = \"Patriot Цена: 1 480 000 ₽ присутствуют скидки\"  # Исходная строка\n",
    "print(uaz.count(\"и\"))  # Ищем строчную букву и\n",
    "print(uaz.count(\"0\"))  # Ищем 0\n",
    "print(uaz.count(\"00\"))  # Ищем два 00\n",
    "print(uaz.count(\"скидка\"))  # Ищем подстроку 'скидки', не находим\n",
    "print(uaz.count(\"и\", 25, 38))  # Ищем букву и в s[25:38]\n",
    "print(uaz.count(\"и\", 39))  # Ищем букву и в s[39:]"
   ]
  },
  {
   "cell_type": "markdown",
   "id": "652cc116",
   "metadata": {},
   "source": [
    "Отдельное семейство методов строк отвечает за проверку на соответствие условиям."
   ]
  },
  {
   "cell_type": "code",
   "execution_count": null,
   "id": "dc7f6ee4",
   "metadata": {},
   "outputs": [],
   "source": [
    "# isalpha - проверяет, что все символы строки являются буквами.\n",
    "print(uaz.isalpha())\n",
    "print(\"Patriot\".isalpha())\n",
    "\n",
    "# isdigit - проверяет, что все символы строки являются цифрами.\n",
    "print(\"13242\".isdigit())\n",
    "\n",
    "# isalnum - проверяет, что все символы строки являются буквами или цифрами.\n",
    "print(\"Patriot 1 480 000 ₽\".isalnum())\n",
    "print(\"Patriot1480000₽\".isalnum())\n",
    "print(\"Patriot1480000\".isalnum())\n",
    "\n",
    "# islower - проверяет, что все символы строки являются маленькими (строчными) буквами.\n",
    "print('Patriot'.islower())\n",
    "print('patriot1480000'.islower())\n",
    "\n",
    "# isupper - проверяет, что все символы строки являются большими (заглавными, прописными) буквами.\n",
    "print('PATRIOT1480000'.isupper())"
   ]
  },
  {
   "cell_type": "code",
   "execution_count": null,
   "id": "35252ccc",
   "metadata": {},
   "outputs": [],
   "source": [
    "uaz = \"Patriot Цена: 1 480 000 ₽ присутствуют скидки\"\n",
    "\n",
    "# title - переводит первую букву всех слов к верхнему регистру\n",
    "print(uaz.title())\n",
    "\n",
    "# swapcase - меняет регистр на противоположный\n",
    "print(uaz.swapcase())\n",
    "\n",
    "# capitalize - переводит первую букву строки в верхний регистра, а остальные - в нижний\n",
    "uaz = \"patriot Цена: 1 480 000 ₽ присутствуют скидки\"\n",
    "uaz.capitalize()"
   ]
  },
  {
   "cell_type": "markdown",
   "id": "bf2d5d34",
   "metadata": {},
   "source": [
    "### Задача\n",
    "\n",
    "Пользователь должен придумать пароль для своей учетной записи. Пароль должен состоять только из цифр и букв."
   ]
  },
  {
   "cell_type": "code",
   "execution_count": null,
   "id": "33a3e990",
   "metadata": {},
   "outputs": [],
   "source": [
    "password = input(\"Введите пароль: \")\n",
    "\n",
    "if password.isalnum() == False:\n",
    "    print(\"Пароль должен состоять только из букв и цифр!\")\n",
    "else:\n",
    "     print(\"Пароль сохранен\")"
   ]
  },
  {
   "cell_type": "markdown",
   "id": "18d2bba8",
   "metadata": {},
   "source": [
    "А теперь давайте усложним и добавим проверку на то, что хотя бы одна буква должна быть заглавная."
   ]
  },
  {
   "cell_type": "code",
   "execution_count": null,
   "id": "cabd1c5f",
   "metadata": {},
   "outputs": [],
   "source": [
    "password = input(\"Введите пароль: \")\n",
    "\n",
    "if password.isalnum() == False:\n",
    "    print(\"Пароль должен состоять только из букв и цифр!\")\n",
    "else:     \n",
    "    if password.islower() == True:\n",
    "        print(\"Пароль должен содержать как минимум одну заглавную букву!\")\n",
    "    else:\n",
    "        print(\"Пароль сохранен\")"
   ]
  },
  {
   "cell_type": "markdown",
   "id": "13b866ca",
   "metadata": {},
   "source": [
    "# Цикл For\n",
    "## Функция range()\n",
    "\n",
    "* range(стоп) берет один аргумент\n",
    "* range(старт, стоп) берет два аргумента\n",
    "* range(старт, стоп, шаг) берет три аргумента\n",
    "\n",
    "Примеры:"
   ]
  },
  {
   "cell_type": "code",
   "execution_count": null,
   "id": "3881b25b",
   "metadata": {},
   "outputs": [],
   "source": [
    "range(5)"
   ]
  },
  {
   "cell_type": "code",
   "execution_count": null,
   "id": "93a6608c",
   "metadata": {},
   "outputs": [],
   "source": [
    "list(range(5))"
   ]
  },
  {
   "cell_type": "code",
   "execution_count": null,
   "id": "a0f19142",
   "metadata": {},
   "outputs": [],
   "source": [
    "range(1,5)"
   ]
  },
  {
   "cell_type": "code",
   "execution_count": null,
   "id": "49779f9c",
   "metadata": {},
   "outputs": [],
   "source": [
    "list(range(1,5))"
   ]
  },
  {
   "cell_type": "code",
   "execution_count": null,
   "id": "be08d545",
   "metadata": {},
   "outputs": [],
   "source": [
    "list(range(1,17,5))"
   ]
  },
  {
   "cell_type": "code",
   "execution_count": null,
   "id": "c3df5e89",
   "metadata": {},
   "outputs": [],
   "source": [
    "list(range(10,1,-1))"
   ]
  },
  {
   "cell_type": "markdown",
   "id": "1a0f670d",
   "metadata": {},
   "source": [
    "В цикле `for` действие выполняется для всех элементов какой-то последовательности: они перебираются по очереди, и с каждым производится действие.\n",
    "\n",
    "Пример 1:"
   ]
  },
  {
   "cell_type": "code",
   "execution_count": null,
   "id": "b1b12505",
   "metadata": {},
   "outputs": [],
   "source": [
    "my_list = [10, 20, 30, 40, 50]\n",
    "for i in my_list:\n",
    "    print(i)"
   ]
  },
  {
   "cell_type": "code",
   "execution_count": null,
   "id": "f1a4ea5f",
   "metadata": {},
   "outputs": [],
   "source": [
    "my_list = [10, 20, 30, 40, 50]\n",
    "for i in my_list:\n",
    "    if i > 30:\n",
    "        print(i)\n",
    "    elif i == 30:\n",
    "        print(0)\n",
    "    else:\n",
    "        print(i/2)"
   ]
  },
  {
   "cell_type": "markdown",
   "id": "9ec86fea",
   "metadata": {},
   "source": [
    "Пример 2:"
   ]
  },
  {
   "cell_type": "code",
   "execution_count": null,
   "id": "f001f7fc",
   "metadata": {},
   "outputs": [],
   "source": [
    "slovo = 'Привет мир!'\n",
    "\n",
    "for l in slovo:\n",
    "    print(l)"
   ]
  },
  {
   "cell_type": "markdown",
   "id": "b0d5bbe2",
   "metadata": {},
   "source": [
    "Пример 3:"
   ]
  },
  {
   "cell_type": "code",
   "execution_count": null,
   "id": "ea749bd3",
   "metadata": {},
   "outputs": [],
   "source": [
    "my_list = [10, 20, 30, 40, 50]\n",
    "for i in range(len(my_list)):\n",
    "    my_list[i] *= 2\n",
    "print(my_list)"
   ]
  },
  {
   "cell_type": "markdown",
   "id": "6be6744f",
   "metadata": {},
   "source": [
    "### Задача\n",
    "\n",
    "Даны два целых числа A и B (при этом A ≤ B). Выведите все числа от A до B включительно."
   ]
  },
  {
   "cell_type": "code",
   "execution_count": null,
   "id": "16b8b742",
   "metadata": {},
   "outputs": [],
   "source": [
    "a = int(input())\n",
    "b = int(input())\n",
    "\n",
    "for i in range(a, b + 1):\n",
    "    print(i, end = \" \")"
   ]
  },
  {
   "cell_type": "markdown",
   "id": "afb6eb16",
   "metadata": {},
   "source": [
    "### Задача\n",
    "\n",
    "Дано несколько целых чисел. Вычислите их сумму и количество."
   ]
  },
  {
   "cell_type": "code",
   "execution_count": null,
   "id": "658ee67a",
   "metadata": {},
   "outputs": [],
   "source": [
    "spisok = list(map(int,input().split()))\n",
    "s = 0\n",
    "c = 0\n",
    "for i in spisok:\n",
    "    s += i\n",
    "    c += 1\n",
    "print(s, c)"
   ]
  },
  {
   "cell_type": "code",
   "execution_count": null,
   "id": "76c398d9",
   "metadata": {},
   "outputs": [],
   "source": [
    "# Можно конечно и так, но всё таки, мы тут изучаем for\n",
    "\n",
    "spisok = list(map(int,input().split()))\n",
    "s = sum(spisok)\n",
    "c = len(spisok)\n",
    "\n",
    "print(s, c)"
   ]
  },
  {
   "cell_type": "markdown",
   "id": "f66a8a51",
   "metadata": {},
   "source": [
    "### Задача\n",
    "\n",
    "Дан список lst = [11, 5, 8, 32, 15, 3, 20, 132, 21, 4, 555, 9, 20]. Необходимо вывести элементы, которые одновременно:\n",
    "1. меньше 30\n",
    "2. делятся на 3 без остатка\n",
    "\n",
    "Все остальные элементы списка необходимо просуммировать и вывести конечный результат."
   ]
  },
  {
   "cell_type": "code",
   "execution_count": null,
   "id": "2dd3eea7",
   "metadata": {},
   "outputs": [],
   "source": [
    "lst = [11, 5, 8, 32, 15, 3, 20, 132, 21, 4, 555, 9, 20]\n",
    "summ = 0\n",
    "for i in lst:\n",
    "    if (i < 30) and (i % 3 == 0):\n",
    "        print(i, end = \" \")\n",
    "    else:\n",
    "        summ += i\n",
    "print()\n",
    "print(summ)"
   ]
  },
  {
   "cell_type": "markdown",
   "id": "fc528004",
   "metadata": {},
   "source": [
    "### Задача\n",
    "\n",
    "Согласно политике безопасности банка, пароль не может содержать года рождения клиента — иначе вероятность подобрать пароль увеличивается. Напишите программу, которая будет проводить такую проверку.\n",
    "\n",
    "**Ввод**\n",
    "\n",
    "На первой строке — полный год рождения клиента (то есть 4 символа, например, «1968»). На второй строке — три варианта пароля, придуманных клиентом, записанных через пробел.\n",
    "\n",
    "**Вывод**\n",
    "\n",
    "True, если в пароле есть подстрока с годом рождения, и False, если нет. Ответ по каждому варианту пароля нужно выводить с новой строки."
   ]
  },
  {
   "cell_type": "code",
   "execution_count": null,
   "id": "856007fa",
   "metadata": {},
   "outputs": [],
   "source": [
    "year = input()\n",
    "pas = input().split()\n",
    "for i in pas:\n",
    "    if year in i:\n",
    "        print(True)\n",
    "    else:\n",
    "        print(False)"
   ]
  },
  {
   "cell_type": "code",
   "execution_count": null,
   "id": "7c36d1cb",
   "metadata": {},
   "outputs": [],
   "source": [
    "# Более короткий вариант написания кода\n",
    "\n",
    "year = input()\n",
    "pas = input().split()\n",
    "for i in pas:\n",
    "    print(year in i)"
   ]
  },
  {
   "cell_type": "markdown",
   "id": "2de9ef42",
   "metadata": {},
   "source": [
    "# Списковые включения (list comprehension)"
   ]
  },
  {
   "cell_type": "markdown",
   "id": "db88761c",
   "metadata": {},
   "source": [
    "Для генерации списков из неповторяющихся элементов в Python имеется удобная синтаксическая конструкция — списочное выражение (list comprehension). Она позволяет создавать элементы списка в цикле for, не записывая цикл целиком.\n",
    "\n",
    "Для создания списка, заполненного одинаковыми элементами, можно использовать оператор повторения списка, например:"
   ]
  },
  {
   "cell_type": "code",
   "execution_count": null,
   "id": "e9dda1ce",
   "metadata": {},
   "outputs": [],
   "source": [
    "n = 5\n",
    "a = [0] * n\n",
    "print(a)"
   ]
  },
  {
   "cell_type": "markdown",
   "id": "b016f937",
   "metadata": {},
   "source": [
    "Для создания списков, заполненных по более сложным формулам можно использовать генераторы: выражения, позволяющие заполнить список некоторой формулой. Общий вид генератора следующий:\n",
    "\n",
    "[`выражение` **for** `переменная` **in** `список`]\n",
    "\n",
    "где `переменная` — идентификатор некоторой переменной, `список` — список значений, который принимает данная переменная (как правило, полученный при помощи функции range), `выражение` — некоторое выражение, которым будут заполнены элементы списка, как правило, зависящее от использованной в генераторе переменной.\n",
    "\n",
    "Вот несколько примеров использования генераторов.\n",
    "\n",
    "Создать список, состоящий из n нулей можно и при помощи генератора:"
   ]
  },
  {
   "cell_type": "code",
   "execution_count": null,
   "id": "d5d31355",
   "metadata": {},
   "outputs": [],
   "source": [
    "a = [0 for i in range(n)]\n",
    "print(a)"
   ]
  },
  {
   "cell_type": "markdown",
   "id": "348118a3",
   "metadata": {},
   "source": [
    "Если нужно заполнить список квадратами чисел от 1 до n, то можно изменить параметры функции `range` на `range(1, n + 1)`:"
   ]
  },
  {
   "cell_type": "code",
   "execution_count": null,
   "id": "85b0c0ab",
   "metadata": {},
   "outputs": [],
   "source": [
    "a = [i ** 2 for i in range(n)]\n",
    "print(a)"
   ]
  },
  {
   "cell_type": "code",
   "execution_count": null,
   "id": "e020e51f",
   "metadata": {},
   "outputs": [],
   "source": [
    "n = 6\n",
    "a = [i ** 2 for i in range(n)]\n",
    "print(a)"
   ]
  },
  {
   "cell_type": "markdown",
   "id": "98d50616",
   "metadata": {},
   "source": [
    "Вот так можно получить список, заполненный случайными числами от 1 до 9 (используя функцию `randint()` из модуля random):"
   ]
  },
  {
   "cell_type": "code",
   "execution_count": null,
   "id": "1cdc49ae",
   "metadata": {},
   "outputs": [],
   "source": [
    "from random import randint\n",
    "a = [randint(1, 9) for i in range(n)]\n",
    "print(a)"
   ]
  },
  {
   "cell_type": "markdown",
   "id": "bfb31ada",
   "metadata": {},
   "source": [
    "А в этом примере список будет состоять из строк, считанных со стандартного ввода: сначала нужно ввести число элементов списка (это значение будет использовано в качестве аргумента функции range), потом — заданное количество строк:"
   ]
  },
  {
   "cell_type": "code",
   "execution_count": null,
   "id": "f1386e2c",
   "metadata": {},
   "outputs": [],
   "source": [
    "a = [input() for i in range(int(input()))]\n",
    "print(a)"
   ]
  },
  {
   "cell_type": "markdown",
   "id": "30abc8a0",
   "metadata": {},
   "source": [
    "В списковое включение можно добавить какое нибудь условие (как мы это делали с **if**).\n",
    "\n",
    "new_list = [expression **for** member **in** iterable **if** conditional]\n",
    "\n",
    "Разберем на примере:"
   ]
  },
  {
   "cell_type": "code",
   "execution_count": null,
   "id": "79d716e8",
   "metadata": {},
   "outputs": [],
   "source": [
    "lst = [1, 2, 3, 4, 5, 45, 67, 8, 765, 854, 76]\n",
    "x = [i for i in lst if i % 2 == 0]\n",
    "print(x)"
   ]
  },
  {
   "cell_type": "markdown",
   "id": "f74fc751",
   "metadata": {},
   "source": [
    "В условии написано iterable, а не list. Значит можно попробовать проделать что-то подобное с любыми другими итерируемыми объектами."
   ]
  },
  {
   "cell_type": "code",
   "execution_count": null,
   "id": "b997f240",
   "metadata": {},
   "outputs": [],
   "source": [
    "# Предложение\n",
    "sentence = '''высокоуровневый язык программирования общего назначения с динамической строгой типизацией и \n",
    "                автоматическим управлением памятью...'''\n",
    "\n",
    "# Исключаем часть букв, пробел, точка и перенос строки\n",
    "vowels = 'ауоыийэяюёе .\\n'\n",
    "\n",
    "# Достанем в список все символы строки, которые не являются гласными, пробелом или точной.\n",
    "consonants = [i for i in sentence if i not in vowels]\n",
    "print(consonants, end='')"
   ]
  },
  {
   "cell_type": "markdown",
   "id": "8d7f8374",
   "metadata": {},
   "source": [
    "Для простой фильтрации можно поместить условие в конец оператора, но что для изменения значение элемента вместо его фильтрации нужно применять следующую конструкцию:\n",
    "\n",
    "    new_list = [expression (if conditional) for member in iterable]"
   ]
  },
  {
   "cell_type": "code",
   "execution_count": null,
   "id": "b5bdd4c9",
   "metadata": {},
   "outputs": [],
   "source": [
    "original_prices = [1.25, -9.45, 10.22, 3.78, -5.92, 1.16]\n",
    "prices = [i if i > 0 else 0 for i in original_prices]\n",
    "print(prices)"
   ]
  },
  {
   "cell_type": "markdown",
   "id": "2ab31e6b",
   "metadata": {},
   "source": [
    "Здесь, наше выражение **i** содержит условный оператор, **if i> 0** else **0**. Это говорит Python выводить значение **i**, если число положительное, но менять **i** на **0**, если число отрицательное."
   ]
  },
  {
   "cell_type": "markdown",
   "id": "45ba9220",
   "metadata": {},
   "source": [
    "## Включения для множеств"
   ]
  },
  {
   "cell_type": "markdown",
   "id": "833ed284",
   "metadata": {},
   "source": [
    "Хотя **list comprehension** в Python является распространенным инструментом, вы также можете создавать множественные и словарные представления (**set and dictionary comprehensions**). **set comprehension** почти точно такое же, как представление списка. Разница лишь в том, что заданные значения обеспечивают, чтобы выходные данные не содержали дубликатов. Вы можете создать **set comprehension**, используя фигурные скобки вместо скобок:"
   ]
  },
  {
   "cell_type": "code",
   "execution_count": null,
   "id": "a98b137d",
   "metadata": {},
   "outputs": [],
   "source": [
    "sentence = '''высокоуровневый язык программирования общего назначения с динамической строгой типизацией и \n",
    "                автоматическим управлением памятью...'''\n",
    "\n",
    "print(sentence)\n",
    "unique_vowels = {i for i in sentence if i in 'ауоыиэяюёе'}\n",
    "print(unique_vowels)"
   ]
  },
  {
   "cell_type": "markdown",
   "id": "9dc7fef1",
   "metadata": {},
   "source": [
    "Здесь мы вывели все уникальные гласные, которые встретились в строке."
   ]
  },
  {
   "cell_type": "markdown",
   "id": "fa894d4a",
   "metadata": {},
   "source": [
    "# Многомерные списки"
   ]
  },
  {
   "cell_type": "markdown",
   "id": "fc3429e1",
   "metadata": {},
   "source": [
    "Для создания одномерного списка мы использовали следующую конструкцию:"
   ]
  },
  {
   "cell_type": "code",
   "execution_count": null,
   "id": "4b2077d8",
   "metadata": {},
   "outputs": [],
   "source": [
    "n = 5\n",
    "a = [0] * n\n",
    "print(a)"
   ]
  },
  {
   "cell_type": "code",
   "execution_count": null,
   "id": "61539a83",
   "metadata": {},
   "outputs": [],
   "source": [
    "n = 5\n",
    "m = 4\n",
    "a = [[0] * m] * n\n",
    "print(a)"
   ]
  },
  {
   "cell_type": "code",
   "execution_count": null,
   "id": "a586611e",
   "metadata": {},
   "outputs": [],
   "source": [
    "a[0][1]  # Обратимся к элементу 0,1"
   ]
  },
  {
   "cell_type": "code",
   "execution_count": null,
   "id": "d3043882",
   "metadata": {},
   "outputs": [],
   "source": [
    "# Изменим данный элемент и вызовем наш список на печать\n",
    "\n",
    "a[0][1] = 3\n",
    "print(a)"
   ]
  },
  {
   "cell_type": "markdown",
   "id": "936dd354",
   "metadata": {},
   "source": [
    "Создадим более удобный, с визуальной точки зрения, вывод нашего списка."
   ]
  },
  {
   "cell_type": "code",
   "execution_count": null,
   "id": "8e251505",
   "metadata": {},
   "outputs": [],
   "source": [
    "for i in range(len(a)):\n",
    "    for j in range(len(a[i])):\n",
    "        print(a[i][j], end = \"\\t\")\n",
    "    print()"
   ]
  },
  {
   "cell_type": "markdown",
   "id": "46d117fb",
   "metadata": {},
   "source": [
    "Несколько способов создания двухмерного списка:"
   ]
  },
  {
   "cell_type": "code",
   "execution_count": null,
   "id": "a05f2948",
   "metadata": {},
   "outputs": [],
   "source": [
    "# Первый способ\n",
    "\n",
    "n = 5\n",
    "m = 4\n",
    "a = [0] * n\n",
    "for i in range(n):\n",
    "    a[i] = [0] * m\n",
    "\n",
    "# Изменим элемент\n",
    "a[0][1] = 3  \n",
    "\n",
    "# Печать списка\n",
    "for i in range(len(a)):\n",
    "    for j in range(len(a[i])):\n",
    "        print(a[i][j], end = \"\\t\")\n",
    "    print()"
   ]
  },
  {
   "cell_type": "code",
   "execution_count": null,
   "id": "9f69e4fc",
   "metadata": {},
   "outputs": [],
   "source": [
    "# Второй способ\n",
    "\n",
    "n = 5\n",
    "m = 4\n",
    "a = []\n",
    "for i in range(n):\n",
    "    a.append([1] * m)\n",
    "\n",
    "# Изменим элемент\n",
    "a[0][1] = 3  \n",
    "\n",
    "# Печать списка\n",
    "for i in range(len(a)):\n",
    "    for j in range(len(a[i])):\n",
    "        print(a[i][j], end = \"\\t\")\n",
    "    print()"
   ]
  },
  {
   "cell_type": "code",
   "execution_count": null,
   "id": "add74a4d",
   "metadata": {},
   "outputs": [],
   "source": [
    "# Третий способ\n",
    "\n",
    "n = 5\n",
    "m = 4\n",
    "\n",
    "a = [[2] * m for i in range(n)]\n",
    "\n",
    "# Изменим элемент\n",
    "a[0][1] = 3  \n",
    "\n",
    "# Печать списка\n",
    "for i in range(len(a)):\n",
    "    for j in range(len(a[i])):\n",
    "        print(a[i][j], end = \"\\t\")\n",
    "    print()"
   ]
  },
  {
   "cell_type": "markdown",
   "id": "1566a9c1",
   "metadata": {},
   "source": [
    "Осуществим ввод двухмерного списка целых чисел с клавиатуры."
   ]
  },
  {
   "cell_type": "code",
   "execution_count": null,
   "id": "f6e7c8b2",
   "metadata": {},
   "outputs": [],
   "source": [
    "print(\"Введите количество строк списка\")\n",
    "n = int(input())\n",
    "\n",
    "a = []\n",
    "for i in range(n):\n",
    "    a.append(list(map(int,input().split())))\n",
    "\n",
    "print(type(a))\n",
    "# Печать списка\n",
    "for i in range(len(a)):\n",
    "    for j in range(len(a[i])):\n",
    "        print(a[i][j], end = \"\\t\")\n",
    "    print()"
   ]
  },
  {
   "cell_type": "code",
   "execution_count": null,
   "id": "98862a70",
   "metadata": {},
   "outputs": [],
   "source": [
    "a = [list(map(int,input().split())) for i in range(int(input()))]\n",
    "\n",
    "# Печать списка\n",
    "for i in range(len(a)):\n",
    "    for j in range(len(a[i])):\n",
    "        print(a[i][j], end = \"\\t\")\n",
    "    print()"
   ]
  },
  {
   "cell_type": "markdown",
   "id": "5c61d204",
   "metadata": {},
   "source": [
    "Заполнение двухмерного списка случайными числами."
   ]
  },
  {
   "cell_type": "code",
   "execution_count": null,
   "id": "207c0a28",
   "metadata": {},
   "outputs": [],
   "source": [
    "import random\n",
    "print(\"Введите размерность списка\")\n",
    "n, m = map(int, input().split())\n",
    "\n",
    "a = [[0] * m for i in range(n)]\n",
    "\n",
    "print(\"Введите диапозон случайных чисел\")\n",
    "r_min, r_max = map(int, input().split())\n",
    "\n",
    "for i in range(n):\n",
    "    for j in range(m):\n",
    "        a[i][j] = random.randint(r_min, r_max)\n",
    "\n",
    "for i in a:\n",
    "    for j in i:\n",
    "        print(j, end = \"\\t\")\n",
    "    print()"
   ]
  },
  {
   "cell_type": "markdown",
   "id": "0deaca98",
   "metadata": {},
   "source": [
    "Создадим квадратный двухмерный список, у которого главная диагональ будет заполнена единицами. Выши главной диагонали список будет заполнен нулями, нижи главной диагонали будут двойки."
   ]
  },
  {
   "cell_type": "code",
   "execution_count": null,
   "id": "350beed1",
   "metadata": {},
   "outputs": [],
   "source": [
    "# Первый способ\n",
    "\n",
    "print(\"Введите размерность матрицы \")\n",
    "n = int(input())\n",
    "\n",
    "a = [[0] * n for i in range(n)]\n",
    "\n",
    "for i in range(n):\n",
    "    for j in range(n):\n",
    "        if i < j:\n",
    "            a[i][j] = 0\n",
    "        elif i > j:\n",
    "            a[i][j] = 2\n",
    "        else:\n",
    "            a[i][j] = 1\n",
    "\n",
    "for i in a:\n",
    "    for j in i:\n",
    "        print(j, end = \"\\t\")\n",
    "    print()"
   ]
  },
  {
   "cell_type": "code",
   "execution_count": null,
   "id": "f7227683",
   "metadata": {},
   "outputs": [],
   "source": [
    "# Второй способ\n",
    "\n",
    "print(\"Введите размерность матрицы \")\n",
    "n = int(input())\n",
    "\n",
    "a = [[0] * n for i in range(n)]\n",
    "for i in range(n):\n",
    "    a[i][i] = 1\n",
    "#     for j in range(i + 1, n):\n",
    "#          a[i][j] = 3\n",
    "    for j in range(0, i):\n",
    "         a[i][j] = 2\n",
    "\n",
    "for i in a:\n",
    "    for j in i:\n",
    "        print(j, end = \"\\t\")\n",
    "    print()"
   ]
  },
  {
   "cell_type": "code",
   "execution_count": null,
   "id": "2fee9629",
   "metadata": {},
   "outputs": [],
   "source": [
    "# Третий способ\n",
    "\n",
    "print(\"Введите размерность матрицы \")\n",
    "n = int(input())\n",
    "\n",
    "a = [[2] * i + [1] + [0] * (n - 1 - i) for i in range(n)]\n",
    "\n",
    "for i in a:\n",
    "    for j in i:\n",
    "        print(j, end = \"\\t\")\n",
    "    print()"
   ]
  },
  {
   "cell_type": "markdown",
   "id": "ba9b6ec6",
   "metadata": {},
   "source": [
    "Транспонирование нашей матрицы:"
   ]
  },
  {
   "cell_type": "code",
   "execution_count": null,
   "id": "cefb2b84",
   "metadata": {},
   "outputs": [],
   "source": [
    "# Первый способ\n",
    "\n",
    "a_transposed = []\n",
    "a_temp = []\n",
    "\n",
    "for i in range(len(a[0])):\n",
    "    for j in range(len(a)):\n",
    "        a_temp.append(a[j][i])\n",
    "    a_transposed.append(a_temp)\n",
    "    a_temp = []\n",
    "\n",
    "for i in a_transposed:\n",
    "    for j in i:\n",
    "        print(j, end = \"\\t\")\n",
    "    print()"
   ]
  },
  {
   "cell_type": "code",
   "execution_count": null,
   "id": "0b852df6",
   "metadata": {},
   "outputs": [],
   "source": [
    "# Второй способ\n",
    "\n",
    "a_transposed = [[row[i] for row in a] for i in range(len(a[0]))]\n",
    "\n",
    "for i in a_transposed:\n",
    "    for j in i:\n",
    "        print(j, end = \"\\t\")\n",
    "    print()"
   ]
  },
  {
   "cell_type": "code",
   "execution_count": null,
   "id": "0b4665d9",
   "metadata": {},
   "outputs": [],
   "source": [
    "# Без создания нового списка\n",
    "\n",
    "for i in range(len(a)):\n",
    "    for j in range(i+1, len(a)):\n",
    "        a[i][j], a[j][i] = a[j][i], a[i][j]\n",
    "\n",
    "\n",
    "for i in a_transposed:\n",
    "    for j in i:\n",
    "        print(j, end = \"\\t\")\n",
    "    print()"
   ]
  },
  {
   "cell_type": "code",
   "execution_count": null,
   "id": "a95d5296",
   "metadata": {},
   "outputs": [],
   "source": [
    "# Если список не квадратный\n",
    "\n",
    "a = [[1, 2, 3],\n",
    "    [4, 5, 6]]\n",
    "\n",
    "a_transposed = [[row[i] for row in a] for i in range(len(a[0]))]\n",
    "\n",
    "for i in a_transposed:\n",
    "    for j in i:\n",
    "        print(j, end = \"\\t\")\n",
    "    print()"
   ]
  },
  {
   "cell_type": "markdown",
   "id": "1169add9",
   "metadata": {},
   "source": [
    "Заполнение трехмерного списка случайными числами."
   ]
  },
  {
   "cell_type": "code",
   "execution_count": null,
   "id": "36943cb3",
   "metadata": {},
   "outputs": [],
   "source": [
    "import random\n",
    "print(\"Введите размерность списка\")\n",
    "n, m, z = map(int, input().split())\n",
    "\n",
    "a = [[[0] * z for j in range(m)] for i in range(n)]\n",
    "\n",
    "print(\"Введите диапозон случайных чисел\")\n",
    "r_min, r_max = map(int, input().split())\n",
    "\n",
    "for i in range(n):\n",
    "    for j in range(m):\n",
    "        for k in range(z):\n",
    "             a[i][j][k] = random.randint(r_min, r_max)\n",
    "\n",
    "for i in a:\n",
    "    for j in i:\n",
    "        for k in j:\n",
    "            print(k, end = \"\\t\")\n",
    "        print()\n",
    "    print()"
   ]
  },
  {
   "cell_type": "markdown",
   "id": "9b7a7c4b",
   "metadata": {},
   "source": [
    "## Вывод вложенного списка"
   ]
  },
  {
   "cell_type": "markdown",
   "id": "b9f92586",
   "metadata": {},
   "source": [
    "Для вывода вложенного списка можно сначала перебрать в цикле элементы внешнего списка, а затем, в другом цикле, перебрать элементы внутреннего. Например:"
   ]
  },
  {
   "cell_type": "code",
   "execution_count": null,
   "id": "511db8a9",
   "metadata": {},
   "outputs": [],
   "source": [
    "nested_list = [[1, 2, 3], [4, 5, 6], [7, 8, 9]]\n",
    " \n",
    "for sublist in nested_list:\n",
    "    for item in sublist:\n",
    "        print(item)"
   ]
  },
  {
   "cell_type": "markdown",
   "id": "f8beb293",
   "metadata": {},
   "source": [
    "Списки также можно вывести на разных строках:"
   ]
  },
  {
   "cell_type": "code",
   "execution_count": null,
   "id": "60fff220",
   "metadata": {},
   "outputs": [],
   "source": [
    "nested_list = [[1, 2, 3], [4, 5, 6], [7, 8, 9]]\n",
    "for sublist in nested_list:\n",
    "    print(*sublist, sep=\", \")"
   ]
  },
  {
   "cell_type": "markdown",
   "id": "a899ee5c",
   "metadata": {},
   "source": [
    "Еще можно создать новый список из элементов вложенного при помощи list comprehension и вывести его при помощи print():"
   ]
  },
  {
   "cell_type": "code",
   "execution_count": null,
   "id": "0c076bbb",
   "metadata": {},
   "outputs": [],
   "source": [
    "nested_list = [[1, 2, 3], [4, 5, 6], [7, 8, 9]]\n",
    "result = [item for sublist in nested_list for item in sublist]\n",
    "print(result)\n",
    "\n",
    "# Результат:\n",
    "# [1, 2, 3, 4, 5, 6, 7, 8, 9]"
   ]
  },
  {
   "cell_type": "code",
   "execution_count": null,
   "id": "15f7291c",
   "metadata": {},
   "outputs": [],
   "source": [
    "# Пример вывода в каждой строке, суммы рандомно сгенерированных чисел:\n",
    "\n",
    "from random import random\n",
    "\n",
    "M = 3\n",
    "N = 4\n",
    "\n",
    "a = []\n",
    "for i in range(N):\n",
    "    b = []\n",
    "    for j in range(M):\n",
    "        b.append(int(random() * 11))\n",
    "        print(\"%4d\" % b[j], end = '')\n",
    "    print('   |', sum(b))"
   ]
  },
  {
   "cell_type": "markdown",
   "id": "491b8147",
   "metadata": {},
   "source": [
    "В Python есть несколько встроенных функций, которые позволяют перебирать данные. Одна из них — функция `zip()` в Python создает итератор, который объединяет элементы из нескольких источников данных. Побробнее можно ознакомиться [по ссылке](https://pythonru.com/uroki/funkcija-zip-dlja-nachinajushhih)\n",
    "\n",
    "У функции zip() множество сценариев применения. Например, она пригодится, если нужно создать набор словарей из двух массивов, каждый из которых содержит имя и номер сотрудника."
   ]
  },
  {
   "cell_type": "code",
   "execution_count": null,
   "id": "e9da2522",
   "metadata": {},
   "outputs": [],
   "source": [
    "employee_numbers = [2, 9, 18, 28]\n",
    "employee_names = [\"Дима\", \"Марина\", \"Андрей\", \"Никита\"]\n",
    "\n",
    "zipped_values = zip(employee_names, employee_numbers)\n",
    "zipped_list = list(zipped_values)\n",
    "\n",
    "print(zipped_list)"
   ]
  },
  {
   "cell_type": "markdown",
   "id": "72c564ea",
   "metadata": {},
   "source": [
    "Чтобы разбить список на равные части, можно воспользоваться функцией `zip()` в сочетании с функцией `iter()`."
   ]
  },
  {
   "cell_type": "code",
   "execution_count": null,
   "id": "65d0b575",
   "metadata": {},
   "outputs": [],
   "source": [
    "# Наш список `x`\n",
    "x = [1, 2, 3, 4, 5, 6, 7, 8, 9]\n",
    "\n",
    "# Разбиваем `x` на 3 части\n",
    "y = zip(*[iter(x)] * 3)\n",
    "\n",
    "# Выводим результат\n",
    "list(y)"
   ]
  }
 ],
 "metadata": {
  "kernelspec": {
   "display_name": "Python 3 (ipykernel)",
   "language": "python",
   "name": "python3"
  },
  "language_info": {
   "codemirror_mode": {
    "name": "ipython",
    "version": 3
   },
   "file_extension": ".py",
   "mimetype": "text/x-python",
   "name": "python",
   "nbconvert_exporter": "python",
   "pygments_lexer": "ipython3",
   "version": "3.11.5"
  }
 },
 "nbformat": 4,
 "nbformat_minor": 5
}
