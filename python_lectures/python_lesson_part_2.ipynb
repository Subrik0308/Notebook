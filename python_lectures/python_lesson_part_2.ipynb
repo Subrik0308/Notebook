{
 "cells": [
  {
   "cell_type": "markdown",
   "id": "bc1c968d",
   "metadata": {},
   "source": [
    "## Содержание:\n",
    "- Коллекции: множества, списки, кортежи.\n",
    "- Методы .split(), .join(), функция map(), вывод и ввод списков\n",
    "- Цикл For\n",
    "- Списковые включения (list comprehension)\n",
    "- Включения для множеств\n",
    "- Многомерные списки\n",
    "- Словари\n",
    "- Устройство функций в Python. Написание простейших функций. Написание сложных функций.\n",
    "- Распаковка\n",
    "- Локальные и глобальные переменные. Области видимости\n",
    "- Рекурсия\n",
    "- Функции как объект\n",
    "- Функции высших порядков\n",
    "- Lambda-функции"
   ]
  },
  {
   "cell_type": "markdown",
   "id": "cb2d5a23",
   "metadata": {},
   "source": [
    "# Коллекции: множества, списки, кортежи."
   ]
  },
  {
   "cell_type": "markdown",
   "id": "f97744de",
   "metadata": {},
   "source": [
    "## Множества\n",
    "\n",
    "`Множество` — cоставной тип данных, представляющий собой неупорядоченный набор уникальных объектов (элементов множества) под одним именем. Множества изменяемы и чаще всего используются для удаления дубликатов и всевозможных проверок на вхождение.\n",
    "\n",
    "Чтобы задать множество, нужно в фигурных скобках перечислить его элементы. Множество может содержать и строки, и числа.\n",
    "Создадим множество из нескольких элементов и выведем на экран:"
   ]
  },
  {
   "cell_type": "code",
   "execution_count": null,
   "id": "1fae2d6c",
   "metadata": {},
   "outputs": [],
   "source": [
    "num = {1, 2, 3, 4, 5, 0, \"Hello, world!!!\", \"Привет мир!!!\", 'cat', 'dog', 1.4, 5.8}\n",
    "print(num)"
   ]
  },
  {
   "cell_type": "markdown",
   "id": "7cfef098",
   "metadata": {},
   "source": [
    "После запуска видим иной порядок, чем мы задали. Так происходит потому, что элементы в множестве Python не упорядочены.\n",
    "\n",
    "У множеств есть три ключевые особенности:\n",
    "\n",
    "- Порядок элементов в множестве не определен\n",
    "- Элементы множеств — строки и/или числа\n",
    "- Множество не может содержать одинаковых элементов\n",
    "\n",
    "### Cоздание множества\n",
    "\n",
    "Для создания пустых множеств обязательно вызывать функцию `set()`:"
   ]
  },
  {
   "cell_type": "code",
   "execution_count": null,
   "id": "eccc19af",
   "metadata": {},
   "outputs": [],
   "source": [
    "empty = set()"
   ]
  },
  {
   "cell_type": "markdown",
   "id": "13df6141",
   "metadata": {},
   "source": [
    "### Операции над множеством (одним)\n",
    "\n",
    "len() - вычисление числа элементов множества:"
   ]
  },
  {
   "cell_type": "code",
   "execution_count": null,
   "id": "23add2c1",
   "metadata": {},
   "outputs": [],
   "source": [
    "my_set = {'a', 'b', 'c'}\n",
    "n = len(my_set)\n",
    "print(n)"
   ]
  },
  {
   "cell_type": "markdown",
   "id": "cae70f22",
   "metadata": {},
   "source": [
    "#### Добавление элемента в множество\n",
    "\n",
    "Выполняется с помощью метода `.add`. </br>\n",
    "Если элемент, равный новому элементу, уже существует в множестве, оно не изменится, поскольку не может содержать одинаковых элементов. Ошибки при этом не произойдет."
   ]
  },
  {
   "cell_type": "code",
   "execution_count": null,
   "id": "d134338e",
   "metadata": {},
   "outputs": [],
   "source": [
    "my_set = set()\n",
    "my_set.add('a')\n",
    "my_set.add('b')\n",
    "my_set.add('a')\n",
    "print(my_set)"
   ]
  },
  {
   "cell_type": "markdown",
   "id": "a30113f4",
   "metadata": {},
   "source": [
    "#### Удаление элемента\n",
    "\n",
    "Для удаления есть три метода:\n",
    "\n",
    "- .discard - удалить заданный элемент, если он есть в множестве, и ничего не делать, если его нет;\n",
    "- .remove - удалить заданный элемент, если он есть, и породить ошибку KeyError, если нет;\n",
    "- .pop - удалить некоторый элемент из множества и возвратить его как результат."
   ]
  },
  {
   "cell_type": "code",
   "execution_count": null,
   "id": "4ca11573",
   "metadata": {},
   "outputs": [],
   "source": [
    "my_set = {'a', 'b', 'c'} \n",
    "my_set.discard('a')  # Будет удален\n",
    "my_set.discard('d')  # Нет в множестве, ничего не делать\n",
    "print(my_set)"
   ]
  },
  {
   "cell_type": "code",
   "execution_count": null,
   "id": "30fe2f58",
   "metadata": {},
   "outputs": [],
   "source": [
    "my_set.remove('b')  # Будет удален\n",
    "print(my_set) "
   ]
  },
  {
   "cell_type": "code",
   "execution_count": null,
   "id": "3567ec87",
   "metadata": {},
   "outputs": [],
   "source": [
    "my_set.remove('d')  # Не в множестве, вызовет ошибку KeyError"
   ]
  },
  {
   "cell_type": "code",
   "execution_count": null,
   "id": "40f3edcc",
   "metadata": {},
   "outputs": [],
   "source": [
    "elem = my_set.pop()  # Удаляет из множества случайный элемент и возвращает его значение\n",
    "print(elem)"
   ]
  },
  {
   "cell_type": "markdown",
   "id": "9e2ccef5",
   "metadata": {},
   "source": [
    "#### Очистка множества\n",
    "\n",
    "Очистить множество от всех элементов можно с помощью метода `clear()`:"
   ]
  },
  {
   "cell_type": "code",
   "execution_count": null,
   "id": "2e121ae3",
   "metadata": {},
   "outputs": [],
   "source": [
    "my_set.clear()"
   ]
  },
  {
   "cell_type": "markdown",
   "id": "33482f15",
   "metadata": {},
   "source": [
    "### Операции над двумя множествами"
   ]
  },
  {
   "cell_type": "code",
   "execution_count": null,
   "id": "50aff233",
   "metadata": {},
   "outputs": [],
   "source": [
    "a = set(\"1234\")\n",
    "b = set(\"3456\")"
   ]
  },
  {
   "cell_type": "code",
   "execution_count": null,
   "id": "d5d54515",
   "metadata": {},
   "outputs": [],
   "source": [
    "print(a)\n",
    "print(b)"
   ]
  },
  {
   "cell_type": "markdown",
   "id": "471617e1",
   "metadata": {},
   "source": [
    "**Объединение множеств**\n",
    "\n",
    "Объединением двух множеств называется множество, состоящее из тех и только тех элементов, которые принадлежат хотя бы одному из данных множеств.\n",
    "\n",
    "![Ошибка загрузки](https://github.com/akazachkov/python_notebook/blob/master/python_lectures/_pic_lesson_python/10.png?raw=true)"
   ]
  },
  {
   "cell_type": "code",
   "execution_count": null,
   "id": "c1551a06",
   "metadata": {},
   "outputs": [],
   "source": [
    "print(a | b)"
   ]
  },
  {
   "cell_type": "markdown",
   "id": "8c104e89",
   "metadata": {},
   "source": [
    "**Пересечение множеств**\n",
    "\n",
    "Пересечением двух множеств называется множество, которому принадлежат те и только те элементы, которые одновременно принадлежат двум данным множествам.\n",
    "\n",
    "![Ошибка загрузки](https://github.com/akazachkov/python_notebook/blob/master/python_lectures/_pic_lesson_python/11.png?raw=true)"
   ]
  },
  {
   "cell_type": "code",
   "execution_count": null,
   "id": "d96805aa",
   "metadata": {},
   "outputs": [],
   "source": [
    "print(a & b)"
   ]
  },
  {
   "cell_type": "markdown",
   "id": "1c500d01",
   "metadata": {},
   "source": [
    "**Разность множеств**\n",
    "\n",
    "Разностью двух множеств называется множество, состоящее из тех и только тех элементов, которые входят в первое множество, но не входят во второе.\n",
    "\n",
    "![Ошибка загрузки](https://github.com/akazachkov/python_notebook/blob/master/python_lectures/_pic_lesson_python/12.png?raw=true)"
   ]
  },
  {
   "cell_type": "code",
   "execution_count": null,
   "id": "73363ec0",
   "metadata": {},
   "outputs": [],
   "source": [
    "print(a - b)"
   ]
  },
  {
   "cell_type": "markdown",
   "id": "15e7046a",
   "metadata": {},
   "source": [
    "**Симметрическая разность множеств**\n",
    "\n",
    "Симметрической разностью двух множеств называется множество, которое состоит из элементов, принадлежащих ровно одному из данных множеств.\n",
    "\n",
    "![Ошибка загрузки](https://github.com/akazachkov/python_notebook/blob/master/python_lectures/_pic_lesson_python/13.png?raw=true)"
   ]
  },
  {
   "cell_type": "code",
   "execution_count": null,
   "id": "7a5a87a1",
   "metadata": {},
   "outputs": [],
   "source": [
    "print(a ^ b)"
   ]
  },
  {
   "cell_type": "markdown",
   "id": "26bcbdfb",
   "metadata": {},
   "source": [
    "### Сравнение множеств\n",
    "\n",
    "Для сравнения множеств используются все логические операторы: `==, <, >, !=`. Равными будут считаться множества с одинаковым набором элементов. Операторы сравнения возвращают результат True, если сравнение истинно, и False — если нет."
   ]
  },
  {
   "cell_type": "code",
   "execution_count": null,
   "id": "70b9cbfe",
   "metadata": {},
   "outputs": [],
   "source": [
    "setA = {7, 6, 5, 4, 3}\n",
    "setB = {3, 4, 5, 6, 7}\n",
    "setA == setB"
   ]
  },
  {
   "cell_type": "code",
   "execution_count": null,
   "id": "4cfdd65f",
   "metadata": {},
   "outputs": [],
   "source": [
    "setA != setB"
   ]
  },
  {
   "cell_type": "code",
   "execution_count": null,
   "id": "6c39f93d",
   "metadata": {},
   "outputs": [],
   "source": [
    "setA = {7, 6, 5, 4, 3}\n",
    "setB = {3, 4, 5}\n",
    "setB < setA"
   ]
  },
  {
   "cell_type": "code",
   "execution_count": null,
   "id": "9ecea9d1",
   "metadata": {},
   "outputs": [],
   "source": [
    "setB > setA  # Значение False. Но, если хотя бы один элемент множества setB не будет принадлежать множеству setA"
   ]
  },
  {
   "cell_type": "markdown",
   "id": "af3100df",
   "metadata": {},
   "source": [
    "### Задача\n",
    "\n",
    "Аня и Маша  играют в игру. Аня вводит число, а Маша должна ввести число, в котором есть только те цифры, которые есть в числе Ани. Если Маша ввела верное число, то выводится \"Верное число!\". В противном случае \"Такое число нельзя использовать\"."
   ]
  },
  {
   "cell_type": "code",
   "execution_count": null,
   "id": "86a855b3",
   "metadata": {},
   "outputs": [],
   "source": [
    "anya = set(input())\n",
    "mash = set(input())\n",
    "if mash <= anya:\n",
    "    print(\"Верное число!\")\n",
    "else:\n",
    "    print(\"Такое число нельзя использовать\")"
   ]
  },
  {
   "cell_type": "markdown",
   "id": "75c83076",
   "metadata": {},
   "source": [
    "## Списки (list)\n",
    "\n",
    "`Список` — это упорядоченный набор объектов, хранящихся в одной переменной. В отличие от массивов в других языках, у списков нет никаких ограничений на тип переменных, поэтому в них могут храниться разные объекты, в том числе и другие коллекции.\n",
    "\n",
    "### Создание списков\n",
    "\n",
    "Создадим список:"
   ]
  },
  {
   "cell_type": "code",
   "execution_count": null,
   "id": "6ed846bf",
   "metadata": {},
   "outputs": [],
   "source": [
    "list_num = [1, 2, 3, 4, 5, 0, \"Hello, world!!!\", \"Привет мир!!!\", 'cat', 'dog'] \n",
    "print(list_num)\n",
    "print(type(list_num))"
   ]
  },
  {
   "cell_type": "markdown",
   "id": "a515e4c3",
   "metadata": {},
   "source": [
    "Пустой список можно создать двумя способами - оператором [] и функцией list()."
   ]
  },
  {
   "cell_type": "code",
   "execution_count": null,
   "id": "c170426a",
   "metadata": {},
   "outputs": [],
   "source": [
    "print([])\n",
    "print(list())"
   ]
  },
  {
   "cell_type": "code",
   "execution_count": null,
   "id": "9dba003c",
   "metadata": {},
   "outputs": [],
   "source": [
    "a = list()\n",
    "a"
   ]
  },
  {
   "cell_type": "markdown",
   "id": "4402a5b6",
   "metadata": {},
   "source": [
    "Список может быть даже смешанным. Например, давайте сохраним в одном списке имя студента, его год рождения, средний балл, и логическую переменную, которая будет равна True, если студент учится на бюджете."
   ]
  },
  {
   "cell_type": "code",
   "execution_count": null,
   "id": "a4556ee3",
   "metadata": {},
   "outputs": [],
   "source": [
    "student1 = [\"Иван Иванов\", 1988, 7.5, True]\n",
    "print(student1)"
   ]
  },
  {
   "cell_type": "markdown",
   "id": "bbdfb6fd",
   "metadata": {},
   "source": [
    "Список может даже содержать другие списки. </br>\n",
    "Давайте создадим еще одного студента по аналогии со student1 и положим этих двух студентов в еще один список."
   ]
  },
  {
   "cell_type": "code",
   "execution_count": null,
   "id": "c098e49a",
   "metadata": {},
   "outputs": [],
   "source": [
    "student2 = [\"Сергей Смирнов\", 1990, 7.9, False]\n",
    "students = [student1, student2]\n",
    "print(students)"
   ]
  },
  {
   "cell_type": "markdown",
   "id": "1df403ec",
   "metadata": {},
   "source": [
    "### Срезы списков\n",
    "\n",
    "Элементы списков нумеруются, начиная с 0. Мы можем получить доступ к элементу списка по его индексу."
   ]
  },
  {
   "cell_type": "code",
   "execution_count": null,
   "id": "e68e5e83",
   "metadata": {},
   "outputs": [],
   "source": [
    "students = [\"Иван Иванов\", \"Сергей Смирнов\", \"Николай Пешков\"]\n",
    "print(students[0])  # Первый элемент\n",
    "print(students[1])  # Второй элемент\n",
    "print(students[-1])  # Последний элемент"
   ]
  },
  {
   "cell_type": "markdown",
   "id": "6df6c4b9",
   "metadata": {},
   "source": [
    "Индексация работает и в строках. Там отдельными элементами являются символы."
   ]
  },
  {
   "cell_type": "code",
   "execution_count": null,
   "id": "a67c39b3",
   "metadata": {},
   "outputs": [],
   "source": [
    "x = \"Привет\"\n",
    "print(x[0])\n",
    "print(x[-1])"
   ]
  },
  {
   "cell_type": "markdown",
   "id": "4f45dfbc",
   "metadata": {},
   "source": [
    "Мы можем узнать длину списка с помощью функции len() (работает и для строк)."
   ]
  },
  {
   "cell_type": "code",
   "execution_count": null,
   "id": "be76abe3",
   "metadata": {},
   "outputs": [],
   "source": [
    "print(len(students))  # Количество элементов в списке students\n",
    "print(len(x))  # Количество символов в строке x"
   ]
  },
  {
   "cell_type": "markdown",
   "id": "d93ca5f5",
   "metadata": {},
   "source": [
    "Но, в отличие от строк, <ins>список можно изменить</ins>."
   ]
  },
  {
   "cell_type": "code",
   "execution_count": null,
   "id": "b1510eb7",
   "metadata": {},
   "outputs": [],
   "source": [
    "students = [\"Иван Иванов\", \"Сергей Смирнов\", \"Николай Пешков\"]\n",
    "students"
   ]
  },
  {
   "cell_type": "code",
   "execution_count": null,
   "id": "3a0343b1",
   "metadata": {},
   "outputs": [],
   "source": [
    "students[0] = 'Петр Иванов'\n",
    "students"
   ]
  },
  {
   "cell_type": "code",
   "execution_count": null,
   "id": "144d1b75",
   "metadata": {},
   "outputs": [],
   "source": [
    "string = \"Привет\"\n",
    "string[1] = \"a\""
   ]
  },
  {
   "cell_type": "markdown",
   "id": "a6f31a68",
   "metadata": {},
   "source": [
    "<ins>Строки - неизменяемый тип данных</ins>, поэтому присвоение символа по индексу не сработает. </br>\n",
    "Еще одна операция, которая работает со всеми последовательностями - проверка на наличие элемента in и not in. Возвращает True или False."
   ]
  },
  {
   "cell_type": "code",
   "execution_count": null,
   "id": "4e476f96",
   "metadata": {},
   "outputs": [],
   "source": [
    "n = [7, 22, 8, 5]\n",
    "x = 22\n",
    "x in n"
   ]
  },
  {
   "cell_type": "markdown",
   "id": "50b5bbc3",
   "metadata": {},
   "source": [
    "Способ расширить список - метод `.append()`, который добавляет аргумент в список в качестве последнего элемента."
   ]
  },
  {
   "cell_type": "code",
   "execution_count": null,
   "id": "07d76f15",
   "metadata": {},
   "outputs": [],
   "source": [
    "lst = [7, 22, 8, 5]\n",
    "\n",
    "lst.append(10)\n",
    "print(lst)\n",
    "\n",
    "lst += [6]  # Эквивалентное append выражение\n",
    "print(lst)"
   ]
  },
  {
   "cell_type": "markdown",
   "id": "22573606",
   "metadata": {},
   "source": [
    "Удалить элемент из списка можно с помощью метода `.remove()` (без возвращения удаленного элемента) или `.pop` (с возвращением удаленного элемента)."
   ]
  },
  {
   "cell_type": "code",
   "execution_count": null,
   "id": "9d7cc629",
   "metadata": {},
   "outputs": [],
   "source": [
    "lst.remove(7)  # Аргумент - объект, который ходим удалить\n",
    "print(lst)"
   ]
  },
  {
   "cell_type": "code",
   "execution_count": null,
   "id": "2403ebf4",
   "metadata": {},
   "outputs": [],
   "source": [
    "x = lst.pop(0)  # Аргумент - индекс объекта. Результат операции можно сохранить в переменную\n",
    "print(lst)\n",
    "print(x)"
   ]
  },
  {
   "cell_type": "markdown",
   "id": "ffdfbc44",
   "metadata": {},
   "source": [
    "Поиском в списках занимается метод `.index()`, который вернет индекс объекта, переданного в качестве аргумента."
   ]
  },
  {
   "cell_type": "code",
   "execution_count": null,
   "id": "782659d5",
   "metadata": {},
   "outputs": [],
   "source": [
    "lst.append(6)"
   ]
  },
  {
   "cell_type": "code",
   "execution_count": null,
   "id": "73190a3c",
   "metadata": {},
   "outputs": [],
   "source": [
    "lst"
   ]
  },
  {
   "cell_type": "code",
   "execution_count": null,
   "id": "a92db70b",
   "metadata": {},
   "outputs": [],
   "source": [
    "print(lst.index(6))"
   ]
  },
  {
   "cell_type": "code",
   "execution_count": null,
   "id": "1548bd2d",
   "metadata": {},
   "outputs": [],
   "source": [
    "# Находим индекс объекта 6\n",
    "\n",
    "print(lst[lst.index(6)])  # Используем метод, возвращающий индекс, для обращения к объекту"
   ]
  },
  {
   "cell_type": "markdown",
   "id": "7c13fa24",
   "metadata": {},
   "source": [
    "Метод `.count()`, он подсчитывает количество элементов и .reverse(), который разворачивает список"
   ]
  },
  {
   "cell_type": "code",
   "execution_count": null,
   "id": "b14f9f54",
   "metadata": {},
   "outputs": [],
   "source": [
    "print(lst.count(6))"
   ]
  },
  {
   "cell_type": "code",
   "execution_count": null,
   "id": "f2d03490",
   "metadata": {},
   "outputs": [],
   "source": [
    "b = [1,2,3,4,5]\n",
    "b.reverse()  # Осторожно - метод меняет список!\n",
    "b"
   ]
  },
  {
   "cell_type": "markdown",
   "id": "856eea24",
   "metadata": {},
   "source": [
    "##### Все методы списков [здесь](https://docs.python.org/3/tutorial/datastructures.html)"
   ]
  },
  {
   "cell_type": "markdown",
   "id": "4ba5ed68",
   "metadata": {},
   "source": [
    "### Сортировки"
   ]
  },
  {
   "cell_type": "code",
   "execution_count": null,
   "id": "148247ee",
   "metadata": {},
   "outputs": [],
   "source": [
    "test_list = [9, 3, 2, 1, 4, 8, 5]\n",
    "print(test_list)  # Элементы списка расположены в хаотичном порядке\n",
    "test_list.sort()\n",
    "print(test_list)  # Теперь элементы списка теперь расположены по возрастанию"
   ]
  },
  {
   "cell_type": "code",
   "execution_count": null,
   "id": "ec6e4e91",
   "metadata": {},
   "outputs": [],
   "source": [
    "test_list.sort(reverse = True)"
   ]
  },
  {
   "cell_type": "code",
   "execution_count": null,
   "id": "ded56fde",
   "metadata": {},
   "outputs": [],
   "source": [
    "test_list"
   ]
  },
  {
   "cell_type": "code",
   "execution_count": null,
   "id": "38ff2e78",
   "metadata": {},
   "outputs": [],
   "source": [
    "test_list.sort(reverse = True)  # Параметр reverse указывает на то, что нужно отсортировать список в обратном порядке\n",
    "print(test_list)"
   ]
  },
  {
   "cell_type": "markdown",
   "id": "80dc71a0",
   "metadata": {},
   "source": [
    "Следует обратить внимание, что метод `list.sort()` изменяет сам список, на котором его вызвали. </br>\n",
    "Таким образом, при каждом вызове метода `sort()`, наш список \"test_list\" изменяется. </br>\n",
    "Это может быть удобно, если нам не нужно держать в памяти исходный список. </br>\n",
    "Однако, в противном случае, или же - в случае неизменяемого типа данных (например, кортежа или строки) - этот метод не сработает. В таком случае, на помощь приходит встроенная в питон функция `sorted()`."
   ]
  },
  {
   "cell_type": "code",
   "execution_count": null,
   "id": "8f866884",
   "metadata": {},
   "outputs": [],
   "source": [
    "test_list = [9, 3, 2, 1, 4, 8, 5]\n",
    "print(sorted(test_list))  # Сам список при сортировке не изменяется"
   ]
  },
  {
   "cell_type": "code",
   "execution_count": null,
   "id": "a7051f21",
   "metadata": {},
   "outputs": [],
   "source": [
    "test_list"
   ]
  },
  {
   "cell_type": "markdown",
   "id": "78d599d2",
   "metadata": {},
   "source": [
    "Так как `sorted()` - это функция, а не метод, то будет работать и с другими типами данных."
   ]
  },
  {
   "cell_type": "code",
   "execution_count": null,
   "id": "01e24805",
   "metadata": {},
   "outputs": [],
   "source": [
    "print(sorted(\"привет\"))"
   ]
  },
  {
   "cell_type": "code",
   "execution_count": null,
   "id": "114f7d9d",
   "metadata": {},
   "outputs": [],
   "source": [
    "# print(sorted('привет')) отсортирует буквы в строке, но выведет список\n",
    "print(''.join(sorted('привет')))  # С помощью метода join можно собрать отсортированную строку, ниже подробнее про него"
   ]
  },
  {
   "cell_type": "markdown",
   "id": "4ced0291",
   "metadata": {},
   "source": [
    "У функции sorted(), как и у метода list.sort() есть параметр key, с помощью которого можно указать функцию, которая будет применена к каждому элементу последовательности при сортировке."
   ]
  },
  {
   "cell_type": "code",
   "execution_count": null,
   "id": "a840980f",
   "metadata": {},
   "outputs": [],
   "source": [
    "test_string = 'Строка С заглавными И строчными буквами'"
   ]
  },
  {
   "cell_type": "code",
   "execution_count": null,
   "id": "0658a5d7",
   "metadata": {},
   "outputs": [],
   "source": [
    "print(sorted(test_string.split())) # заглавные буквы получили приоритет над строчными"
   ]
  },
  {
   "cell_type": "code",
   "execution_count": null,
   "id": "c5475ba0",
   "metadata": {},
   "outputs": [],
   "source": [
    "\"Привет мир!!!\".upper()"
   ]
  },
  {
   "cell_type": "code",
   "execution_count": null,
   "id": "33466d53",
   "metadata": {},
   "outputs": [],
   "source": [
    "print(sorted(test_string.split(), key=str.upper)) # все буквы были приведены к верхнему регистру + сортировка по алфавиту"
   ]
  },
  {
   "cell_type": "code",
   "execution_count": null,
   "id": "f855eb9c",
   "metadata": {},
   "outputs": [],
   "source": [
    "lst = [-50, 10, 8, 50, 25, 0, -10]"
   ]
  },
  {
   "cell_type": "code",
   "execution_count": null,
   "id": "d4fb3ec2",
   "metadata": {},
   "outputs": [],
   "source": [
    "sorted(lst, key = abs)"
   ]
  },
  {
   "cell_type": "markdown",
   "id": "0da340b8",
   "metadata": {},
   "source": [
    "## Кортежи (tuple)"
   ]
  },
  {
   "cell_type": "markdown",
   "id": "b3dbb27a",
   "metadata": {},
   "source": [
    "`Кортежи` очень похожи на списки."
   ]
  },
  {
   "cell_type": "code",
   "execution_count": null,
   "id": "64261c63",
   "metadata": {},
   "outputs": [],
   "source": [
    "student = (\"Иван Иванов\", 1988, 7.5, True)\n",
    "print(student)\n",
    "print(type(student))"
   ]
  },
  {
   "cell_type": "markdown",
   "id": "fa34045a",
   "metadata": {},
   "source": [
    "Пустой кортеж можно создать с помощью оператора `()` либо функции `tuple()`."
   ]
  },
  {
   "cell_type": "code",
   "execution_count": null,
   "id": "3fef7d37",
   "metadata": {},
   "outputs": [],
   "source": [
    "print(())\n",
    "print(tuple())"
   ]
  },
  {
   "cell_type": "code",
   "execution_count": null,
   "id": "1eccc564",
   "metadata": {},
   "outputs": [],
   "source": [
    "x = tuple()\n",
    "x"
   ]
  },
  {
   "cell_type": "code",
   "execution_count": null,
   "id": "6f8a7384",
   "metadata": {},
   "outputs": [],
   "source": [
    "student"
   ]
  },
  {
   "cell_type": "markdown",
   "id": "8723d3d5",
   "metadata": {},
   "source": [
    "<ins>Основное отличие кортежей от списков состоит в том, что кортежи нельзя изменять.</ins>"
   ]
  },
  {
   "cell_type": "code",
   "execution_count": null,
   "id": "4f9c69d9",
   "metadata": {},
   "outputs": [],
   "source": [
    "student[1] = 1987"
   ]
  },
  {
   "cell_type": "markdown",
   "id": "ddc6685b",
   "metadata": {},
   "source": [
    "Списки и кортежи могут быть вложены друг в друга. Например, пусть в информации о студенте у нас будет храниться не его средний балл, а список всех его оценок."
   ]
  },
  {
   "cell_type": "code",
   "execution_count": null,
   "id": "edac0d4e",
   "metadata": {},
   "outputs": [],
   "source": [
    "student = ('Иван Иванов', 1988, [8, 7, 7, 9, 6], True)\n",
    "print(student)"
   ]
  },
  {
   "cell_type": "code",
   "execution_count": null,
   "id": "b3b1f0fb",
   "metadata": {},
   "outputs": [],
   "source": [
    "student = ('Ivan Ivanov', 2001, (8, 7, 7, 9, 6), True)\n",
    "print(student)"
   ]
  },
  {
   "cell_type": "markdown",
   "id": "6b73cf8d",
   "metadata": {},
   "source": [
    "Мы можем обратиться к элементу вложенного списка или кортежа с помощью двойной индексации."
   ]
  },
  {
   "cell_type": "code",
   "execution_count": null,
   "id": "251ef5f5",
   "metadata": {},
   "outputs": [],
   "source": [
    "print(student[2][1])  # Получили вторую оценку"
   ]
  },
  {
   "cell_type": "markdown",
   "id": "9561cc41",
   "metadata": {},
   "source": [
    "### Опасность работы с изменяемыми типами данных"
   ]
  },
  {
   "cell_type": "markdown",
   "id": "03feb681",
   "metadata": {},
   "source": [
    "В работе со списками есть важный момент, на который нужно обращать внимание. Давайте рассмотрим такой код:"
   ]
  },
  {
   "cell_type": "code",
   "execution_count": null,
   "id": "5f298e2a",
   "metadata": {},
   "outputs": [],
   "source": [
    "a = [1, 2, 3]"
   ]
  },
  {
   "cell_type": "code",
   "execution_count": null,
   "id": "9e49ae2a",
   "metadata": {},
   "outputs": [],
   "source": [
    "b = a"
   ]
  },
  {
   "cell_type": "code",
   "execution_count": null,
   "id": "f7307538",
   "metadata": {},
   "outputs": [],
   "source": [
    "b[0] = 4"
   ]
  },
  {
   "cell_type": "code",
   "execution_count": null,
   "id": "6d0a274b",
   "metadata": {},
   "outputs": [],
   "source": [
    "print(a)\n",
    "print(b)"
   ]
  },
  {
   "cell_type": "markdown",
   "id": "a6536276",
   "metadata": {},
   "source": [
    "Переменная a ссылается на место в памяти, где хранится список [1, 2, 3]. И когда мы пишем, что b = a, b начинает указывать на то же самое место. То есть образуется два имени для одного и того же кусочка данных. И после изменения этого кусочка через переменную b, значение переменной a тоже меняется!\n",
    "\n",
    "Чтобы этого избежать необходимо использовать метод .copy()"
   ]
  },
  {
   "cell_type": "code",
   "execution_count": null,
   "id": "3fd116e5",
   "metadata": {},
   "outputs": [],
   "source": [
    "a = [1, 2, 3]\n",
    "b = a.copy()  # Теперь переменная b указывает на другой список, который хранится в другом кусочке памяти\n",
    "b[0] = 4\n",
    "print(a, b)"
   ]
  },
  {
   "cell_type": "markdown",
   "id": "20a50317",
   "metadata": {},
   "source": [
    "Копию можно создавать и с помощью пустого среза."
   ]
  },
  {
   "cell_type": "code",
   "execution_count": null,
   "id": "b6d84454",
   "metadata": {},
   "outputs": [],
   "source": [
    "a = [1, 2, 3]\n",
    "b = a[:]  # По умолчанию берется срез от первого элемента до последнего, то есть копируется весь список a\n",
    "b[0] = 4\n",
    "print(a, b)"
   ]
  },
  {
   "cell_type": "markdown",
   "id": "3a5da197",
   "metadata": {},
   "source": [
    "Не нужно путать присваивание с изменением."
   ]
  },
  {
   "cell_type": "code",
   "execution_count": null,
   "id": "abad4d2e",
   "metadata": {},
   "outputs": [],
   "source": [
    "a = [1, 2, 3]\n",
    "b = a\n",
    "a = [4,5,6]\n",
    "print(a)\n",
    "print(b)"
   ]
  },
  {
   "cell_type": "markdown",
   "id": "a50b239b",
   "metadata": {},
   "source": [
    "В примере выше переменная a была не изменена, а перезаписана, она начала указывать на другой список, хранящийся в другом месте памяти, поэтому переменная b осталась нетронута."
   ]
  },
  {
   "cell_type": "markdown",
   "id": "4f800f34",
   "metadata": {},
   "source": [
    "### Конкатенация списков и кортежей\n",
    "\n",
    "На списках и кортежах определен оператор `+`. По аналогии со строками, он будет склеивать две части выражения.\n",
    "\n",
    "Но складывать можно только данные одного типа."
   ]
  },
  {
   "cell_type": "code",
   "execution_count": null,
   "id": "cea51375",
   "metadata": {},
   "outputs": [],
   "source": [
    "print([1, 2] + [3, 4])\n",
    "print((1, 2) + (3, 4))"
   ]
  },
  {
   "cell_type": "code",
   "execution_count": null,
   "id": "3c02e37b",
   "metadata": {},
   "outputs": [],
   "source": [
    "print((1, 2) + [3, 4])  # А так нельзя"
   ]
  },
  {
   "cell_type": "markdown",
   "id": "2b8a9288",
   "metadata": {},
   "source": [
    "Но можно превратить список в кортеж, а потом сложить (или наоборот)."
   ]
  },
  {
   "cell_type": "code",
   "execution_count": null,
   "id": "28cf96b0",
   "metadata": {},
   "outputs": [],
   "source": [
    "print(list((1, 2)) + [3, 4])\n",
    "print((1, 2) + tuple([3, 4]))"
   ]
  },
  {
   "cell_type": "markdown",
   "id": "ed0bc965",
   "metadata": {},
   "source": [
    "# Методы .split(), .join(),  функция map(), вывод и ввод списков\n",
    "\n",
    "При работе со списками довольно часто нам придется вводить их и выводить в отформатированном виде.\n",
    "\n",
    "`Метод .split()` получает на вход строку-разделитель и возвращает список строк, разбитый по этому разделителю.\n",
    "\n",
    "По умолчанию метод разбивает строку по пробелу."
   ]
  },
  {
   "cell_type": "code",
   "execution_count": null,
   "id": "b8c495dc",
   "metadata": {},
   "outputs": [],
   "source": [
    "print(\"Hello, world!!!         Привет мир!!!\".split())"
   ]
  },
  {
   "cell_type": "code",
   "execution_count": null,
   "id": "206486a8",
   "metadata": {},
   "outputs": [],
   "source": [
    "print('Ночь. Улица. Фонарь. Аптека'.split('. '))  # Разделитель можно задать самому"
   ]
  },
  {
   "cell_type": "markdown",
   "id": "94f66292",
   "metadata": {},
   "source": [
    "`Метод .join()` ведет себя с точностью до наоборот - он склеивает список в строку, вставляя между элементами строку-разделитель."
   ]
  },
  {
   "cell_type": "code",
   "execution_count": null,
   "id": "b3638d0a",
   "metadata": {},
   "outputs": [],
   "source": [
    "print('-'.join(['8', '888', '777', '11', '15']))"
   ]
  },
  {
   "cell_type": "markdown",
   "id": "7bf79bcc",
   "metadata": {},
   "source": [
    "`Функция map()` берет функцию и последовательность и применяет эту функцию ко всем ее элементам (map() всегда будет ожидать два аргумента)."
   ]
  },
  {
   "cell_type": "code",
   "execution_count": null,
   "id": "3407d74e",
   "metadata": {},
   "outputs": [],
   "source": [
    "lst = [\"5\", \"4\", \"3\", \"2\", \"1\"]\n",
    "print(lst)\n",
    "lst2 = list(map(int, [\"5\", \"4\", \"3\", \"2\", \"1\"]))\n",
    "print(lst2)"
   ]
  },
  {
   "cell_type": "markdown",
   "id": "aa809d85",
   "metadata": {},
   "source": [
    "## Ввод и вывод списков\n",
    "\n",
    "Теперь можно быстро вводить и выводить списки, содержащие разные данные через разные разделители."
   ]
  },
  {
   "cell_type": "code",
   "execution_count": null,
   "id": "835a2eed",
   "metadata": {},
   "outputs": [],
   "source": [
    "num = list(map(int, input().split()))  # Получаем строку, разбиваем по пробелу, сразу преобразуем все элементы в числа\n",
    "print(num)\n",
    "print('-> '.join(list(map(str, num))))  # Преобразуем массив чисел в массив строк и склеиваем через ->"
   ]
  },
  {
   "cell_type": "markdown",
   "id": "90b88352",
   "metadata": {},
   "source": [
    "Также, если нет задачи сохранить результат в переменную в виде строки, вместо join() можно использовать распаковку. Мы ставим оператор * перед списком, и, например, функция print() будет воспринимать его не как список, а как последовательность объектов."
   ]
  },
  {
   "cell_type": "code",
   "execution_count": null,
   "id": "7c21a28e",
   "metadata": {},
   "outputs": [],
   "source": [
    "print(num, sep='-> ')  # Не работает, получили список\n",
    "print(*num, sep='-> ')  # Теперь сработало. По сути, распакованный список питон видит как в примере ниже. * распаковка списка\n",
    "print(num[0], num[1], num[2], num[3], num[4], sep='-> ')"
   ]
  },
  {
   "cell_type": "markdown",
   "id": "b6f2befa",
   "metadata": {},
   "source": [
    "## Строки: срезы и методы\n",
    "Строки (strings) в питоне предназначаются для хранения и отображения текстовой информации. </br>\n",
    "Строки представляют собой последовательность символов, которые имеют свой порядок, что значит, что питон отслеживает положение каждого элемента строки. Это позволит, например, удобно индексировать строки. Для создания строки нужно использовать одинарные или двойные кавычки. </br>\n",
    "Попробуем создать строку."
   ]
  },
  {
   "cell_type": "code",
   "execution_count": null,
   "id": "6d9192b7",
   "metadata": {},
   "outputs": [],
   "source": [
    "s = 'Привет мир!'  # Одинарные кавычки\n",
    "print(s)\n",
    "\n",
    "s = \"Привет мир!\"  # Двойные кавычки\n",
    "print(s)"
   ]
  },
  {
   "cell_type": "markdown",
   "id": "b2f90da5",
   "metadata": {},
   "source": [
    "Если есть необходимость в строке использовать кавычки, например, для какого-то названия, то следует использовать разные кавычки для текста внутри строки и для самой страны."
   ]
  },
  {
   "cell_type": "code",
   "execution_count": null,
   "id": "da788622",
   "metadata": {},
   "outputs": [],
   "source": [
    "s = 'Добро пожаловать на курс \"Python для начинающих\"'  # Можно и наоборот - двойные снаружи и одинарные внтури)\n",
    "print(s)"
   ]
  },
  {
   "cell_type": "markdown",
   "id": "21084084",
   "metadata": {},
   "source": [
    "Также можно посчитать количество символов в строке (ее длину) с помощью функции len()"
   ]
  },
  {
   "cell_type": "code",
   "execution_count": null,
   "id": "a32ee315",
   "metadata": {},
   "outputs": [],
   "source": [
    "f = \"Привет мир!     \""
   ]
  },
  {
   "cell_type": "code",
   "execution_count": null,
   "id": "6e2fc337",
   "metadata": {},
   "outputs": [],
   "source": [
    "len(f)"
   ]
  },
  {
   "cell_type": "markdown",
   "id": "44ea6540",
   "metadata": {},
   "source": [
    "Строка представляет собой последовательность, а это значит, что можно обратиться к любому ее элементу по индексу. Для выполнения такой операции в питоне используются квадратные скобки [] после объекта. В квадратных скобках указывается желаемый индекс. Индексирование начинается с 0."
   ]
  },
  {
   "cell_type": "code",
   "execution_count": null,
   "id": "e96f6b50",
   "metadata": {},
   "outputs": [],
   "source": [
    "print(s[0])  # Первый элемент\n",
    "print(s[1])  # Второй\n",
    "print(s[2])  # Третий\n",
    "print(s[-1])  # Последний\n",
    "print(s[-2])  # Второй с конца\n",
    "\n",
    "# Предыдущие действия никак не изменили строку\n",
    "print(s)"
   ]
  },
  {
   "cell_type": "markdown",
   "id": "dfe635fe",
   "metadata": {},
   "source": [
    "Кроме выбора одного элемента с помощью индексирования можно получить подстроку. Для этого надо указать индексы границ подстроки через двоеточие. \n",
    "\n",
    "**Первое число** - от какого индекса начинаем, если ничего не написать, то начнем сначала. Этот индекс включается в отрезок. **Второе число** (после первого двоеточия) - каким индексом заканчивается срез, если ничего не написать, то питон возьмет последний символ. Здесь уже не включительно - если указать срез [0:2], то питон вернет только два символа под индексами 0 и 1. **Третье число** (необязательное, после второго двоеточия) - шаг, по умолчанию там стоит параметр 1 (выводится каждая буква).\n",
    "\n",
    "Таким образом, использовав одно число без двоеточий получим один символ. Использовав два числа через двоеточие - срез строки, включая первый индекс и не включая второй (первое число обязательно меньше второго). Использовав три числа через два двоеточия - срез строки с определенным шагом, заданным третьим числом."
   ]
  },
  {
   "cell_type": "code",
   "execution_count": null,
   "id": "b7f7da9a",
   "metadata": {},
   "outputs": [],
   "source": [
    "s = 'Добро пожаловать на курс \"Python для начинающих\"'"
   ]
  },
  {
   "cell_type": "code",
   "execution_count": null,
   "id": "b51c73c6",
   "metadata": {},
   "outputs": [],
   "source": [
    "print(s[1:])\n",
    "print(s[:4])  # Четыре первых символа до порядкового номера 4\n",
    "print(s[:])  # Копия строки (срез от первого до последнего символа)\n",
    "print(s[:-1])  # Вся строка кроме последнего символа\n",
    "print(s[::2])  # Также можно выбирать символы из строки с каким-то шагом\n",
    "print(s[::-1])  # Например, с помощью шага -1 можно получить строку наоборот"
   ]
  },
  {
   "cell_type": "markdown",
   "id": "2efa30f4",
   "metadata": {},
   "source": [
    "## Методы строк\n",
    "Теперь перейдем к задачам поинтереснее. Пусть нам нужно найти в строке какое-нибудь слово. Мы можем проверять наличие подстроки в строке с помощью специального слова in."
   ]
  },
  {
   "cell_type": "code",
   "execution_count": null,
   "id": "aee6e957",
   "metadata": {},
   "outputs": [],
   "source": [
    "poem = '''Это утро, радость эта, \n",
    "Эта мощь и дня и света, \n",
    "Этот синий свод, \n",
    "Этот крик и вереницы, \n",
    "Эти стаи, эти птицы, \n",
    "Этот говор вод, \n",
    "\n",
    "Эти ивы и березы, \n",
    "Эти капли - эти слезы, \n",
    "Этот пух - не лист, \n",
    "Эти горы, эти долы, \n",
    "Эти мошки, эти пчелы, \n",
    "Этот зык и свист, \n",
    "\n",
    "Эти зори без затменья, \n",
    "Этот вздох ночной селенья, \n",
    "Эта ночь без сна, \n",
    "Эта мгла и жар постели, \n",
    "Эта дробь и эти трели, \n",
    "Это все - весна.\n",
    "(А. Фет)'''\n",
    "\n",
    "print('Эта' in poem)"
   ]
  },
  {
   "cell_type": "markdown",
   "id": "10fcc409",
   "metadata": {},
   "source": [
    "Возьмем пять строк стиха и посчитаем сколько в них встречается определенное слов."
   ]
  },
  {
   "cell_type": "code",
   "execution_count": null,
   "id": "306a1126",
   "metadata": {},
   "outputs": [],
   "source": [
    "mentions = 0  # Переменная, в которой будем считать упоминания\n",
    "poem_number = 1  # Счетчик строк, начинаем работать с первой\n",
    "\n",
    "while poem_number <= 5:\n",
    "    poem_num = input()\n",
    "    if 'Эта' in poem_num:\n",
    "        mentions += 1\n",
    "    poem_number += 1\n",
    "    \n",
    "print(mentions)"
   ]
  },
  {
   "cell_type": "markdown",
   "id": "9d27b83a",
   "metadata": {},
   "source": [
    "Если слово \"Эта\" введено с маленькой буквы, то оно учитываться не будет.\n",
    "\n",
    "Работая со строками, мы будем использовать очень много методов. Методы отличаются от функций тем, что вызываются от имени переменной через точку. Например poem_num.upper() - метод `upper()` вызывается от строковой переменной poem_num. По сути методы, это функции, которые применимы только к особому типу данных. Так, например, функция print() напечатает все, что бы мы ей не передали, а перевод к верхнему регистру (а именно это делает метод upper()) ни с одним типом данных кроме строки уже не сработает."
   ]
  },
  {
   "cell_type": "code",
   "execution_count": null,
   "id": "e999af47",
   "metadata": {},
   "outputs": [],
   "source": [
    "print(poem.upper())  # Приводит строку к верхнему регистру\n",
    "print()\n",
    "print(poem.lower())  # Приводит строку к нижнему регистру"
   ]
  },
  {
   "cell_type": "markdown",
   "id": "857fa317",
   "metadata": {},
   "source": [
    "Обратите внимание, что метод, как правило, не изменяет объект и наша строка осталась такой как была."
   ]
  },
  {
   "cell_type": "code",
   "execution_count": null,
   "id": "728b32a9",
   "metadata": {},
   "outputs": [],
   "source": [
    "print(poem)"
   ]
  },
  {
   "cell_type": "markdown",
   "id": "8f0ba42b",
   "metadata": {},
   "source": [
    "Рассмотрим самые основные методы работы со строками\n",
    "\n",
    "Метод `find()` - возвращает индекс вхождения символа в строку (или индекс первого символа подстроки в строке, если идет поиск подстроки). Зная индекс первого элемента, можем достать интересующую нас информацию."
   ]
  },
  {
   "cell_type": "code",
   "execution_count": null,
   "id": "bb1acdae",
   "metadata": {},
   "outputs": [],
   "source": [
    "uaz = \"Patriot Цена: 1 480 000 ₽ присутствуют скидки\"\n",
    "\n",
    "print(uaz.find('Цена'))  # Нашли индекс Ц - начала подстроки \"Цена:\"\n",
    "print(uaz.find('₽'))  # Нашли индекс ₽\n",
    "price = uaz[uaz.find('Цена:')+6:uaz.find('₽')-1]  # Вывели срез от от начала до конца цены (с помощью значений 6 и -1\n",
    "                                                  # указали индексы до начала и конца цены)\n",
    "print(price)"
   ]
  },
  {
   "cell_type": "markdown",
   "id": "bac6702e",
   "metadata": {},
   "source": [
    "Если в строке нет искомой подстроки, то выведется -1. Это не значит, что первый символ находится на последнем месте, это значит, что такой подстроки в строке не встречается."
   ]
  },
  {
   "cell_type": "code",
   "execution_count": null,
   "id": "c7801611",
   "metadata": {},
   "outputs": [],
   "source": [
    "uaz.find(\"Lada\")"
   ]
  },
  {
   "cell_type": "markdown",
   "id": "8fcb8796",
   "metadata": {},
   "source": [
    "А если подстрока входит в строку несколько раз, то find() вернет индекс только для первого вхождения."
   ]
  },
  {
   "cell_type": "code",
   "execution_count": null,
   "id": "bd0045ff",
   "metadata": {},
   "outputs": [],
   "source": [
    "uaz.find(\"и\")"
   ]
  },
  {
   "cell_type": "markdown",
   "id": "4fce241c",
   "metadata": {},
   "source": [
    "Есть модификация метода find(): rfind(substring) - возвращает позицию самого правого вхождения подстроки substring в строку string или -1, если подстрока не найдена."
   ]
  },
  {
   "cell_type": "markdown",
   "id": "1dd8e3a6",
   "metadata": {},
   "source": [
    "Метод `replace()` может заменить символ или подстроку в строке. Метод принимает два аргумента - что меняем и на что меняем."
   ]
  },
  {
   "cell_type": "code",
   "execution_count": null,
   "id": "7fe4782b",
   "metadata": {},
   "outputs": [],
   "source": [
    "price = price.replace(\" \", \"\")  # Убираем пробелы\n",
    "price = price.replace(\"0\", \"9\", 3)  # Третий параметр означает то, сколько вхождений хотим изменить. Иначе, заменяет все\n",
    "int(price)"
   ]
  },
  {
   "cell_type": "markdown",
   "id": "09ce2810",
   "metadata": {},
   "source": [
    "Рассмотрим следующую задачу: у нас есть строка, в которой собраны данные ответа на вопрос о качестве оказанной услуги. Каждый ответ отделен точкой с запятой от следующего. Требуется напечатать каждый ответ на новой строке."
   ]
  },
  {
   "cell_type": "code",
   "execution_count": null,
   "id": "37818413",
   "metadata": {},
   "outputs": [],
   "source": [
    "s = \"Отлично;Хорошо;Удовлетворительно;Не удовлетворительно\"\n",
    "\n",
    "while len(s) > 0:  # Будем отрезать от нашей строки элементы, пока она не станет равна нулю\n",
    "    idx = s.find(';')  # Ищем индекс первого вхождения ;\n",
    "    if idx == -1:  # Если ; нет, то печатаем строку\n",
    "        print(s)\n",
    "        s = ''  # Заменяем строку на пустую строку длины 0, чтобы цикл не запустился на следующую итерацию\n",
    "    else:\n",
    "        print(s[:idx])  # Если нашли ;, то печатаем строку от начала и до ;\n",
    "        s = s[idx+1:]  # А теперь отрезаем тот кусок, который только что напечатали и сам ; (для этого +1). Это делаем для того,\n",
    "                       # чтобы на вход в цикл пришла строка уже без этого куска"
   ]
  },
  {
   "cell_type": "markdown",
   "id": "0fa11f9d",
   "metadata": {},
   "source": [
    "Методы `startswith()` и `endswith()` проверяют, стоит ли искомая построка в начале или в конце строки."
   ]
  },
  {
   "cell_type": "code",
   "execution_count": null,
   "id": "860964b9",
   "metadata": {},
   "outputs": [],
   "source": [
    "s = 'Отлично;Хорошо;Удовлетворительно;Не удовлетворительно'\n",
    "\n",
    "print(s)\n",
    "print(s.startswith(\"Отл\"))  # Данный метод проверяет, начинается ли исходная строка на данную подстроку\n",
    "print(s.endswith(\"удовлетворительно\"))"
   ]
  },
  {
   "cell_type": "markdown",
   "id": "56477837",
   "metadata": {},
   "source": [
    "Метод `strip()`, а также `lstrip()` и `rstrip()`, работающие только с одной стороны строки, удаляет незначимые символы (пробелы, табуляцию и т.д.) с краев строк. Очень полезный метод, когда мы собираем информацию из интернета. Если этим методам передать аргумент, то они удалят подстроку."
   ]
  },
  {
   "cell_type": "code",
   "execution_count": null,
   "id": "6de4ea33",
   "metadata": {},
   "outputs": [],
   "source": [
    "print(' russia.ru   '.strip())  # Удалили пробельные символы слева и справа\n",
    "print('russia.ru'.strip('ru'))  # Удалили ru с обеих сторон\n",
    "print('russia.ru'.lstrip('ru'))  # Удалили ru слева\n",
    "print('russia.ru'.rstrip('ru'))  # Удалили ru справа"
   ]
  },
  {
   "cell_type": "markdown",
   "id": "a176478c",
   "metadata": {},
   "source": [
    "В реальности strip() часто используется для нормализации email'ов или других идентификторов."
   ]
  },
  {
   "cell_type": "code",
   "execution_count": null,
   "id": "9955cfa2",
   "metadata": {},
   "outputs": [],
   "source": [
    "print('      pileyan@gmail.com       '.strip())"
   ]
  },
  {
   "cell_type": "markdown",
   "id": "8dcd0912",
   "metadata": {},
   "source": [
    "Применение метода `count()`"
   ]
  },
  {
   "cell_type": "code",
   "execution_count": null,
   "id": "ac5ea6f4",
   "metadata": {},
   "outputs": [],
   "source": [
    "uaz = \"Patriot Цена: 1 480 000 ₽ присутствуют скидки\"  # Исходная строка\n",
    "print(uaz.count(\"и\"))  # Ищем строчную букву и\n",
    "print(uaz.count(\"0\"))  # Ищем 0\n",
    "print(uaz.count(\"00\"))  # Ищем два 00\n",
    "print(uaz.count(\"скидка\"))  # Ищем подстроку 'скидки', не находим\n",
    "print(uaz.count(\"и\", 25, 38))  # Ищем букву и в s[25:38]\n",
    "print(uaz.count(\"и\", 39))  # Ищем букву и в s[39:]"
   ]
  },
  {
   "cell_type": "markdown",
   "id": "652cc116",
   "metadata": {},
   "source": [
    "Отдельное семейство методов строк отвечает за проверку на соответствие условиям."
   ]
  },
  {
   "cell_type": "code",
   "execution_count": null,
   "id": "dc7f6ee4",
   "metadata": {},
   "outputs": [],
   "source": [
    "# isalpha - проверяет, что все символы строки являются буквами.\n",
    "print(uaz.isalpha())\n",
    "print(\"Patriot\".isalpha())\n",
    "\n",
    "# isdigit - проверяет, что все символы строки являются цифрами.\n",
    "print(\"13242\".isdigit())\n",
    "\n",
    "# isalnum - проверяет, что все символы строки являются буквами или цифрами.\n",
    "print(\"Patriot 1 480 000 ₽\".isalnum())\n",
    "print(\"Patriot1480000₽\".isalnum())\n",
    "print(\"Patriot1480000\".isalnum())\n",
    "\n",
    "# islower - проверяет, что все символы строки являются маленькими (строчными) буквами.\n",
    "print('Patriot'.islower())\n",
    "print('patriot1480000'.islower())\n",
    "\n",
    "# isupper - проверяет, что все символы строки являются большими (заглавными, прописными) буквами.\n",
    "print('PATRIOT1480000'.isupper())"
   ]
  },
  {
   "cell_type": "code",
   "execution_count": null,
   "id": "35252ccc",
   "metadata": {},
   "outputs": [],
   "source": [
    "uaz = \"Patriot Цена: 1 480 000 ₽ присутствуют скидки\"\n",
    "\n",
    "# title - переводит первую букву всех слов к верхнему регистру\n",
    "print(uaz.title())\n",
    "\n",
    "# swapcase - меняет регистр на противоположный\n",
    "print(uaz.swapcase())\n",
    "\n",
    "# capitalize - переводит первую букву строки в верхний регистра, а остальные - в нижний\n",
    "uaz = \"patriot Цена: 1 480 000 ₽ присутствуют скидки\"\n",
    "uaz.capitalize()"
   ]
  },
  {
   "cell_type": "markdown",
   "id": "bf2d5d34",
   "metadata": {},
   "source": [
    "### Задача\n",
    "\n",
    "Пользователь должен придумать пароль для своей учетной записи. Пароль должен состоять только из цифр и букв."
   ]
  },
  {
   "cell_type": "code",
   "execution_count": null,
   "id": "33a3e990",
   "metadata": {},
   "outputs": [],
   "source": [
    "password = input(\"Введите пароль: \")\n",
    "\n",
    "if password.isalnum() == False:\n",
    "    print(\"Пароль должен состоять только из букв и цифр!\")\n",
    "else:\n",
    "     print(\"Пароль сохранен\")"
   ]
  },
  {
   "cell_type": "markdown",
   "id": "18d2bba8",
   "metadata": {},
   "source": [
    "А теперь давайте усложним и добавим проверку на то, что хотя бы одна буква должна быть заглавная."
   ]
  },
  {
   "cell_type": "code",
   "execution_count": null,
   "id": "cabd1c5f",
   "metadata": {},
   "outputs": [],
   "source": [
    "password = input(\"Введите пароль: \")\n",
    "\n",
    "if password.isalnum() == False:\n",
    "    print(\"Пароль должен состоять только из букв и цифр!\")\n",
    "else:     \n",
    "    if password.islower() == True:\n",
    "        print(\"Пароль должен содержать как минимум одну заглавную букву!\")\n",
    "    else:\n",
    "        print(\"Пароль сохранен\")"
   ]
  },
  {
   "cell_type": "markdown",
   "id": "13b866ca",
   "metadata": {},
   "source": [
    "# Цикл For\n",
    "## Функция range()\n",
    "\n",
    "* range(стоп) берет один аргумент\n",
    "* range(старт, стоп) берет два аргумента\n",
    "* range(старт, стоп, шаг) берет три аргумента\n",
    "\n",
    "Примеры:"
   ]
  },
  {
   "cell_type": "code",
   "execution_count": null,
   "id": "3881b25b",
   "metadata": {},
   "outputs": [],
   "source": [
    "range(5)"
   ]
  },
  {
   "cell_type": "code",
   "execution_count": null,
   "id": "93a6608c",
   "metadata": {},
   "outputs": [],
   "source": [
    "list(range(5))"
   ]
  },
  {
   "cell_type": "code",
   "execution_count": null,
   "id": "a0f19142",
   "metadata": {},
   "outputs": [],
   "source": [
    "range(1,5)"
   ]
  },
  {
   "cell_type": "code",
   "execution_count": null,
   "id": "49779f9c",
   "metadata": {},
   "outputs": [],
   "source": [
    "list(range(1,5))"
   ]
  },
  {
   "cell_type": "code",
   "execution_count": null,
   "id": "be08d545",
   "metadata": {},
   "outputs": [],
   "source": [
    "list(range(1,17,5))"
   ]
  },
  {
   "cell_type": "code",
   "execution_count": null,
   "id": "c3df5e89",
   "metadata": {},
   "outputs": [],
   "source": [
    "list(range(10,1,-1))"
   ]
  },
  {
   "cell_type": "markdown",
   "id": "1a0f670d",
   "metadata": {},
   "source": [
    "В цикле `for` действие выполняется для всех элементов какой-то последовательности: они перебираются по очереди, и с каждым производится действие.\n",
    "\n",
    "Пример 1:"
   ]
  },
  {
   "cell_type": "code",
   "execution_count": 2,
   "id": "b1b12505",
   "metadata": {},
   "outputs": [
    {
     "name": "stdout",
     "output_type": "stream",
     "text": [
      "1020304050"
     ]
    }
   ],
   "source": [
    "my_list = [10, 20, 30, 40, 50]\n",
    "for i in my_list:\n",
    "    print(i)"
   ]
  },
  {
   "cell_type": "code",
   "execution_count": null,
   "id": "f1a4ea5f",
   "metadata": {},
   "outputs": [],
   "source": [
    "my_list = [10, 20, 30, 40, 50]\n",
    "for i in my_list:\n",
    "    if i > 30:\n",
    "        print(i)\n",
    "    elif i == 30:\n",
    "        print(0)\n",
    "    else:\n",
    "        print(i/2)"
   ]
  },
  {
   "cell_type": "markdown",
   "id": "9ec86fea",
   "metadata": {},
   "source": [
    "Пример 2:"
   ]
  },
  {
   "cell_type": "code",
   "execution_count": null,
   "id": "f001f7fc",
   "metadata": {},
   "outputs": [],
   "source": [
    "slovo = 'Привет мир!'\n",
    "\n",
    "for l in slovo:\n",
    "    print(l)"
   ]
  },
  {
   "cell_type": "markdown",
   "id": "b0d5bbe2",
   "metadata": {},
   "source": [
    "Пример 3:"
   ]
  },
  {
   "cell_type": "code",
   "execution_count": null,
   "id": "ea749bd3",
   "metadata": {},
   "outputs": [],
   "source": [
    "my_list = [10, 20, 30, 40, 50]\n",
    "for i in range(len(my_list)):\n",
    "    my_list[i] *= 2\n",
    "print(my_list)"
   ]
  },
  {
   "cell_type": "markdown",
   "id": "6be6744f",
   "metadata": {},
   "source": [
    "### Задача\n",
    "\n",
    "Даны два целых числа A и B (при этом A ≤ B). Выведите все числа от A до B включительно."
   ]
  },
  {
   "cell_type": "code",
   "execution_count": null,
   "id": "16b8b742",
   "metadata": {},
   "outputs": [],
   "source": [
    "a = int(input())\n",
    "b = int(input())\n",
    "\n",
    "for i in range(a, b + 1):\n",
    "    print(i, end = \" \")"
   ]
  },
  {
   "cell_type": "markdown",
   "id": "afb6eb16",
   "metadata": {},
   "source": [
    "### Задача\n",
    "\n",
    "Дано несколько целых чисел. Вычислите их сумму и количество."
   ]
  },
  {
   "cell_type": "code",
   "execution_count": null,
   "id": "658ee67a",
   "metadata": {},
   "outputs": [],
   "source": [
    "spisok = list(map(int,input().split()))\n",
    "s = 0\n",
    "c = 0\n",
    "for i in spisok:\n",
    "    s += i\n",
    "    c += 1\n",
    "print(s, c)"
   ]
  },
  {
   "cell_type": "code",
   "execution_count": null,
   "id": "76c398d9",
   "metadata": {},
   "outputs": [],
   "source": [
    "# Можно конечно и так, но всё таки, мы тут изучаем for\n",
    "\n",
    "spisok = list(map(int,input().split()))\n",
    "s = sum(spisok)\n",
    "c = len(spisok)\n",
    "\n",
    "print(s, c)"
   ]
  },
  {
   "cell_type": "markdown",
   "id": "f66a8a51",
   "metadata": {},
   "source": [
    "### Задача\n",
    "\n",
    "Дан список lst = [11, 5, 8, 32, 15, 3, 20, 132, 21, 4, 555, 9, 20]. Необходимо вывести элементы, которые одновременно:\n",
    "1. меньше 30\n",
    "2. делятся на 3 без остатка\n",
    "\n",
    "Все остальные элементы списка необходимо просуммировать и вывести конечный результат."
   ]
  },
  {
   "cell_type": "code",
   "execution_count": null,
   "id": "2dd3eea7",
   "metadata": {},
   "outputs": [],
   "source": [
    "lst = [11, 5, 8, 32, 15, 3, 20, 132, 21, 4, 555, 9, 20]\n",
    "summ = 0\n",
    "for i in lst:\n",
    "    if (i < 30) and (i % 3 == 0):\n",
    "        print(i, end = \" \")\n",
    "    else:\n",
    "        summ += i\n",
    "print()\n",
    "print(summ)"
   ]
  },
  {
   "cell_type": "markdown",
   "id": "fc528004",
   "metadata": {},
   "source": [
    "### Задача\n",
    "\n",
    "Согласно политике безопасности банка, пароль не может содержать года рождения клиента — иначе вероятность подобрать пароль увеличивается. Напишите программу, которая будет проводить такую проверку.\n",
    "\n",
    "**Ввод**\n",
    "\n",
    "На первой строке — полный год рождения клиента (то есть 4 символа, например, «1968»). На второй строке — три варианта пароля, придуманных клиентом, записанных через пробел.\n",
    "\n",
    "**Вывод**\n",
    "\n",
    "True, если в пароле есть подстрока с годом рождения, и False, если нет. Ответ по каждому варианту пароля нужно выводить с новой строки."
   ]
  },
  {
   "cell_type": "code",
   "execution_count": null,
   "id": "856007fa",
   "metadata": {},
   "outputs": [],
   "source": [
    "year = input()\n",
    "pas = input().split()\n",
    "for i in pas:\n",
    "    if year in i:\n",
    "        print(True)\n",
    "    else:\n",
    "        print(False)"
   ]
  },
  {
   "cell_type": "code",
   "execution_count": null,
   "id": "7c36d1cb",
   "metadata": {},
   "outputs": [],
   "source": [
    "# Более короткий вариант написания кода\n",
    "\n",
    "year = input()\n",
    "pas = input().split()\n",
    "for i in pas:\n",
    "    print(year in i)"
   ]
  },
  {
   "cell_type": "markdown",
   "id": "2de9ef42",
   "metadata": {},
   "source": [
    "# Списковые включения (list comprehension)"
   ]
  },
  {
   "cell_type": "markdown",
   "id": "db88761c",
   "metadata": {},
   "source": [
    "Для генерации списков из неповторяющихся элементов в Python имеется удобная синтаксическая конструкция — списочное выражение (list comprehension). Она позволяет создавать элементы списка в цикле for, не записывая цикл целиком.\n",
    "\n",
    "Для создания списка, заполненного одинаковыми элементами, можно использовать оператор повторения списка, например:"
   ]
  },
  {
   "cell_type": "code",
   "execution_count": null,
   "id": "e9dda1ce",
   "metadata": {},
   "outputs": [],
   "source": [
    "n = 5\n",
    "a = [0] * n\n",
    "print(a)"
   ]
  },
  {
   "cell_type": "markdown",
   "id": "b016f937",
   "metadata": {},
   "source": [
    "Для создания списков, заполненных по более сложным формулам можно использовать генераторы: выражения, позволяющие заполнить список некоторой формулой. Общий вид генератора следующий:\n",
    "\n",
    "[выражение **for** переменная **in** список]\n",
    "\n",
    "где переменная — идентификатор некоторой переменной, список — список значений, который принимает данная переменная (как правило, полученный при помощи функции range), выражение — некоторое выражение, которым будут заполнены элементы списка, как правило, зависящее от использованной в генераторе переменной.\n",
    "\n",
    "Вот несколько примеров использования генераторов.\n",
    "\n",
    "Создать список, состоящий из n нулей можно и при помощи генератора:"
   ]
  },
  {
   "cell_type": "code",
   "execution_count": null,
   "id": "d5d31355",
   "metadata": {},
   "outputs": [],
   "source": [
    "a = [0 for i in range(n)]\n",
    "print(a)"
   ]
  },
  {
   "cell_type": "markdown",
   "id": "348118a3",
   "metadata": {},
   "source": [
    "Если нужно заполнить список квадратами чисел от 1 до n, то можно изменить параметры функции `range` на `range(1, n + 1)`:"
   ]
  },
  {
   "cell_type": "code",
   "execution_count": null,
   "id": "85b0c0ab",
   "metadata": {},
   "outputs": [],
   "source": [
    "a = [i ** 2 for i in range(n)]\n",
    "print(a)"
   ]
  },
  {
   "cell_type": "code",
   "execution_count": null,
   "id": "e020e51f",
   "metadata": {},
   "outputs": [],
   "source": [
    "n = 6\n",
    "a = [i ** 2 for i in range(n)]\n",
    "print(a)"
   ]
  },
  {
   "cell_type": "markdown",
   "id": "98d50616",
   "metadata": {},
   "source": [
    "Вот так можно получить список, заполненный случайными числами от 1 до 9 (используя функцию `randint()` из модуля random):"
   ]
  },
  {
   "cell_type": "code",
   "execution_count": null,
   "id": "1cdc49ae",
   "metadata": {},
   "outputs": [],
   "source": [
    "from random import randint\n",
    "a = [randint(1, 9) for i in range(n)]\n",
    "print(a)"
   ]
  },
  {
   "cell_type": "markdown",
   "id": "bfb31ada",
   "metadata": {},
   "source": [
    "А в этом примере список будет состоять из строк, считанных со стандартного ввода: сначала нужно ввести число элементов списка (это значение будет использовано в качестве аргумента функции range), потом — заданное количество строк:"
   ]
  },
  {
   "cell_type": "code",
   "execution_count": null,
   "id": "f1386e2c",
   "metadata": {},
   "outputs": [],
   "source": [
    "a = [input() for i in range(int(input()))]\n",
    "print(a)"
   ]
  },
  {
   "cell_type": "markdown",
   "id": "30abc8a0",
   "metadata": {},
   "source": [
    "В списковое включение можно добавить какое нибудь условие (как мы это делали с **if**).\n",
    "\n",
    "new_list = [expression **for** member **in** iterable **if** conditional]\n",
    "\n",
    "Разберем на примере:"
   ]
  },
  {
   "cell_type": "code",
   "execution_count": null,
   "id": "79d716e8",
   "metadata": {},
   "outputs": [],
   "source": [
    "lst = [1, 2, 3, 4, 5, 45, 67, 8, 765, 854, 76]\n",
    "x = [i for i in lst if i % 2 == 0]\n",
    "print(x)"
   ]
  },
  {
   "cell_type": "markdown",
   "id": "f74fc751",
   "metadata": {},
   "source": [
    "В условии написано iterable, а не list. Значит можно попробовать проделать что-то подобное с любыми другими итерируемыми объектами."
   ]
  },
  {
   "cell_type": "code",
   "execution_count": null,
   "id": "b997f240",
   "metadata": {},
   "outputs": [],
   "source": [
    "# Предложение\n",
    "sentence = '''высокоуровневый язык программирования общего назначения с динамической строгой типизацией и \n",
    "                автоматическим управлением памятью...'''\n",
    "\n",
    "# Исключаем часть букв, пробел, точка и перенос строки\n",
    "vowels = 'ауоыийэяюёе .\\n'\n",
    "\n",
    "# Достанем в список все символы строки, которые не являются гласными, пробелом или точной.\n",
    "consonants = [i for i in sentence if i not in vowels]\n",
    "print(consonants, end='')"
   ]
  },
  {
   "cell_type": "markdown",
   "id": "8d7f8374",
   "metadata": {},
   "source": [
    "Для простой фильтрации можно поместить условие в конец оператора, но что для изменения значение элемента вместо его фильтрации нужно применять следующую конструкцию:\n",
    "\n",
    "    new_list = [expression (if conditional) for member in iterable]"
   ]
  },
  {
   "cell_type": "code",
   "execution_count": null,
   "id": "b5bdd4c9",
   "metadata": {},
   "outputs": [],
   "source": [
    "original_prices = [1.25, -9.45, 10.22, 3.78, -5.92, 1.16]\n",
    "prices = [i if i > 0 else 0 for i in original_prices]\n",
    "print(prices)"
   ]
  },
  {
   "cell_type": "markdown",
   "id": "2ab31e6b",
   "metadata": {},
   "source": [
    "Здесь, наше выражение **i** содержит условный оператор, **if i> 0** else **0**. Это говорит Python выводить значение **i**, если число положительное, но менять **i** на **0**, если число отрицательное."
   ]
  },
  {
   "cell_type": "markdown",
   "id": "45ba9220",
   "metadata": {},
   "source": [
    "## Включения для множеств"
   ]
  },
  {
   "cell_type": "markdown",
   "id": "833ed284",
   "metadata": {},
   "source": [
    "Хотя **list comprehension** в Python является распространенным инструментом, вы также можете создавать множественные и словарные представления (**set and dictionary comprehensions**). **set comprehension** почти точно такое же, как представление списка. Разница лишь в том, что заданные значения обеспечивают, чтобы выходные данные не содержали дубликатов. Вы можете создать **set comprehension**, используя фигурные скобки вместо скобок:"
   ]
  },
  {
   "cell_type": "code",
   "execution_count": null,
   "id": "a98b137d",
   "metadata": {},
   "outputs": [],
   "source": [
    "sentence = '''высокоуровневый язык программирования общего назначения с динамической строгой типизацией и \n",
    "                автоматическим управлением памятью...'''\n",
    "\n",
    "print(sentence)\n",
    "unique_vowels = {i for i in sentence if i in 'ауоыиэяюёе'}\n",
    "print(unique_vowels)"
   ]
  },
  {
   "cell_type": "markdown",
   "id": "9dc7fef1",
   "metadata": {},
   "source": [
    "Здесь мы вывели все уникальные гласные, которые встретились в строке."
   ]
  },
  {
   "cell_type": "markdown",
   "id": "fa894d4a",
   "metadata": {},
   "source": [
    "# Многомерные списки"
   ]
  },
  {
   "cell_type": "markdown",
   "id": "fc3429e1",
   "metadata": {},
   "source": [
    "Для создания одномерного списка мы использовали следующую конструкцию:"
   ]
  },
  {
   "cell_type": "code",
   "execution_count": null,
   "id": "4b2077d8",
   "metadata": {},
   "outputs": [],
   "source": [
    "n = 5\n",
    "a = [0] * n\n",
    "print(a)"
   ]
  },
  {
   "cell_type": "code",
   "execution_count": null,
   "id": "61539a83",
   "metadata": {},
   "outputs": [],
   "source": [
    "n = 5\n",
    "m = 4\n",
    "a = [[0] * m] * n\n",
    "print(a)"
   ]
  },
  {
   "cell_type": "code",
   "execution_count": null,
   "id": "a586611e",
   "metadata": {},
   "outputs": [],
   "source": [
    "a[0][1]  # Обратимся к элементу 0,1"
   ]
  },
  {
   "cell_type": "code",
   "execution_count": null,
   "id": "d3043882",
   "metadata": {},
   "outputs": [],
   "source": [
    "# Изменим данный элемент и вызовем наш список на печать\n",
    "\n",
    "a[0][1] = 3\n",
    "print(a)"
   ]
  },
  {
   "cell_type": "markdown",
   "id": "936dd354",
   "metadata": {},
   "source": [
    "Создадим более удобный, с визуальной точки зрения, вывод нашего списка."
   ]
  },
  {
   "cell_type": "code",
   "execution_count": null,
   "id": "8e251505",
   "metadata": {},
   "outputs": [],
   "source": [
    "for i in range(len(a)):\n",
    "    for j in range(len(a[i])):\n",
    "        print(a[i][j], end = \"\\t\")\n",
    "    print()"
   ]
  },
  {
   "cell_type": "markdown",
   "id": "46d117fb",
   "metadata": {},
   "source": [
    "Несколько способов создания двухмерного списка:"
   ]
  },
  {
   "cell_type": "code",
   "execution_count": null,
   "id": "a05f2948",
   "metadata": {},
   "outputs": [],
   "source": [
    "# Первый способ\n",
    "\n",
    "n = 5\n",
    "m = 4\n",
    "a = [0] * n\n",
    "for i in range(n):\n",
    "    a[i] = [0] * m\n",
    "\n",
    "# Изменим элемент\n",
    "a[0][1] = 3  \n",
    "\n",
    "# Печать списка\n",
    "for i in range(len(a)):\n",
    "    for j in range(len(a[i])):\n",
    "        print(a[i][j], end = \"\\t\")\n",
    "    print()"
   ]
  },
  {
   "cell_type": "code",
   "execution_count": null,
   "id": "9f69e4fc",
   "metadata": {},
   "outputs": [],
   "source": [
    "# Второй способ\n",
    "\n",
    "n = 5\n",
    "m = 4\n",
    "a = []\n",
    "for i in range(n):\n",
    "    a.append([1] * m)\n",
    "\n",
    "# Изменим элемент\n",
    "a[0][1] = 3  \n",
    "\n",
    "# Печать списка\n",
    "for i in range(len(a)):\n",
    "    for j in range(len(a[i])):\n",
    "        print(a[i][j], end = \"\\t\")\n",
    "    print()"
   ]
  },
  {
   "cell_type": "code",
   "execution_count": null,
   "id": "add74a4d",
   "metadata": {},
   "outputs": [],
   "source": [
    "# Третий способ\n",
    "\n",
    "n = 5\n",
    "m = 4\n",
    "\n",
    "a = [[2] * m for i in range(n)]\n",
    "\n",
    "# Изменим элемент\n",
    "a[0][1] = 3  \n",
    "\n",
    "# Печать списка\n",
    "for i in range(len(a)):\n",
    "    for j in range(len(a[i])):\n",
    "        print(a[i][j], end = \"\\t\")\n",
    "    print()"
   ]
  },
  {
   "cell_type": "markdown",
   "id": "1566a9c1",
   "metadata": {},
   "source": [
    "Осуществим ввод двухмерного списка целых чисел с клавиатуры."
   ]
  },
  {
   "cell_type": "code",
   "execution_count": null,
   "id": "f6e7c8b2",
   "metadata": {},
   "outputs": [],
   "source": [
    "print(\"Введите количество строк списка\")\n",
    "n = int(input())\n",
    "\n",
    "a = []\n",
    "for i in range(n):\n",
    "    a.append(list(map(int,input().split())))\n",
    "\n",
    "# Печать списка\n",
    "for i in range(len(a)):\n",
    "    for j in range(len(a[i])):\n",
    "        print(a[i][j], end = \"\\t\")\n",
    "    print()"
   ]
  },
  {
   "cell_type": "code",
   "execution_count": null,
   "id": "98862a70",
   "metadata": {},
   "outputs": [],
   "source": [
    "a = [list(map(int,input().split())) for i in range(int(input()))]\n",
    "\n",
    "# Печать списка\n",
    "for i in range(len(a)):\n",
    "    for j in range(len(a[i])):\n",
    "        print(a[i][j], end = \"\\t\")\n",
    "    print()"
   ]
  },
  {
   "cell_type": "markdown",
   "id": "5c61d204",
   "metadata": {},
   "source": [
    "Заполнение двухмерного списка случайными числами."
   ]
  },
  {
   "cell_type": "code",
   "execution_count": null,
   "id": "207c0a28",
   "metadata": {},
   "outputs": [],
   "source": [
    "import random\n",
    "print(\"Введите размерность списка\")\n",
    "n, m = map(int, input().split())\n",
    "\n",
    "a = [[0] * m for i in range(n)]\n",
    "\n",
    "print(\"Введите диапозон случайных чисел\")\n",
    "r_min, r_max = map(int, input().split())\n",
    "\n",
    "for i in range(n):\n",
    "    for j in range(m):\n",
    "        a[i][j] = random.randint(r_min, r_max)\n",
    "\n",
    "for i in a:\n",
    "    for j in i:\n",
    "        print(j, end = \"\\t\")\n",
    "    print()"
   ]
  },
  {
   "cell_type": "markdown",
   "id": "0deaca98",
   "metadata": {},
   "source": [
    "Создадим квадратный двухмерный список, у которого главная диагональ будет заполнена единицами. Выши главной диагонали список будет заполнен нулями, нижи главной диагонали будут двойки."
   ]
  },
  {
   "cell_type": "code",
   "execution_count": null,
   "id": "350beed1",
   "metadata": {},
   "outputs": [],
   "source": [
    "# Первый способ\n",
    "\n",
    "print(\"Введите размерность матрицы \")\n",
    "n = int(input())\n",
    "\n",
    "a = [[0] * n for i in range(n)]\n",
    "\n",
    "for i in range(n):\n",
    "    for j in range(n):\n",
    "        if i < j:\n",
    "            a[i][j] = 0\n",
    "        elif i > j:\n",
    "            a[i][j] = 2\n",
    "        else:\n",
    "            a[i][j] = 1\n",
    "\n",
    "for i in a:\n",
    "    for j in i:\n",
    "        print(j, end = \"\\t\")\n",
    "    print()"
   ]
  },
  {
   "cell_type": "code",
   "execution_count": null,
   "id": "f7227683",
   "metadata": {},
   "outputs": [],
   "source": [
    "# Второй способ\n",
    "\n",
    "print(\"Введите размерность матрицы \")\n",
    "n = int(input())\n",
    "\n",
    "a = [[0] * n for i in range(n)]\n",
    "for i in range(n):\n",
    "    a[i][i] = 1\n",
    "#     for j in range(i + 1, n):\n",
    "#          a[i][j] = 3\n",
    "    for j in range(0, i):\n",
    "         a[i][j] = 2\n",
    "\n",
    "for i in a:\n",
    "    for j in i:\n",
    "        print(j, end = \"\\t\")\n",
    "    print()"
   ]
  },
  {
   "cell_type": "code",
   "execution_count": null,
   "id": "2fee9629",
   "metadata": {},
   "outputs": [],
   "source": [
    "# Третий способ\n",
    "\n",
    "print(\"Введите размерность матрицы \")\n",
    "n = int(input())\n",
    "\n",
    "a = [[2] * i + [1] + [0] * (n - 1 - i) for i in range(n)]\n",
    "\n",
    "for i in a:\n",
    "    for j in i:\n",
    "        print(j, end = \"\\t\")\n",
    "    print()"
   ]
  },
  {
   "cell_type": "markdown",
   "id": "ba9b6ec6",
   "metadata": {},
   "source": [
    "Транспонирование нашей матрицы:"
   ]
  },
  {
   "cell_type": "code",
   "execution_count": null,
   "id": "cefb2b84",
   "metadata": {},
   "outputs": [],
   "source": [
    "# Первый способ\n",
    "\n",
    "a_transposed = []\n",
    "a_temp = []\n",
    "\n",
    "for i in range(len(a[0])):\n",
    "    for j in range(len(a)):\n",
    "        a_temp.append(a[j][i])\n",
    "    a_transposed.append(a_temp)\n",
    "    a_temp = []\n",
    "\n",
    "for i in a_transposed:\n",
    "    for j in i:\n",
    "        print(j, end = \"\\t\")\n",
    "    print()"
   ]
  },
  {
   "cell_type": "code",
   "execution_count": null,
   "id": "0b852df6",
   "metadata": {},
   "outputs": [],
   "source": [
    "# Второй способ\n",
    "\n",
    "a_transposed = [[row[i] for row in a] for i in range(len(a[0]))]\n",
    "\n",
    "for i in a_transposed:\n",
    "    for j in i:\n",
    "        print(j, end = \"\\t\")\n",
    "    print()"
   ]
  },
  {
   "cell_type": "code",
   "execution_count": null,
   "id": "0b4665d9",
   "metadata": {},
   "outputs": [],
   "source": [
    "# Без создания нового списка\n",
    "\n",
    "for i in range(len(a)):\n",
    "    for j in range(i+1, len(a)):\n",
    "        a[i][j], a[j][i] = a[j][i], a[i][j]\n",
    "\n",
    "\n",
    "for i in a_transposed:\n",
    "    for j in i:\n",
    "        print(j, end = \"\\t\")\n",
    "    print()"
   ]
  },
  {
   "cell_type": "code",
   "execution_count": null,
   "id": "a95d5296",
   "metadata": {},
   "outputs": [],
   "source": [
    "# Если список не квадратный\n",
    "\n",
    "a = [[1, 2, 3],\n",
    "    [4, 5, 6]]\n",
    "\n",
    "a_transposed = [[row[i] for row in a] for i in range(len(a[0]))]\n",
    "\n",
    "for i in a_transposed:\n",
    "    for j in i:\n",
    "        print(j, end = \"\\t\")\n",
    "    print()"
   ]
  },
  {
   "cell_type": "markdown",
   "id": "1169add9",
   "metadata": {},
   "source": [
    "Заполнение трехмерного списка случайными числами."
   ]
  },
  {
   "cell_type": "code",
   "execution_count": null,
   "id": "36943cb3",
   "metadata": {},
   "outputs": [],
   "source": [
    "import random\n",
    "print(\"Введите размерность списка\")\n",
    "n, m, z = map(int, input().split())\n",
    "\n",
    "a = [[[0] * z for j in range(m)] for i in range(n)]\n",
    "\n",
    "print(\"Введите диапозон случайных чисел\")\n",
    "r_min, r_max = map(int, input().split())\n",
    "\n",
    "for i in range(n):\n",
    "    for j in range(m):\n",
    "        for k in range(z):\n",
    "             a[i][j][k] = random.randint(r_min, r_max)\n",
    "\n",
    "for i in a:\n",
    "    for j in i:\n",
    "        for k in j:\n",
    "            print(k, end = \"\\t\")\n",
    "        print()\n",
    "    print()"
   ]
  },
  {
   "cell_type": "markdown",
   "id": "a2e62d92",
   "metadata": {},
   "source": [
    "# Словари"
   ]
  },
  {
   "cell_type": "markdown",
   "id": "e2a8051d",
   "metadata": {},
   "source": [
    "Словари(dict) в Python - неупорядоченные коллекции произвольных объектов с доступом по ключу. Их иногда ещё называют ассоциативными массивами или хеш-таблицами.\n",
    "\n",
    "Первый способ создать словарь:"
   ]
  },
  {
   "cell_type": "code",
   "execution_count": null,
   "id": "71cf2e4f",
   "metadata": {},
   "outputs": [],
   "source": [
    "# Пустой словарь\n",
    "empty_dict = {}\n",
    "\n",
    "# Словарь с двумя парами ключ-значение\n",
    "value_dict = {\"cat\": \"кошка\", \"dog\": \"собака\"}"
   ]
  },
  {
   "cell_type": "code",
   "execution_count": null,
   "id": "a0f0bf64",
   "metadata": {},
   "outputs": [],
   "source": [
    "type(value_dict)"
   ]
  },
  {
   "cell_type": "markdown",
   "id": "0f81256b",
   "metadata": {},
   "source": [
    "Второй способ создать словарь:"
   ]
  },
  {
   "cell_type": "code",
   "execution_count": null,
   "id": "60c84db0",
   "metadata": {},
   "outputs": [],
   "source": [
    "dct = dict(cat=\"кошка\", dog=\"собака\", hedgehog = \"ежик\")\n",
    "print(dct)\n",
    "dct[\"animals\"] = [\"кошка\", \"собака\", \"ежик\"]\n",
    "print(dct)"
   ]
  },
  {
   "cell_type": "markdown",
   "id": "3633cea6",
   "metadata": {},
   "source": [
    "Вернуть значение ключа."
   ]
  },
  {
   "cell_type": "code",
   "execution_count": null,
   "id": "d9e5e5fd",
   "metadata": {},
   "outputs": [],
   "source": [
    "dct[\"hedgehog\"]"
   ]
  },
  {
   "cell_type": "code",
   "execution_count": null,
   "id": "34399200",
   "metadata": {},
   "outputs": [],
   "source": [
    "dct.get(\"hedgehog\")"
   ]
  },
  {
   "cell_type": "code",
   "execution_count": null,
   "id": "cb3de3d1",
   "metadata": {},
   "outputs": [],
   "source": [
    "dct.get(\"hedgeho\", \"Такого ключа нет\")"
   ]
  },
  {
   "cell_type": "markdown",
   "id": "457e651a",
   "metadata": {},
   "source": [
    "Вернуть пары."
   ]
  },
  {
   "cell_type": "code",
   "execution_count": null,
   "id": "65929098",
   "metadata": {},
   "outputs": [],
   "source": [
    "dct.items()"
   ]
  },
  {
   "cell_type": "markdown",
   "id": "3655cf3f",
   "metadata": {},
   "source": [
    "Вернуть ключи"
   ]
  },
  {
   "cell_type": "code",
   "execution_count": null,
   "id": "2d05057d",
   "metadata": {},
   "outputs": [],
   "source": [
    "dct.keys()"
   ]
  },
  {
   "cell_type": "markdown",
   "id": "ff99f405",
   "metadata": {},
   "source": [
    "Вернуть значения."
   ]
  },
  {
   "cell_type": "code",
   "execution_count": null,
   "id": "ba895c17",
   "metadata": {},
   "outputs": [],
   "source": [
    "dct.values()"
   ]
  },
  {
   "cell_type": "code",
   "execution_count": null,
   "id": "a9afc8b5",
   "metadata": {},
   "outputs": [],
   "source": [
    "# Если пройтись циклом по словарю, то выведутся только ключи\n",
    "\n",
    "for k in dct:\n",
    "    print(k)"
   ]
  },
  {
   "cell_type": "code",
   "execution_count": null,
   "id": "73a4794d",
   "metadata": {},
   "outputs": [],
   "source": [
    "# Так посмотрим только на значения\n",
    "\n",
    "for v in dct.values():\n",
    "    print(v)"
   ]
  },
  {
   "cell_type": "code",
   "execution_count": null,
   "id": "176d3db6",
   "metadata": {},
   "outputs": [],
   "source": [
    "for k,v in dct.items():\n",
    "    print(\"Ключ: {} -> Значение: {}\".format(k, v))"
   ]
  },
  {
   "cell_type": "markdown",
   "id": "f65ef3cd",
   "metadata": {},
   "source": [
    "Методы:"
   ]
  },
  {
   "cell_type": "code",
   "execution_count": null,
   "id": "d195a519",
   "metadata": {},
   "outputs": [],
   "source": [
    "# Создать словарь\n",
    "df = dict(apple='яблоко', pineapple=\"ананас\", banana=\"банан\")\n",
    "\n",
    "# Получить значение по ключу\n",
    "print(df['apple'])\n",
    "\n",
    "# Получить значение по ключу\n",
    "print(df.get('apple'))\n",
    "\n",
    "# Получить пары ключ-значение\n",
    "print(df.items())\n",
    "\n",
    "# Получить все ключи в словаре\n",
    "print(df.keys())\n",
    "\n",
    "# Получить все значения в словаре\n",
    "print(df.values())\n",
    "\n",
    "# Удалить занчение из словаря\n",
    "del df[\"banana\"]\n",
    "print(df)\n",
    "\n",
    "# Получить значение по ключу, после чего удалить\n",
    "print(df.pop('apple'))\n",
    "print(df)\n",
    "\n",
    "# Если элемента нет\n",
    "print(df.pop('lemon', \"Элемента в словаре нет\"))\n",
    "\n",
    "# Добавить новое значение в словарь\n",
    "df['cherry'] = 'вишня'\n",
    "print(df)\n",
    "\n",
    "# Изменение значения\n",
    "df.update({\"banana\": \"БАНАН\"})\n",
    "print(df)"
   ]
  },
  {
   "cell_type": "markdown",
   "id": "ad51b04b",
   "metadata": {},
   "source": [
    "Включения для словарей."
   ]
  },
  {
   "cell_type": "code",
   "execution_count": null,
   "id": "9ab60d3e",
   "metadata": {},
   "outputs": [],
   "source": [
    "squares = {i: i * i for i in range(10)}\n",
    "squares"
   ]
  },
  {
   "cell_type": "markdown",
   "id": "8fd7cd6b",
   "metadata": {},
   "source": [
    "## Пример применения словарей"
   ]
  },
  {
   "cell_type": "markdown",
   "id": "281a00d4",
   "metadata": {},
   "source": [
    "Найдем пять самых часто встречающихся слова в утверждениях Zen of Python."
   ]
  },
  {
   "cell_type": "code",
   "execution_count": null,
   "id": "69258c7f",
   "metadata": {},
   "outputs": [],
   "source": [
    "import this"
   ]
  },
  {
   "cell_type": "markdown",
   "id": "153c6ba7",
   "metadata": {},
   "source": [
    "Создадим переменную zen, куда считаем все утверждения:"
   ]
  },
  {
   "cell_type": "code",
   "execution_count": null,
   "id": "32841e97",
   "metadata": {},
   "outputs": [],
   "source": [
    "zen = '''Beautiful is better than ugly.\n",
    "Explicit is better than implicit.\n",
    "Simple is better than complex.\n",
    "Complex is better than complicated.\n",
    "Flat is better than nested.\n",
    "Sparse is better than dense.\n",
    "Readability counts.\n",
    "Special cases aren't special enough to break the rules.\n",
    "Although practicality beats purity.\n",
    "Errors should never pass silently.\n",
    "Unless explicitly silenced.\n",
    "In the face of ambiguity, refuse the temptation to guess.\n",
    "There should be one-- and preferably only one --obvious way to do it.\n",
    "Although that way may not be obvious at first unless you're Dutch.\n",
    "Now is better than never.\n",
    "Although never is often better than *right* now.\n",
    "If the implementation is hard to explain, it's a bad idea.\n",
    "If the implementation is easy to explain, it may be a good idea.\n",
    "Namespaces are one honking great idea -- let's do more of those!'''"
   ]
  },
  {
   "cell_type": "markdown",
   "id": "f15e620d",
   "metadata": {},
   "source": [
    "Разобьем данную строку на слова и очистим от знаков. Очищенные слова будем поочередно добавлять в словарь zen_map. В качестве ключей в этом словаре будут выступать слова, а значениями - частота использования слов."
   ]
  },
  {
   "cell_type": "code",
   "execution_count": null,
   "id": "b90bddf0",
   "metadata": {},
   "outputs": [],
   "source": [
    "zen_map = dict()\n",
    "\n",
    "for word in zen.split():\n",
    "    cleaned_word = word.strip('.,!-* \"').lower()\n",
    "    if cleaned_word not in zen_map:\n",
    "        zen_map[cleaned_word] = 1  # Если слово ранее не встречалось, добавляем в словарь с ключом 1\n",
    "    else: \n",
    "        zen_map[cleaned_word] += 1  # Увеличиваем счетчик слов\n",
    "\n",
    "for k,v in zen_map.items():\n",
    "    print(\"Слово: {} -> Встречается: {}\".format(k, v))"
   ]
  },
  {
   "cell_type": "code",
   "execution_count": null,
   "id": "3c3d1478",
   "metadata": {},
   "outputs": [],
   "source": [
    "# Вариант программы, которая создает словарь без \"сорных\" слов\n",
    "\n",
    "zen_map = dict()\n",
    "for word in zen.split():\n",
    "    cleared_word = word.strip('.,!-* \"').lower()\n",
    "    if cleared_word not in zen_map:\n",
    "        if cleared_word not in ('this', 'is','and', 'not', 'to', 'the', 'in', 'of','for', 'than', 'there', 'at', 'if', \"\"):\n",
    "            zen_map[cleared_word]  = 1\n",
    "    else:\n",
    "        zen_map[cleared_word] += 1\n",
    "\n",
    "for k,v in zen_map.items():\n",
    "    print(\"Слово: {} -> Встречается: {}\".format(k, v))"
   ]
  },
  {
   "cell_type": "markdown",
   "id": "556a0486",
   "metadata": {},
   "source": [
    "Ключи и значения не упорядочены, поэтому организуем сортировку. Для этого можно воспользоватьс методом items(). Так мы получим zen_items - список множеств. Элементами множества будут - (ключ, значение)."
   ]
  },
  {
   "cell_type": "code",
   "execution_count": null,
   "id": "2c7419b3",
   "metadata": {},
   "outputs": [],
   "source": [
    "import operator\n",
    "\n",
    "zen_items = zen_map.items() \n",
    "word_count_items = sorted(zen_items, key=operator.itemgetter(1), reverse=True)\n",
    "\n",
    "print(word_count_items[:8])"
   ]
  },
  {
   "cell_type": "markdown",
   "id": "c52e7bc0",
   "metadata": {},
   "source": [
    "Однако, как это часто бывает в Python, уже есть встроенный модуль, который поможет решить эту задачу проще:"
   ]
  },
  {
   "cell_type": "code",
   "execution_count": null,
   "id": "557f8890",
   "metadata": {},
   "outputs": [],
   "source": [
    "from collections import Counter\n",
    "\n",
    "cleaned_list = []\n",
    "for word in zen.split():\n",
    "    cleaned_list.append(word.strip('.,!-* \"').lower())  # Очищаем строку от знаков и приводим к нижнему регистру\n",
    "\n",
    "print(Counter(cleaned_list).most_common(5)) # Вызываем Counter и обращаемся к методу most_common"
   ]
  },
  {
   "cell_type": "markdown",
   "id": "571763fc",
   "metadata": {},
   "source": [
    "### Задача\n",
    "\n",
    "Напишите программу для создания словаря из строки, где ключ – это значение символа сороки, а значение – количество их встречаемости.\n",
    "\n",
    "Пример строки: ' w3resource' </br>\n",
    "Ожидаемый результат: {'w': 1, '3': 1, 'r': 2, 'e': 2, 's': 1, 'o': 1, 'u': 1, 'c': 1}"
   ]
  },
  {
   "cell_type": "code",
   "execution_count": null,
   "id": "e333bc46",
   "metadata": {},
   "outputs": [],
   "source": [
    "di = dict()\n",
    "st = input()\n",
    "for i in st:\n",
    "    if i is not di:\n",
    "        di[i] = st.count(i)\n",
    "print(di)"
   ]
  },
  {
   "cell_type": "markdown",
   "id": "fe581411",
   "metadata": {},
   "source": [
    "# Устройство функций в Python. Написание простейших функций. Написание сложных функций.  "
   ]
  },
  {
   "cell_type": "markdown",
   "id": "ab0d47a7",
   "metadata": {},
   "source": [
    "## Функция\n",
    "\n",
    "Функцией называют именованный фрагмент программного кода, к которому можно обратиться из другого места вашей программы (но есть lambda-функции, у которых нет имени, о них будет рассказано на следующем уроке). Как правило, функции создаются для работы с данными, которые передаются ей в качестве аргументов, также функция может формировать некоторое возвращаемое значение.\n",
    "\n",
    "**Объявляя функцию, нужно следовать определенным правилам**:\n",
    "\n",
    "Объявление происходит с помощью ключевого слова **def**, за ним идёт имя функции и круглые скобки ().\n",
    "\n",
    "**Аргументы**, передаваемые в функцию, должны находится в круглых скобках. Там же можно определить их значения по умолчанию, указав их после знака равно.\n",
    "\n",
    "Перед основным содержимым желательно включить **строку документации** (docstring), которая обычно описывает назначение  и основные принципы работы функции.\n",
    "\n",
    "**Тело функции** начинается после знака двоеточия. Важно не забыть об отступах.\n",
    "\n",
    "Чтобы выйти из функции в Python, используют оператор **return [значение]**. Если оператор опущен, будет возвращено значение None."
   ]
  },
  {
   "cell_type": "code",
   "execution_count": null,
   "id": "924e208c",
   "metadata": {},
   "outputs": [],
   "source": [
    "print(1)"
   ]
  },
  {
   "cell_type": "code",
   "execution_count": null,
   "id": "30720cff",
   "metadata": {},
   "outputs": [],
   "source": [
    "len(\"123\")  # Пример функции"
   ]
  },
  {
   "cell_type": "code",
   "execution_count": null,
   "id": "7c2a17b6",
   "metadata": {},
   "outputs": [],
   "source": [
    "'asdf'.upper()  # Пример метода"
   ]
  },
  {
   "cell_type": "raw",
   "id": "889791d9",
   "metadata": {},
   "source": [
    "def Имя(аргументы):\n",
    "    '''Документация\n",
    "    '''\n",
    "    Тело (инструкции)\n",
    "    return [значение]"
   ]
  },
  {
   "cell_type": "markdown",
   "id": "4abf30f2",
   "metadata": {},
   "source": [
    "Попробуем самостоятельно реализовать функцию, складывающую два числа и выводящую результат на печать:"
   ]
  },
  {
   "cell_type": "code",
   "execution_count": null,
   "id": "6f6d4ea3",
   "metadata": {},
   "outputs": [],
   "source": [
    "def summarize(a, b):\n",
    "    summ = a + b\n",
    "    print(summ)"
   ]
  },
  {
   "cell_type": "code",
   "execution_count": null,
   "id": "144a4bda",
   "metadata": {},
   "outputs": [],
   "source": [
    "summarize(1, 2)"
   ]
  },
  {
   "cell_type": "markdown",
   "id": "00ab4715",
   "metadata": {},
   "source": [
    "Или с return:"
   ]
  },
  {
   "cell_type": "code",
   "execution_count": null,
   "id": "f9d96b34",
   "metadata": {},
   "outputs": [],
   "source": [
    "def summarize(a, b):\n",
    "    summ = a + b\n",
    "    return summ"
   ]
  },
  {
   "cell_type": "code",
   "execution_count": null,
   "id": "a4a1ec8f",
   "metadata": {},
   "outputs": [],
   "source": [
    "x = summarize(1, 2)\n",
    "print(x)"
   ]
  },
  {
   "cell_type": "markdown",
   "id": "24c3a527",
   "metadata": {},
   "source": [
    "Теперь эту функцию можно вызвать в любом месте кода.\n",
    "\n",
    "При описании функции в Python 3 можно задать аргументы с какими-либо начальными значениями, такие аргументы являются \"необязательными\". Вначале нужно описывать обязательные параметры, а после них – необязательные. При вызове функции не обязательно указывать значения \"необязательных\" параметров. Если мы хотим изменить значение аргумента, не меняя начальные значения других аргументов, можно обращаться к нему по ключу."
   ]
  },
  {
   "cell_type": "code",
   "execution_count": null,
   "id": "2b57cf0c",
   "metadata": {},
   "outputs": [],
   "source": [
    "def example(first, second=3, third=5):\n",
    "    print(first)\n",
    "    print(second)\n",
    "    print(third)\n",
    "    \n",
    "example('my string')"
   ]
  },
  {
   "cell_type": "code",
   "execution_count": null,
   "id": "9ab56d8f",
   "metadata": {},
   "outputs": [],
   "source": [
    "example('my string',second='dfgh')"
   ]
  },
  {
   "cell_type": "markdown",
   "id": "ab0f7b47",
   "metadata": {},
   "source": [
    "Пример использования функции\n",
    "вычислим значение n! + k! - p!\n",
    "\n",
    "    5! = 5*4*3*2*1"
   ]
  },
  {
   "cell_type": "code",
   "execution_count": null,
   "id": "b404d17e",
   "metadata": {},
   "outputs": [],
   "source": [
    "n, k, p = 5, 6, 3\n",
    "fn = 1\n",
    "for i in range(2, n + 1):\n",
    "    fn *= i\n",
    "fk = 1\n",
    "for i in range(2, k + 1):\n",
    "    fk *= i\n",
    "fp = 1\n",
    "for i in range(2, p + 1):\n",
    "    fp *= i\n",
    "\n",
    "fn + fk - fp"
   ]
  },
  {
   "cell_type": "code",
   "execution_count": null,
   "id": "66b3962f",
   "metadata": {},
   "outputs": [],
   "source": [
    "def factorial(N):\n",
    "    f = 1\n",
    "    for i in range(1, N+1):\n",
    "        f *= i\n",
    "    return f\n",
    "\n",
    "factorial(5) + factorial(6) - factorial(3)"
   ]
  },
  {
   "cell_type": "markdown",
   "id": "7280f727",
   "metadata": {},
   "source": [
    "## Распаковка\n",
    "\n",
    "Если мы хотим сожержимое двух списков положить в третий список или содержимое двух словарей положить в третий словарь, на помощь нам приходит так называемый \"звездочный синтаксис\":"
   ]
  },
  {
   "cell_type": "code",
   "execution_count": null,
   "id": "93f7f1f7",
   "metadata": {},
   "outputs": [],
   "source": [
    "list1 = [1,2,3]\n",
    "list2 = [4,5,6]\n",
    "\n",
    "list3 = [*list1,*list2]  # Положили все элементы обоих списков в третий\n",
    "print(list3)"
   ]
  },
  {
   "cell_type": "code",
   "execution_count": null,
   "id": "7f9a9d1f",
   "metadata": {},
   "outputs": [],
   "source": [
    "dict1 = {'a':1,'b':2,'c':3}\n",
    "dict2 = {'a':4,'e':5,'f':6}\n",
    "\n",
    "dict3 = {**dict1,**dict2}  # Положили все элементы обоих словарей в третий\n",
    "print(dict3)"
   ]
  },
  {
   "cell_type": "markdown",
   "id": "730bb792",
   "metadata": {},
   "source": [
    "Точно таким же образом можно что-то указать \"в явном виде\", а что-то распаковать из структуры (например, вы хотите дописать в новый список числа 3 и 4):"
   ]
  },
  {
   "cell_type": "code",
   "execution_count": null,
   "id": "d14ff02d",
   "metadata": {},
   "outputs": [],
   "source": [
    "list1 = [0,1,2]\n",
    "print([3,4,list1])  # Тут элементом стал сам список\n",
    "print([3,4,*list1])  # А тут мы элементы списка распаковали"
   ]
  },
  {
   "cell_type": "markdown",
   "id": "de1d3dbb",
   "metadata": {},
   "source": [
    "**В функции точно так же можно подавать несколько аргументов**\n",
    "\n",
    "Даже если вы заранее не знаете, сколько их будет. Вспомните, например, функцию print(). Она умеет давать ответ и при одном аргументе, и при двух и при любом N."
   ]
  },
  {
   "cell_type": "code",
   "execution_count": null,
   "id": "21bce14c",
   "metadata": {},
   "outputs": [],
   "source": [
    "print(1,2,3)"
   ]
  },
  {
   "cell_type": "markdown",
   "id": "87a6a0ca",
   "metadata": {},
   "source": [
    "**\\*args и \\*\\*kwargs спешат на помощь**\n",
    "\n",
    "В Python можно передать переменное количество аргументов двумя способами:\n",
    "\n",
    "* \\*args для неименованных аргументов;\n",
    "* \\*\\*kwargs для именованных аргументов.\n",
    "\n",
    "Мы используем \\*args и \\*\\*kwargs в качестве аргумента, когда заранее не известно, сколько значений мы хотим передать функции."
   ]
  },
  {
   "cell_type": "markdown",
   "id": "01332acb",
   "metadata": {},
   "source": [
    "`*args`\n",
    "\n",
    "args нужен, когда мы хотим передать неизвестное количество неименованных аргументов. Если поставить * перед именем, это имя будет принимать не один аргумент, а несколько. Аргументы передаются как кортеж и доступны внутри функции под тем же именем, что и имя параметра, только без *."
   ]
  },
  {
   "cell_type": "code",
   "execution_count": null,
   "id": "2be02c33",
   "metadata": {},
   "outputs": [],
   "source": [
    "def adder(*nums):\n",
    "    summ = 0\n",
    "    for n in nums:\n",
    "        summ += n\n",
    "\n",
    "    print(\"Sum: \", summ)\n",
    "\n",
    "adder(3, 5)\n",
    "adder(4, 5, 6, 7)\n",
    "adder(1, 2, 3, 5, 6)"
   ]
  },
  {
   "cell_type": "markdown",
   "id": "a3b685de",
   "metadata": {},
   "source": [
    "`**kwargs`\n",
    "\n",
    "По аналогии с \\*args мы используем \\*\\*kwargs для передачи переменного количества именованных аргументов. Схоже с \\*args, если поставить ** перед именем, это имя будет принимать любое количество именованных аргументов. Кортеж/словарь из нескольких переданных аргументов будет доступен под этим именем. Например:"
   ]
  },
  {
   "cell_type": "code",
   "execution_count": null,
   "id": "a3e8b6cd",
   "metadata": {},
   "outputs": [],
   "source": [
    "def dct(**data):\n",
    "    print(\"\\nData type of argument: \",type(data))\n",
    "\n",
    "    for key, value in data.items():\n",
    "        print(\"{} -> {}\".format(key, value))\n",
    "\n",
    "dct(cat=\"кошка\", dog=\"собака\", hedgehog = \"ежик\")\n",
    "dct(animals = [\"кошка\", \"собака\", \"ежик\"])"
   ]
  },
  {
   "cell_type": "markdown",
   "id": "818d4b5b",
   "metadata": {},
   "source": [
    "В этом случае у нас есть функция **dct()** с параметром \\*\\*data. В функцию мы передали два словаря разной длины. Затем внутри функции мы прошлись в цикле по словарям, чтобы вывести их содержимое."
   ]
  },
  {
   "cell_type": "markdown",
   "id": "92cb99f4",
   "metadata": {},
   "source": [
    "# Локальные и глобальные переменные. Области видимости\n",
    "\n",
    "**Локальные переменные**\n",
    "\n",
    "Для создания переменных, обладающих локальной областью видимости, необходимо всего лишь поместить их в отдельный блок кода, изолированный от остальной программы. Например, у нас таким свойством обладают все переменные, которые мы прежде использовали в функциях, например:"
   ]
  },
  {
   "cell_type": "code",
   "execution_count": null,
   "id": "df3f27b9",
   "metadata": {},
   "outputs": [],
   "source": [
    "def f(x):\n",
    "    output = x+1\n",
    "    output2 = output + 1\n",
    "    return output2\n",
    "\n",
    "print(f(4))\n",
    "print(output)"
   ]
  },
  {
   "cell_type": "markdown",
   "id": "8ca85be9",
   "metadata": {},
   "source": [
    "Функция у нас сработала, а вот переменную за пределами функции мы не видим. Попробуем изнутри функции использовать переменную определенную вовне."
   ]
  },
  {
   "cell_type": "code",
   "execution_count": null,
   "id": "a993b27d",
   "metadata": {},
   "outputs": [],
   "source": [
    "x = 11\n",
    "\n",
    "def foo(z):\n",
    "    print(x)\n",
    "    return None\n",
    "\n",
    "foo(10)"
   ]
  },
  {
   "cell_type": "markdown",
   "id": "623cd423",
   "metadata": {},
   "source": [
    "Если нам все-таки нужно использовать значение переменной \"изнутри\" функции, можно сказать , что мы объявляем глобальную переменную. Для этого используется выражение **global**"
   ]
  },
  {
   "cell_type": "code",
   "execution_count": null,
   "id": "ec906bef",
   "metadata": {},
   "outputs": [],
   "source": [
    "def f():\n",
    "    global s\n",
    "    print(s)\n",
    "    s = \"Переменная задана внутри функции\"\n",
    "    print(s)\n",
    "\n",
    "s = \"Переменная задана в основном теле программы\" \n",
    "f()\n",
    "print(s)"
   ]
  },
  {
   "cell_type": "markdown",
   "id": "e9bf10e8",
   "metadata": {},
   "source": [
    "Здесь мы вызвали функцию и она перезаписала нам значение в переменную s.\n",
    "\n",
    "**Возврат нескольких значений**\n",
    "\n",
    "Нужно упомянуть еще один факт: по команде return функция может возвращать несколько значений. Например вот функция, которая умеет выводить сумму и разность двух аргументов функции:"
   ]
  },
  {
   "cell_type": "code",
   "execution_count": null,
   "id": "56214909",
   "metadata": {},
   "outputs": [],
   "source": [
    "def sum_diff(a,b):\n",
    "    return a+b, a-b\n",
    "\n",
    "sum1, diff = sum_diff(4,1)\n",
    "print(sum1)\n",
    "print(diff)"
   ]
  },
  {
   "cell_type": "code",
   "execution_count": null,
   "id": "87f4a89f",
   "metadata": {},
   "outputs": [],
   "source": [
    "def sum_diff(a):\n",
    "    return a+a, a-a\n",
    "\n",
    "sum1, diff = sum_diff(4)\n",
    "print(sum1)\n",
    "print(diff)"
   ]
  },
  {
   "cell_type": "markdown",
   "id": "4e7c43fb",
   "metadata": {},
   "source": [
    "### Задача\n",
    "\n",
    "Напишите функцию для вычисления факториала данного числа без рекурсии.\n",
    "\n",
    "Ввод: 3\n",
    "\n",
    "Вывод: 6"
   ]
  },
  {
   "cell_type": "code",
   "execution_count": null,
   "id": "d55cb470",
   "metadata": {},
   "outputs": [],
   "source": [
    "def factorial(N):\n",
    "    f = 1\n",
    "    for i in range(1, N+1):\n",
    "        f *= i\n",
    "    return f\n",
    "\n",
    "factorial(3)"
   ]
  },
  {
   "cell_type": "markdown",
   "id": "d220a46f",
   "metadata": {},
   "source": [
    "## Рекурсия\n",
    "\n",
    "Рекурсия — функция вызывает сама себя. Самый известный пример — вычисление факториала n! = n * n — 1 * n -2 * … 2 *1"
   ]
  },
  {
   "cell_type": "code",
   "execution_count": null,
   "id": "8d4c73b1",
   "metadata": {},
   "outputs": [],
   "source": [
    "def factorial(n):\n",
    "    if n != 0:\n",
    "        return n * factorial(n-1)\n",
    "    else:\n",
    "        return 1"
   ]
  },
  {
   "cell_type": "code",
   "execution_count": null,
   "id": "c41073e8",
   "metadata": {},
   "outputs": [],
   "source": [
    "factorial(0)"
   ]
  },
  {
   "cell_type": "markdown",
   "id": "7e4bdfdf",
   "metadata": {},
   "source": [
    "А еще таким же образом можно вычислять N-ое число Фибоначчи (они как раз задаются рекурсивно). </br>\n",
    "Заодно здесь мы видим, что выражений return может быть несколько (для различных условий).\n",
    "\n",
    "1, 1, 2, 3, 5, 8, 13, 21, ...\n",
    "\n",
    "f(5) -> f(4) + f(3) #3 + 2 = 5\n",
    "\n",
    "f(4) -> f(3) + f(2) #2 + 1 = 3\n",
    "\n",
    "f(3) -> f(2) + f(1) #1 + 1 = 2"
   ]
  },
  {
   "cell_type": "code",
   "execution_count": null,
   "id": "699298da",
   "metadata": {},
   "outputs": [],
   "source": [
    "def fibonacci(n):\n",
    "    if n in (1, 2):\n",
    "        return 1\n",
    "    return fibonacci(n - 1) + fibonacci(n - 2)"
   ]
  },
  {
   "cell_type": "code",
   "execution_count": null,
   "id": "ead3c1f1",
   "metadata": {},
   "outputs": [],
   "source": [
    "fibonacci(8)"
   ]
  },
  {
   "cell_type": "code",
   "execution_count": null,
   "id": "d3476734",
   "metadata": {},
   "outputs": [],
   "source": [
    "def fibonacci(n):\n",
    "    if n in (1, 2):\n",
    "        return 1\n",
    "    f1 = 1\n",
    "    f2 = 1\n",
    "    for i in range(1, n-1):\n",
    "        f3 = f1 + f2 \n",
    "        f1 = f2\n",
    "        f2 = f3\n",
    "    return f3"
   ]
  },
  {
   "cell_type": "code",
   "execution_count": null,
   "id": "b7031065",
   "metadata": {},
   "outputs": [],
   "source": [
    "fibonacci(8)"
   ]
  },
  {
   "cell_type": "markdown",
   "id": "3af4de71",
   "metadata": {},
   "source": [
    "### Задача\n",
    "\n",
    "Рекурсивно посчитать сумму чисел от 1 до N\n",
    "\n",
    "Вход: N\n",
    "\n",
    "Выход: sum(1,2,3,...,N)\n",
    "\n",
    "\n",
    "Вход: 3\n",
    "\n",
    "Выход: 6"
   ]
  },
  {
   "cell_type": "code",
   "execution_count": null,
   "id": "2b277d26",
   "metadata": {},
   "outputs": [],
   "source": [
    "def summe(n):\n",
    "    if n == 0:\n",
    "        return 0\n",
    "    return n + summe(n - 1)\n",
    "\n",
    "n = int(input())\n",
    "print(summe(n))"
   ]
  },
  {
   "cell_type": "markdown",
   "id": "7b3edf46",
   "metadata": {},
   "source": [
    "### Задача\n",
    "\n",
    "Рекурсивно проверить, является ли строка палиндромом (читается наоброт)\n",
    "\n",
    "Вход: шалаш\n",
    "\n",
    "Выход: True\n",
    "\n",
    "\n",
    "Вход: мама\n",
    "\n",
    "Выход: False"
   ]
  },
  {
   "cell_type": "code",
   "execution_count": null,
   "id": "f10e910a",
   "metadata": {},
   "outputs": [],
   "source": [
    "def Palindrom(s):\n",
    "    if len(s) <= 1:\n",
    "        return True\n",
    "    else:\n",
    "        return s[0] == s[-1] and Palindrom(s[1:-1])\n",
    "    \n",
    "st = input()\n",
    "Palindrom(st)"
   ]
  },
  {
   "cell_type": "code",
   "execution_count": null,
   "id": "7770a55b",
   "metadata": {},
   "outputs": [],
   "source": [
    "# Вариант решения без применения рекурсии (просто пример)\n",
    "\n",
    "def Palindrom(s):\n",
    "    if  s = s[::-1]:\n",
    "        return True\n",
    "    else:\n",
    "        return False\n",
    "    \n",
    "st = input()\n",
    "Palindrom(st)"
   ]
  },
  {
   "cell_type": "markdown",
   "id": "5b771d13",
   "metadata": {},
   "source": [
    "### Задача\n",
    "\n",
    "Напишите функцию, которая принимает три числа и возвращает их произведение."
   ]
  },
  {
   "cell_type": "code",
   "execution_count": null,
   "id": "35662eec",
   "metadata": {},
   "outputs": [],
   "source": [
    "def multi_num(n1, n2, n3):\n",
    "    return n1 * n2 * n3\n",
    "\n",
    "num1, num2, num3 = map(float, input().split())\n",
    "print(multi_num(num1, num2, num3))"
   ]
  },
  {
   "cell_type": "markdown",
   "id": "dab21a58",
   "metadata": {},
   "source": [
    "### Задача\n",
    "\n",
    "Напишите функцию для вычисления среднего арифметического числа в заданном списке."
   ]
  },
  {
   "cell_type": "code",
   "execution_count": null,
   "id": "77f13047",
   "metadata": {},
   "outputs": [],
   "source": [
    "def mean_lt(mas):\n",
    "    len_mas = len(mas)\n",
    "    sum_mas = 0\n",
    "    \n",
    "    for i in mas:\n",
    "        sum_mas += i\n",
    "    \n",
    "    return sum_mas / len_mas\n",
    "\n",
    "ls = list(map(float, input().split()))\n",
    "print(mean_lt(ls))"
   ]
  },
  {
   "cell_type": "code",
   "execution_count": null,
   "id": "cf8621e2",
   "metadata": {},
   "outputs": [],
   "source": [
    "# Вариант написания, без цикла for\n",
    "\n",
    "def mean_lt(mas):\n",
    "    len_mas = len(mas)\n",
    "    sum_mas = sum(mas)\n",
    "    \n",
    "    return sum_mas / len_mas\n",
    "\n",
    "ls = list(map(float, input().split()))\n",
    "print(mean_lt(ls))"
   ]
  },
  {
   "cell_type": "markdown",
   "id": "ad057a65",
   "metadata": {},
   "source": [
    "### Задача\n",
    "\n",
    "Напишите функцию, которая принимает на вход число и выдаёт сумму цифр в числе. Реализуйте два варианта, с использованием строки без использования строки."
   ]
  },
  {
   "cell_type": "code",
   "execution_count": null,
   "id": "c6b132a3",
   "metadata": {},
   "outputs": [],
   "source": [
    "# Вариант решения через строку №1\n",
    "\n",
    "def sum_st(num):\n",
    "    num = str(num)\n",
    "    sum_num = 0\n",
    "    \n",
    "    for i in num:\n",
    "        sum_num += int(i)\n",
    "    \n",
    "    return sum_num\n",
    "\n",
    "n = int(input())\n",
    "print(sum_st(n))"
   ]
  },
  {
   "cell_type": "code",
   "execution_count": null,
   "id": "c080c5da",
   "metadata": {},
   "outputs": [],
   "source": [
    "# Вариант решения через строку №2\n",
    "\n",
    "def sum_of(num):\n",
    "    return sum(int(digit) for digit in str(num))\n",
    "\n",
    "num = int(input())\n",
    "print(sum_of(num))"
   ]
  },
  {
   "cell_type": "code",
   "execution_count": null,
   "id": "fe2df0b1",
   "metadata": {},
   "outputs": [],
   "source": [
    "# Вариант решения через цикл while\n",
    "\n",
    "def sum_int(num):\n",
    "    sum_num = 0\n",
    "    \n",
    "    while num > 0:\n",
    "        sum_num += num % 10\n",
    "        num //= 10\n",
    "    \n",
    "    return sum_num\n",
    "\n",
    "n = int(input())\n",
    "print(sum_int(n))"
   ]
  },
  {
   "cell_type": "markdown",
   "id": "ecf13da2",
   "metadata": {},
   "source": [
    "### Задача\n",
    "\n",
    "Напишите функцию, которая будет преобразовывать десятичное число в двоичное."
   ]
  },
  {
   "cell_type": "code",
   "execution_count": null,
   "id": "96cf8fbe",
   "metadata": {},
   "outputs": [],
   "source": [
    "def translator(num):\n",
    "    st = \"\"\n",
    "    while num > 0:\n",
    "        st += str(num % 2)\n",
    "        num //= 2\n",
    "    \n",
    "    return st[::-1]\n",
    "\n",
    "n = int(input())\n",
    "print(translator(n))"
   ]
  },
  {
   "cell_type": "markdown",
   "id": "8090054e",
   "metadata": {},
   "source": [
    "# Функции как объект\n",
    "\n",
    "Функцию можно присвоить любой переменной."
   ]
  },
  {
   "cell_type": "code",
   "execution_count": null,
   "id": "9e19fd66",
   "metadata": {},
   "outputs": [],
   "source": [
    "writeline = print\n",
    "x = 5\n",
    "writeline(5)"
   ]
  },
  {
   "cell_type": "code",
   "execution_count": null,
   "id": "54444138",
   "metadata": {},
   "outputs": [],
   "source": [
    "s = \"Привет мир!!!\"\n",
    "writeline(s[:6])"
   ]
  },
  {
   "cell_type": "markdown",
   "id": "61574907",
   "metadata": {},
   "source": [
    "### Задача\n",
    "\n",
    "Исполнитель калькулятор может выполнить одно из действий: сложение, умножение или возведение в степень. Опишем функции:"
   ]
  },
  {
   "cell_type": "code",
   "execution_count": null,
   "id": "6eebbc6f",
   "metadata": {},
   "outputs": [],
   "source": [
    "# Первое решение\n",
    "\n",
    "def addition(x, y):  # Команда \"+\"\n",
    "    return x + y\n",
    "def multiplication(x, y):  # Команда \"*\"\n",
    "    return x * y\n",
    "def exponentiation(x, y):  # Команда \"^\"\n",
    "    return x ** y\n",
    "\n",
    "func = addition  # Значение по умолчанию\n",
    "\n",
    "operation_sign = input()\n",
    "\n",
    "if operation_sign == \"*\":\n",
    "    func = multiplication\n",
    "elif operation_sign == \"^\":\n",
    "    func = exponentiation\n",
    "\n",
    "x, y = 3, 4\n",
    "func(x, y)"
   ]
  },
  {
   "cell_type": "code",
   "execution_count": null,
   "id": "ed0f5aa6",
   "metadata": {},
   "outputs": [],
   "source": [
    "# Второе решение\n",
    "\n",
    "def addition(x, y):  # Команда \"+\"\n",
    "    return x + y\n",
    "def multiplication(x, y):  # Команда \"*\"\n",
    "    return x * y\n",
    "def exponentiation(x, y):  # Команда \"^\"\n",
    "    return x ** y\n",
    "\n",
    "operation = {\"+\" : addition,\n",
    "            \"*\" : multiplication,\n",
    "            \"^\" : exponentiation}\n",
    "\n",
    "operation_sign = input()\n",
    "func = operation[operation_sign]\n",
    "\n",
    "x, y = 3, 4\n",
    "func(x, y)"
   ]
  },
  {
   "cell_type": "markdown",
   "id": "58ac23cf",
   "metadata": {},
   "source": [
    "Напишем функции для преобразования стилистики текста:\n",
    "- все строчные\n",
    "- ВСЕ ПРОПИСНЫЕ\n",
    "- иЗМЕНИТЬ РЕГИСТР\n",
    "- Начинается С Прописных\n",
    "- Как в предложениях"
   ]
  },
  {
   "cell_type": "code",
   "execution_count": null,
   "id": "a96c78b0",
   "metadata": {},
   "outputs": [],
   "source": [
    "st = \"привет мир. hello, world.\"  # Тестовая строка"
   ]
  },
  {
   "cell_type": "code",
   "execution_count": null,
   "id": "196c61ca",
   "metadata": {},
   "outputs": [],
   "source": [
    "# Все строчные\n",
    "\n",
    "def all_lower(s): \n",
    "    return s.lower()\n",
    "\n",
    "all_lower(st)"
   ]
  },
  {
   "cell_type": "code",
   "execution_count": null,
   "id": "ae182de5",
   "metadata": {},
   "outputs": [],
   "source": [
    "# ВСЕ ПРОПИСНЫЕ\n",
    "\n",
    "def all_upper(s):\n",
    "    return s.upper()\n",
    "\n",
    "all_upper(st)"
   ]
  },
  {
   "cell_type": "code",
   "execution_count": null,
   "id": "fdc1d313",
   "metadata": {},
   "outputs": [],
   "source": [
    "# иЗМЕНИТЬ РЕГИСТР\n",
    "# swapcase() - можно было использовать, но напишем сами\n",
    "\n",
    "def change_register(s):\n",
    "    str_as_list = list(s)\n",
    "    for i in range(len(str_as_list)):\n",
    "        if str_as_list[i].isupper():\n",
    "            str_as_list[i] = all_lower(str_as_list[i])\n",
    "        else:\n",
    "            str_as_list[i] = all_upper(str_as_list[i])\n",
    "    return \"\".join(str_as_list)\n",
    "\n",
    "change_register(st)"
   ]
  },
  {
   "cell_type": "code",
   "execution_count": null,
   "id": "a23079cd",
   "metadata": {},
   "outputs": [],
   "source": [
    "# Как в предложениях\n",
    "\n",
    "def start_with_upper(s):\n",
    "    return s[0].upper() + s[1:]\n",
    "\n",
    "# Будем предполагать, что предложение заканчивается точкой.\n",
    "# capitalize()\n",
    "\n",
    "def as_sentence(s):\n",
    "    seq = s.split(sep=\". \")\n",
    "    for i in range(len(seq)):\n",
    "        seq[i] = start_with_upper(seq[i])\n",
    "\n",
    "    return \". \".join(seq)\n",
    "\n",
    "as_sentence(st)"
   ]
  },
  {
   "cell_type": "code",
   "execution_count": null,
   "id": "ef1dcc3e",
   "metadata": {},
   "outputs": [],
   "source": [
    "# Начинается С Прописных\n",
    "\n",
    "# title\n",
    "def words_with_upper(s):\n",
    "    words = s.split()\n",
    "    for i in range(len(words)):\n",
    "        words[i] = start_with_upper(words[i])\n",
    "    return \" \".join(words)\n",
    "\n",
    "words_with_upper(st)"
   ]
  },
  {
   "cell_type": "code",
   "execution_count": null,
   "id": "5d712835",
   "metadata": {},
   "outputs": [],
   "source": [
    "# Создадим словарь для хранения функций\n",
    "# Ключ - номер, значение функция\n",
    "\n",
    "regiter = {1: all_lower, \n",
    "           2: all_upper, \n",
    "           3: change_register, \n",
    "           4: as_sentence, \n",
    "           5: words_with_upper}\n",
    "\n",
    "number = int(input())\n",
    "if number not in range(1, 6):\n",
    "    print(\"Ошибочный ввод\")\n",
    "else:\n",
    "    func = regiter[number]\n",
    "    print(func(st))"
   ]
  },
  {
   "cell_type": "code",
   "execution_count": null,
   "id": "c46241d2",
   "metadata": {},
   "outputs": [],
   "source": [
    "# Создадим дополнительную функцию\n",
    "\n",
    "def register_fun(n):\n",
    "    register = {1: all_lower, \n",
    "       2: all_upper, \n",
    "       3: change_register, \n",
    "       4: as_sentence, \n",
    "       5: words_with_upper}\n",
    "    return register[number]\n",
    "\n",
    "number = int(input())\n",
    "if number not in range(1, 6):\n",
    "    print(\"Ошибочный ввод\")\n",
    "else:\n",
    "    func = register_fun(number)\n",
    "    print(func(st))"
   ]
  },
  {
   "cell_type": "markdown",
   "id": "e5a5fd0e",
   "metadata": {},
   "source": [
    "# Функции высших порядков\n",
    "\n",
    "Функции, которые могут принимать в качестве аргумента другую функцию и/или возвращать функцию в качестве результата своей работы.\n",
    "\n",
    "map, filter, sorted"
   ]
  },
  {
   "cell_type": "code",
   "execution_count": null,
   "id": "c57b15f3",
   "metadata": {},
   "outputs": [],
   "source": [
    "#Как в предложениях\n",
    "\n",
    "def start_with_upper(s):\n",
    "    return s[0].upper() + s[1:]\n",
    "\n",
    "#Будем предполагать, что предложение заканчивается точкой.\n",
    "# capitalize()\n",
    "\n",
    "def as_sentence(s):\n",
    "    seq = s.split(sep=\". \")\n",
    "    s = map(start_with_upper, seq)\n",
    "\n",
    "    return \". \".join(s)\n",
    "\n",
    "as_sentence(st)"
   ]
  },
  {
   "cell_type": "code",
   "execution_count": null,
   "id": "f15e8e73",
   "metadata": {},
   "outputs": [],
   "source": [
    "# Применение filter\n",
    "\n",
    "def is_odd(x):\n",
    "    return x % 2 == 1\n",
    "\n",
    "sp = [34, 45, 22, 65, 11, 87]\n",
    "\n",
    "sp2 = list(filter(is_odd, sp))\n",
    "print(sp2)"
   ]
  },
  {
   "cell_type": "code",
   "execution_count": null,
   "id": "ae5a0f15",
   "metadata": {},
   "outputs": [],
   "source": [
    "# Применение sorted\n",
    "\n",
    "fruits = ['apple', 'orange', 'banana', 'cherry', 'date', 'apricot']\n",
    "print(sorted(fruits))\n",
    "print(sorted(fruits, reverse=True))\n",
    "print(sorted(fruits, key=len))\n",
    "print(sorted(fruits, key=len, reverse=True))"
   ]
  },
  {
   "cell_type": "markdown",
   "id": "7a294951",
   "metadata": {},
   "source": [
    "# Lambda-функции\n",
    "\n",
    "Это особый вид функций, которые объявляются с помощью ключевого слова **lambda** вместо **def**. </br>\n",
    "Лямбда-функции принимают любое количество аргументов, но не могут содержать несколько выражений и всегда возвращают только одно значение. Пишется так:\n",
    "\n",
    "- lambda arguments: expression\n",
    "\n",
    "arguments - аргументы, expression - выражение, возвращающее значение.\n",
    "\n",
    "Пример (lambda функция, которая добавляет к переданному аргументу 1 и возвращает результат):"
   ]
  },
  {
   "cell_type": "code",
   "execution_count": null,
   "id": "bfb71423",
   "metadata": {},
   "outputs": [],
   "source": [
    "add_1 = lambda x: [i for i in range(x + 1)]\n",
    "add_1(8)"
   ]
  },
  {
   "cell_type": "markdown",
   "id": "550ca7bf",
   "metadata": {},
   "source": [
    "Сложение двух числ с помощью лямбда-функции:"
   ]
  },
  {
   "cell_type": "code",
   "execution_count": null,
   "id": "b14c0b67",
   "metadata": {},
   "outputs": [],
   "source": [
    "add_2 = lambda x, y: x + y\n",
    "add_2(3, 4)"
   ]
  },
  {
   "cell_type": "markdown",
   "id": "0d3d897f",
   "metadata": {},
   "source": [
    "Выше, мы присвоили имя каждой из функций. Попробуем без имени. Аргументы передаются в скобках после скобок, содержащих определение lambda функции:"
   ]
  },
  {
   "cell_type": "code",
   "execution_count": null,
   "id": "2be76cd4",
   "metadata": {},
   "outputs": [],
   "source": [
    "(lambda x, y: x * y)(3, 5)"
   ]
  },
  {
   "cell_type": "markdown",
   "id": "6715b9dc",
   "metadata": {},
   "source": [
    "По сути, лямбда-функции умеют все, что и обычные функции, только они обязаны возвращать всего одно значение.\n",
    "\n",
    "- Они умеют работать с разными типами данных (Строками, например)\n",
    "- Можно вызывать функцию без параметров\n",
    "- Параметрам функции можно задать значения по умолчанию"
   ]
  },
  {
   "cell_type": "code",
   "execution_count": null,
   "id": "7fd9c9b0",
   "metadata": {},
   "outputs": [],
   "source": [
    "# Со строками\n",
    "\n",
    "(lambda x, y: x * y)(\"Ха-\",3)"
   ]
  },
  {
   "cell_type": "code",
   "execution_count": null,
   "id": "caadcda4",
   "metadata": {},
   "outputs": [],
   "source": [
    "(lambda x, y: x + y)(\"Первая \",\"Вторая\")"
   ]
  },
  {
   "cell_type": "code",
   "execution_count": null,
   "id": "25746a7e",
   "metadata": {},
   "outputs": [],
   "source": [
    "# А вот тут без аргументов\n",
    "\n",
    "(lambda: [0,1,2,3])()"
   ]
  },
  {
   "cell_type": "code",
   "execution_count": null,
   "id": "7d2dd953",
   "metadata": {},
   "outputs": [],
   "source": [
    "# Значения по умолчанию\n",
    "\n",
    "(lambda x=3, y = 5: str(x) + str(y))(1,2)"
   ]
  },
  {
   "cell_type": "code",
   "execution_count": null,
   "id": "80353955",
   "metadata": {},
   "outputs": [],
   "source": [
    "# Здесь в качестве первого аргумента пришел список, а второй использовался по умолчанию\n",
    "# На выходе должны получить первый элемент первого списка + 3\n",
    "\n",
    "(lambda x,y=3: x[0] + y)([1,2,3])"
   ]
  },
  {
   "cell_type": "code",
   "execution_count": null,
   "id": "dd9f2298",
   "metadata": {},
   "outputs": [],
   "source": [
    "print((lambda x, y, z: x + y + z)(1, 2, 3))  # Три аргумента\n",
    "\n",
    "print((lambda x, y, z=3: x + y + z)(1, 2))  # Три аргумента и у одного default-значение\n",
    "\n",
    "print((lambda x, y, z=3: x + y + z)(1, y=2))  # Три аргумента, у одного default-значение и один мы передали \"по имени\"\n",
    "\n",
    "print((lambda *args: sum(args))(1,2,3))  # Передали кортеж аргументов и сложили\n",
    "\n",
    "print((lambda **kwargs: sum(kwargs.values()))(one=1, two=2, three=3))  # Передали словарь аргументов и сложили"
   ]
  },
  {
   "cell_type": "markdown",
   "id": "3d69c6f0",
   "metadata": {},
   "source": [
    "Лямбда-функции очень часто применяются для преобразования каких-то коллекций. Для этого lambda-функции можно подавать в функцию map. Возьмем список и возведем все его элементы в квадрат с помощью map и lambda-функции."
   ]
  },
  {
   "cell_type": "code",
   "execution_count": null,
   "id": "f1927463",
   "metadata": {},
   "outputs": [],
   "source": [
    "a = [1,3,4,6]\n",
    "def to_str(x):\n",
    "    return x*x\n",
    "list(map(to_str, a))"
   ]
  },
  {
   "cell_type": "code",
   "execution_count": null,
   "id": "4f6a576d",
   "metadata": {},
   "outputs": [],
   "source": [
    "a = [1,3,4,6]\n",
    "list(map(lambda x: x * x,a))"
   ]
  },
  {
   "cell_type": "code",
   "execution_count": null,
   "id": "addfb27e",
   "metadata": {},
   "outputs": [],
   "source": [
    "lst = [\"ежик\", \"Python\", \"книга\"]\n",
    "print(list(map(lambda x: x[0], lst)))"
   ]
  },
  {
   "cell_type": "markdown",
   "id": "fba85301",
   "metadata": {},
   "source": [
    "`filter` - функция для фильтрации списков. Необходимо отфильтровать все числа меньше 4 из списка. С помощью цикла:"
   ]
  },
  {
   "cell_type": "code",
   "execution_count": null,
   "id": "ebe0a140",
   "metadata": {},
   "outputs": [],
   "source": [
    "numbers = [1,2,3,4,5]\n",
    "numbers_under_4 = []\n",
    "for number in numbers:\n",
    "    if number < 4:\n",
    "        numbers_under_4.append(number)\n",
    "numbers_under_4"
   ]
  },
  {
   "cell_type": "markdown",
   "id": "43fecb3f",
   "metadata": {},
   "source": [
    "С помощью спискового включения:"
   ]
  },
  {
   "cell_type": "code",
   "execution_count": null,
   "id": "4b6fb699",
   "metadata": {},
   "outputs": [],
   "source": [
    "numbers = [1,2,3,4,5]\n",
    "numbers_under_4 = [number for number in numbers if number < 4]\n",
    "numbers_under_4"
   ]
  },
  {
   "cell_type": "markdown",
   "id": "4aa183cf",
   "metadata": {},
   "source": [
    "filter + Lambda-функция:"
   ]
  },
  {
   "cell_type": "code",
   "execution_count": null,
   "id": "759e873c",
   "metadata": {},
   "outputs": [],
   "source": [
    "numbers = [1,2,3,4,5]\n",
    "numbers_under_4 = list(filter(lambda x: x < 4, numbers))\n",
    "numbers_under_4"
   ]
  },
  {
   "cell_type": "markdown",
   "id": "6c5e142f",
   "metadata": {},
   "source": [
    "Видно, что синтаксис такой же, как и у map. Первый аргумент - функция, которую надо применять, а второй - коллекция, на которую надо применять. Но как и для map, функция возвращает итератор, поэтому, чтобы получить список, его нужно обернуть функцией list.\n",
    "\n",
    "sorted + Lambda-функция:"
   ]
  },
  {
   "cell_type": "code",
   "execution_count": null,
   "id": "5ad5fcfb",
   "metadata": {},
   "outputs": [],
   "source": [
    "sp = [34, 45, 22, 65, 19, 87, 21]\n",
    "sorted(sp, key = lambda x: x % 10)"
   ]
  },
  {
   "cell_type": "code",
   "execution_count": null,
   "id": "444c9a79",
   "metadata": {},
   "outputs": [],
   "source": [
    "points = [(1, 1), (2, 3), (5, 4), (1, 3), (8, 0), (1, 0)]\n",
    "sorted(points, key = lambda x: x[0])"
   ]
  },
  {
   "cell_type": "code",
   "execution_count": null,
   "id": "9b41c2c5",
   "metadata": {},
   "outputs": [],
   "source": [
    "points = [(1, 1), (2, 3), (5, 4), (1, 3), (8, 0), (1, 0)]\n",
    "sorted(points, key = lambda x: (x[0], x[1]))"
   ]
  }
 ],
 "metadata": {
  "kernelspec": {
   "display_name": "Python 3 (ipykernel)",
   "language": "python",
   "name": "python3"
  },
  "language_info": {
   "codemirror_mode": {
    "name": "ipython",
    "version": 3
   },
   "file_extension": ".py",
   "mimetype": "text/x-python",
   "name": "python",
   "nbconvert_exporter": "python",
   "pygments_lexer": "ipython3",
   "version": "3.11.5"
  }
 },
 "nbformat": 4,
 "nbformat_minor": 5
}
